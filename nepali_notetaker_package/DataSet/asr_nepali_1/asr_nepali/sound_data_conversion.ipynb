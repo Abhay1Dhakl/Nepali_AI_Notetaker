{
 "cells": [
  {
   "cell_type": "code",
   "execution_count": 1,
   "id": "caf19f1f",
   "metadata": {},
   "outputs": [],
   "source": [
    "import os\n",
    "import pandas as pd\n",
    "from pydub import AudioSegment\n",
    "from tqdm import tqdm\n",
    "from glob import glob"
   ]
  },
  {
   "cell_type": "code",
   "execution_count": 2,
   "id": "5cfa5929",
   "metadata": {},
   "outputs": [
    {
     "name": "stdout",
     "output_type": "stream",
     "text": [
      "                 0      1                     2\n",
      "0       4aa1fdca33  6a6d1      ००७ मिलको दूरीमा\n",
      "1       86e521554a  1f680      ००७ मिलको दूरीमा\n",
      "2       c96b2b1afb  e349f      ००७ मिलको दूरीमा\n",
      "3       2f7ab41953  294d8  ०११ देखि काङ्ग्रेसको\n",
      "4       c290e5124b  88901      ०१ सौर द्रव्यमान\n",
      "...            ...    ...                   ...\n",
      "157900  17c05d0bdb  06372      ह्रास हुन लाग्दछ\n",
      "157901  2aa4a03723  79c24      ह्रास हुन लाग्दछ\n",
      "157902  4cb59eba81  99866      ह्रास हुन लाग्दछ\n",
      "157903  223df784fc  e7c22           ह्रास हुँदै\n",
      "157904  fc3b1054b0  95358       ह्वाइटआई भनिन्छ\n",
      "\n",
      "[157905 rows x 3 columns]\n"
     ]
    }
   ],
   "source": [
    "tsv_path = 'transctipt0.tsv'\n",
    "df = pd.read_csv(tsv_path, sep='\\t', header = None)\n",
    "print(df)\n",
    "df.columns = ['0', '1', '2']    "
   ]
  },
  {
   "cell_type": "code",
   "execution_count": 16,
   "id": "c95b089d",
   "metadata": {},
   "outputs": [
    {
     "data": {
      "text/html": [
       "<div>\n",
       "<style scoped>\n",
       "    .dataframe tbody tr th:only-of-type {\n",
       "        vertical-align: middle;\n",
       "    }\n",
       "\n",
       "    .dataframe tbody tr th {\n",
       "        vertical-align: top;\n",
       "    }\n",
       "\n",
       "    .dataframe thead th {\n",
       "        text-align: right;\n",
       "    }\n",
       "</style>\n",
       "<table border=\"1\" class=\"dataframe\">\n",
       "  <thead>\n",
       "    <tr style=\"text-align: right;\">\n",
       "      <th></th>\n",
       "      <th>0</th>\n",
       "      <th>1</th>\n",
       "      <th>2</th>\n",
       "      <th>flac_path</th>\n",
       "    </tr>\n",
       "  </thead>\n",
       "  <tbody>\n",
       "  </tbody>\n",
       "</table>\n",
       "</div>"
      ],
      "text/plain": [
       "Empty DataFrame\n",
       "Columns: [0, 1, 2, flac_path]\n",
       "Index: []"
      ]
     },
     "execution_count": 16,
     "metadata": {},
     "output_type": "execute_result"
    }
   ],
   "source": [
    "df"
   ]
  },
  {
   "cell_type": "code",
   "execution_count": 3,
   "id": "3a364ee1",
   "metadata": {},
   "outputs": [
    {
     "name": "stdout",
     "output_type": "stream",
     "text": [
      "['d:\\\\nepali_notetaker_project\\\\nepali_notetaker_package\\\\DataSet\\\\asr_nepali_0\\\\asr_nepali\\\\data\\\\00\\\\0000c0f43b.flac', 'd:\\\\nepali_notetaker_project\\\\nepali_notetaker_package\\\\DataSet\\\\asr_nepali_0\\\\asr_nepali\\\\data\\\\00\\\\00014b6780.flac', 'd:\\\\nepali_notetaker_project\\\\nepali_notetaker_package\\\\DataSet\\\\asr_nepali_0\\\\asr_nepali\\\\data\\\\00\\\\0001b0e4b4.flac', 'd:\\\\nepali_notetaker_project\\\\nepali_notetaker_package\\\\DataSet\\\\asr_nepali_0\\\\asr_nepali\\\\data\\\\00\\\\0001cf394a.flac', 'd:\\\\nepali_notetaker_project\\\\nepali_notetaker_package\\\\DataSet\\\\asr_nepali_0\\\\asr_nepali\\\\data\\\\00\\\\00024e9ee7.flac', 'd:\\\\nepali_notetaker_project\\\\nepali_notetaker_package\\\\DataSet\\\\asr_nepali_0\\\\asr_nepali\\\\data\\\\00\\\\0002f96e3e.flac', 'd:\\\\nepali_notetaker_project\\\\nepali_notetaker_package\\\\DataSet\\\\asr_nepali_0\\\\asr_nepali\\\\data\\\\00\\\\00033e7a6c.flac', 'd:\\\\nepali_notetaker_project\\\\nepali_notetaker_package\\\\DataSet\\\\asr_nepali_0\\\\asr_nepali\\\\data\\\\00\\\\0003991b47.flac', 'd:\\\\nepali_notetaker_project\\\\nepali_notetaker_package\\\\DataSet\\\\asr_nepali_0\\\\asr_nepali\\\\data\\\\00\\\\000414cbb9.flac', 'd:\\\\nepali_notetaker_project\\\\nepali_notetaker_package\\\\DataSet\\\\asr_nepali_0\\\\asr_nepali\\\\data\\\\00\\\\00045ee2e0.flac', 'd:\\\\nepali_notetaker_project\\\\nepali_notetaker_package\\\\DataSet\\\\asr_nepali_0\\\\asr_nepali\\\\data\\\\00\\\\0004a4f6e2.flac', 'd:\\\\nepali_notetaker_project\\\\nepali_notetaker_package\\\\DataSet\\\\asr_nepali_0\\\\asr_nepali\\\\data\\\\00\\\\000515a639.flac', 'd:\\\\nepali_notetaker_project\\\\nepali_notetaker_package\\\\DataSet\\\\asr_nepali_0\\\\asr_nepali\\\\data\\\\00\\\\0005b1aae1.flac', 'd:\\\\nepali_notetaker_project\\\\nepali_notetaker_package\\\\DataSet\\\\asr_nepali_0\\\\asr_nepali\\\\data\\\\00\\\\00061584d8.flac', 'd:\\\\nepali_notetaker_project\\\\nepali_notetaker_package\\\\DataSet\\\\asr_nepali_0\\\\asr_nepali\\\\data\\\\00\\\\00062958ef.flac', 'd:\\\\nepali_notetaker_project\\\\nepali_notetaker_package\\\\DataSet\\\\asr_nepali_0\\\\asr_nepali\\\\data\\\\00\\\\00064ab0f0.flac', 'd:\\\\nepali_notetaker_project\\\\nepali_notetaker_package\\\\DataSet\\\\asr_nepali_0\\\\asr_nepali\\\\data\\\\00\\\\00064cff78.flac', 'd:\\\\nepali_notetaker_project\\\\nepali_notetaker_package\\\\DataSet\\\\asr_nepali_0\\\\asr_nepali\\\\data\\\\00\\\\00083ac4d8.flac', 'd:\\\\nepali_notetaker_project\\\\nepali_notetaker_package\\\\DataSet\\\\asr_nepali_0\\\\asr_nepali\\\\data\\\\00\\\\0008fd3262.flac', 'd:\\\\nepali_notetaker_project\\\\nepali_notetaker_package\\\\DataSet\\\\asr_nepali_0\\\\asr_nepali\\\\data\\\\00\\\\00097747cd.flac', 'd:\\\\nepali_notetaker_project\\\\nepali_notetaker_package\\\\DataSet\\\\asr_nepali_0\\\\asr_nepali\\\\data\\\\00\\\\0009e14baa.flac', 'd:\\\\nepali_notetaker_project\\\\nepali_notetaker_package\\\\DataSet\\\\asr_nepali_0\\\\asr_nepali\\\\data\\\\00\\\\000a0be2c6.flac', 'd:\\\\nepali_notetaker_project\\\\nepali_notetaker_package\\\\DataSet\\\\asr_nepali_0\\\\asr_nepali\\\\data\\\\00\\\\000a660d92.flac', 'd:\\\\nepali_notetaker_project\\\\nepali_notetaker_package\\\\DataSet\\\\asr_nepali_0\\\\asr_nepali\\\\data\\\\00\\\\000a7465af.flac', 'd:\\\\nepali_notetaker_project\\\\nepali_notetaker_package\\\\DataSet\\\\asr_nepali_0\\\\asr_nepali\\\\data\\\\00\\\\000b463c49.flac', 'd:\\\\nepali_notetaker_project\\\\nepali_notetaker_package\\\\DataSet\\\\asr_nepali_0\\\\asr_nepali\\\\data\\\\00\\\\000db1717c.flac', 'd:\\\\nepali_notetaker_project\\\\nepali_notetaker_package\\\\DataSet\\\\asr_nepali_0\\\\asr_nepali\\\\data\\\\00\\\\000dedf722.flac', 'd:\\\\nepali_notetaker_project\\\\nepali_notetaker_package\\\\DataSet\\\\asr_nepali_0\\\\asr_nepali\\\\data\\\\00\\\\000f91b35e.flac', 'd:\\\\nepali_notetaker_project\\\\nepali_notetaker_package\\\\DataSet\\\\asr_nepali_0\\\\asr_nepali\\\\data\\\\00\\\\001055632c.flac', 'd:\\\\nepali_notetaker_project\\\\nepali_notetaker_package\\\\DataSet\\\\asr_nepali_0\\\\asr_nepali\\\\data\\\\00\\\\0010c24b61.flac', 'd:\\\\nepali_notetaker_project\\\\nepali_notetaker_package\\\\DataSet\\\\asr_nepali_0\\\\asr_nepali\\\\data\\\\00\\\\001167389e.flac', 'd:\\\\nepali_notetaker_project\\\\nepali_notetaker_package\\\\DataSet\\\\asr_nepali_0\\\\asr_nepali\\\\data\\\\00\\\\0012875eae.flac', 'd:\\\\nepali_notetaker_project\\\\nepali_notetaker_package\\\\DataSet\\\\asr_nepali_0\\\\asr_nepali\\\\data\\\\00\\\\0013095d41.flac', 'd:\\\\nepali_notetaker_project\\\\nepali_notetaker_package\\\\DataSet\\\\asr_nepali_0\\\\asr_nepali\\\\data\\\\00\\\\00133a9876.flac', 'd:\\\\nepali_notetaker_project\\\\nepali_notetaker_package\\\\DataSet\\\\asr_nepali_0\\\\asr_nepali\\\\data\\\\00\\\\00139ba3d9.flac', 'd:\\\\nepali_notetaker_project\\\\nepali_notetaker_package\\\\DataSet\\\\asr_nepali_0\\\\asr_nepali\\\\data\\\\00\\\\0013bfeda1.flac', 'd:\\\\nepali_notetaker_project\\\\nepali_notetaker_package\\\\DataSet\\\\asr_nepali_0\\\\asr_nepali\\\\data\\\\00\\\\00149e90a4.flac', 'd:\\\\nepali_notetaker_project\\\\nepali_notetaker_package\\\\DataSet\\\\asr_nepali_0\\\\asr_nepali\\\\data\\\\00\\\\0014d0488b.flac', 'd:\\\\nepali_notetaker_project\\\\nepali_notetaker_package\\\\DataSet\\\\asr_nepali_0\\\\asr_nepali\\\\data\\\\00\\\\0014d70fca.flac', 'd:\\\\nepali_notetaker_project\\\\nepali_notetaker_package\\\\DataSet\\\\asr_nepali_0\\\\asr_nepali\\\\data\\\\00\\\\0014e261ff.flac', 'd:\\\\nepali_notetaker_project\\\\nepali_notetaker_package\\\\DataSet\\\\asr_nepali_0\\\\asr_nepali\\\\data\\\\00\\\\00157312d0.flac', 'd:\\\\nepali_notetaker_project\\\\nepali_notetaker_package\\\\DataSet\\\\asr_nepali_0\\\\asr_nepali\\\\data\\\\00\\\\001573a8c1.flac', 'd:\\\\nepali_notetaker_project\\\\nepali_notetaker_package\\\\DataSet\\\\asr_nepali_0\\\\asr_nepali\\\\data\\\\00\\\\001625cc1d.flac', 'd:\\\\nepali_notetaker_project\\\\nepali_notetaker_package\\\\DataSet\\\\asr_nepali_0\\\\asr_nepali\\\\data\\\\00\\\\00163facae.flac', 'd:\\\\nepali_notetaker_project\\\\nepali_notetaker_package\\\\DataSet\\\\asr_nepali_0\\\\asr_nepali\\\\data\\\\00\\\\0016678b02.flac', 'd:\\\\nepali_notetaker_project\\\\nepali_notetaker_package\\\\DataSet\\\\asr_nepali_0\\\\asr_nepali\\\\data\\\\00\\\\00168daa2b.flac', 'd:\\\\nepali_notetaker_project\\\\nepali_notetaker_package\\\\DataSet\\\\asr_nepali_0\\\\asr_nepali\\\\data\\\\00\\\\00169e1a5c.flac', 'd:\\\\nepali_notetaker_project\\\\nepali_notetaker_package\\\\DataSet\\\\asr_nepali_0\\\\asr_nepali\\\\data\\\\00\\\\0016c0341c.flac', 'd:\\\\nepali_notetaker_project\\\\nepali_notetaker_package\\\\DataSet\\\\asr_nepali_0\\\\asr_nepali\\\\data\\\\00\\\\0016fb0938.flac', 'd:\\\\nepali_notetaker_project\\\\nepali_notetaker_package\\\\DataSet\\\\asr_nepali_0\\\\asr_nepali\\\\data\\\\00\\\\00171840ba.flac', 'd:\\\\nepali_notetaker_project\\\\nepali_notetaker_package\\\\DataSet\\\\asr_nepali_0\\\\asr_nepali\\\\data\\\\00\\\\00175448c8.flac', 'd:\\\\nepali_notetaker_project\\\\nepali_notetaker_package\\\\DataSet\\\\asr_nepali_0\\\\asr_nepali\\\\data\\\\00\\\\0017a8c8ca.flac', 'd:\\\\nepali_notetaker_project\\\\nepali_notetaker_package\\\\DataSet\\\\asr_nepali_0\\\\asr_nepali\\\\data\\\\00\\\\00180ecd4a.flac', 'd:\\\\nepali_notetaker_project\\\\nepali_notetaker_package\\\\DataSet\\\\asr_nepali_0\\\\asr_nepali\\\\data\\\\00\\\\0018261eb9.flac', 'd:\\\\nepali_notetaker_project\\\\nepali_notetaker_package\\\\DataSet\\\\asr_nepali_0\\\\asr_nepali\\\\data\\\\00\\\\00183d8749.flac', 'd:\\\\nepali_notetaker_project\\\\nepali_notetaker_package\\\\DataSet\\\\asr_nepali_0\\\\asr_nepali\\\\data\\\\00\\\\00187a4bbd.flac', 'd:\\\\nepali_notetaker_project\\\\nepali_notetaker_package\\\\DataSet\\\\asr_nepali_0\\\\asr_nepali\\\\data\\\\00\\\\00189ddfe4.flac', 'd:\\\\nepali_notetaker_project\\\\nepali_notetaker_package\\\\DataSet\\\\asr_nepali_0\\\\asr_nepali\\\\data\\\\00\\\\0018ff05ca.flac', 'd:\\\\nepali_notetaker_project\\\\nepali_notetaker_package\\\\DataSet\\\\asr_nepali_0\\\\asr_nepali\\\\data\\\\00\\\\001907805e.flac', 'd:\\\\nepali_notetaker_project\\\\nepali_notetaker_package\\\\DataSet\\\\asr_nepali_0\\\\asr_nepali\\\\data\\\\00\\\\00192533bc.flac', 'd:\\\\nepali_notetaker_project\\\\nepali_notetaker_package\\\\DataSet\\\\asr_nepali_0\\\\asr_nepali\\\\data\\\\00\\\\0019a63118.flac', 'd:\\\\nepali_notetaker_project\\\\nepali_notetaker_package\\\\DataSet\\\\asr_nepali_0\\\\asr_nepali\\\\data\\\\00\\\\0019c4a22b.flac', 'd:\\\\nepali_notetaker_project\\\\nepali_notetaker_package\\\\DataSet\\\\asr_nepali_0\\\\asr_nepali\\\\data\\\\00\\\\001a027a44.flac', 'd:\\\\nepali_notetaker_project\\\\nepali_notetaker_package\\\\DataSet\\\\asr_nepali_0\\\\asr_nepali\\\\data\\\\00\\\\001aafcee1.flac', 'd:\\\\nepali_notetaker_project\\\\nepali_notetaker_package\\\\DataSet\\\\asr_nepali_0\\\\asr_nepali\\\\data\\\\00\\\\001b968b46.flac', 'd:\\\\nepali_notetaker_project\\\\nepali_notetaker_package\\\\DataSet\\\\asr_nepali_0\\\\asr_nepali\\\\data\\\\00\\\\001bb101c4.flac', 'd:\\\\nepali_notetaker_project\\\\nepali_notetaker_package\\\\DataSet\\\\asr_nepali_0\\\\asr_nepali\\\\data\\\\00\\\\001c182577.flac', 'd:\\\\nepali_notetaker_project\\\\nepali_notetaker_package\\\\DataSet\\\\asr_nepali_0\\\\asr_nepali\\\\data\\\\00\\\\001c35c0db.flac', 'd:\\\\nepali_notetaker_project\\\\nepali_notetaker_package\\\\DataSet\\\\asr_nepali_0\\\\asr_nepali\\\\data\\\\00\\\\001ca0ce21.flac', 'd:\\\\nepali_notetaker_project\\\\nepali_notetaker_package\\\\DataSet\\\\asr_nepali_0\\\\asr_nepali\\\\data\\\\00\\\\001d5349b6.flac', 'd:\\\\nepali_notetaker_project\\\\nepali_notetaker_package\\\\DataSet\\\\asr_nepali_0\\\\asr_nepali\\\\data\\\\00\\\\001d578a71.flac', 'd:\\\\nepali_notetaker_project\\\\nepali_notetaker_package\\\\DataSet\\\\asr_nepali_0\\\\asr_nepali\\\\data\\\\00\\\\001d884c4a.flac', 'd:\\\\nepali_notetaker_project\\\\nepali_notetaker_package\\\\DataSet\\\\asr_nepali_0\\\\asr_nepali\\\\data\\\\00\\\\001f4eb960.flac', 'd:\\\\nepali_notetaker_project\\\\nepali_notetaker_package\\\\DataSet\\\\asr_nepali_0\\\\asr_nepali\\\\data\\\\00\\\\001f81eeec.flac', 'd:\\\\nepali_notetaker_project\\\\nepali_notetaker_package\\\\DataSet\\\\asr_nepali_0\\\\asr_nepali\\\\data\\\\00\\\\00206fb325.flac', 'd:\\\\nepali_notetaker_project\\\\nepali_notetaker_package\\\\DataSet\\\\asr_nepali_0\\\\asr_nepali\\\\data\\\\00\\\\00214296e5.flac', 'd:\\\\nepali_notetaker_project\\\\nepali_notetaker_package\\\\DataSet\\\\asr_nepali_0\\\\asr_nepali\\\\data\\\\00\\\\002199cfd5.flac', 'd:\\\\nepali_notetaker_project\\\\nepali_notetaker_package\\\\DataSet\\\\asr_nepali_0\\\\asr_nepali\\\\data\\\\00\\\\0021bc4fcb.flac', 'd:\\\\nepali_notetaker_project\\\\nepali_notetaker_package\\\\DataSet\\\\asr_nepali_0\\\\asr_nepali\\\\data\\\\00\\\\0021f02f4a.flac', 'd:\\\\nepali_notetaker_project\\\\nepali_notetaker_package\\\\DataSet\\\\asr_nepali_0\\\\asr_nepali\\\\data\\\\00\\\\0021f0bba3.flac', 'd:\\\\nepali_notetaker_project\\\\nepali_notetaker_package\\\\DataSet\\\\asr_nepali_0\\\\asr_nepali\\\\data\\\\00\\\\0022362ec0.flac', 'd:\\\\nepali_notetaker_project\\\\nepali_notetaker_package\\\\DataSet\\\\asr_nepali_0\\\\asr_nepali\\\\data\\\\00\\\\0022946707.flac', 'd:\\\\nepali_notetaker_project\\\\nepali_notetaker_package\\\\DataSet\\\\asr_nepali_0\\\\asr_nepali\\\\data\\\\00\\\\00236ebe7b.flac', 'd:\\\\nepali_notetaker_project\\\\nepali_notetaker_package\\\\DataSet\\\\asr_nepali_0\\\\asr_nepali\\\\data\\\\00\\\\0023f1da75.flac', 'd:\\\\nepali_notetaker_project\\\\nepali_notetaker_package\\\\DataSet\\\\asr_nepali_0\\\\asr_nepali\\\\data\\\\00\\\\00241abe2f.flac', 'd:\\\\nepali_notetaker_project\\\\nepali_notetaker_package\\\\DataSet\\\\asr_nepali_0\\\\asr_nepali\\\\data\\\\00\\\\00254a8fcd.flac', 'd:\\\\nepali_notetaker_project\\\\nepali_notetaker_package\\\\DataSet\\\\asr_nepali_0\\\\asr_nepali\\\\data\\\\00\\\\0025524348.flac', 'd:\\\\nepali_notetaker_project\\\\nepali_notetaker_package\\\\DataSet\\\\asr_nepali_0\\\\asr_nepali\\\\data\\\\00\\\\00256cf417.flac', 'd:\\\\nepali_notetaker_project\\\\nepali_notetaker_package\\\\DataSet\\\\asr_nepali_0\\\\asr_nepali\\\\data\\\\00\\\\0025aa8395.flac', 'd:\\\\nepali_notetaker_project\\\\nepali_notetaker_package\\\\DataSet\\\\asr_nepali_0\\\\asr_nepali\\\\data\\\\00\\\\0025bee851.flac', 'd:\\\\nepali_notetaker_project\\\\nepali_notetaker_package\\\\DataSet\\\\asr_nepali_0\\\\asr_nepali\\\\data\\\\00\\\\002668d6ff.flac', 'd:\\\\nepali_notetaker_project\\\\nepali_notetaker_package\\\\DataSet\\\\asr_nepali_0\\\\asr_nepali\\\\data\\\\00\\\\0026c1f17c.flac', 'd:\\\\nepali_notetaker_project\\\\nepali_notetaker_package\\\\DataSet\\\\asr_nepali_0\\\\asr_nepali\\\\data\\\\00\\\\0026c97afc.flac', 'd:\\\\nepali_notetaker_project\\\\nepali_notetaker_package\\\\DataSet\\\\asr_nepali_0\\\\asr_nepali\\\\data\\\\00\\\\00273516a9.flac', 'd:\\\\nepali_notetaker_project\\\\nepali_notetaker_package\\\\DataSet\\\\asr_nepali_0\\\\asr_nepali\\\\data\\\\00\\\\002849aeff.flac', 'd:\\\\nepali_notetaker_project\\\\nepali_notetaker_package\\\\DataSet\\\\asr_nepali_0\\\\asr_nepali\\\\data\\\\00\\\\0029f655b5.flac', 'd:\\\\nepali_notetaker_project\\\\nepali_notetaker_package\\\\DataSet\\\\asr_nepali_0\\\\asr_nepali\\\\data\\\\00\\\\002a749d55.flac', 'd:\\\\nepali_notetaker_project\\\\nepali_notetaker_package\\\\DataSet\\\\asr_nepali_0\\\\asr_nepali\\\\data\\\\00\\\\002a8d9076.flac', 'd:\\\\nepali_notetaker_project\\\\nepali_notetaker_package\\\\DataSet\\\\asr_nepali_0\\\\asr_nepali\\\\data\\\\00\\\\002ad151a4.flac', 'd:\\\\nepali_notetaker_project\\\\nepali_notetaker_package\\\\DataSet\\\\asr_nepali_0\\\\asr_nepali\\\\data\\\\00\\\\002ae35cd3.flac', 'd:\\\\nepali_notetaker_project\\\\nepali_notetaker_package\\\\DataSet\\\\asr_nepali_0\\\\asr_nepali\\\\data\\\\00\\\\002af29a8a.flac', 'd:\\\\nepali_notetaker_project\\\\nepali_notetaker_package\\\\DataSet\\\\asr_nepali_0\\\\asr_nepali\\\\data\\\\00\\\\002b1a8489.flac', 'd:\\\\nepali_notetaker_project\\\\nepali_notetaker_package\\\\DataSet\\\\asr_nepali_0\\\\asr_nepali\\\\data\\\\00\\\\002bb5d867.flac', 'd:\\\\nepali_notetaker_project\\\\nepali_notetaker_package\\\\DataSet\\\\asr_nepali_0\\\\asr_nepali\\\\data\\\\00\\\\002bf0aab4.flac', 'd:\\\\nepali_notetaker_project\\\\nepali_notetaker_package\\\\DataSet\\\\asr_nepali_0\\\\asr_nepali\\\\data\\\\00\\\\002c06d80c.flac', 'd:\\\\nepali_notetaker_project\\\\nepali_notetaker_package\\\\DataSet\\\\asr_nepali_0\\\\asr_nepali\\\\data\\\\00\\\\002c0b500c.flac', 'd:\\\\nepali_notetaker_project\\\\nepali_notetaker_package\\\\DataSet\\\\asr_nepali_0\\\\asr_nepali\\\\data\\\\00\\\\002c53fe1e.flac', 'd:\\\\nepali_notetaker_project\\\\nepali_notetaker_package\\\\DataSet\\\\asr_nepali_0\\\\asr_nepali\\\\data\\\\00\\\\002c9d84c5.flac', 'd:\\\\nepali_notetaker_project\\\\nepali_notetaker_package\\\\DataSet\\\\asr_nepali_0\\\\asr_nepali\\\\data\\\\00\\\\002cc075a1.flac', 'd:\\\\nepali_notetaker_project\\\\nepali_notetaker_package\\\\DataSet\\\\asr_nepali_0\\\\asr_nepali\\\\data\\\\00\\\\002ce69b3f.flac', 'd:\\\\nepali_notetaker_project\\\\nepali_notetaker_package\\\\DataSet\\\\asr_nepali_0\\\\asr_nepali\\\\data\\\\00\\\\002cf3a895.flac', 'd:\\\\nepali_notetaker_project\\\\nepali_notetaker_package\\\\DataSet\\\\asr_nepali_0\\\\asr_nepali\\\\data\\\\00\\\\002f406081.flac', 'd:\\\\nepali_notetaker_project\\\\nepali_notetaker_package\\\\DataSet\\\\asr_nepali_0\\\\asr_nepali\\\\data\\\\00\\\\0030168dbb.flac', 'd:\\\\nepali_notetaker_project\\\\nepali_notetaker_package\\\\DataSet\\\\asr_nepali_0\\\\asr_nepali\\\\data\\\\00\\\\003017eaca.flac', 'd:\\\\nepali_notetaker_project\\\\nepali_notetaker_package\\\\DataSet\\\\asr_nepali_0\\\\asr_nepali\\\\data\\\\00\\\\00315cbb63.flac', 'd:\\\\nepali_notetaker_project\\\\nepali_notetaker_package\\\\DataSet\\\\asr_nepali_0\\\\asr_nepali\\\\data\\\\00\\\\00334a9f80.flac', 'd:\\\\nepali_notetaker_project\\\\nepali_notetaker_package\\\\DataSet\\\\asr_nepali_0\\\\asr_nepali\\\\data\\\\00\\\\003355e560.flac', 'd:\\\\nepali_notetaker_project\\\\nepali_notetaker_package\\\\DataSet\\\\asr_nepali_0\\\\asr_nepali\\\\data\\\\00\\\\0033a7ae1e.flac', 'd:\\\\nepali_notetaker_project\\\\nepali_notetaker_package\\\\DataSet\\\\asr_nepali_0\\\\asr_nepali\\\\data\\\\00\\\\0033b1ea68.flac', 'd:\\\\nepali_notetaker_project\\\\nepali_notetaker_package\\\\DataSet\\\\asr_nepali_0\\\\asr_nepali\\\\data\\\\00\\\\0033cfeddb.flac', 'd:\\\\nepali_notetaker_project\\\\nepali_notetaker_package\\\\DataSet\\\\asr_nepali_0\\\\asr_nepali\\\\data\\\\00\\\\00340fd7a4.flac', 'd:\\\\nepali_notetaker_project\\\\nepali_notetaker_package\\\\DataSet\\\\asr_nepali_0\\\\asr_nepali\\\\data\\\\00\\\\00341efed3.flac', 'd:\\\\nepali_notetaker_project\\\\nepali_notetaker_package\\\\DataSet\\\\asr_nepali_0\\\\asr_nepali\\\\data\\\\00\\\\00342a5f73.flac', 'd:\\\\nepali_notetaker_project\\\\nepali_notetaker_package\\\\DataSet\\\\asr_nepali_0\\\\asr_nepali\\\\data\\\\00\\\\003486bf21.flac', 'd:\\\\nepali_notetaker_project\\\\nepali_notetaker_package\\\\DataSet\\\\asr_nepali_0\\\\asr_nepali\\\\data\\\\00\\\\0034a9cd74.flac', 'd:\\\\nepali_notetaker_project\\\\nepali_notetaker_package\\\\DataSet\\\\asr_nepali_0\\\\asr_nepali\\\\data\\\\00\\\\0036aafc9a.flac', 'd:\\\\nepali_notetaker_project\\\\nepali_notetaker_package\\\\DataSet\\\\asr_nepali_0\\\\asr_nepali\\\\data\\\\00\\\\0036dd80ed.flac', 'd:\\\\nepali_notetaker_project\\\\nepali_notetaker_package\\\\DataSet\\\\asr_nepali_0\\\\asr_nepali\\\\data\\\\00\\\\0037b0503e.flac', 'd:\\\\nepali_notetaker_project\\\\nepali_notetaker_package\\\\DataSet\\\\asr_nepali_0\\\\asr_nepali\\\\data\\\\00\\\\003807abfa.flac', 'd:\\\\nepali_notetaker_project\\\\nepali_notetaker_package\\\\DataSet\\\\asr_nepali_0\\\\asr_nepali\\\\data\\\\00\\\\00380c42e9.flac', 'd:\\\\nepali_notetaker_project\\\\nepali_notetaker_package\\\\DataSet\\\\asr_nepali_0\\\\asr_nepali\\\\data\\\\00\\\\00382db362.flac', 'd:\\\\nepali_notetaker_project\\\\nepali_notetaker_package\\\\DataSet\\\\asr_nepali_0\\\\asr_nepali\\\\data\\\\00\\\\0038c5e483.flac', 'd:\\\\nepali_notetaker_project\\\\nepali_notetaker_package\\\\DataSet\\\\asr_nepali_0\\\\asr_nepali\\\\data\\\\00\\\\0039eeac8e.flac', 'd:\\\\nepali_notetaker_project\\\\nepali_notetaker_package\\\\DataSet\\\\asr_nepali_0\\\\asr_nepali\\\\data\\\\00\\\\003a546b84.flac', 'd:\\\\nepali_notetaker_project\\\\nepali_notetaker_package\\\\DataSet\\\\asr_nepali_0\\\\asr_nepali\\\\data\\\\00\\\\003a7c6c2f.flac', 'd:\\\\nepali_notetaker_project\\\\nepali_notetaker_package\\\\DataSet\\\\asr_nepali_0\\\\asr_nepali\\\\data\\\\00\\\\003ac759fb.flac', 'd:\\\\nepali_notetaker_project\\\\nepali_notetaker_package\\\\DataSet\\\\asr_nepali_0\\\\asr_nepali\\\\data\\\\00\\\\003af8ec13.flac', 'd:\\\\nepali_notetaker_project\\\\nepali_notetaker_package\\\\DataSet\\\\asr_nepali_0\\\\asr_nepali\\\\data\\\\00\\\\003cb4cf59.flac', 'd:\\\\nepali_notetaker_project\\\\nepali_notetaker_package\\\\DataSet\\\\asr_nepali_0\\\\asr_nepali\\\\data\\\\00\\\\003da50507.flac', 'd:\\\\nepali_notetaker_project\\\\nepali_notetaker_package\\\\DataSet\\\\asr_nepali_0\\\\asr_nepali\\\\data\\\\00\\\\003df69d2f.flac', 'd:\\\\nepali_notetaker_project\\\\nepali_notetaker_package\\\\DataSet\\\\asr_nepali_0\\\\asr_nepali\\\\data\\\\00\\\\003e54f4e7.flac', 'd:\\\\nepali_notetaker_project\\\\nepali_notetaker_package\\\\DataSet\\\\asr_nepali_0\\\\asr_nepali\\\\data\\\\00\\\\003edba4bf.flac', 'd:\\\\nepali_notetaker_project\\\\nepali_notetaker_package\\\\DataSet\\\\asr_nepali_0\\\\asr_nepali\\\\data\\\\00\\\\003f32ed01.flac', 'd:\\\\nepali_notetaker_project\\\\nepali_notetaker_package\\\\DataSet\\\\asr_nepali_0\\\\asr_nepali\\\\data\\\\00\\\\003f4f4dd5.flac', 'd:\\\\nepali_notetaker_project\\\\nepali_notetaker_package\\\\DataSet\\\\asr_nepali_0\\\\asr_nepali\\\\data\\\\00\\\\003f972991.flac', 'd:\\\\nepali_notetaker_project\\\\nepali_notetaker_package\\\\DataSet\\\\asr_nepali_0\\\\asr_nepali\\\\data\\\\00\\\\004121d71b.flac', 'd:\\\\nepali_notetaker_project\\\\nepali_notetaker_package\\\\DataSet\\\\asr_nepali_0\\\\asr_nepali\\\\data\\\\00\\\\00414a7de5.flac', 'd:\\\\nepali_notetaker_project\\\\nepali_notetaker_package\\\\DataSet\\\\asr_nepali_0\\\\asr_nepali\\\\data\\\\00\\\\0041bb2219.flac', 'd:\\\\nepali_notetaker_project\\\\nepali_notetaker_package\\\\DataSet\\\\asr_nepali_0\\\\asr_nepali\\\\data\\\\00\\\\00421d8146.flac', 'd:\\\\nepali_notetaker_project\\\\nepali_notetaker_package\\\\DataSet\\\\asr_nepali_0\\\\asr_nepali\\\\data\\\\00\\\\0042d2b56d.flac', 'd:\\\\nepali_notetaker_project\\\\nepali_notetaker_package\\\\DataSet\\\\asr_nepali_0\\\\asr_nepali\\\\data\\\\00\\\\0042fe1a44.flac', 'd:\\\\nepali_notetaker_project\\\\nepali_notetaker_package\\\\DataSet\\\\asr_nepali_0\\\\asr_nepali\\\\data\\\\00\\\\0043a16350.flac', 'd:\\\\nepali_notetaker_project\\\\nepali_notetaker_package\\\\DataSet\\\\asr_nepali_0\\\\asr_nepali\\\\data\\\\00\\\\004481c30d.flac', 'd:\\\\nepali_notetaker_project\\\\nepali_notetaker_package\\\\DataSet\\\\asr_nepali_0\\\\asr_nepali\\\\data\\\\00\\\\004491fa72.flac', 'd:\\\\nepali_notetaker_project\\\\nepali_notetaker_package\\\\DataSet\\\\asr_nepali_0\\\\asr_nepali\\\\data\\\\00\\\\00456a1ddc.flac', 'd:\\\\nepali_notetaker_project\\\\nepali_notetaker_package\\\\DataSet\\\\asr_nepali_0\\\\asr_nepali\\\\data\\\\00\\\\004658e9ed.flac', 'd:\\\\nepali_notetaker_project\\\\nepali_notetaker_package\\\\DataSet\\\\asr_nepali_0\\\\asr_nepali\\\\data\\\\00\\\\0046a55bff.flac', 'd:\\\\nepali_notetaker_project\\\\nepali_notetaker_package\\\\DataSet\\\\asr_nepali_0\\\\asr_nepali\\\\data\\\\00\\\\004743fcf7.flac', 'd:\\\\nepali_notetaker_project\\\\nepali_notetaker_package\\\\DataSet\\\\asr_nepali_0\\\\asr_nepali\\\\data\\\\00\\\\004797d788.flac', 'd:\\\\nepali_notetaker_project\\\\nepali_notetaker_package\\\\DataSet\\\\asr_nepali_0\\\\asr_nepali\\\\data\\\\00\\\\0047bf7b18.flac', 'd:\\\\nepali_notetaker_project\\\\nepali_notetaker_package\\\\DataSet\\\\asr_nepali_0\\\\asr_nepali\\\\data\\\\00\\\\0047f889f0.flac', 'd:\\\\nepali_notetaker_project\\\\nepali_notetaker_package\\\\DataSet\\\\asr_nepali_0\\\\asr_nepali\\\\data\\\\00\\\\004835bff8.flac', 'd:\\\\nepali_notetaker_project\\\\nepali_notetaker_package\\\\DataSet\\\\asr_nepali_0\\\\asr_nepali\\\\data\\\\00\\\\004943999e.flac', 'd:\\\\nepali_notetaker_project\\\\nepali_notetaker_package\\\\DataSet\\\\asr_nepali_0\\\\asr_nepali\\\\data\\\\00\\\\004a2c6066.flac', 'd:\\\\nepali_notetaker_project\\\\nepali_notetaker_package\\\\DataSet\\\\asr_nepali_0\\\\asr_nepali\\\\data\\\\00\\\\004a5ac98a.flac', 'd:\\\\nepali_notetaker_project\\\\nepali_notetaker_package\\\\DataSet\\\\asr_nepali_0\\\\asr_nepali\\\\data\\\\00\\\\004afc2286.flac', 'd:\\\\nepali_notetaker_project\\\\nepali_notetaker_package\\\\DataSet\\\\asr_nepali_0\\\\asr_nepali\\\\data\\\\00\\\\004b2a3c8e.flac', 'd:\\\\nepali_notetaker_project\\\\nepali_notetaker_package\\\\DataSet\\\\asr_nepali_0\\\\asr_nepali\\\\data\\\\00\\\\004baae003.flac', 'd:\\\\nepali_notetaker_project\\\\nepali_notetaker_package\\\\DataSet\\\\asr_nepali_0\\\\asr_nepali\\\\data\\\\00\\\\004cf77911.flac', 'd:\\\\nepali_notetaker_project\\\\nepali_notetaker_package\\\\DataSet\\\\asr_nepali_0\\\\asr_nepali\\\\data\\\\00\\\\004ddbf50c.flac', 'd:\\\\nepali_notetaker_project\\\\nepali_notetaker_package\\\\DataSet\\\\asr_nepali_0\\\\asr_nepali\\\\data\\\\00\\\\004e099a4d.flac', 'd:\\\\nepali_notetaker_project\\\\nepali_notetaker_package\\\\DataSet\\\\asr_nepali_0\\\\asr_nepali\\\\data\\\\00\\\\004e49acdc.flac', 'd:\\\\nepali_notetaker_project\\\\nepali_notetaker_package\\\\DataSet\\\\asr_nepali_0\\\\asr_nepali\\\\data\\\\00\\\\004e660b77.flac', 'd:\\\\nepali_notetaker_project\\\\nepali_notetaker_package\\\\DataSet\\\\asr_nepali_0\\\\asr_nepali\\\\data\\\\00\\\\004e9c6334.flac', 'd:\\\\nepali_notetaker_project\\\\nepali_notetaker_package\\\\DataSet\\\\asr_nepali_0\\\\asr_nepali\\\\data\\\\00\\\\004fde742c.flac', 'd:\\\\nepali_notetaker_project\\\\nepali_notetaker_package\\\\DataSet\\\\asr_nepali_0\\\\asr_nepali\\\\data\\\\00\\\\004ffbf2b3.flac', 'd:\\\\nepali_notetaker_project\\\\nepali_notetaker_package\\\\DataSet\\\\asr_nepali_0\\\\asr_nepali\\\\data\\\\00\\\\005068078d.flac', 'd:\\\\nepali_notetaker_project\\\\nepali_notetaker_package\\\\DataSet\\\\asr_nepali_0\\\\asr_nepali\\\\data\\\\00\\\\0050b10a01.flac', 'd:\\\\nepali_notetaker_project\\\\nepali_notetaker_package\\\\DataSet\\\\asr_nepali_0\\\\asr_nepali\\\\data\\\\00\\\\005106c8d8.flac', 'd:\\\\nepali_notetaker_project\\\\nepali_notetaker_package\\\\DataSet\\\\asr_nepali_0\\\\asr_nepali\\\\data\\\\00\\\\0051a6b535.flac', 'd:\\\\nepali_notetaker_project\\\\nepali_notetaker_package\\\\DataSet\\\\asr_nepali_0\\\\asr_nepali\\\\data\\\\00\\\\0052912514.flac', 'd:\\\\nepali_notetaker_project\\\\nepali_notetaker_package\\\\DataSet\\\\asr_nepali_0\\\\asr_nepali\\\\data\\\\00\\\\0053504615.flac', 'd:\\\\nepali_notetaker_project\\\\nepali_notetaker_package\\\\DataSet\\\\asr_nepali_0\\\\asr_nepali\\\\data\\\\00\\\\0053a0b787.flac', 'd:\\\\nepali_notetaker_project\\\\nepali_notetaker_package\\\\DataSet\\\\asr_nepali_0\\\\asr_nepali\\\\data\\\\00\\\\00541975bc.flac', 'd:\\\\nepali_notetaker_project\\\\nepali_notetaker_package\\\\DataSet\\\\asr_nepali_0\\\\asr_nepali\\\\data\\\\00\\\\00542a36b2.flac', 'd:\\\\nepali_notetaker_project\\\\nepali_notetaker_package\\\\DataSet\\\\asr_nepali_0\\\\asr_nepali\\\\data\\\\00\\\\0054538d54.flac', 'd:\\\\nepali_notetaker_project\\\\nepali_notetaker_package\\\\DataSet\\\\asr_nepali_0\\\\asr_nepali\\\\data\\\\00\\\\00545b834b.flac', 'd:\\\\nepali_notetaker_project\\\\nepali_notetaker_package\\\\DataSet\\\\asr_nepali_0\\\\asr_nepali\\\\data\\\\00\\\\00559002e5.flac', 'd:\\\\nepali_notetaker_project\\\\nepali_notetaker_package\\\\DataSet\\\\asr_nepali_0\\\\asr_nepali\\\\data\\\\00\\\\0055a267b0.flac', 'd:\\\\nepali_notetaker_project\\\\nepali_notetaker_package\\\\DataSet\\\\asr_nepali_0\\\\asr_nepali\\\\data\\\\00\\\\0055e5b8f3.flac', 'd:\\\\nepali_notetaker_project\\\\nepali_notetaker_package\\\\DataSet\\\\asr_nepali_0\\\\asr_nepali\\\\data\\\\00\\\\0057b55228.flac', 'd:\\\\nepali_notetaker_project\\\\nepali_notetaker_package\\\\DataSet\\\\asr_nepali_0\\\\asr_nepali\\\\data\\\\00\\\\00594ddbe7.flac', 'd:\\\\nepali_notetaker_project\\\\nepali_notetaker_package\\\\DataSet\\\\asr_nepali_0\\\\asr_nepali\\\\data\\\\00\\\\00597752e4.flac', 'd:\\\\nepali_notetaker_project\\\\nepali_notetaker_package\\\\DataSet\\\\asr_nepali_0\\\\asr_nepali\\\\data\\\\00\\\\0059c7e2ff.flac', 'd:\\\\nepali_notetaker_project\\\\nepali_notetaker_package\\\\DataSet\\\\asr_nepali_0\\\\asr_nepali\\\\data\\\\00\\\\0059d26a13.flac', 'd:\\\\nepali_notetaker_project\\\\nepali_notetaker_package\\\\DataSet\\\\asr_nepali_0\\\\asr_nepali\\\\data\\\\00\\\\005a12c043.flac', 'd:\\\\nepali_notetaker_project\\\\nepali_notetaker_package\\\\DataSet\\\\asr_nepali_0\\\\asr_nepali\\\\data\\\\00\\\\005a2445a2.flac', 'd:\\\\nepali_notetaker_project\\\\nepali_notetaker_package\\\\DataSet\\\\asr_nepali_0\\\\asr_nepali\\\\data\\\\00\\\\005a56a1a2.flac', 'd:\\\\nepali_notetaker_project\\\\nepali_notetaker_package\\\\DataSet\\\\asr_nepali_0\\\\asr_nepali\\\\data\\\\00\\\\005a79209e.flac', 'd:\\\\nepali_notetaker_project\\\\nepali_notetaker_package\\\\DataSet\\\\asr_nepali_0\\\\asr_nepali\\\\data\\\\00\\\\005b4bae5d.flac', 'd:\\\\nepali_notetaker_project\\\\nepali_notetaker_package\\\\DataSet\\\\asr_nepali_0\\\\asr_nepali\\\\data\\\\00\\\\005c147b66.flac', 'd:\\\\nepali_notetaker_project\\\\nepali_notetaker_package\\\\DataSet\\\\asr_nepali_0\\\\asr_nepali\\\\data\\\\00\\\\005c593499.flac', 'd:\\\\nepali_notetaker_project\\\\nepali_notetaker_package\\\\DataSet\\\\asr_nepali_0\\\\asr_nepali\\\\data\\\\00\\\\005caf7037.flac', 'd:\\\\nepali_notetaker_project\\\\nepali_notetaker_package\\\\DataSet\\\\asr_nepali_0\\\\asr_nepali\\\\data\\\\00\\\\005d160d81.flac', 'd:\\\\nepali_notetaker_project\\\\nepali_notetaker_package\\\\DataSet\\\\asr_nepali_0\\\\asr_nepali\\\\data\\\\00\\\\005d76f5e8.flac', 'd:\\\\nepali_notetaker_project\\\\nepali_notetaker_package\\\\DataSet\\\\asr_nepali_0\\\\asr_nepali\\\\data\\\\00\\\\005e15f7f8.flac', 'd:\\\\nepali_notetaker_project\\\\nepali_notetaker_package\\\\DataSet\\\\asr_nepali_0\\\\asr_nepali\\\\data\\\\00\\\\005e5993e5.flac', 'd:\\\\nepali_notetaker_project\\\\nepali_notetaker_package\\\\DataSet\\\\asr_nepali_0\\\\asr_nepali\\\\data\\\\00\\\\005e9b6303.flac', 'd:\\\\nepali_notetaker_project\\\\nepali_notetaker_package\\\\DataSet\\\\asr_nepali_0\\\\asr_nepali\\\\data\\\\00\\\\005eefedf2.flac', 'd:\\\\nepali_notetaker_project\\\\nepali_notetaker_package\\\\DataSet\\\\asr_nepali_0\\\\asr_nepali\\\\data\\\\00\\\\005ef574ee.flac', 'd:\\\\nepali_notetaker_project\\\\nepali_notetaker_package\\\\DataSet\\\\asr_nepali_0\\\\asr_nepali\\\\data\\\\00\\\\005f0246e6.flac', 'd:\\\\nepali_notetaker_project\\\\nepali_notetaker_package\\\\DataSet\\\\asr_nepali_0\\\\asr_nepali\\\\data\\\\00\\\\005f8f48ec.flac', 'd:\\\\nepali_notetaker_project\\\\nepali_notetaker_package\\\\DataSet\\\\asr_nepali_0\\\\asr_nepali\\\\data\\\\00\\\\005fb17f2b.flac', 'd:\\\\nepali_notetaker_project\\\\nepali_notetaker_package\\\\DataSet\\\\asr_nepali_0\\\\asr_nepali\\\\data\\\\00\\\\005fef7b5d.flac', 'd:\\\\nepali_notetaker_project\\\\nepali_notetaker_package\\\\DataSet\\\\asr_nepali_0\\\\asr_nepali\\\\data\\\\00\\\\006013dfa2.flac', 'd:\\\\nepali_notetaker_project\\\\nepali_notetaker_package\\\\DataSet\\\\asr_nepali_0\\\\asr_nepali\\\\data\\\\00\\\\00606c7342.flac', 'd:\\\\nepali_notetaker_project\\\\nepali_notetaker_package\\\\DataSet\\\\asr_nepali_0\\\\asr_nepali\\\\data\\\\00\\\\0061189667.flac', 'd:\\\\nepali_notetaker_project\\\\nepali_notetaker_package\\\\DataSet\\\\asr_nepali_0\\\\asr_nepali\\\\data\\\\00\\\\00615be9e8.flac', 'd:\\\\nepali_notetaker_project\\\\nepali_notetaker_package\\\\DataSet\\\\asr_nepali_0\\\\asr_nepali\\\\data\\\\00\\\\0061b8e7bd.flac', 'd:\\\\nepali_notetaker_project\\\\nepali_notetaker_package\\\\DataSet\\\\asr_nepali_0\\\\asr_nepali\\\\data\\\\00\\\\00623ed729.flac', 'd:\\\\nepali_notetaker_project\\\\nepali_notetaker_package\\\\DataSet\\\\asr_nepali_0\\\\asr_nepali\\\\data\\\\00\\\\0062779f1f.flac', 'd:\\\\nepali_notetaker_project\\\\nepali_notetaker_package\\\\DataSet\\\\asr_nepali_0\\\\asr_nepali\\\\data\\\\00\\\\00628163d6.flac', 'd:\\\\nepali_notetaker_project\\\\nepali_notetaker_package\\\\DataSet\\\\asr_nepali_0\\\\asr_nepali\\\\data\\\\00\\\\006464b1e7.flac', 'd:\\\\nepali_notetaker_project\\\\nepali_notetaker_package\\\\DataSet\\\\asr_nepali_0\\\\asr_nepali\\\\data\\\\00\\\\0064b8d48c.flac', 'd:\\\\nepali_notetaker_project\\\\nepali_notetaker_package\\\\DataSet\\\\asr_nepali_0\\\\asr_nepali\\\\data\\\\00\\\\0064c75d84.flac', 'd:\\\\nepali_notetaker_project\\\\nepali_notetaker_package\\\\DataSet\\\\asr_nepali_0\\\\asr_nepali\\\\data\\\\00\\\\0064ef58c9.flac', 'd:\\\\nepali_notetaker_project\\\\nepali_notetaker_package\\\\DataSet\\\\asr_nepali_0\\\\asr_nepali\\\\data\\\\00\\\\00653ad703.flac', 'd:\\\\nepali_notetaker_project\\\\nepali_notetaker_package\\\\DataSet\\\\asr_nepali_0\\\\asr_nepali\\\\data\\\\00\\\\0065af229f.flac', 'd:\\\\nepali_notetaker_project\\\\nepali_notetaker_package\\\\DataSet\\\\asr_nepali_0\\\\asr_nepali\\\\data\\\\00\\\\006645e7be.flac', 'd:\\\\nepali_notetaker_project\\\\nepali_notetaker_package\\\\DataSet\\\\asr_nepali_0\\\\asr_nepali\\\\data\\\\00\\\\0067d42315.flac', 'd:\\\\nepali_notetaker_project\\\\nepali_notetaker_package\\\\DataSet\\\\asr_nepali_0\\\\asr_nepali\\\\data\\\\00\\\\0068ce4e94.flac', 'd:\\\\nepali_notetaker_project\\\\nepali_notetaker_package\\\\DataSet\\\\asr_nepali_0\\\\asr_nepali\\\\data\\\\00\\\\0068d0a558.flac', 'd:\\\\nepali_notetaker_project\\\\nepali_notetaker_package\\\\DataSet\\\\asr_nepali_0\\\\asr_nepali\\\\data\\\\00\\\\0068f8a5b1.flac', 'd:\\\\nepali_notetaker_project\\\\nepali_notetaker_package\\\\DataSet\\\\asr_nepali_0\\\\asr_nepali\\\\data\\\\00\\\\0069e365b9.flac', 'd:\\\\nepali_notetaker_project\\\\nepali_notetaker_package\\\\DataSet\\\\asr_nepali_0\\\\asr_nepali\\\\data\\\\00\\\\006a0535dc.flac', 'd:\\\\nepali_notetaker_project\\\\nepali_notetaker_package\\\\DataSet\\\\asr_nepali_0\\\\asr_nepali\\\\data\\\\00\\\\006a1abbf3.flac', 'd:\\\\nepali_notetaker_project\\\\nepali_notetaker_package\\\\DataSet\\\\asr_nepali_0\\\\asr_nepali\\\\data\\\\00\\\\006a470e8e.flac', 'd:\\\\nepali_notetaker_project\\\\nepali_notetaker_package\\\\DataSet\\\\asr_nepali_0\\\\asr_nepali\\\\data\\\\00\\\\006a4b13b2.flac', 'd:\\\\nepali_notetaker_project\\\\nepali_notetaker_package\\\\DataSet\\\\asr_nepali_0\\\\asr_nepali\\\\data\\\\00\\\\006a6e8066.flac', 'd:\\\\nepali_notetaker_project\\\\nepali_notetaker_package\\\\DataSet\\\\asr_nepali_0\\\\asr_nepali\\\\data\\\\00\\\\006bc13a70.flac', 'd:\\\\nepali_notetaker_project\\\\nepali_notetaker_package\\\\DataSet\\\\asr_nepali_0\\\\asr_nepali\\\\data\\\\00\\\\006bd9a275.flac', 'd:\\\\nepali_notetaker_project\\\\nepali_notetaker_package\\\\DataSet\\\\asr_nepali_0\\\\asr_nepali\\\\data\\\\00\\\\006bee0ec1.flac', 'd:\\\\nepali_notetaker_project\\\\nepali_notetaker_package\\\\DataSet\\\\asr_nepali_0\\\\asr_nepali\\\\data\\\\00\\\\006c27957c.flac', 'd:\\\\nepali_notetaker_project\\\\nepali_notetaker_package\\\\DataSet\\\\asr_nepali_0\\\\asr_nepali\\\\data\\\\00\\\\006c4b9a60.flac', 'd:\\\\nepali_notetaker_project\\\\nepali_notetaker_package\\\\DataSet\\\\asr_nepali_0\\\\asr_nepali\\\\data\\\\00\\\\006c99c215.flac', 'd:\\\\nepali_notetaker_project\\\\nepali_notetaker_package\\\\DataSet\\\\asr_nepali_0\\\\asr_nepali\\\\data\\\\00\\\\006cb12fd3.flac', 'd:\\\\nepali_notetaker_project\\\\nepali_notetaker_package\\\\DataSet\\\\asr_nepali_0\\\\asr_nepali\\\\data\\\\00\\\\006cc62ead.flac', 'd:\\\\nepali_notetaker_project\\\\nepali_notetaker_package\\\\DataSet\\\\asr_nepali_0\\\\asr_nepali\\\\data\\\\00\\\\006cce4997.flac', 'd:\\\\nepali_notetaker_project\\\\nepali_notetaker_package\\\\DataSet\\\\asr_nepali_0\\\\asr_nepali\\\\data\\\\00\\\\006d188640.flac', 'd:\\\\nepali_notetaker_project\\\\nepali_notetaker_package\\\\DataSet\\\\asr_nepali_0\\\\asr_nepali\\\\data\\\\00\\\\006dcbf209.flac', 'd:\\\\nepali_notetaker_project\\\\nepali_notetaker_package\\\\DataSet\\\\asr_nepali_0\\\\asr_nepali\\\\data\\\\00\\\\006e126b7f.flac', 'd:\\\\nepali_notetaker_project\\\\nepali_notetaker_package\\\\DataSet\\\\asr_nepali_0\\\\asr_nepali\\\\data\\\\00\\\\006e67532f.flac', 'd:\\\\nepali_notetaker_project\\\\nepali_notetaker_package\\\\DataSet\\\\asr_nepali_0\\\\asr_nepali\\\\data\\\\00\\\\006f4f5394.flac', 'd:\\\\nepali_notetaker_project\\\\nepali_notetaker_package\\\\DataSet\\\\asr_nepali_0\\\\asr_nepali\\\\data\\\\00\\\\006fa22a05.flac', 'd:\\\\nepali_notetaker_project\\\\nepali_notetaker_package\\\\DataSet\\\\asr_nepali_0\\\\asr_nepali\\\\data\\\\00\\\\006fe27b4c.flac', 'd:\\\\nepali_notetaker_project\\\\nepali_notetaker_package\\\\DataSet\\\\asr_nepali_0\\\\asr_nepali\\\\data\\\\00\\\\00700398a5.flac', 'd:\\\\nepali_notetaker_project\\\\nepali_notetaker_package\\\\DataSet\\\\asr_nepali_0\\\\asr_nepali\\\\data\\\\00\\\\007055aacf.flac', 'd:\\\\nepali_notetaker_project\\\\nepali_notetaker_package\\\\DataSet\\\\asr_nepali_0\\\\asr_nepali\\\\data\\\\00\\\\0071083d08.flac', 'd:\\\\nepali_notetaker_project\\\\nepali_notetaker_package\\\\DataSet\\\\asr_nepali_0\\\\asr_nepali\\\\data\\\\00\\\\0071207b9a.flac', 'd:\\\\nepali_notetaker_project\\\\nepali_notetaker_package\\\\DataSet\\\\asr_nepali_0\\\\asr_nepali\\\\data\\\\00\\\\007169b909.flac', 'd:\\\\nepali_notetaker_project\\\\nepali_notetaker_package\\\\DataSet\\\\asr_nepali_0\\\\asr_nepali\\\\data\\\\00\\\\0071a71da8.flac', 'd:\\\\nepali_notetaker_project\\\\nepali_notetaker_package\\\\DataSet\\\\asr_nepali_0\\\\asr_nepali\\\\data\\\\00\\\\00725c6772.flac', 'd:\\\\nepali_notetaker_project\\\\nepali_notetaker_package\\\\DataSet\\\\asr_nepali_0\\\\asr_nepali\\\\data\\\\00\\\\00728399f6.flac', 'd:\\\\nepali_notetaker_project\\\\nepali_notetaker_package\\\\DataSet\\\\asr_nepali_0\\\\asr_nepali\\\\data\\\\00\\\\00735959ec.flac', 'd:\\\\nepali_notetaker_project\\\\nepali_notetaker_package\\\\DataSet\\\\asr_nepali_0\\\\asr_nepali\\\\data\\\\00\\\\0073f3ec94.flac', 'd:\\\\nepali_notetaker_project\\\\nepali_notetaker_package\\\\DataSet\\\\asr_nepali_0\\\\asr_nepali\\\\data\\\\00\\\\00741a0bdd.flac', 'd:\\\\nepali_notetaker_project\\\\nepali_notetaker_package\\\\DataSet\\\\asr_nepali_0\\\\asr_nepali\\\\data\\\\00\\\\0074941145.flac', 'd:\\\\nepali_notetaker_project\\\\nepali_notetaker_package\\\\DataSet\\\\asr_nepali_0\\\\asr_nepali\\\\data\\\\00\\\\0074951921.flac', 'd:\\\\nepali_notetaker_project\\\\nepali_notetaker_package\\\\DataSet\\\\asr_nepali_0\\\\asr_nepali\\\\data\\\\00\\\\0074bb98f0.flac', 'd:\\\\nepali_notetaker_project\\\\nepali_notetaker_package\\\\DataSet\\\\asr_nepali_0\\\\asr_nepali\\\\data\\\\00\\\\0074f60ce3.flac', 'd:\\\\nepali_notetaker_project\\\\nepali_notetaker_package\\\\DataSet\\\\asr_nepali_0\\\\asr_nepali\\\\data\\\\00\\\\0075ae6170.flac', 'd:\\\\nepali_notetaker_project\\\\nepali_notetaker_package\\\\DataSet\\\\asr_nepali_0\\\\asr_nepali\\\\data\\\\00\\\\0075d750cb.flac', 'd:\\\\nepali_notetaker_project\\\\nepali_notetaker_package\\\\DataSet\\\\asr_nepali_0\\\\asr_nepali\\\\data\\\\00\\\\0075e8448c.flac', 'd:\\\\nepali_notetaker_project\\\\nepali_notetaker_package\\\\DataSet\\\\asr_nepali_0\\\\asr_nepali\\\\data\\\\00\\\\007658a342.flac', 'd:\\\\nepali_notetaker_project\\\\nepali_notetaker_package\\\\DataSet\\\\asr_nepali_0\\\\asr_nepali\\\\data\\\\00\\\\007668dc2f.flac', 'd:\\\\nepali_notetaker_project\\\\nepali_notetaker_package\\\\DataSet\\\\asr_nepali_0\\\\asr_nepali\\\\data\\\\00\\\\0076aeb41c.flac', 'd:\\\\nepali_notetaker_project\\\\nepali_notetaker_package\\\\DataSet\\\\asr_nepali_0\\\\asr_nepali\\\\data\\\\00\\\\0076c1bd01.flac', 'd:\\\\nepali_notetaker_project\\\\nepali_notetaker_package\\\\DataSet\\\\asr_nepali_0\\\\asr_nepali\\\\data\\\\00\\\\0076fa017b.flac', 'd:\\\\nepali_notetaker_project\\\\nepali_notetaker_package\\\\DataSet\\\\asr_nepali_0\\\\asr_nepali\\\\data\\\\00\\\\00772a60b9.flac', 'd:\\\\nepali_notetaker_project\\\\nepali_notetaker_package\\\\DataSet\\\\asr_nepali_0\\\\asr_nepali\\\\data\\\\00\\\\0077ba5098.flac', 'd:\\\\nepali_notetaker_project\\\\nepali_notetaker_package\\\\DataSet\\\\asr_nepali_0\\\\asr_nepali\\\\data\\\\00\\\\00787822ac.flac', 'd:\\\\nepali_notetaker_project\\\\nepali_notetaker_package\\\\DataSet\\\\asr_nepali_0\\\\asr_nepali\\\\data\\\\00\\\\00789e449f.flac', 'd:\\\\nepali_notetaker_project\\\\nepali_notetaker_package\\\\DataSet\\\\asr_nepali_0\\\\asr_nepali\\\\data\\\\00\\\\00794066ec.flac', 'd:\\\\nepali_notetaker_project\\\\nepali_notetaker_package\\\\DataSet\\\\asr_nepali_0\\\\asr_nepali\\\\data\\\\00\\\\00794a22fd.flac', 'd:\\\\nepali_notetaker_project\\\\nepali_notetaker_package\\\\DataSet\\\\asr_nepali_0\\\\asr_nepali\\\\data\\\\00\\\\0079820807.flac', 'd:\\\\nepali_notetaker_project\\\\nepali_notetaker_package\\\\DataSet\\\\asr_nepali_0\\\\asr_nepali\\\\data\\\\00\\\\00798e53d6.flac', 'd:\\\\nepali_notetaker_project\\\\nepali_notetaker_package\\\\DataSet\\\\asr_nepali_0\\\\asr_nepali\\\\data\\\\00\\\\007a5a8c03.flac', 'd:\\\\nepali_notetaker_project\\\\nepali_notetaker_package\\\\DataSet\\\\asr_nepali_0\\\\asr_nepali\\\\data\\\\00\\\\007afadd19.flac', 'd:\\\\nepali_notetaker_project\\\\nepali_notetaker_package\\\\DataSet\\\\asr_nepali_0\\\\asr_nepali\\\\data\\\\00\\\\007b011c89.flac', 'd:\\\\nepali_notetaker_project\\\\nepali_notetaker_package\\\\DataSet\\\\asr_nepali_0\\\\asr_nepali\\\\data\\\\00\\\\007b1b872b.flac', 'd:\\\\nepali_notetaker_project\\\\nepali_notetaker_package\\\\DataSet\\\\asr_nepali_0\\\\asr_nepali\\\\data\\\\00\\\\007b34260d.flac', 'd:\\\\nepali_notetaker_project\\\\nepali_notetaker_package\\\\DataSet\\\\asr_nepali_0\\\\asr_nepali\\\\data\\\\00\\\\007c2c6e9d.flac', 'd:\\\\nepali_notetaker_project\\\\nepali_notetaker_package\\\\DataSet\\\\asr_nepali_0\\\\asr_nepali\\\\data\\\\00\\\\007cac7ce2.flac', 'd:\\\\nepali_notetaker_project\\\\nepali_notetaker_package\\\\DataSet\\\\asr_nepali_0\\\\asr_nepali\\\\data\\\\00\\\\007dc08844.flac', 'd:\\\\nepali_notetaker_project\\\\nepali_notetaker_package\\\\DataSet\\\\asr_nepali_0\\\\asr_nepali\\\\data\\\\00\\\\007e2ce2b9.flac', 'd:\\\\nepali_notetaker_project\\\\nepali_notetaker_package\\\\DataSet\\\\asr_nepali_0\\\\asr_nepali\\\\data\\\\00\\\\007e419b2e.flac', 'd:\\\\nepali_notetaker_project\\\\nepali_notetaker_package\\\\DataSet\\\\asr_nepali_0\\\\asr_nepali\\\\data\\\\00\\\\007e72e734.flac', 'd:\\\\nepali_notetaker_project\\\\nepali_notetaker_package\\\\DataSet\\\\asr_nepali_0\\\\asr_nepali\\\\data\\\\00\\\\007f200d31.flac', 'd:\\\\nepali_notetaker_project\\\\nepali_notetaker_package\\\\DataSet\\\\asr_nepali_0\\\\asr_nepali\\\\data\\\\00\\\\007f4447ee.flac', 'd:\\\\nepali_notetaker_project\\\\nepali_notetaker_package\\\\DataSet\\\\asr_nepali_0\\\\asr_nepali\\\\data\\\\00\\\\007f615855.flac', 'd:\\\\nepali_notetaker_project\\\\nepali_notetaker_package\\\\DataSet\\\\asr_nepali_0\\\\asr_nepali\\\\data\\\\00\\\\00809f5567.flac', 'd:\\\\nepali_notetaker_project\\\\nepali_notetaker_package\\\\DataSet\\\\asr_nepali_0\\\\asr_nepali\\\\data\\\\00\\\\0080affd23.flac', 'd:\\\\nepali_notetaker_project\\\\nepali_notetaker_package\\\\DataSet\\\\asr_nepali_0\\\\asr_nepali\\\\data\\\\00\\\\0081748bf9.flac', 'd:\\\\nepali_notetaker_project\\\\nepali_notetaker_package\\\\DataSet\\\\asr_nepali_0\\\\asr_nepali\\\\data\\\\00\\\\0081e89880.flac', 'd:\\\\nepali_notetaker_project\\\\nepali_notetaker_package\\\\DataSet\\\\asr_nepali_0\\\\asr_nepali\\\\data\\\\00\\\\0082097f7d.flac', 'd:\\\\nepali_notetaker_project\\\\nepali_notetaker_package\\\\DataSet\\\\asr_nepali_0\\\\asr_nepali\\\\data\\\\00\\\\0082209f7f.flac', 'd:\\\\nepali_notetaker_project\\\\nepali_notetaker_package\\\\DataSet\\\\asr_nepali_0\\\\asr_nepali\\\\data\\\\00\\\\00826a669d.flac', 'd:\\\\nepali_notetaker_project\\\\nepali_notetaker_package\\\\DataSet\\\\asr_nepali_0\\\\asr_nepali\\\\data\\\\00\\\\0083e30e8a.flac', 'd:\\\\nepali_notetaker_project\\\\nepali_notetaker_package\\\\DataSet\\\\asr_nepali_0\\\\asr_nepali\\\\data\\\\00\\\\0084383a29.flac', 'd:\\\\nepali_notetaker_project\\\\nepali_notetaker_package\\\\DataSet\\\\asr_nepali_0\\\\asr_nepali\\\\data\\\\00\\\\0084538fb6.flac', 'd:\\\\nepali_notetaker_project\\\\nepali_notetaker_package\\\\DataSet\\\\asr_nepali_0\\\\asr_nepali\\\\data\\\\00\\\\0084745793.flac', 'd:\\\\nepali_notetaker_project\\\\nepali_notetaker_package\\\\DataSet\\\\asr_nepali_0\\\\asr_nepali\\\\data\\\\00\\\\00848745a8.flac', 'd:\\\\nepali_notetaker_project\\\\nepali_notetaker_package\\\\DataSet\\\\asr_nepali_0\\\\asr_nepali\\\\data\\\\00\\\\00849d0a5f.flac', 'd:\\\\nepali_notetaker_project\\\\nepali_notetaker_package\\\\DataSet\\\\asr_nepali_0\\\\asr_nepali\\\\data\\\\00\\\\0084df7f44.flac', 'd:\\\\nepali_notetaker_project\\\\nepali_notetaker_package\\\\DataSet\\\\asr_nepali_0\\\\asr_nepali\\\\data\\\\00\\\\008503f6b6.flac', 'd:\\\\nepali_notetaker_project\\\\nepali_notetaker_package\\\\DataSet\\\\asr_nepali_0\\\\asr_nepali\\\\data\\\\00\\\\008520f056.flac', 'd:\\\\nepali_notetaker_project\\\\nepali_notetaker_package\\\\DataSet\\\\asr_nepali_0\\\\asr_nepali\\\\data\\\\00\\\\0085652e7d.flac', 'd:\\\\nepali_notetaker_project\\\\nepali_notetaker_package\\\\DataSet\\\\asr_nepali_0\\\\asr_nepali\\\\data\\\\00\\\\0085a2cfbd.flac', 'd:\\\\nepali_notetaker_project\\\\nepali_notetaker_package\\\\DataSet\\\\asr_nepali_0\\\\asr_nepali\\\\data\\\\00\\\\0085e3b43f.flac', 'd:\\\\nepali_notetaker_project\\\\nepali_notetaker_package\\\\DataSet\\\\asr_nepali_0\\\\asr_nepali\\\\data\\\\00\\\\00866e3f11.flac', 'd:\\\\nepali_notetaker_project\\\\nepali_notetaker_package\\\\DataSet\\\\asr_nepali_0\\\\asr_nepali\\\\data\\\\00\\\\00867c189f.flac', 'd:\\\\nepali_notetaker_project\\\\nepali_notetaker_package\\\\DataSet\\\\asr_nepali_0\\\\asr_nepali\\\\data\\\\00\\\\0086d92065.flac', 'd:\\\\nepali_notetaker_project\\\\nepali_notetaker_package\\\\DataSet\\\\asr_nepali_0\\\\asr_nepali\\\\data\\\\00\\\\0087593a85.flac', 'd:\\\\nepali_notetaker_project\\\\nepali_notetaker_package\\\\DataSet\\\\asr_nepali_0\\\\asr_nepali\\\\data\\\\00\\\\008810de9d.flac', 'd:\\\\nepali_notetaker_project\\\\nepali_notetaker_package\\\\DataSet\\\\asr_nepali_0\\\\asr_nepali\\\\data\\\\00\\\\0088aef87c.flac', 'd:\\\\nepali_notetaker_project\\\\nepali_notetaker_package\\\\DataSet\\\\asr_nepali_0\\\\asr_nepali\\\\data\\\\00\\\\0089015a1a.flac', 'd:\\\\nepali_notetaker_project\\\\nepali_notetaker_package\\\\DataSet\\\\asr_nepali_0\\\\asr_nepali\\\\data\\\\00\\\\00893b5260.flac', 'd:\\\\nepali_notetaker_project\\\\nepali_notetaker_package\\\\DataSet\\\\asr_nepali_0\\\\asr_nepali\\\\data\\\\00\\\\0089c0341a.flac', 'd:\\\\nepali_notetaker_project\\\\nepali_notetaker_package\\\\DataSet\\\\asr_nepali_0\\\\asr_nepali\\\\data\\\\00\\\\008a7f879d.flac', 'd:\\\\nepali_notetaker_project\\\\nepali_notetaker_package\\\\DataSet\\\\asr_nepali_0\\\\asr_nepali\\\\data\\\\00\\\\008af38aba.flac', 'd:\\\\nepali_notetaker_project\\\\nepali_notetaker_package\\\\DataSet\\\\asr_nepali_0\\\\asr_nepali\\\\data\\\\00\\\\008b58e75b.flac', 'd:\\\\nepali_notetaker_project\\\\nepali_notetaker_package\\\\DataSet\\\\asr_nepali_0\\\\asr_nepali\\\\data\\\\00\\\\008baab1ad.flac', 'd:\\\\nepali_notetaker_project\\\\nepali_notetaker_package\\\\DataSet\\\\asr_nepali_0\\\\asr_nepali\\\\data\\\\00\\\\008bc08d07.flac', 'd:\\\\nepali_notetaker_project\\\\nepali_notetaker_package\\\\DataSet\\\\asr_nepali_0\\\\asr_nepali\\\\data\\\\00\\\\008c17f698.flac', 'd:\\\\nepali_notetaker_project\\\\nepali_notetaker_package\\\\DataSet\\\\asr_nepali_0\\\\asr_nepali\\\\data\\\\00\\\\008c31e8ab.flac', 'd:\\\\nepali_notetaker_project\\\\nepali_notetaker_package\\\\DataSet\\\\asr_nepali_0\\\\asr_nepali\\\\data\\\\00\\\\008c6ed8b1.flac', 'd:\\\\nepali_notetaker_project\\\\nepali_notetaker_package\\\\DataSet\\\\asr_nepali_0\\\\asr_nepali\\\\data\\\\00\\\\008c945205.flac', 'd:\\\\nepali_notetaker_project\\\\nepali_notetaker_package\\\\DataSet\\\\asr_nepali_0\\\\asr_nepali\\\\data\\\\00\\\\008d4cc604.flac', 'd:\\\\nepali_notetaker_project\\\\nepali_notetaker_package\\\\DataSet\\\\asr_nepali_0\\\\asr_nepali\\\\data\\\\00\\\\008d6ce74e.flac', 'd:\\\\nepali_notetaker_project\\\\nepali_notetaker_package\\\\DataSet\\\\asr_nepali_0\\\\asr_nepali\\\\data\\\\00\\\\008d96572b.flac', 'd:\\\\nepali_notetaker_project\\\\nepali_notetaker_package\\\\DataSet\\\\asr_nepali_0\\\\asr_nepali\\\\data\\\\00\\\\008e71c1af.flac', 'd:\\\\nepali_notetaker_project\\\\nepali_notetaker_package\\\\DataSet\\\\asr_nepali_0\\\\asr_nepali\\\\data\\\\00\\\\008ea66b14.flac', 'd:\\\\nepali_notetaker_project\\\\nepali_notetaker_package\\\\DataSet\\\\asr_nepali_0\\\\asr_nepali\\\\data\\\\00\\\\008eb9a190.flac', 'd:\\\\nepali_notetaker_project\\\\nepali_notetaker_package\\\\DataSet\\\\asr_nepali_0\\\\asr_nepali\\\\data\\\\00\\\\008eee7b02.flac', 'd:\\\\nepali_notetaker_project\\\\nepali_notetaker_package\\\\DataSet\\\\asr_nepali_0\\\\asr_nepali\\\\data\\\\00\\\\008ef1abf7.flac', 'd:\\\\nepali_notetaker_project\\\\nepali_notetaker_package\\\\DataSet\\\\asr_nepali_0\\\\asr_nepali\\\\data\\\\00\\\\008effa699.flac', 'd:\\\\nepali_notetaker_project\\\\nepali_notetaker_package\\\\DataSet\\\\asr_nepali_0\\\\asr_nepali\\\\data\\\\00\\\\008f0b5228.flac', 'd:\\\\nepali_notetaker_project\\\\nepali_notetaker_package\\\\DataSet\\\\asr_nepali_0\\\\asr_nepali\\\\data\\\\00\\\\008f2e2b4e.flac', 'd:\\\\nepali_notetaker_project\\\\nepali_notetaker_package\\\\DataSet\\\\asr_nepali_0\\\\asr_nepali\\\\data\\\\00\\\\008fe722ca.flac', 'd:\\\\nepali_notetaker_project\\\\nepali_notetaker_package\\\\DataSet\\\\asr_nepali_0\\\\asr_nepali\\\\data\\\\00\\\\0090cceafe.flac', 'd:\\\\nepali_notetaker_project\\\\nepali_notetaker_package\\\\DataSet\\\\asr_nepali_0\\\\asr_nepali\\\\data\\\\00\\\\0090dec475.flac', 'd:\\\\nepali_notetaker_project\\\\nepali_notetaker_package\\\\DataSet\\\\asr_nepali_0\\\\asr_nepali\\\\data\\\\00\\\\0093bbbf85.flac', 'd:\\\\nepali_notetaker_project\\\\nepali_notetaker_package\\\\DataSet\\\\asr_nepali_0\\\\asr_nepali\\\\data\\\\00\\\\0093c0debc.flac', 'd:\\\\nepali_notetaker_project\\\\nepali_notetaker_package\\\\DataSet\\\\asr_nepali_0\\\\asr_nepali\\\\data\\\\00\\\\00945443ee.flac', 'd:\\\\nepali_notetaker_project\\\\nepali_notetaker_package\\\\DataSet\\\\asr_nepali_0\\\\asr_nepali\\\\data\\\\00\\\\009461187d.flac', 'd:\\\\nepali_notetaker_project\\\\nepali_notetaker_package\\\\DataSet\\\\asr_nepali_0\\\\asr_nepali\\\\data\\\\00\\\\0094bbba5d.flac', 'd:\\\\nepali_notetaker_project\\\\nepali_notetaker_package\\\\DataSet\\\\asr_nepali_0\\\\asr_nepali\\\\data\\\\00\\\\009547ce60.flac', 'd:\\\\nepali_notetaker_project\\\\nepali_notetaker_package\\\\DataSet\\\\asr_nepali_0\\\\asr_nepali\\\\data\\\\00\\\\009562cd5c.flac', 'd:\\\\nepali_notetaker_project\\\\nepali_notetaker_package\\\\DataSet\\\\asr_nepali_0\\\\asr_nepali\\\\data\\\\00\\\\00959e7b6b.flac', 'd:\\\\nepali_notetaker_project\\\\nepali_notetaker_package\\\\DataSet\\\\asr_nepali_0\\\\asr_nepali\\\\data\\\\00\\\\00965969ae.flac', 'd:\\\\nepali_notetaker_project\\\\nepali_notetaker_package\\\\DataSet\\\\asr_nepali_0\\\\asr_nepali\\\\data\\\\00\\\\00966fcbba.flac', 'd:\\\\nepali_notetaker_project\\\\nepali_notetaker_package\\\\DataSet\\\\asr_nepali_0\\\\asr_nepali\\\\data\\\\00\\\\0096b358b5.flac', 'd:\\\\nepali_notetaker_project\\\\nepali_notetaker_package\\\\DataSet\\\\asr_nepali_0\\\\asr_nepali\\\\data\\\\00\\\\0096ca8f83.flac', 'd:\\\\nepali_notetaker_project\\\\nepali_notetaker_package\\\\DataSet\\\\asr_nepali_0\\\\asr_nepali\\\\data\\\\00\\\\00977957bd.flac', 'd:\\\\nepali_notetaker_project\\\\nepali_notetaker_package\\\\DataSet\\\\asr_nepali_0\\\\asr_nepali\\\\data\\\\00\\\\0097aa1096.flac', 'd:\\\\nepali_notetaker_project\\\\nepali_notetaker_package\\\\DataSet\\\\asr_nepali_0\\\\asr_nepali\\\\data\\\\00\\\\0097dfcf17.flac', 'd:\\\\nepali_notetaker_project\\\\nepali_notetaker_package\\\\DataSet\\\\asr_nepali_0\\\\asr_nepali\\\\data\\\\00\\\\00980d0df7.flac', 'd:\\\\nepali_notetaker_project\\\\nepali_notetaker_package\\\\DataSet\\\\asr_nepali_0\\\\asr_nepali\\\\data\\\\00\\\\0098d95c74.flac', 'd:\\\\nepali_notetaker_project\\\\nepali_notetaker_package\\\\DataSet\\\\asr_nepali_0\\\\asr_nepali\\\\data\\\\00\\\\0099106657.flac', 'd:\\\\nepali_notetaker_project\\\\nepali_notetaker_package\\\\DataSet\\\\asr_nepali_0\\\\asr_nepali\\\\data\\\\00\\\\00994de24b.flac', 'd:\\\\nepali_notetaker_project\\\\nepali_notetaker_package\\\\DataSet\\\\asr_nepali_0\\\\asr_nepali\\\\data\\\\00\\\\0099d2bf19.flac', 'd:\\\\nepali_notetaker_project\\\\nepali_notetaker_package\\\\DataSet\\\\asr_nepali_0\\\\asr_nepali\\\\data\\\\00\\\\0099e5bdb9.flac', 'd:\\\\nepali_notetaker_project\\\\nepali_notetaker_package\\\\DataSet\\\\asr_nepali_0\\\\asr_nepali\\\\data\\\\00\\\\009a021db4.flac', 'd:\\\\nepali_notetaker_project\\\\nepali_notetaker_package\\\\DataSet\\\\asr_nepali_0\\\\asr_nepali\\\\data\\\\00\\\\009a9a44aa.flac', 'd:\\\\nepali_notetaker_project\\\\nepali_notetaker_package\\\\DataSet\\\\asr_nepali_0\\\\asr_nepali\\\\data\\\\00\\\\009a9d1b4f.flac', 'd:\\\\nepali_notetaker_project\\\\nepali_notetaker_package\\\\DataSet\\\\asr_nepali_0\\\\asr_nepali\\\\data\\\\00\\\\009aada553.flac', 'd:\\\\nepali_notetaker_project\\\\nepali_notetaker_package\\\\DataSet\\\\asr_nepali_0\\\\asr_nepali\\\\data\\\\00\\\\009b07fdc1.flac', 'd:\\\\nepali_notetaker_project\\\\nepali_notetaker_package\\\\DataSet\\\\asr_nepali_0\\\\asr_nepali\\\\data\\\\00\\\\009b9c916f.flac', 'd:\\\\nepali_notetaker_project\\\\nepali_notetaker_package\\\\DataSet\\\\asr_nepali_0\\\\asr_nepali\\\\data\\\\00\\\\009be5e633.flac', 'd:\\\\nepali_notetaker_project\\\\nepali_notetaker_package\\\\DataSet\\\\asr_nepali_0\\\\asr_nepali\\\\data\\\\00\\\\009c46e55a.flac', 'd:\\\\nepali_notetaker_project\\\\nepali_notetaker_package\\\\DataSet\\\\asr_nepali_0\\\\asr_nepali\\\\data\\\\00\\\\009c6f4dfd.flac', 'd:\\\\nepali_notetaker_project\\\\nepali_notetaker_package\\\\DataSet\\\\asr_nepali_0\\\\asr_nepali\\\\data\\\\00\\\\009ceb2a8b.flac', 'd:\\\\nepali_notetaker_project\\\\nepali_notetaker_package\\\\DataSet\\\\asr_nepali_0\\\\asr_nepali\\\\data\\\\00\\\\009df49393.flac', 'd:\\\\nepali_notetaker_project\\\\nepali_notetaker_package\\\\DataSet\\\\asr_nepali_0\\\\asr_nepali\\\\data\\\\00\\\\009ece1528.flac', 'd:\\\\nepali_notetaker_project\\\\nepali_notetaker_package\\\\DataSet\\\\asr_nepali_0\\\\asr_nepali\\\\data\\\\00\\\\009f053316.flac', 'd:\\\\nepali_notetaker_project\\\\nepali_notetaker_package\\\\DataSet\\\\asr_nepali_0\\\\asr_nepali\\\\data\\\\00\\\\009f535ff3.flac', 'd:\\\\nepali_notetaker_project\\\\nepali_notetaker_package\\\\DataSet\\\\asr_nepali_0\\\\asr_nepali\\\\data\\\\00\\\\009f53f0a8.flac', 'd:\\\\nepali_notetaker_project\\\\nepali_notetaker_package\\\\DataSet\\\\asr_nepali_0\\\\asr_nepali\\\\data\\\\00\\\\009f5f24f5.flac', 'd:\\\\nepali_notetaker_project\\\\nepali_notetaker_package\\\\DataSet\\\\asr_nepali_0\\\\asr_nepali\\\\data\\\\00\\\\009f5fcb64.flac', 'd:\\\\nepali_notetaker_project\\\\nepali_notetaker_package\\\\DataSet\\\\asr_nepali_0\\\\asr_nepali\\\\data\\\\00\\\\009f8ebc71.flac', 'd:\\\\nepali_notetaker_project\\\\nepali_notetaker_package\\\\DataSet\\\\asr_nepali_0\\\\asr_nepali\\\\data\\\\00\\\\00a03a6d0a.flac', 'd:\\\\nepali_notetaker_project\\\\nepali_notetaker_package\\\\DataSet\\\\asr_nepali_0\\\\asr_nepali\\\\data\\\\00\\\\00a12fdd22.flac', 'd:\\\\nepali_notetaker_project\\\\nepali_notetaker_package\\\\DataSet\\\\asr_nepali_0\\\\asr_nepali\\\\data\\\\00\\\\00a154bfae.flac', 'd:\\\\nepali_notetaker_project\\\\nepali_notetaker_package\\\\DataSet\\\\asr_nepali_0\\\\asr_nepali\\\\data\\\\00\\\\00a1690992.flac', 'd:\\\\nepali_notetaker_project\\\\nepali_notetaker_package\\\\DataSet\\\\asr_nepali_0\\\\asr_nepali\\\\data\\\\00\\\\00a1eff535.flac', 'd:\\\\nepali_notetaker_project\\\\nepali_notetaker_package\\\\DataSet\\\\asr_nepali_0\\\\asr_nepali\\\\data\\\\00\\\\00a1f8a9cc.flac', 'd:\\\\nepali_notetaker_project\\\\nepali_notetaker_package\\\\DataSet\\\\asr_nepali_0\\\\asr_nepali\\\\data\\\\00\\\\00a2b01b40.flac', 'd:\\\\nepali_notetaker_project\\\\nepali_notetaker_package\\\\DataSet\\\\asr_nepali_0\\\\asr_nepali\\\\data\\\\00\\\\00a2e7238f.flac', 'd:\\\\nepali_notetaker_project\\\\nepali_notetaker_package\\\\DataSet\\\\asr_nepali_0\\\\asr_nepali\\\\data\\\\00\\\\00a4929082.flac', 'd:\\\\nepali_notetaker_project\\\\nepali_notetaker_package\\\\DataSet\\\\asr_nepali_0\\\\asr_nepali\\\\data\\\\00\\\\00a49d7c51.flac', 'd:\\\\nepali_notetaker_project\\\\nepali_notetaker_package\\\\DataSet\\\\asr_nepali_0\\\\asr_nepali\\\\data\\\\00\\\\00a4e62268.flac', 'd:\\\\nepali_notetaker_project\\\\nepali_notetaker_package\\\\DataSet\\\\asr_nepali_0\\\\asr_nepali\\\\data\\\\00\\\\00a581373f.flac', 'd:\\\\nepali_notetaker_project\\\\nepali_notetaker_package\\\\DataSet\\\\asr_nepali_0\\\\asr_nepali\\\\data\\\\00\\\\00a63d1092.flac', 'd:\\\\nepali_notetaker_project\\\\nepali_notetaker_package\\\\DataSet\\\\asr_nepali_0\\\\asr_nepali\\\\data\\\\00\\\\00a6a08087.flac', 'd:\\\\nepali_notetaker_project\\\\nepali_notetaker_package\\\\DataSet\\\\asr_nepali_0\\\\asr_nepali\\\\data\\\\00\\\\00a6ff8c66.flac', 'd:\\\\nepali_notetaker_project\\\\nepali_notetaker_package\\\\DataSet\\\\asr_nepali_0\\\\asr_nepali\\\\data\\\\00\\\\00a7533f0f.flac', 'd:\\\\nepali_notetaker_project\\\\nepali_notetaker_package\\\\DataSet\\\\asr_nepali_0\\\\asr_nepali\\\\data\\\\00\\\\00a7a2549a.flac', 'd:\\\\nepali_notetaker_project\\\\nepali_notetaker_package\\\\DataSet\\\\asr_nepali_0\\\\asr_nepali\\\\data\\\\00\\\\00a7d4ccea.flac', 'd:\\\\nepali_notetaker_project\\\\nepali_notetaker_package\\\\DataSet\\\\asr_nepali_0\\\\asr_nepali\\\\data\\\\00\\\\00a7dabef2.flac', 'd:\\\\nepali_notetaker_project\\\\nepali_notetaker_package\\\\DataSet\\\\asr_nepali_0\\\\asr_nepali\\\\data\\\\00\\\\00a8073bc2.flac', 'd:\\\\nepali_notetaker_project\\\\nepali_notetaker_package\\\\DataSet\\\\asr_nepali_0\\\\asr_nepali\\\\data\\\\00\\\\00a80b4c8a.flac', 'd:\\\\nepali_notetaker_project\\\\nepali_notetaker_package\\\\DataSet\\\\asr_nepali_0\\\\asr_nepali\\\\data\\\\00\\\\00a824abd5.flac', 'd:\\\\nepali_notetaker_project\\\\nepali_notetaker_package\\\\DataSet\\\\asr_nepali_0\\\\asr_nepali\\\\data\\\\00\\\\00a835435f.flac', 'd:\\\\nepali_notetaker_project\\\\nepali_notetaker_package\\\\DataSet\\\\asr_nepali_0\\\\asr_nepali\\\\data\\\\00\\\\00a917dc40.flac', 'd:\\\\nepali_notetaker_project\\\\nepali_notetaker_package\\\\DataSet\\\\asr_nepali_0\\\\asr_nepali\\\\data\\\\00\\\\00a9397572.flac', 'd:\\\\nepali_notetaker_project\\\\nepali_notetaker_package\\\\DataSet\\\\asr_nepali_0\\\\asr_nepali\\\\data\\\\00\\\\00a9723f3b.flac', 'd:\\\\nepali_notetaker_project\\\\nepali_notetaker_package\\\\DataSet\\\\asr_nepali_0\\\\asr_nepali\\\\data\\\\00\\\\00a986dd27.flac', 'd:\\\\nepali_notetaker_project\\\\nepali_notetaker_package\\\\DataSet\\\\asr_nepali_0\\\\asr_nepali\\\\data\\\\00\\\\00a9f87d0d.flac', 'd:\\\\nepali_notetaker_project\\\\nepali_notetaker_package\\\\DataSet\\\\asr_nepali_0\\\\asr_nepali\\\\data\\\\00\\\\00aa27728b.flac', 'd:\\\\nepali_notetaker_project\\\\nepali_notetaker_package\\\\DataSet\\\\asr_nepali_0\\\\asr_nepali\\\\data\\\\00\\\\00aa43f669.flac', 'd:\\\\nepali_notetaker_project\\\\nepali_notetaker_package\\\\DataSet\\\\asr_nepali_0\\\\asr_nepali\\\\data\\\\00\\\\00aaa9c769.flac', 'd:\\\\nepali_notetaker_project\\\\nepali_notetaker_package\\\\DataSet\\\\asr_nepali_0\\\\asr_nepali\\\\data\\\\00\\\\00ab0e6001.flac', 'd:\\\\nepali_notetaker_project\\\\nepali_notetaker_package\\\\DataSet\\\\asr_nepali_0\\\\asr_nepali\\\\data\\\\00\\\\00ab13f949.flac', 'd:\\\\nepali_notetaker_project\\\\nepali_notetaker_package\\\\DataSet\\\\asr_nepali_0\\\\asr_nepali\\\\data\\\\00\\\\00ab3895f1.flac', 'd:\\\\nepali_notetaker_project\\\\nepali_notetaker_package\\\\DataSet\\\\asr_nepali_0\\\\asr_nepali\\\\data\\\\00\\\\00ab74820e.flac', 'd:\\\\nepali_notetaker_project\\\\nepali_notetaker_package\\\\DataSet\\\\asr_nepali_0\\\\asr_nepali\\\\data\\\\00\\\\00abc8f067.flac', 'd:\\\\nepali_notetaker_project\\\\nepali_notetaker_package\\\\DataSet\\\\asr_nepali_0\\\\asr_nepali\\\\data\\\\00\\\\00ac6e8c9c.flac', 'd:\\\\nepali_notetaker_project\\\\nepali_notetaker_package\\\\DataSet\\\\asr_nepali_0\\\\asr_nepali\\\\data\\\\00\\\\00acf6af98.flac', 'd:\\\\nepali_notetaker_project\\\\nepali_notetaker_package\\\\DataSet\\\\asr_nepali_0\\\\asr_nepali\\\\data\\\\00\\\\00ad5d31bd.flac', 'd:\\\\nepali_notetaker_project\\\\nepali_notetaker_package\\\\DataSet\\\\asr_nepali_0\\\\asr_nepali\\\\data\\\\00\\\\00ad6b53d3.flac', 'd:\\\\nepali_notetaker_project\\\\nepali_notetaker_package\\\\DataSet\\\\asr_nepali_0\\\\asr_nepali\\\\data\\\\00\\\\00ad922f03.flac', 'd:\\\\nepali_notetaker_project\\\\nepali_notetaker_package\\\\DataSet\\\\asr_nepali_0\\\\asr_nepali\\\\data\\\\00\\\\00ad9f58ee.flac', 'd:\\\\nepali_notetaker_project\\\\nepali_notetaker_package\\\\DataSet\\\\asr_nepali_0\\\\asr_nepali\\\\data\\\\00\\\\00adb74fe1.flac', 'd:\\\\nepali_notetaker_project\\\\nepali_notetaker_package\\\\DataSet\\\\asr_nepali_0\\\\asr_nepali\\\\data\\\\00\\\\00adf15143.flac', 'd:\\\\nepali_notetaker_project\\\\nepali_notetaker_package\\\\DataSet\\\\asr_nepali_0\\\\asr_nepali\\\\data\\\\00\\\\00adf5c131.flac', 'd:\\\\nepali_notetaker_project\\\\nepali_notetaker_package\\\\DataSet\\\\asr_nepali_0\\\\asr_nepali\\\\data\\\\00\\\\00af9d0ddc.flac', 'd:\\\\nepali_notetaker_project\\\\nepali_notetaker_package\\\\DataSet\\\\asr_nepali_0\\\\asr_nepali\\\\data\\\\00\\\\00b0d8f5ac.flac', 'd:\\\\nepali_notetaker_project\\\\nepali_notetaker_package\\\\DataSet\\\\asr_nepali_0\\\\asr_nepali\\\\data\\\\00\\\\00b151d284.flac', 'd:\\\\nepali_notetaker_project\\\\nepali_notetaker_package\\\\DataSet\\\\asr_nepali_0\\\\asr_nepali\\\\data\\\\00\\\\00b1d77c35.flac', 'd:\\\\nepali_notetaker_project\\\\nepali_notetaker_package\\\\DataSet\\\\asr_nepali_0\\\\asr_nepali\\\\data\\\\00\\\\00b2086e26.flac', 'd:\\\\nepali_notetaker_project\\\\nepali_notetaker_package\\\\DataSet\\\\asr_nepali_0\\\\asr_nepali\\\\data\\\\00\\\\00b237b81a.flac', 'd:\\\\nepali_notetaker_project\\\\nepali_notetaker_package\\\\DataSet\\\\asr_nepali_0\\\\asr_nepali\\\\data\\\\00\\\\00b274b107.flac', 'd:\\\\nepali_notetaker_project\\\\nepali_notetaker_package\\\\DataSet\\\\asr_nepali_0\\\\asr_nepali\\\\data\\\\00\\\\00b2a9bc64.flac', 'd:\\\\nepali_notetaker_project\\\\nepali_notetaker_package\\\\DataSet\\\\asr_nepali_0\\\\asr_nepali\\\\data\\\\00\\\\00b2ada74b.flac', 'd:\\\\nepali_notetaker_project\\\\nepali_notetaker_package\\\\DataSet\\\\asr_nepali_0\\\\asr_nepali\\\\data\\\\00\\\\00b316fa0b.flac', 'd:\\\\nepali_notetaker_project\\\\nepali_notetaker_package\\\\DataSet\\\\asr_nepali_0\\\\asr_nepali\\\\data\\\\00\\\\00b42b0a76.flac', 'd:\\\\nepali_notetaker_project\\\\nepali_notetaker_package\\\\DataSet\\\\asr_nepali_0\\\\asr_nepali\\\\data\\\\00\\\\00b4314120.flac', 'd:\\\\nepali_notetaker_project\\\\nepali_notetaker_package\\\\DataSet\\\\asr_nepali_0\\\\asr_nepali\\\\data\\\\00\\\\00b58764f4.flac', 'd:\\\\nepali_notetaker_project\\\\nepali_notetaker_package\\\\DataSet\\\\asr_nepali_0\\\\asr_nepali\\\\data\\\\00\\\\00b5c6734b.flac', 'd:\\\\nepali_notetaker_project\\\\nepali_notetaker_package\\\\DataSet\\\\asr_nepali_0\\\\asr_nepali\\\\data\\\\00\\\\00b6823b6e.flac', 'd:\\\\nepali_notetaker_project\\\\nepali_notetaker_package\\\\DataSet\\\\asr_nepali_0\\\\asr_nepali\\\\data\\\\00\\\\00b6900b3a.flac', 'd:\\\\nepali_notetaker_project\\\\nepali_notetaker_package\\\\DataSet\\\\asr_nepali_0\\\\asr_nepali\\\\data\\\\00\\\\00b6c139ed.flac', 'd:\\\\nepali_notetaker_project\\\\nepali_notetaker_package\\\\DataSet\\\\asr_nepali_0\\\\asr_nepali\\\\data\\\\00\\\\00b7073d6a.flac', 'd:\\\\nepali_notetaker_project\\\\nepali_notetaker_package\\\\DataSet\\\\asr_nepali_0\\\\asr_nepali\\\\data\\\\00\\\\00b731d07d.flac', 'd:\\\\nepali_notetaker_project\\\\nepali_notetaker_package\\\\DataSet\\\\asr_nepali_0\\\\asr_nepali\\\\data\\\\00\\\\00b7517bb8.flac', 'd:\\\\nepali_notetaker_project\\\\nepali_notetaker_package\\\\DataSet\\\\asr_nepali_0\\\\asr_nepali\\\\data\\\\00\\\\00b89c7bda.flac', 'd:\\\\nepali_notetaker_project\\\\nepali_notetaker_package\\\\DataSet\\\\asr_nepali_0\\\\asr_nepali\\\\data\\\\00\\\\00b8bf6312.flac', 'd:\\\\nepali_notetaker_project\\\\nepali_notetaker_package\\\\DataSet\\\\asr_nepali_0\\\\asr_nepali\\\\data\\\\00\\\\00b8d3ba57.flac', 'd:\\\\nepali_notetaker_project\\\\nepali_notetaker_package\\\\DataSet\\\\asr_nepali_0\\\\asr_nepali\\\\data\\\\00\\\\00b94d6ca5.flac', 'd:\\\\nepali_notetaker_project\\\\nepali_notetaker_package\\\\DataSet\\\\asr_nepali_0\\\\asr_nepali\\\\data\\\\00\\\\00b9c7d012.flac', 'd:\\\\nepali_notetaker_project\\\\nepali_notetaker_package\\\\DataSet\\\\asr_nepali_0\\\\asr_nepali\\\\data\\\\00\\\\00ba3c8620.flac', 'd:\\\\nepali_notetaker_project\\\\nepali_notetaker_package\\\\DataSet\\\\asr_nepali_0\\\\asr_nepali\\\\data\\\\00\\\\00ba7a800e.flac', 'd:\\\\nepali_notetaker_project\\\\nepali_notetaker_package\\\\DataSet\\\\asr_nepali_0\\\\asr_nepali\\\\data\\\\00\\\\00bcf71c72.flac', 'd:\\\\nepali_notetaker_project\\\\nepali_notetaker_package\\\\DataSet\\\\asr_nepali_0\\\\asr_nepali\\\\data\\\\00\\\\00bd0b375e.flac', 'd:\\\\nepali_notetaker_project\\\\nepali_notetaker_package\\\\DataSet\\\\asr_nepali_0\\\\asr_nepali\\\\data\\\\00\\\\00bdaacfc5.flac', 'd:\\\\nepali_notetaker_project\\\\nepali_notetaker_package\\\\DataSet\\\\asr_nepali_0\\\\asr_nepali\\\\data\\\\00\\\\00bdb3dfd8.flac', 'd:\\\\nepali_notetaker_project\\\\nepali_notetaker_package\\\\DataSet\\\\asr_nepali_0\\\\asr_nepali\\\\data\\\\00\\\\00bde165dc.flac', 'd:\\\\nepali_notetaker_project\\\\nepali_notetaker_package\\\\DataSet\\\\asr_nepali_0\\\\asr_nepali\\\\data\\\\00\\\\00be9fbd9c.flac', 'd:\\\\nepali_notetaker_project\\\\nepali_notetaker_package\\\\DataSet\\\\asr_nepali_0\\\\asr_nepali\\\\data\\\\00\\\\00bebc9408.flac', 'd:\\\\nepali_notetaker_project\\\\nepali_notetaker_package\\\\DataSet\\\\asr_nepali_0\\\\asr_nepali\\\\data\\\\00\\\\00bede9d9a.flac', 'd:\\\\nepali_notetaker_project\\\\nepali_notetaker_package\\\\DataSet\\\\asr_nepali_0\\\\asr_nepali\\\\data\\\\00\\\\00bf6adb87.flac', 'd:\\\\nepali_notetaker_project\\\\nepali_notetaker_package\\\\DataSet\\\\asr_nepali_0\\\\asr_nepali\\\\data\\\\00\\\\00bf94a59e.flac', 'd:\\\\nepali_notetaker_project\\\\nepali_notetaker_package\\\\DataSet\\\\asr_nepali_0\\\\asr_nepali\\\\data\\\\00\\\\00bfc01fdb.flac', 'd:\\\\nepali_notetaker_project\\\\nepali_notetaker_package\\\\DataSet\\\\asr_nepali_0\\\\asr_nepali\\\\data\\\\00\\\\00c04277b1.flac', 'd:\\\\nepali_notetaker_project\\\\nepali_notetaker_package\\\\DataSet\\\\asr_nepali_0\\\\asr_nepali\\\\data\\\\00\\\\00c0636c06.flac', 'd:\\\\nepali_notetaker_project\\\\nepali_notetaker_package\\\\DataSet\\\\asr_nepali_0\\\\asr_nepali\\\\data\\\\00\\\\00c0a071b3.flac', 'd:\\\\nepali_notetaker_project\\\\nepali_notetaker_package\\\\DataSet\\\\asr_nepali_0\\\\asr_nepali\\\\data\\\\00\\\\00c0c971bf.flac', 'd:\\\\nepali_notetaker_project\\\\nepali_notetaker_package\\\\DataSet\\\\asr_nepali_0\\\\asr_nepali\\\\data\\\\00\\\\00c10087a4.flac', 'd:\\\\nepali_notetaker_project\\\\nepali_notetaker_package\\\\DataSet\\\\asr_nepali_0\\\\asr_nepali\\\\data\\\\00\\\\00c17c5c23.flac', 'd:\\\\nepali_notetaker_project\\\\nepali_notetaker_package\\\\DataSet\\\\asr_nepali_0\\\\asr_nepali\\\\data\\\\00\\\\00c18ff7fa.flac', 'd:\\\\nepali_notetaker_project\\\\nepali_notetaker_package\\\\DataSet\\\\asr_nepali_0\\\\asr_nepali\\\\data\\\\00\\\\00c1b6e161.flac', 'd:\\\\nepali_notetaker_project\\\\nepali_notetaker_package\\\\DataSet\\\\asr_nepali_0\\\\asr_nepali\\\\data\\\\00\\\\00c1f09f03.flac', 'd:\\\\nepali_notetaker_project\\\\nepali_notetaker_package\\\\DataSet\\\\asr_nepali_0\\\\asr_nepali\\\\data\\\\00\\\\00c25a5a0e.flac', 'd:\\\\nepali_notetaker_project\\\\nepali_notetaker_package\\\\DataSet\\\\asr_nepali_0\\\\asr_nepali\\\\data\\\\00\\\\00c2bb188d.flac', 'd:\\\\nepali_notetaker_project\\\\nepali_notetaker_package\\\\DataSet\\\\asr_nepali_0\\\\asr_nepali\\\\data\\\\00\\\\00c32efedc.flac', 'd:\\\\nepali_notetaker_project\\\\nepali_notetaker_package\\\\DataSet\\\\asr_nepali_0\\\\asr_nepali\\\\data\\\\00\\\\00c3495e71.flac', 'd:\\\\nepali_notetaker_project\\\\nepali_notetaker_package\\\\DataSet\\\\asr_nepali_0\\\\asr_nepali\\\\data\\\\00\\\\00c3a80db0.flac', 'd:\\\\nepali_notetaker_project\\\\nepali_notetaker_package\\\\DataSet\\\\asr_nepali_0\\\\asr_nepali\\\\data\\\\00\\\\00c3e8a5d8.flac', 'd:\\\\nepali_notetaker_project\\\\nepali_notetaker_package\\\\DataSet\\\\asr_nepali_0\\\\asr_nepali\\\\data\\\\00\\\\00c6cd4fae.flac', 'd:\\\\nepali_notetaker_project\\\\nepali_notetaker_package\\\\DataSet\\\\asr_nepali_0\\\\asr_nepali\\\\data\\\\00\\\\00c7a5d936.flac', 'd:\\\\nepali_notetaker_project\\\\nepali_notetaker_package\\\\DataSet\\\\asr_nepali_0\\\\asr_nepali\\\\data\\\\00\\\\00c83021a4.flac', 'd:\\\\nepali_notetaker_project\\\\nepali_notetaker_package\\\\DataSet\\\\asr_nepali_0\\\\asr_nepali\\\\data\\\\00\\\\00c84c863f.flac', 'd:\\\\nepali_notetaker_project\\\\nepali_notetaker_package\\\\DataSet\\\\asr_nepali_0\\\\asr_nepali\\\\data\\\\00\\\\00c8f14b58.flac', 'd:\\\\nepali_notetaker_project\\\\nepali_notetaker_package\\\\DataSet\\\\asr_nepali_0\\\\asr_nepali\\\\data\\\\00\\\\00c9a59656.flac', 'd:\\\\nepali_notetaker_project\\\\nepali_notetaker_package\\\\DataSet\\\\asr_nepali_0\\\\asr_nepali\\\\data\\\\00\\\\00ca272d79.flac', 'd:\\\\nepali_notetaker_project\\\\nepali_notetaker_package\\\\DataSet\\\\asr_nepali_0\\\\asr_nepali\\\\data\\\\00\\\\00ca28c959.flac', 'd:\\\\nepali_notetaker_project\\\\nepali_notetaker_package\\\\DataSet\\\\asr_nepali_0\\\\asr_nepali\\\\data\\\\00\\\\00ca827157.flac', 'd:\\\\nepali_notetaker_project\\\\nepali_notetaker_package\\\\DataSet\\\\asr_nepali_0\\\\asr_nepali\\\\data\\\\00\\\\00ca948d62.flac', 'd:\\\\nepali_notetaker_project\\\\nepali_notetaker_package\\\\DataSet\\\\asr_nepali_0\\\\asr_nepali\\\\data\\\\00\\\\00cb3ba0f6.flac', 'd:\\\\nepali_notetaker_project\\\\nepali_notetaker_package\\\\DataSet\\\\asr_nepali_0\\\\asr_nepali\\\\data\\\\00\\\\00cb68c79a.flac', 'd:\\\\nepali_notetaker_project\\\\nepali_notetaker_package\\\\DataSet\\\\asr_nepali_0\\\\asr_nepali\\\\data\\\\00\\\\00cb9139c3.flac', 'd:\\\\nepali_notetaker_project\\\\nepali_notetaker_package\\\\DataSet\\\\asr_nepali_0\\\\asr_nepali\\\\data\\\\00\\\\00cb99c8e0.flac', 'd:\\\\nepali_notetaker_project\\\\nepali_notetaker_package\\\\DataSet\\\\asr_nepali_0\\\\asr_nepali\\\\data\\\\00\\\\00cbc54756.flac', 'd:\\\\nepali_notetaker_project\\\\nepali_notetaker_package\\\\DataSet\\\\asr_nepali_0\\\\asr_nepali\\\\data\\\\00\\\\00cc6c5240.flac', 'd:\\\\nepali_notetaker_project\\\\nepali_notetaker_package\\\\DataSet\\\\asr_nepali_0\\\\asr_nepali\\\\data\\\\00\\\\00cc8a28f5.flac', 'd:\\\\nepali_notetaker_project\\\\nepali_notetaker_package\\\\DataSet\\\\asr_nepali_0\\\\asr_nepali\\\\data\\\\00\\\\00cce0b7f1.flac', 'd:\\\\nepali_notetaker_project\\\\nepali_notetaker_package\\\\DataSet\\\\asr_nepali_0\\\\asr_nepali\\\\data\\\\00\\\\00ce67e6b3.flac', 'd:\\\\nepali_notetaker_project\\\\nepali_notetaker_package\\\\DataSet\\\\asr_nepali_0\\\\asr_nepali\\\\data\\\\00\\\\00ce831132.flac', 'd:\\\\nepali_notetaker_project\\\\nepali_notetaker_package\\\\DataSet\\\\asr_nepali_0\\\\asr_nepali\\\\data\\\\00\\\\00ceed2707.flac', 'd:\\\\nepali_notetaker_project\\\\nepali_notetaker_package\\\\DataSet\\\\asr_nepali_0\\\\asr_nepali\\\\data\\\\00\\\\00cefd8928.flac', 'd:\\\\nepali_notetaker_project\\\\nepali_notetaker_package\\\\DataSet\\\\asr_nepali_0\\\\asr_nepali\\\\data\\\\00\\\\00cf0bb7fc.flac', 'd:\\\\nepali_notetaker_project\\\\nepali_notetaker_package\\\\DataSet\\\\asr_nepali_0\\\\asr_nepali\\\\data\\\\00\\\\00cf9c46ac.flac', 'd:\\\\nepali_notetaker_project\\\\nepali_notetaker_package\\\\DataSet\\\\asr_nepali_0\\\\asr_nepali\\\\data\\\\00\\\\00cfbad117.flac', 'd:\\\\nepali_notetaker_project\\\\nepali_notetaker_package\\\\DataSet\\\\asr_nepali_0\\\\asr_nepali\\\\data\\\\00\\\\00d0a22a35.flac', 'd:\\\\nepali_notetaker_project\\\\nepali_notetaker_package\\\\DataSet\\\\asr_nepali_0\\\\asr_nepali\\\\data\\\\00\\\\00d12d9a2c.flac', 'd:\\\\nepali_notetaker_project\\\\nepali_notetaker_package\\\\DataSet\\\\asr_nepali_0\\\\asr_nepali\\\\data\\\\00\\\\00d17816ad.flac', 'd:\\\\nepali_notetaker_project\\\\nepali_notetaker_package\\\\DataSet\\\\asr_nepali_0\\\\asr_nepali\\\\data\\\\00\\\\00d1f92026.flac', 'd:\\\\nepali_notetaker_project\\\\nepali_notetaker_package\\\\DataSet\\\\asr_nepali_0\\\\asr_nepali\\\\data\\\\00\\\\00d2238242.flac', 'd:\\\\nepali_notetaker_project\\\\nepali_notetaker_package\\\\DataSet\\\\asr_nepali_0\\\\asr_nepali\\\\data\\\\00\\\\00d2626c0d.flac', 'd:\\\\nepali_notetaker_project\\\\nepali_notetaker_package\\\\DataSet\\\\asr_nepali_0\\\\asr_nepali\\\\data\\\\00\\\\00d28aedff.flac', 'd:\\\\nepali_notetaker_project\\\\nepali_notetaker_package\\\\DataSet\\\\asr_nepali_0\\\\asr_nepali\\\\data\\\\00\\\\00d2c6cac2.flac', 'd:\\\\nepali_notetaker_project\\\\nepali_notetaker_package\\\\DataSet\\\\asr_nepali_0\\\\asr_nepali\\\\data\\\\00\\\\00d31e9682.flac', 'd:\\\\nepali_notetaker_project\\\\nepali_notetaker_package\\\\DataSet\\\\asr_nepali_0\\\\asr_nepali\\\\data\\\\00\\\\00d35c6835.flac', 'd:\\\\nepali_notetaker_project\\\\nepali_notetaker_package\\\\DataSet\\\\asr_nepali_0\\\\asr_nepali\\\\data\\\\00\\\\00d40617b5.flac', 'd:\\\\nepali_notetaker_project\\\\nepali_notetaker_package\\\\DataSet\\\\asr_nepali_0\\\\asr_nepali\\\\data\\\\00\\\\00d54b3cf2.flac', 'd:\\\\nepali_notetaker_project\\\\nepali_notetaker_package\\\\DataSet\\\\asr_nepali_0\\\\asr_nepali\\\\data\\\\00\\\\00d54bbd2d.flac', 'd:\\\\nepali_notetaker_project\\\\nepali_notetaker_package\\\\DataSet\\\\asr_nepali_0\\\\asr_nepali\\\\data\\\\00\\\\00d5d7d93f.flac', 'd:\\\\nepali_notetaker_project\\\\nepali_notetaker_package\\\\DataSet\\\\asr_nepali_0\\\\asr_nepali\\\\data\\\\00\\\\00d5d9a337.flac', 'd:\\\\nepali_notetaker_project\\\\nepali_notetaker_package\\\\DataSet\\\\asr_nepali_0\\\\asr_nepali\\\\data\\\\00\\\\00d5e69e88.flac', 'd:\\\\nepali_notetaker_project\\\\nepali_notetaker_package\\\\DataSet\\\\asr_nepali_0\\\\asr_nepali\\\\data\\\\00\\\\00d614aa66.flac', 'd:\\\\nepali_notetaker_project\\\\nepali_notetaker_package\\\\DataSet\\\\asr_nepali_0\\\\asr_nepali\\\\data\\\\00\\\\00d69b125c.flac', 'd:\\\\nepali_notetaker_project\\\\nepali_notetaker_package\\\\DataSet\\\\asr_nepali_0\\\\asr_nepali\\\\data\\\\00\\\\00d7b54ba0.flac', 'd:\\\\nepali_notetaker_project\\\\nepali_notetaker_package\\\\DataSet\\\\asr_nepali_0\\\\asr_nepali\\\\data\\\\00\\\\00d83e15f9.flac', 'd:\\\\nepali_notetaker_project\\\\nepali_notetaker_package\\\\DataSet\\\\asr_nepali_0\\\\asr_nepali\\\\data\\\\00\\\\00db5eaafb.flac', 'd:\\\\nepali_notetaker_project\\\\nepali_notetaker_package\\\\DataSet\\\\asr_nepali_0\\\\asr_nepali\\\\data\\\\00\\\\00dbbdaa2c.flac', 'd:\\\\nepali_notetaker_project\\\\nepali_notetaker_package\\\\DataSet\\\\asr_nepali_0\\\\asr_nepali\\\\data\\\\00\\\\00dbe6c5c9.flac', 'd:\\\\nepali_notetaker_project\\\\nepali_notetaker_package\\\\DataSet\\\\asr_nepali_0\\\\asr_nepali\\\\data\\\\00\\\\00dc7d989c.flac', 'd:\\\\nepali_notetaker_project\\\\nepali_notetaker_package\\\\DataSet\\\\asr_nepali_0\\\\asr_nepali\\\\data\\\\00\\\\00dcd01745.flac', 'd:\\\\nepali_notetaker_project\\\\nepali_notetaker_package\\\\DataSet\\\\asr_nepali_0\\\\asr_nepali\\\\data\\\\00\\\\00dd2da8d0.flac', 'd:\\\\nepali_notetaker_project\\\\nepali_notetaker_package\\\\DataSet\\\\asr_nepali_0\\\\asr_nepali\\\\data\\\\00\\\\00dd2e0a8c.flac', 'd:\\\\nepali_notetaker_project\\\\nepali_notetaker_package\\\\DataSet\\\\asr_nepali_0\\\\asr_nepali\\\\data\\\\00\\\\00ddd2113d.flac', 'd:\\\\nepali_notetaker_project\\\\nepali_notetaker_package\\\\DataSet\\\\asr_nepali_0\\\\asr_nepali\\\\data\\\\00\\\\00df1b4b51.flac', 'd:\\\\nepali_notetaker_project\\\\nepali_notetaker_package\\\\DataSet\\\\asr_nepali_0\\\\asr_nepali\\\\data\\\\00\\\\00df231fe9.flac', 'd:\\\\nepali_notetaker_project\\\\nepali_notetaker_package\\\\DataSet\\\\asr_nepali_0\\\\asr_nepali\\\\data\\\\00\\\\00e0830d1b.flac', 'd:\\\\nepali_notetaker_project\\\\nepali_notetaker_package\\\\DataSet\\\\asr_nepali_0\\\\asr_nepali\\\\data\\\\00\\\\00e1b52ea5.flac', 'd:\\\\nepali_notetaker_project\\\\nepali_notetaker_package\\\\DataSet\\\\asr_nepali_0\\\\asr_nepali\\\\data\\\\00\\\\00e1e3afa9.flac', 'd:\\\\nepali_notetaker_project\\\\nepali_notetaker_package\\\\DataSet\\\\asr_nepali_0\\\\asr_nepali\\\\data\\\\00\\\\00e2417c7d.flac', 'd:\\\\nepali_notetaker_project\\\\nepali_notetaker_package\\\\DataSet\\\\asr_nepali_0\\\\asr_nepali\\\\data\\\\00\\\\00e278496e.flac', 'd:\\\\nepali_notetaker_project\\\\nepali_notetaker_package\\\\DataSet\\\\asr_nepali_0\\\\asr_nepali\\\\data\\\\00\\\\00e304bbaa.flac', 'd:\\\\nepali_notetaker_project\\\\nepali_notetaker_package\\\\DataSet\\\\asr_nepali_0\\\\asr_nepali\\\\data\\\\00\\\\00e32bf36d.flac', 'd:\\\\nepali_notetaker_project\\\\nepali_notetaker_package\\\\DataSet\\\\asr_nepali_0\\\\asr_nepali\\\\data\\\\00\\\\00e3c9161d.flac', 'd:\\\\nepali_notetaker_project\\\\nepali_notetaker_package\\\\DataSet\\\\asr_nepali_0\\\\asr_nepali\\\\data\\\\00\\\\00e5cb134a.flac', 'd:\\\\nepali_notetaker_project\\\\nepali_notetaker_package\\\\DataSet\\\\asr_nepali_0\\\\asr_nepali\\\\data\\\\00\\\\00e60b6169.flac', 'd:\\\\nepali_notetaker_project\\\\nepali_notetaker_package\\\\DataSet\\\\asr_nepali_0\\\\asr_nepali\\\\data\\\\00\\\\00e6514d17.flac', 'd:\\\\nepali_notetaker_project\\\\nepali_notetaker_package\\\\DataSet\\\\asr_nepali_0\\\\asr_nepali\\\\data\\\\00\\\\00e667f470.flac', 'd:\\\\nepali_notetaker_project\\\\nepali_notetaker_package\\\\DataSet\\\\asr_nepali_0\\\\asr_nepali\\\\data\\\\00\\\\00e6eda823.flac', 'd:\\\\nepali_notetaker_project\\\\nepali_notetaker_package\\\\DataSet\\\\asr_nepali_0\\\\asr_nepali\\\\data\\\\00\\\\00e6fddaf4.flac', 'd:\\\\nepali_notetaker_project\\\\nepali_notetaker_package\\\\DataSet\\\\asr_nepali_0\\\\asr_nepali\\\\data\\\\00\\\\00e7d4782f.flac', 'd:\\\\nepali_notetaker_project\\\\nepali_notetaker_package\\\\DataSet\\\\asr_nepali_0\\\\asr_nepali\\\\data\\\\00\\\\00e7e78e58.flac', 'd:\\\\nepali_notetaker_project\\\\nepali_notetaker_package\\\\DataSet\\\\asr_nepali_0\\\\asr_nepali\\\\data\\\\00\\\\00e82d8fa1.flac', 'd:\\\\nepali_notetaker_project\\\\nepali_notetaker_package\\\\DataSet\\\\asr_nepali_0\\\\asr_nepali\\\\data\\\\00\\\\00e840f66d.flac', 'd:\\\\nepali_notetaker_project\\\\nepali_notetaker_package\\\\DataSet\\\\asr_nepali_0\\\\asr_nepali\\\\data\\\\00\\\\00e84f7844.flac', 'd:\\\\nepali_notetaker_project\\\\nepali_notetaker_package\\\\DataSet\\\\asr_nepali_0\\\\asr_nepali\\\\data\\\\00\\\\00e89ee833.flac', 'd:\\\\nepali_notetaker_project\\\\nepali_notetaker_package\\\\DataSet\\\\asr_nepali_0\\\\asr_nepali\\\\data\\\\00\\\\00e97d64b2.flac', 'd:\\\\nepali_notetaker_project\\\\nepali_notetaker_package\\\\DataSet\\\\asr_nepali_0\\\\asr_nepali\\\\data\\\\00\\\\00ea992db8.flac', 'd:\\\\nepali_notetaker_project\\\\nepali_notetaker_package\\\\DataSet\\\\asr_nepali_0\\\\asr_nepali\\\\data\\\\00\\\\00ea995040.flac', 'd:\\\\nepali_notetaker_project\\\\nepali_notetaker_package\\\\DataSet\\\\asr_nepali_0\\\\asr_nepali\\\\data\\\\00\\\\00eab0a931.flac', 'd:\\\\nepali_notetaker_project\\\\nepali_notetaker_package\\\\DataSet\\\\asr_nepali_0\\\\asr_nepali\\\\data\\\\00\\\\00ec1daed1.flac', 'd:\\\\nepali_notetaker_project\\\\nepali_notetaker_package\\\\DataSet\\\\asr_nepali_0\\\\asr_nepali\\\\data\\\\00\\\\00ec8bbb48.flac', 'd:\\\\nepali_notetaker_project\\\\nepali_notetaker_package\\\\DataSet\\\\asr_nepali_0\\\\asr_nepali\\\\data\\\\00\\\\00ed0ea70b.flac', 'd:\\\\nepali_notetaker_project\\\\nepali_notetaker_package\\\\DataSet\\\\asr_nepali_0\\\\asr_nepali\\\\data\\\\00\\\\00edf97576.flac', 'd:\\\\nepali_notetaker_project\\\\nepali_notetaker_package\\\\DataSet\\\\asr_nepali_0\\\\asr_nepali\\\\data\\\\00\\\\00ee752d8d.flac', 'd:\\\\nepali_notetaker_project\\\\nepali_notetaker_package\\\\DataSet\\\\asr_nepali_0\\\\asr_nepali\\\\data\\\\00\\\\00ee96117b.flac', 'd:\\\\nepali_notetaker_project\\\\nepali_notetaker_package\\\\DataSet\\\\asr_nepali_0\\\\asr_nepali\\\\data\\\\00\\\\00f0069f07.flac', 'd:\\\\nepali_notetaker_project\\\\nepali_notetaker_package\\\\DataSet\\\\asr_nepali_0\\\\asr_nepali\\\\data\\\\00\\\\00f010167f.flac', 'd:\\\\nepali_notetaker_project\\\\nepali_notetaker_package\\\\DataSet\\\\asr_nepali_0\\\\asr_nepali\\\\data\\\\00\\\\00f0d2d1ed.flac', 'd:\\\\nepali_notetaker_project\\\\nepali_notetaker_package\\\\DataSet\\\\asr_nepali_0\\\\asr_nepali\\\\data\\\\00\\\\00f146a59a.flac', 'd:\\\\nepali_notetaker_project\\\\nepali_notetaker_package\\\\DataSet\\\\asr_nepali_0\\\\asr_nepali\\\\data\\\\00\\\\00f173b391.flac', 'd:\\\\nepali_notetaker_project\\\\nepali_notetaker_package\\\\DataSet\\\\asr_nepali_0\\\\asr_nepali\\\\data\\\\00\\\\00f2d950d2.flac', 'd:\\\\nepali_notetaker_project\\\\nepali_notetaker_package\\\\DataSet\\\\asr_nepali_0\\\\asr_nepali\\\\data\\\\00\\\\00f3119720.flac', 'd:\\\\nepali_notetaker_project\\\\nepali_notetaker_package\\\\DataSet\\\\asr_nepali_0\\\\asr_nepali\\\\data\\\\00\\\\00f377d517.flac', 'd:\\\\nepali_notetaker_project\\\\nepali_notetaker_package\\\\DataSet\\\\asr_nepali_0\\\\asr_nepali\\\\data\\\\00\\\\00f40f5440.flac', 'd:\\\\nepali_notetaker_project\\\\nepali_notetaker_package\\\\DataSet\\\\asr_nepali_0\\\\asr_nepali\\\\data\\\\00\\\\00f47c7023.flac', 'd:\\\\nepali_notetaker_project\\\\nepali_notetaker_package\\\\DataSet\\\\asr_nepali_0\\\\asr_nepali\\\\data\\\\00\\\\00f4abf44d.flac', 'd:\\\\nepali_notetaker_project\\\\nepali_notetaker_package\\\\DataSet\\\\asr_nepali_0\\\\asr_nepali\\\\data\\\\00\\\\00f4ace3cf.flac', 'd:\\\\nepali_notetaker_project\\\\nepali_notetaker_package\\\\DataSet\\\\asr_nepali_0\\\\asr_nepali\\\\data\\\\00\\\\00f5e8eecd.flac', 'd:\\\\nepali_notetaker_project\\\\nepali_notetaker_package\\\\DataSet\\\\asr_nepali_0\\\\asr_nepali\\\\data\\\\00\\\\00f6650270.flac', 'd:\\\\nepali_notetaker_project\\\\nepali_notetaker_package\\\\DataSet\\\\asr_nepali_0\\\\asr_nepali\\\\data\\\\00\\\\00f7b42746.flac', 'd:\\\\nepali_notetaker_project\\\\nepali_notetaker_package\\\\DataSet\\\\asr_nepali_0\\\\asr_nepali\\\\data\\\\00\\\\00f810e052.flac', 'd:\\\\nepali_notetaker_project\\\\nepali_notetaker_package\\\\DataSet\\\\asr_nepali_0\\\\asr_nepali\\\\data\\\\00\\\\00f8167c06.flac', 'd:\\\\nepali_notetaker_project\\\\nepali_notetaker_package\\\\DataSet\\\\asr_nepali_0\\\\asr_nepali\\\\data\\\\00\\\\00f967ce9b.flac', 'd:\\\\nepali_notetaker_project\\\\nepali_notetaker_package\\\\DataSet\\\\asr_nepali_0\\\\asr_nepali\\\\data\\\\00\\\\00f9d2ea47.flac', 'd:\\\\nepali_notetaker_project\\\\nepali_notetaker_package\\\\DataSet\\\\asr_nepali_0\\\\asr_nepali\\\\data\\\\00\\\\00fa172c5b.flac', 'd:\\\\nepali_notetaker_project\\\\nepali_notetaker_package\\\\DataSet\\\\asr_nepali_0\\\\asr_nepali\\\\data\\\\00\\\\00fa61e587.flac', 'd:\\\\nepali_notetaker_project\\\\nepali_notetaker_package\\\\DataSet\\\\asr_nepali_0\\\\asr_nepali\\\\data\\\\00\\\\00fb65beee.flac', 'd:\\\\nepali_notetaker_project\\\\nepali_notetaker_package\\\\DataSet\\\\asr_nepali_0\\\\asr_nepali\\\\data\\\\00\\\\00fbda997e.flac', 'd:\\\\nepali_notetaker_project\\\\nepali_notetaker_package\\\\DataSet\\\\asr_nepali_0\\\\asr_nepali\\\\data\\\\00\\\\00fbe1e62a.flac', 'd:\\\\nepali_notetaker_project\\\\nepali_notetaker_package\\\\DataSet\\\\asr_nepali_0\\\\asr_nepali\\\\data\\\\00\\\\00fc408124.flac', 'd:\\\\nepali_notetaker_project\\\\nepali_notetaker_package\\\\DataSet\\\\asr_nepali_0\\\\asr_nepali\\\\data\\\\00\\\\00fd5ba5b7.flac', 'd:\\\\nepali_notetaker_project\\\\nepali_notetaker_package\\\\DataSet\\\\asr_nepali_0\\\\asr_nepali\\\\data\\\\00\\\\00fd5f19fb.flac', 'd:\\\\nepali_notetaker_project\\\\nepali_notetaker_package\\\\DataSet\\\\asr_nepali_0\\\\asr_nepali\\\\data\\\\00\\\\00fd65f638.flac', 'd:\\\\nepali_notetaker_project\\\\nepali_notetaker_package\\\\DataSet\\\\asr_nepali_0\\\\asr_nepali\\\\data\\\\00\\\\00fd703cf5.flac', 'd:\\\\nepali_notetaker_project\\\\nepali_notetaker_package\\\\DataSet\\\\asr_nepali_0\\\\asr_nepali\\\\data\\\\00\\\\00fd707ab9.flac', 'd:\\\\nepali_notetaker_project\\\\nepali_notetaker_package\\\\DataSet\\\\asr_nepali_0\\\\asr_nepali\\\\data\\\\00\\\\00fd896136.flac', 'd:\\\\nepali_notetaker_project\\\\nepali_notetaker_package\\\\DataSet\\\\asr_nepali_0\\\\asr_nepali\\\\data\\\\00\\\\00fdad27d6.flac', 'd:\\\\nepali_notetaker_project\\\\nepali_notetaker_package\\\\DataSet\\\\asr_nepali_0\\\\asr_nepali\\\\data\\\\00\\\\00ff4905bb.flac', 'd:\\\\nepali_notetaker_project\\\\nepali_notetaker_package\\\\DataSet\\\\asr_nepali_0\\\\asr_nepali\\\\data\\\\00\\\\00ffcffc98.flac']\n",
      "{'0000c0f43b': 'd:\\\\nepali_notetaker_project\\\\nepali_notetaker_package\\\\DataSet\\\\asr_nepali_0\\\\asr_nepali\\\\data\\\\00\\\\0000c0f43b.flac', '00014b6780': 'd:\\\\nepali_notetaker_project\\\\nepali_notetaker_package\\\\DataSet\\\\asr_nepali_0\\\\asr_nepali\\\\data\\\\00\\\\00014b6780.flac', '0001b0e4b4': 'd:\\\\nepali_notetaker_project\\\\nepali_notetaker_package\\\\DataSet\\\\asr_nepali_0\\\\asr_nepali\\\\data\\\\00\\\\0001b0e4b4.flac', '0001cf394a': 'd:\\\\nepali_notetaker_project\\\\nepali_notetaker_package\\\\DataSet\\\\asr_nepali_0\\\\asr_nepali\\\\data\\\\00\\\\0001cf394a.flac', '00024e9ee7': 'd:\\\\nepali_notetaker_project\\\\nepali_notetaker_package\\\\DataSet\\\\asr_nepali_0\\\\asr_nepali\\\\data\\\\00\\\\00024e9ee7.flac', '0002f96e3e': 'd:\\\\nepali_notetaker_project\\\\nepali_notetaker_package\\\\DataSet\\\\asr_nepali_0\\\\asr_nepali\\\\data\\\\00\\\\0002f96e3e.flac', '00033e7a6c': 'd:\\\\nepali_notetaker_project\\\\nepali_notetaker_package\\\\DataSet\\\\asr_nepali_0\\\\asr_nepali\\\\data\\\\00\\\\00033e7a6c.flac', '0003991b47': 'd:\\\\nepali_notetaker_project\\\\nepali_notetaker_package\\\\DataSet\\\\asr_nepali_0\\\\asr_nepali\\\\data\\\\00\\\\0003991b47.flac', '000414cbb9': 'd:\\\\nepali_notetaker_project\\\\nepali_notetaker_package\\\\DataSet\\\\asr_nepali_0\\\\asr_nepali\\\\data\\\\00\\\\000414cbb9.flac', '00045ee2e0': 'd:\\\\nepali_notetaker_project\\\\nepali_notetaker_package\\\\DataSet\\\\asr_nepali_0\\\\asr_nepali\\\\data\\\\00\\\\00045ee2e0.flac', '0004a4f6e2': 'd:\\\\nepali_notetaker_project\\\\nepali_notetaker_package\\\\DataSet\\\\asr_nepali_0\\\\asr_nepali\\\\data\\\\00\\\\0004a4f6e2.flac', '000515a639': 'd:\\\\nepali_notetaker_project\\\\nepali_notetaker_package\\\\DataSet\\\\asr_nepali_0\\\\asr_nepali\\\\data\\\\00\\\\000515a639.flac', '0005b1aae1': 'd:\\\\nepali_notetaker_project\\\\nepali_notetaker_package\\\\DataSet\\\\asr_nepali_0\\\\asr_nepali\\\\data\\\\00\\\\0005b1aae1.flac', '00061584d8': 'd:\\\\nepali_notetaker_project\\\\nepali_notetaker_package\\\\DataSet\\\\asr_nepali_0\\\\asr_nepali\\\\data\\\\00\\\\00061584d8.flac', '00062958ef': 'd:\\\\nepali_notetaker_project\\\\nepali_notetaker_package\\\\DataSet\\\\asr_nepali_0\\\\asr_nepali\\\\data\\\\00\\\\00062958ef.flac', '00064ab0f0': 'd:\\\\nepali_notetaker_project\\\\nepali_notetaker_package\\\\DataSet\\\\asr_nepali_0\\\\asr_nepali\\\\data\\\\00\\\\00064ab0f0.flac', '00064cff78': 'd:\\\\nepali_notetaker_project\\\\nepali_notetaker_package\\\\DataSet\\\\asr_nepali_0\\\\asr_nepali\\\\data\\\\00\\\\00064cff78.flac', '00083ac4d8': 'd:\\\\nepali_notetaker_project\\\\nepali_notetaker_package\\\\DataSet\\\\asr_nepali_0\\\\asr_nepali\\\\data\\\\00\\\\00083ac4d8.flac', '0008fd3262': 'd:\\\\nepali_notetaker_project\\\\nepali_notetaker_package\\\\DataSet\\\\asr_nepali_0\\\\asr_nepali\\\\data\\\\00\\\\0008fd3262.flac', '00097747cd': 'd:\\\\nepali_notetaker_project\\\\nepali_notetaker_package\\\\DataSet\\\\asr_nepali_0\\\\asr_nepali\\\\data\\\\00\\\\00097747cd.flac', '0009e14baa': 'd:\\\\nepali_notetaker_project\\\\nepali_notetaker_package\\\\DataSet\\\\asr_nepali_0\\\\asr_nepali\\\\data\\\\00\\\\0009e14baa.flac', '000a0be2c6': 'd:\\\\nepali_notetaker_project\\\\nepali_notetaker_package\\\\DataSet\\\\asr_nepali_0\\\\asr_nepali\\\\data\\\\00\\\\000a0be2c6.flac', '000a660d92': 'd:\\\\nepali_notetaker_project\\\\nepali_notetaker_package\\\\DataSet\\\\asr_nepali_0\\\\asr_nepali\\\\data\\\\00\\\\000a660d92.flac', '000a7465af': 'd:\\\\nepali_notetaker_project\\\\nepali_notetaker_package\\\\DataSet\\\\asr_nepali_0\\\\asr_nepali\\\\data\\\\00\\\\000a7465af.flac', '000b463c49': 'd:\\\\nepali_notetaker_project\\\\nepali_notetaker_package\\\\DataSet\\\\asr_nepali_0\\\\asr_nepali\\\\data\\\\00\\\\000b463c49.flac', '000db1717c': 'd:\\\\nepali_notetaker_project\\\\nepali_notetaker_package\\\\DataSet\\\\asr_nepali_0\\\\asr_nepali\\\\data\\\\00\\\\000db1717c.flac', '000dedf722': 'd:\\\\nepali_notetaker_project\\\\nepali_notetaker_package\\\\DataSet\\\\asr_nepali_0\\\\asr_nepali\\\\data\\\\00\\\\000dedf722.flac', '000f91b35e': 'd:\\\\nepali_notetaker_project\\\\nepali_notetaker_package\\\\DataSet\\\\asr_nepali_0\\\\asr_nepali\\\\data\\\\00\\\\000f91b35e.flac', '001055632c': 'd:\\\\nepali_notetaker_project\\\\nepali_notetaker_package\\\\DataSet\\\\asr_nepali_0\\\\asr_nepali\\\\data\\\\00\\\\001055632c.flac', '0010c24b61': 'd:\\\\nepali_notetaker_project\\\\nepali_notetaker_package\\\\DataSet\\\\asr_nepali_0\\\\asr_nepali\\\\data\\\\00\\\\0010c24b61.flac', '001167389e': 'd:\\\\nepali_notetaker_project\\\\nepali_notetaker_package\\\\DataSet\\\\asr_nepali_0\\\\asr_nepali\\\\data\\\\00\\\\001167389e.flac', '0012875eae': 'd:\\\\nepali_notetaker_project\\\\nepali_notetaker_package\\\\DataSet\\\\asr_nepali_0\\\\asr_nepali\\\\data\\\\00\\\\0012875eae.flac', '0013095d41': 'd:\\\\nepali_notetaker_project\\\\nepali_notetaker_package\\\\DataSet\\\\asr_nepali_0\\\\asr_nepali\\\\data\\\\00\\\\0013095d41.flac', '00133a9876': 'd:\\\\nepali_notetaker_project\\\\nepali_notetaker_package\\\\DataSet\\\\asr_nepali_0\\\\asr_nepali\\\\data\\\\00\\\\00133a9876.flac', '00139ba3d9': 'd:\\\\nepali_notetaker_project\\\\nepali_notetaker_package\\\\DataSet\\\\asr_nepali_0\\\\asr_nepali\\\\data\\\\00\\\\00139ba3d9.flac', '0013bfeda1': 'd:\\\\nepali_notetaker_project\\\\nepali_notetaker_package\\\\DataSet\\\\asr_nepali_0\\\\asr_nepali\\\\data\\\\00\\\\0013bfeda1.flac', '00149e90a4': 'd:\\\\nepali_notetaker_project\\\\nepali_notetaker_package\\\\DataSet\\\\asr_nepali_0\\\\asr_nepali\\\\data\\\\00\\\\00149e90a4.flac', '0014d0488b': 'd:\\\\nepali_notetaker_project\\\\nepali_notetaker_package\\\\DataSet\\\\asr_nepali_0\\\\asr_nepali\\\\data\\\\00\\\\0014d0488b.flac', '0014d70fca': 'd:\\\\nepali_notetaker_project\\\\nepali_notetaker_package\\\\DataSet\\\\asr_nepali_0\\\\asr_nepali\\\\data\\\\00\\\\0014d70fca.flac', '0014e261ff': 'd:\\\\nepali_notetaker_project\\\\nepali_notetaker_package\\\\DataSet\\\\asr_nepali_0\\\\asr_nepali\\\\data\\\\00\\\\0014e261ff.flac', '00157312d0': 'd:\\\\nepali_notetaker_project\\\\nepali_notetaker_package\\\\DataSet\\\\asr_nepali_0\\\\asr_nepali\\\\data\\\\00\\\\00157312d0.flac', '001573a8c1': 'd:\\\\nepali_notetaker_project\\\\nepali_notetaker_package\\\\DataSet\\\\asr_nepali_0\\\\asr_nepali\\\\data\\\\00\\\\001573a8c1.flac', '001625cc1d': 'd:\\\\nepali_notetaker_project\\\\nepali_notetaker_package\\\\DataSet\\\\asr_nepali_0\\\\asr_nepali\\\\data\\\\00\\\\001625cc1d.flac', '00163facae': 'd:\\\\nepali_notetaker_project\\\\nepali_notetaker_package\\\\DataSet\\\\asr_nepali_0\\\\asr_nepali\\\\data\\\\00\\\\00163facae.flac', '0016678b02': 'd:\\\\nepali_notetaker_project\\\\nepali_notetaker_package\\\\DataSet\\\\asr_nepali_0\\\\asr_nepali\\\\data\\\\00\\\\0016678b02.flac', '00168daa2b': 'd:\\\\nepali_notetaker_project\\\\nepali_notetaker_package\\\\DataSet\\\\asr_nepali_0\\\\asr_nepali\\\\data\\\\00\\\\00168daa2b.flac', '00169e1a5c': 'd:\\\\nepali_notetaker_project\\\\nepali_notetaker_package\\\\DataSet\\\\asr_nepali_0\\\\asr_nepali\\\\data\\\\00\\\\00169e1a5c.flac', '0016c0341c': 'd:\\\\nepali_notetaker_project\\\\nepali_notetaker_package\\\\DataSet\\\\asr_nepali_0\\\\asr_nepali\\\\data\\\\00\\\\0016c0341c.flac', '0016fb0938': 'd:\\\\nepali_notetaker_project\\\\nepali_notetaker_package\\\\DataSet\\\\asr_nepali_0\\\\asr_nepali\\\\data\\\\00\\\\0016fb0938.flac', '00171840ba': 'd:\\\\nepali_notetaker_project\\\\nepali_notetaker_package\\\\DataSet\\\\asr_nepali_0\\\\asr_nepali\\\\data\\\\00\\\\00171840ba.flac', '00175448c8': 'd:\\\\nepali_notetaker_project\\\\nepali_notetaker_package\\\\DataSet\\\\asr_nepali_0\\\\asr_nepali\\\\data\\\\00\\\\00175448c8.flac', '0017a8c8ca': 'd:\\\\nepali_notetaker_project\\\\nepali_notetaker_package\\\\DataSet\\\\asr_nepali_0\\\\asr_nepali\\\\data\\\\00\\\\0017a8c8ca.flac', '00180ecd4a': 'd:\\\\nepali_notetaker_project\\\\nepali_notetaker_package\\\\DataSet\\\\asr_nepali_0\\\\asr_nepali\\\\data\\\\00\\\\00180ecd4a.flac', '0018261eb9': 'd:\\\\nepali_notetaker_project\\\\nepali_notetaker_package\\\\DataSet\\\\asr_nepali_0\\\\asr_nepali\\\\data\\\\00\\\\0018261eb9.flac', '00183d8749': 'd:\\\\nepali_notetaker_project\\\\nepali_notetaker_package\\\\DataSet\\\\asr_nepali_0\\\\asr_nepali\\\\data\\\\00\\\\00183d8749.flac', '00187a4bbd': 'd:\\\\nepali_notetaker_project\\\\nepali_notetaker_package\\\\DataSet\\\\asr_nepali_0\\\\asr_nepali\\\\data\\\\00\\\\00187a4bbd.flac', '00189ddfe4': 'd:\\\\nepali_notetaker_project\\\\nepali_notetaker_package\\\\DataSet\\\\asr_nepali_0\\\\asr_nepali\\\\data\\\\00\\\\00189ddfe4.flac', '0018ff05ca': 'd:\\\\nepali_notetaker_project\\\\nepali_notetaker_package\\\\DataSet\\\\asr_nepali_0\\\\asr_nepali\\\\data\\\\00\\\\0018ff05ca.flac', '001907805e': 'd:\\\\nepali_notetaker_project\\\\nepali_notetaker_package\\\\DataSet\\\\asr_nepali_0\\\\asr_nepali\\\\data\\\\00\\\\001907805e.flac', '00192533bc': 'd:\\\\nepali_notetaker_project\\\\nepali_notetaker_package\\\\DataSet\\\\asr_nepali_0\\\\asr_nepali\\\\data\\\\00\\\\00192533bc.flac', '0019a63118': 'd:\\\\nepali_notetaker_project\\\\nepali_notetaker_package\\\\DataSet\\\\asr_nepali_0\\\\asr_nepali\\\\data\\\\00\\\\0019a63118.flac', '0019c4a22b': 'd:\\\\nepali_notetaker_project\\\\nepali_notetaker_package\\\\DataSet\\\\asr_nepali_0\\\\asr_nepali\\\\data\\\\00\\\\0019c4a22b.flac', '001a027a44': 'd:\\\\nepali_notetaker_project\\\\nepali_notetaker_package\\\\DataSet\\\\asr_nepali_0\\\\asr_nepali\\\\data\\\\00\\\\001a027a44.flac', '001aafcee1': 'd:\\\\nepali_notetaker_project\\\\nepali_notetaker_package\\\\DataSet\\\\asr_nepali_0\\\\asr_nepali\\\\data\\\\00\\\\001aafcee1.flac', '001b968b46': 'd:\\\\nepali_notetaker_project\\\\nepali_notetaker_package\\\\DataSet\\\\asr_nepali_0\\\\asr_nepali\\\\data\\\\00\\\\001b968b46.flac', '001bb101c4': 'd:\\\\nepali_notetaker_project\\\\nepali_notetaker_package\\\\DataSet\\\\asr_nepali_0\\\\asr_nepali\\\\data\\\\00\\\\001bb101c4.flac', '001c182577': 'd:\\\\nepali_notetaker_project\\\\nepali_notetaker_package\\\\DataSet\\\\asr_nepali_0\\\\asr_nepali\\\\data\\\\00\\\\001c182577.flac', '001c35c0db': 'd:\\\\nepali_notetaker_project\\\\nepali_notetaker_package\\\\DataSet\\\\asr_nepali_0\\\\asr_nepali\\\\data\\\\00\\\\001c35c0db.flac', '001ca0ce21': 'd:\\\\nepali_notetaker_project\\\\nepali_notetaker_package\\\\DataSet\\\\asr_nepali_0\\\\asr_nepali\\\\data\\\\00\\\\001ca0ce21.flac', '001d5349b6': 'd:\\\\nepali_notetaker_project\\\\nepali_notetaker_package\\\\DataSet\\\\asr_nepali_0\\\\asr_nepali\\\\data\\\\00\\\\001d5349b6.flac', '001d578a71': 'd:\\\\nepali_notetaker_project\\\\nepali_notetaker_package\\\\DataSet\\\\asr_nepali_0\\\\asr_nepali\\\\data\\\\00\\\\001d578a71.flac', '001d884c4a': 'd:\\\\nepali_notetaker_project\\\\nepali_notetaker_package\\\\DataSet\\\\asr_nepali_0\\\\asr_nepali\\\\data\\\\00\\\\001d884c4a.flac', '001f4eb960': 'd:\\\\nepali_notetaker_project\\\\nepali_notetaker_package\\\\DataSet\\\\asr_nepali_0\\\\asr_nepali\\\\data\\\\00\\\\001f4eb960.flac', '001f81eeec': 'd:\\\\nepali_notetaker_project\\\\nepali_notetaker_package\\\\DataSet\\\\asr_nepali_0\\\\asr_nepali\\\\data\\\\00\\\\001f81eeec.flac', '00206fb325': 'd:\\\\nepali_notetaker_project\\\\nepali_notetaker_package\\\\DataSet\\\\asr_nepali_0\\\\asr_nepali\\\\data\\\\00\\\\00206fb325.flac', '00214296e5': 'd:\\\\nepali_notetaker_project\\\\nepali_notetaker_package\\\\DataSet\\\\asr_nepali_0\\\\asr_nepali\\\\data\\\\00\\\\00214296e5.flac', '002199cfd5': 'd:\\\\nepali_notetaker_project\\\\nepali_notetaker_package\\\\DataSet\\\\asr_nepali_0\\\\asr_nepali\\\\data\\\\00\\\\002199cfd5.flac', '0021bc4fcb': 'd:\\\\nepali_notetaker_project\\\\nepali_notetaker_package\\\\DataSet\\\\asr_nepali_0\\\\asr_nepali\\\\data\\\\00\\\\0021bc4fcb.flac', '0021f02f4a': 'd:\\\\nepali_notetaker_project\\\\nepali_notetaker_package\\\\DataSet\\\\asr_nepali_0\\\\asr_nepali\\\\data\\\\00\\\\0021f02f4a.flac', '0021f0bba3': 'd:\\\\nepali_notetaker_project\\\\nepali_notetaker_package\\\\DataSet\\\\asr_nepali_0\\\\asr_nepali\\\\data\\\\00\\\\0021f0bba3.flac', '0022362ec0': 'd:\\\\nepali_notetaker_project\\\\nepali_notetaker_package\\\\DataSet\\\\asr_nepali_0\\\\asr_nepali\\\\data\\\\00\\\\0022362ec0.flac', '0022946707': 'd:\\\\nepali_notetaker_project\\\\nepali_notetaker_package\\\\DataSet\\\\asr_nepali_0\\\\asr_nepali\\\\data\\\\00\\\\0022946707.flac', '00236ebe7b': 'd:\\\\nepali_notetaker_project\\\\nepali_notetaker_package\\\\DataSet\\\\asr_nepali_0\\\\asr_nepali\\\\data\\\\00\\\\00236ebe7b.flac', '0023f1da75': 'd:\\\\nepali_notetaker_project\\\\nepali_notetaker_package\\\\DataSet\\\\asr_nepali_0\\\\asr_nepali\\\\data\\\\00\\\\0023f1da75.flac', '00241abe2f': 'd:\\\\nepali_notetaker_project\\\\nepali_notetaker_package\\\\DataSet\\\\asr_nepali_0\\\\asr_nepali\\\\data\\\\00\\\\00241abe2f.flac', '00254a8fcd': 'd:\\\\nepali_notetaker_project\\\\nepali_notetaker_package\\\\DataSet\\\\asr_nepali_0\\\\asr_nepali\\\\data\\\\00\\\\00254a8fcd.flac', '0025524348': 'd:\\\\nepali_notetaker_project\\\\nepali_notetaker_package\\\\DataSet\\\\asr_nepali_0\\\\asr_nepali\\\\data\\\\00\\\\0025524348.flac', '00256cf417': 'd:\\\\nepali_notetaker_project\\\\nepali_notetaker_package\\\\DataSet\\\\asr_nepali_0\\\\asr_nepali\\\\data\\\\00\\\\00256cf417.flac', '0025aa8395': 'd:\\\\nepali_notetaker_project\\\\nepali_notetaker_package\\\\DataSet\\\\asr_nepali_0\\\\asr_nepali\\\\data\\\\00\\\\0025aa8395.flac', '0025bee851': 'd:\\\\nepali_notetaker_project\\\\nepali_notetaker_package\\\\DataSet\\\\asr_nepali_0\\\\asr_nepali\\\\data\\\\00\\\\0025bee851.flac', '002668d6ff': 'd:\\\\nepali_notetaker_project\\\\nepali_notetaker_package\\\\DataSet\\\\asr_nepali_0\\\\asr_nepali\\\\data\\\\00\\\\002668d6ff.flac', '0026c1f17c': 'd:\\\\nepali_notetaker_project\\\\nepali_notetaker_package\\\\DataSet\\\\asr_nepali_0\\\\asr_nepali\\\\data\\\\00\\\\0026c1f17c.flac', '0026c97afc': 'd:\\\\nepali_notetaker_project\\\\nepali_notetaker_package\\\\DataSet\\\\asr_nepali_0\\\\asr_nepali\\\\data\\\\00\\\\0026c97afc.flac', '00273516a9': 'd:\\\\nepali_notetaker_project\\\\nepali_notetaker_package\\\\DataSet\\\\asr_nepali_0\\\\asr_nepali\\\\data\\\\00\\\\00273516a9.flac', '002849aeff': 'd:\\\\nepali_notetaker_project\\\\nepali_notetaker_package\\\\DataSet\\\\asr_nepali_0\\\\asr_nepali\\\\data\\\\00\\\\002849aeff.flac', '0029f655b5': 'd:\\\\nepali_notetaker_project\\\\nepali_notetaker_package\\\\DataSet\\\\asr_nepali_0\\\\asr_nepali\\\\data\\\\00\\\\0029f655b5.flac', '002a749d55': 'd:\\\\nepali_notetaker_project\\\\nepali_notetaker_package\\\\DataSet\\\\asr_nepali_0\\\\asr_nepali\\\\data\\\\00\\\\002a749d55.flac', '002a8d9076': 'd:\\\\nepali_notetaker_project\\\\nepali_notetaker_package\\\\DataSet\\\\asr_nepali_0\\\\asr_nepali\\\\data\\\\00\\\\002a8d9076.flac', '002ad151a4': 'd:\\\\nepali_notetaker_project\\\\nepali_notetaker_package\\\\DataSet\\\\asr_nepali_0\\\\asr_nepali\\\\data\\\\00\\\\002ad151a4.flac', '002ae35cd3': 'd:\\\\nepali_notetaker_project\\\\nepali_notetaker_package\\\\DataSet\\\\asr_nepali_0\\\\asr_nepali\\\\data\\\\00\\\\002ae35cd3.flac', '002af29a8a': 'd:\\\\nepali_notetaker_project\\\\nepali_notetaker_package\\\\DataSet\\\\asr_nepali_0\\\\asr_nepali\\\\data\\\\00\\\\002af29a8a.flac', '002b1a8489': 'd:\\\\nepali_notetaker_project\\\\nepali_notetaker_package\\\\DataSet\\\\asr_nepali_0\\\\asr_nepali\\\\data\\\\00\\\\002b1a8489.flac', '002bb5d867': 'd:\\\\nepali_notetaker_project\\\\nepali_notetaker_package\\\\DataSet\\\\asr_nepali_0\\\\asr_nepali\\\\data\\\\00\\\\002bb5d867.flac', '002bf0aab4': 'd:\\\\nepali_notetaker_project\\\\nepali_notetaker_package\\\\DataSet\\\\asr_nepali_0\\\\asr_nepali\\\\data\\\\00\\\\002bf0aab4.flac', '002c06d80c': 'd:\\\\nepali_notetaker_project\\\\nepali_notetaker_package\\\\DataSet\\\\asr_nepali_0\\\\asr_nepali\\\\data\\\\00\\\\002c06d80c.flac', '002c0b500c': 'd:\\\\nepali_notetaker_project\\\\nepali_notetaker_package\\\\DataSet\\\\asr_nepali_0\\\\asr_nepali\\\\data\\\\00\\\\002c0b500c.flac', '002c53fe1e': 'd:\\\\nepali_notetaker_project\\\\nepali_notetaker_package\\\\DataSet\\\\asr_nepali_0\\\\asr_nepali\\\\data\\\\00\\\\002c53fe1e.flac', '002c9d84c5': 'd:\\\\nepali_notetaker_project\\\\nepali_notetaker_package\\\\DataSet\\\\asr_nepali_0\\\\asr_nepali\\\\data\\\\00\\\\002c9d84c5.flac', '002cc075a1': 'd:\\\\nepali_notetaker_project\\\\nepali_notetaker_package\\\\DataSet\\\\asr_nepali_0\\\\asr_nepali\\\\data\\\\00\\\\002cc075a1.flac', '002ce69b3f': 'd:\\\\nepali_notetaker_project\\\\nepali_notetaker_package\\\\DataSet\\\\asr_nepali_0\\\\asr_nepali\\\\data\\\\00\\\\002ce69b3f.flac', '002cf3a895': 'd:\\\\nepali_notetaker_project\\\\nepali_notetaker_package\\\\DataSet\\\\asr_nepali_0\\\\asr_nepali\\\\data\\\\00\\\\002cf3a895.flac', '002f406081': 'd:\\\\nepali_notetaker_project\\\\nepali_notetaker_package\\\\DataSet\\\\asr_nepali_0\\\\asr_nepali\\\\data\\\\00\\\\002f406081.flac', '0030168dbb': 'd:\\\\nepali_notetaker_project\\\\nepali_notetaker_package\\\\DataSet\\\\asr_nepali_0\\\\asr_nepali\\\\data\\\\00\\\\0030168dbb.flac', '003017eaca': 'd:\\\\nepali_notetaker_project\\\\nepali_notetaker_package\\\\DataSet\\\\asr_nepali_0\\\\asr_nepali\\\\data\\\\00\\\\003017eaca.flac', '00315cbb63': 'd:\\\\nepali_notetaker_project\\\\nepali_notetaker_package\\\\DataSet\\\\asr_nepali_0\\\\asr_nepali\\\\data\\\\00\\\\00315cbb63.flac', '00334a9f80': 'd:\\\\nepali_notetaker_project\\\\nepali_notetaker_package\\\\DataSet\\\\asr_nepali_0\\\\asr_nepali\\\\data\\\\00\\\\00334a9f80.flac', '003355e560': 'd:\\\\nepali_notetaker_project\\\\nepali_notetaker_package\\\\DataSet\\\\asr_nepali_0\\\\asr_nepali\\\\data\\\\00\\\\003355e560.flac', '0033a7ae1e': 'd:\\\\nepali_notetaker_project\\\\nepali_notetaker_package\\\\DataSet\\\\asr_nepali_0\\\\asr_nepali\\\\data\\\\00\\\\0033a7ae1e.flac', '0033b1ea68': 'd:\\\\nepali_notetaker_project\\\\nepali_notetaker_package\\\\DataSet\\\\asr_nepali_0\\\\asr_nepali\\\\data\\\\00\\\\0033b1ea68.flac', '0033cfeddb': 'd:\\\\nepali_notetaker_project\\\\nepali_notetaker_package\\\\DataSet\\\\asr_nepali_0\\\\asr_nepali\\\\data\\\\00\\\\0033cfeddb.flac', '00340fd7a4': 'd:\\\\nepali_notetaker_project\\\\nepali_notetaker_package\\\\DataSet\\\\asr_nepali_0\\\\asr_nepali\\\\data\\\\00\\\\00340fd7a4.flac', '00341efed3': 'd:\\\\nepali_notetaker_project\\\\nepali_notetaker_package\\\\DataSet\\\\asr_nepali_0\\\\asr_nepali\\\\data\\\\00\\\\00341efed3.flac', '00342a5f73': 'd:\\\\nepali_notetaker_project\\\\nepali_notetaker_package\\\\DataSet\\\\asr_nepali_0\\\\asr_nepali\\\\data\\\\00\\\\00342a5f73.flac', '003486bf21': 'd:\\\\nepali_notetaker_project\\\\nepali_notetaker_package\\\\DataSet\\\\asr_nepali_0\\\\asr_nepali\\\\data\\\\00\\\\003486bf21.flac', '0034a9cd74': 'd:\\\\nepali_notetaker_project\\\\nepali_notetaker_package\\\\DataSet\\\\asr_nepali_0\\\\asr_nepali\\\\data\\\\00\\\\0034a9cd74.flac', '0036aafc9a': 'd:\\\\nepali_notetaker_project\\\\nepali_notetaker_package\\\\DataSet\\\\asr_nepali_0\\\\asr_nepali\\\\data\\\\00\\\\0036aafc9a.flac', '0036dd80ed': 'd:\\\\nepali_notetaker_project\\\\nepali_notetaker_package\\\\DataSet\\\\asr_nepali_0\\\\asr_nepali\\\\data\\\\00\\\\0036dd80ed.flac', '0037b0503e': 'd:\\\\nepali_notetaker_project\\\\nepali_notetaker_package\\\\DataSet\\\\asr_nepali_0\\\\asr_nepali\\\\data\\\\00\\\\0037b0503e.flac', '003807abfa': 'd:\\\\nepali_notetaker_project\\\\nepali_notetaker_package\\\\DataSet\\\\asr_nepali_0\\\\asr_nepali\\\\data\\\\00\\\\003807abfa.flac', '00380c42e9': 'd:\\\\nepali_notetaker_project\\\\nepali_notetaker_package\\\\DataSet\\\\asr_nepali_0\\\\asr_nepali\\\\data\\\\00\\\\00380c42e9.flac', '00382db362': 'd:\\\\nepali_notetaker_project\\\\nepali_notetaker_package\\\\DataSet\\\\asr_nepali_0\\\\asr_nepali\\\\data\\\\00\\\\00382db362.flac', '0038c5e483': 'd:\\\\nepali_notetaker_project\\\\nepali_notetaker_package\\\\DataSet\\\\asr_nepali_0\\\\asr_nepali\\\\data\\\\00\\\\0038c5e483.flac', '0039eeac8e': 'd:\\\\nepali_notetaker_project\\\\nepali_notetaker_package\\\\DataSet\\\\asr_nepali_0\\\\asr_nepali\\\\data\\\\00\\\\0039eeac8e.flac', '003a546b84': 'd:\\\\nepali_notetaker_project\\\\nepali_notetaker_package\\\\DataSet\\\\asr_nepali_0\\\\asr_nepali\\\\data\\\\00\\\\003a546b84.flac', '003a7c6c2f': 'd:\\\\nepali_notetaker_project\\\\nepali_notetaker_package\\\\DataSet\\\\asr_nepali_0\\\\asr_nepali\\\\data\\\\00\\\\003a7c6c2f.flac', '003ac759fb': 'd:\\\\nepali_notetaker_project\\\\nepali_notetaker_package\\\\DataSet\\\\asr_nepali_0\\\\asr_nepali\\\\data\\\\00\\\\003ac759fb.flac', '003af8ec13': 'd:\\\\nepali_notetaker_project\\\\nepali_notetaker_package\\\\DataSet\\\\asr_nepali_0\\\\asr_nepali\\\\data\\\\00\\\\003af8ec13.flac', '003cb4cf59': 'd:\\\\nepali_notetaker_project\\\\nepali_notetaker_package\\\\DataSet\\\\asr_nepali_0\\\\asr_nepali\\\\data\\\\00\\\\003cb4cf59.flac', '003da50507': 'd:\\\\nepali_notetaker_project\\\\nepali_notetaker_package\\\\DataSet\\\\asr_nepali_0\\\\asr_nepali\\\\data\\\\00\\\\003da50507.flac', '003df69d2f': 'd:\\\\nepali_notetaker_project\\\\nepali_notetaker_package\\\\DataSet\\\\asr_nepali_0\\\\asr_nepali\\\\data\\\\00\\\\003df69d2f.flac', '003e54f4e7': 'd:\\\\nepali_notetaker_project\\\\nepali_notetaker_package\\\\DataSet\\\\asr_nepali_0\\\\asr_nepali\\\\data\\\\00\\\\003e54f4e7.flac', '003edba4bf': 'd:\\\\nepali_notetaker_project\\\\nepali_notetaker_package\\\\DataSet\\\\asr_nepali_0\\\\asr_nepali\\\\data\\\\00\\\\003edba4bf.flac', '003f32ed01': 'd:\\\\nepali_notetaker_project\\\\nepali_notetaker_package\\\\DataSet\\\\asr_nepali_0\\\\asr_nepali\\\\data\\\\00\\\\003f32ed01.flac', '003f4f4dd5': 'd:\\\\nepali_notetaker_project\\\\nepali_notetaker_package\\\\DataSet\\\\asr_nepali_0\\\\asr_nepali\\\\data\\\\00\\\\003f4f4dd5.flac', '003f972991': 'd:\\\\nepali_notetaker_project\\\\nepali_notetaker_package\\\\DataSet\\\\asr_nepali_0\\\\asr_nepali\\\\data\\\\00\\\\003f972991.flac', '004121d71b': 'd:\\\\nepali_notetaker_project\\\\nepali_notetaker_package\\\\DataSet\\\\asr_nepali_0\\\\asr_nepali\\\\data\\\\00\\\\004121d71b.flac', '00414a7de5': 'd:\\\\nepali_notetaker_project\\\\nepali_notetaker_package\\\\DataSet\\\\asr_nepali_0\\\\asr_nepali\\\\data\\\\00\\\\00414a7de5.flac', '0041bb2219': 'd:\\\\nepali_notetaker_project\\\\nepali_notetaker_package\\\\DataSet\\\\asr_nepali_0\\\\asr_nepali\\\\data\\\\00\\\\0041bb2219.flac', '00421d8146': 'd:\\\\nepali_notetaker_project\\\\nepali_notetaker_package\\\\DataSet\\\\asr_nepali_0\\\\asr_nepali\\\\data\\\\00\\\\00421d8146.flac', '0042d2b56d': 'd:\\\\nepali_notetaker_project\\\\nepali_notetaker_package\\\\DataSet\\\\asr_nepali_0\\\\asr_nepali\\\\data\\\\00\\\\0042d2b56d.flac', '0042fe1a44': 'd:\\\\nepali_notetaker_project\\\\nepali_notetaker_package\\\\DataSet\\\\asr_nepali_0\\\\asr_nepali\\\\data\\\\00\\\\0042fe1a44.flac', '0043a16350': 'd:\\\\nepali_notetaker_project\\\\nepali_notetaker_package\\\\DataSet\\\\asr_nepali_0\\\\asr_nepali\\\\data\\\\00\\\\0043a16350.flac', '004481c30d': 'd:\\\\nepali_notetaker_project\\\\nepali_notetaker_package\\\\DataSet\\\\asr_nepali_0\\\\asr_nepali\\\\data\\\\00\\\\004481c30d.flac', '004491fa72': 'd:\\\\nepali_notetaker_project\\\\nepali_notetaker_package\\\\DataSet\\\\asr_nepali_0\\\\asr_nepali\\\\data\\\\00\\\\004491fa72.flac', '00456a1ddc': 'd:\\\\nepali_notetaker_project\\\\nepali_notetaker_package\\\\DataSet\\\\asr_nepali_0\\\\asr_nepali\\\\data\\\\00\\\\00456a1ddc.flac', '004658e9ed': 'd:\\\\nepali_notetaker_project\\\\nepali_notetaker_package\\\\DataSet\\\\asr_nepali_0\\\\asr_nepali\\\\data\\\\00\\\\004658e9ed.flac', '0046a55bff': 'd:\\\\nepali_notetaker_project\\\\nepali_notetaker_package\\\\DataSet\\\\asr_nepali_0\\\\asr_nepali\\\\data\\\\00\\\\0046a55bff.flac', '004743fcf7': 'd:\\\\nepali_notetaker_project\\\\nepali_notetaker_package\\\\DataSet\\\\asr_nepali_0\\\\asr_nepali\\\\data\\\\00\\\\004743fcf7.flac', '004797d788': 'd:\\\\nepali_notetaker_project\\\\nepali_notetaker_package\\\\DataSet\\\\asr_nepali_0\\\\asr_nepali\\\\data\\\\00\\\\004797d788.flac', '0047bf7b18': 'd:\\\\nepali_notetaker_project\\\\nepali_notetaker_package\\\\DataSet\\\\asr_nepali_0\\\\asr_nepali\\\\data\\\\00\\\\0047bf7b18.flac', '0047f889f0': 'd:\\\\nepali_notetaker_project\\\\nepali_notetaker_package\\\\DataSet\\\\asr_nepali_0\\\\asr_nepali\\\\data\\\\00\\\\0047f889f0.flac', '004835bff8': 'd:\\\\nepali_notetaker_project\\\\nepali_notetaker_package\\\\DataSet\\\\asr_nepali_0\\\\asr_nepali\\\\data\\\\00\\\\004835bff8.flac', '004943999e': 'd:\\\\nepali_notetaker_project\\\\nepali_notetaker_package\\\\DataSet\\\\asr_nepali_0\\\\asr_nepali\\\\data\\\\00\\\\004943999e.flac', '004a2c6066': 'd:\\\\nepali_notetaker_project\\\\nepali_notetaker_package\\\\DataSet\\\\asr_nepali_0\\\\asr_nepali\\\\data\\\\00\\\\004a2c6066.flac', '004a5ac98a': 'd:\\\\nepali_notetaker_project\\\\nepali_notetaker_package\\\\DataSet\\\\asr_nepali_0\\\\asr_nepali\\\\data\\\\00\\\\004a5ac98a.flac', '004afc2286': 'd:\\\\nepali_notetaker_project\\\\nepali_notetaker_package\\\\DataSet\\\\asr_nepali_0\\\\asr_nepali\\\\data\\\\00\\\\004afc2286.flac', '004b2a3c8e': 'd:\\\\nepali_notetaker_project\\\\nepali_notetaker_package\\\\DataSet\\\\asr_nepali_0\\\\asr_nepali\\\\data\\\\00\\\\004b2a3c8e.flac', '004baae003': 'd:\\\\nepali_notetaker_project\\\\nepali_notetaker_package\\\\DataSet\\\\asr_nepali_0\\\\asr_nepali\\\\data\\\\00\\\\004baae003.flac', '004cf77911': 'd:\\\\nepali_notetaker_project\\\\nepali_notetaker_package\\\\DataSet\\\\asr_nepali_0\\\\asr_nepali\\\\data\\\\00\\\\004cf77911.flac', '004ddbf50c': 'd:\\\\nepali_notetaker_project\\\\nepali_notetaker_package\\\\DataSet\\\\asr_nepali_0\\\\asr_nepali\\\\data\\\\00\\\\004ddbf50c.flac', '004e099a4d': 'd:\\\\nepali_notetaker_project\\\\nepali_notetaker_package\\\\DataSet\\\\asr_nepali_0\\\\asr_nepali\\\\data\\\\00\\\\004e099a4d.flac', '004e49acdc': 'd:\\\\nepali_notetaker_project\\\\nepali_notetaker_package\\\\DataSet\\\\asr_nepali_0\\\\asr_nepali\\\\data\\\\00\\\\004e49acdc.flac', '004e660b77': 'd:\\\\nepali_notetaker_project\\\\nepali_notetaker_package\\\\DataSet\\\\asr_nepali_0\\\\asr_nepali\\\\data\\\\00\\\\004e660b77.flac', '004e9c6334': 'd:\\\\nepali_notetaker_project\\\\nepali_notetaker_package\\\\DataSet\\\\asr_nepali_0\\\\asr_nepali\\\\data\\\\00\\\\004e9c6334.flac', '004fde742c': 'd:\\\\nepali_notetaker_project\\\\nepali_notetaker_package\\\\DataSet\\\\asr_nepali_0\\\\asr_nepali\\\\data\\\\00\\\\004fde742c.flac', '004ffbf2b3': 'd:\\\\nepali_notetaker_project\\\\nepali_notetaker_package\\\\DataSet\\\\asr_nepali_0\\\\asr_nepali\\\\data\\\\00\\\\004ffbf2b3.flac', '005068078d': 'd:\\\\nepali_notetaker_project\\\\nepali_notetaker_package\\\\DataSet\\\\asr_nepali_0\\\\asr_nepali\\\\data\\\\00\\\\005068078d.flac', '0050b10a01': 'd:\\\\nepali_notetaker_project\\\\nepali_notetaker_package\\\\DataSet\\\\asr_nepali_0\\\\asr_nepali\\\\data\\\\00\\\\0050b10a01.flac', '005106c8d8': 'd:\\\\nepali_notetaker_project\\\\nepali_notetaker_package\\\\DataSet\\\\asr_nepali_0\\\\asr_nepali\\\\data\\\\00\\\\005106c8d8.flac', '0051a6b535': 'd:\\\\nepali_notetaker_project\\\\nepali_notetaker_package\\\\DataSet\\\\asr_nepali_0\\\\asr_nepali\\\\data\\\\00\\\\0051a6b535.flac', '0052912514': 'd:\\\\nepali_notetaker_project\\\\nepali_notetaker_package\\\\DataSet\\\\asr_nepali_0\\\\asr_nepali\\\\data\\\\00\\\\0052912514.flac', '0053504615': 'd:\\\\nepali_notetaker_project\\\\nepali_notetaker_package\\\\DataSet\\\\asr_nepali_0\\\\asr_nepali\\\\data\\\\00\\\\0053504615.flac', '0053a0b787': 'd:\\\\nepali_notetaker_project\\\\nepali_notetaker_package\\\\DataSet\\\\asr_nepali_0\\\\asr_nepali\\\\data\\\\00\\\\0053a0b787.flac', '00541975bc': 'd:\\\\nepali_notetaker_project\\\\nepali_notetaker_package\\\\DataSet\\\\asr_nepali_0\\\\asr_nepali\\\\data\\\\00\\\\00541975bc.flac', '00542a36b2': 'd:\\\\nepali_notetaker_project\\\\nepali_notetaker_package\\\\DataSet\\\\asr_nepali_0\\\\asr_nepali\\\\data\\\\00\\\\00542a36b2.flac', '0054538d54': 'd:\\\\nepali_notetaker_project\\\\nepali_notetaker_package\\\\DataSet\\\\asr_nepali_0\\\\asr_nepali\\\\data\\\\00\\\\0054538d54.flac', '00545b834b': 'd:\\\\nepali_notetaker_project\\\\nepali_notetaker_package\\\\DataSet\\\\asr_nepali_0\\\\asr_nepali\\\\data\\\\00\\\\00545b834b.flac', '00559002e5': 'd:\\\\nepali_notetaker_project\\\\nepali_notetaker_package\\\\DataSet\\\\asr_nepali_0\\\\asr_nepali\\\\data\\\\00\\\\00559002e5.flac', '0055a267b0': 'd:\\\\nepali_notetaker_project\\\\nepali_notetaker_package\\\\DataSet\\\\asr_nepali_0\\\\asr_nepali\\\\data\\\\00\\\\0055a267b0.flac', '0055e5b8f3': 'd:\\\\nepali_notetaker_project\\\\nepali_notetaker_package\\\\DataSet\\\\asr_nepali_0\\\\asr_nepali\\\\data\\\\00\\\\0055e5b8f3.flac', '0057b55228': 'd:\\\\nepali_notetaker_project\\\\nepali_notetaker_package\\\\DataSet\\\\asr_nepali_0\\\\asr_nepali\\\\data\\\\00\\\\0057b55228.flac', '00594ddbe7': 'd:\\\\nepali_notetaker_project\\\\nepali_notetaker_package\\\\DataSet\\\\asr_nepali_0\\\\asr_nepali\\\\data\\\\00\\\\00594ddbe7.flac', '00597752e4': 'd:\\\\nepali_notetaker_project\\\\nepali_notetaker_package\\\\DataSet\\\\asr_nepali_0\\\\asr_nepali\\\\data\\\\00\\\\00597752e4.flac', '0059c7e2ff': 'd:\\\\nepali_notetaker_project\\\\nepali_notetaker_package\\\\DataSet\\\\asr_nepali_0\\\\asr_nepali\\\\data\\\\00\\\\0059c7e2ff.flac', '0059d26a13': 'd:\\\\nepali_notetaker_project\\\\nepali_notetaker_package\\\\DataSet\\\\asr_nepali_0\\\\asr_nepali\\\\data\\\\00\\\\0059d26a13.flac', '005a12c043': 'd:\\\\nepali_notetaker_project\\\\nepali_notetaker_package\\\\DataSet\\\\asr_nepali_0\\\\asr_nepali\\\\data\\\\00\\\\005a12c043.flac', '005a2445a2': 'd:\\\\nepali_notetaker_project\\\\nepali_notetaker_package\\\\DataSet\\\\asr_nepali_0\\\\asr_nepali\\\\data\\\\00\\\\005a2445a2.flac', '005a56a1a2': 'd:\\\\nepali_notetaker_project\\\\nepali_notetaker_package\\\\DataSet\\\\asr_nepali_0\\\\asr_nepali\\\\data\\\\00\\\\005a56a1a2.flac', '005a79209e': 'd:\\\\nepali_notetaker_project\\\\nepali_notetaker_package\\\\DataSet\\\\asr_nepali_0\\\\asr_nepali\\\\data\\\\00\\\\005a79209e.flac', '005b4bae5d': 'd:\\\\nepali_notetaker_project\\\\nepali_notetaker_package\\\\DataSet\\\\asr_nepali_0\\\\asr_nepali\\\\data\\\\00\\\\005b4bae5d.flac', '005c147b66': 'd:\\\\nepali_notetaker_project\\\\nepali_notetaker_package\\\\DataSet\\\\asr_nepali_0\\\\asr_nepali\\\\data\\\\00\\\\005c147b66.flac', '005c593499': 'd:\\\\nepali_notetaker_project\\\\nepali_notetaker_package\\\\DataSet\\\\asr_nepali_0\\\\asr_nepali\\\\data\\\\00\\\\005c593499.flac', '005caf7037': 'd:\\\\nepali_notetaker_project\\\\nepali_notetaker_package\\\\DataSet\\\\asr_nepali_0\\\\asr_nepali\\\\data\\\\00\\\\005caf7037.flac', '005d160d81': 'd:\\\\nepali_notetaker_project\\\\nepali_notetaker_package\\\\DataSet\\\\asr_nepali_0\\\\asr_nepali\\\\data\\\\00\\\\005d160d81.flac', '005d76f5e8': 'd:\\\\nepali_notetaker_project\\\\nepali_notetaker_package\\\\DataSet\\\\asr_nepali_0\\\\asr_nepali\\\\data\\\\00\\\\005d76f5e8.flac', '005e15f7f8': 'd:\\\\nepali_notetaker_project\\\\nepali_notetaker_package\\\\DataSet\\\\asr_nepali_0\\\\asr_nepali\\\\data\\\\00\\\\005e15f7f8.flac', '005e5993e5': 'd:\\\\nepali_notetaker_project\\\\nepali_notetaker_package\\\\DataSet\\\\asr_nepali_0\\\\asr_nepali\\\\data\\\\00\\\\005e5993e5.flac', '005e9b6303': 'd:\\\\nepali_notetaker_project\\\\nepali_notetaker_package\\\\DataSet\\\\asr_nepali_0\\\\asr_nepali\\\\data\\\\00\\\\005e9b6303.flac', '005eefedf2': 'd:\\\\nepali_notetaker_project\\\\nepali_notetaker_package\\\\DataSet\\\\asr_nepali_0\\\\asr_nepali\\\\data\\\\00\\\\005eefedf2.flac', '005ef574ee': 'd:\\\\nepali_notetaker_project\\\\nepali_notetaker_package\\\\DataSet\\\\asr_nepali_0\\\\asr_nepali\\\\data\\\\00\\\\005ef574ee.flac', '005f0246e6': 'd:\\\\nepali_notetaker_project\\\\nepali_notetaker_package\\\\DataSet\\\\asr_nepali_0\\\\asr_nepali\\\\data\\\\00\\\\005f0246e6.flac', '005f8f48ec': 'd:\\\\nepali_notetaker_project\\\\nepali_notetaker_package\\\\DataSet\\\\asr_nepali_0\\\\asr_nepali\\\\data\\\\00\\\\005f8f48ec.flac', '005fb17f2b': 'd:\\\\nepali_notetaker_project\\\\nepali_notetaker_package\\\\DataSet\\\\asr_nepali_0\\\\asr_nepali\\\\data\\\\00\\\\005fb17f2b.flac', '005fef7b5d': 'd:\\\\nepali_notetaker_project\\\\nepali_notetaker_package\\\\DataSet\\\\asr_nepali_0\\\\asr_nepali\\\\data\\\\00\\\\005fef7b5d.flac', '006013dfa2': 'd:\\\\nepali_notetaker_project\\\\nepali_notetaker_package\\\\DataSet\\\\asr_nepali_0\\\\asr_nepali\\\\data\\\\00\\\\006013dfa2.flac', '00606c7342': 'd:\\\\nepali_notetaker_project\\\\nepali_notetaker_package\\\\DataSet\\\\asr_nepali_0\\\\asr_nepali\\\\data\\\\00\\\\00606c7342.flac', '0061189667': 'd:\\\\nepali_notetaker_project\\\\nepali_notetaker_package\\\\DataSet\\\\asr_nepali_0\\\\asr_nepali\\\\data\\\\00\\\\0061189667.flac', '00615be9e8': 'd:\\\\nepali_notetaker_project\\\\nepali_notetaker_package\\\\DataSet\\\\asr_nepali_0\\\\asr_nepali\\\\data\\\\00\\\\00615be9e8.flac', '0061b8e7bd': 'd:\\\\nepali_notetaker_project\\\\nepali_notetaker_package\\\\DataSet\\\\asr_nepali_0\\\\asr_nepali\\\\data\\\\00\\\\0061b8e7bd.flac', '00623ed729': 'd:\\\\nepali_notetaker_project\\\\nepali_notetaker_package\\\\DataSet\\\\asr_nepali_0\\\\asr_nepali\\\\data\\\\00\\\\00623ed729.flac', '0062779f1f': 'd:\\\\nepali_notetaker_project\\\\nepali_notetaker_package\\\\DataSet\\\\asr_nepali_0\\\\asr_nepali\\\\data\\\\00\\\\0062779f1f.flac', '00628163d6': 'd:\\\\nepali_notetaker_project\\\\nepali_notetaker_package\\\\DataSet\\\\asr_nepali_0\\\\asr_nepali\\\\data\\\\00\\\\00628163d6.flac', '006464b1e7': 'd:\\\\nepali_notetaker_project\\\\nepali_notetaker_package\\\\DataSet\\\\asr_nepali_0\\\\asr_nepali\\\\data\\\\00\\\\006464b1e7.flac', '0064b8d48c': 'd:\\\\nepali_notetaker_project\\\\nepali_notetaker_package\\\\DataSet\\\\asr_nepali_0\\\\asr_nepali\\\\data\\\\00\\\\0064b8d48c.flac', '0064c75d84': 'd:\\\\nepali_notetaker_project\\\\nepali_notetaker_package\\\\DataSet\\\\asr_nepali_0\\\\asr_nepali\\\\data\\\\00\\\\0064c75d84.flac', '0064ef58c9': 'd:\\\\nepali_notetaker_project\\\\nepali_notetaker_package\\\\DataSet\\\\asr_nepali_0\\\\asr_nepali\\\\data\\\\00\\\\0064ef58c9.flac', '00653ad703': 'd:\\\\nepali_notetaker_project\\\\nepali_notetaker_package\\\\DataSet\\\\asr_nepali_0\\\\asr_nepali\\\\data\\\\00\\\\00653ad703.flac', '0065af229f': 'd:\\\\nepali_notetaker_project\\\\nepali_notetaker_package\\\\DataSet\\\\asr_nepali_0\\\\asr_nepali\\\\data\\\\00\\\\0065af229f.flac', '006645e7be': 'd:\\\\nepali_notetaker_project\\\\nepali_notetaker_package\\\\DataSet\\\\asr_nepali_0\\\\asr_nepali\\\\data\\\\00\\\\006645e7be.flac', '0067d42315': 'd:\\\\nepali_notetaker_project\\\\nepali_notetaker_package\\\\DataSet\\\\asr_nepali_0\\\\asr_nepali\\\\data\\\\00\\\\0067d42315.flac', '0068ce4e94': 'd:\\\\nepali_notetaker_project\\\\nepali_notetaker_package\\\\DataSet\\\\asr_nepali_0\\\\asr_nepali\\\\data\\\\00\\\\0068ce4e94.flac', '0068d0a558': 'd:\\\\nepali_notetaker_project\\\\nepali_notetaker_package\\\\DataSet\\\\asr_nepali_0\\\\asr_nepali\\\\data\\\\00\\\\0068d0a558.flac', '0068f8a5b1': 'd:\\\\nepali_notetaker_project\\\\nepali_notetaker_package\\\\DataSet\\\\asr_nepali_0\\\\asr_nepali\\\\data\\\\00\\\\0068f8a5b1.flac', '0069e365b9': 'd:\\\\nepali_notetaker_project\\\\nepali_notetaker_package\\\\DataSet\\\\asr_nepali_0\\\\asr_nepali\\\\data\\\\00\\\\0069e365b9.flac', '006a0535dc': 'd:\\\\nepali_notetaker_project\\\\nepali_notetaker_package\\\\DataSet\\\\asr_nepali_0\\\\asr_nepali\\\\data\\\\00\\\\006a0535dc.flac', '006a1abbf3': 'd:\\\\nepali_notetaker_project\\\\nepali_notetaker_package\\\\DataSet\\\\asr_nepali_0\\\\asr_nepali\\\\data\\\\00\\\\006a1abbf3.flac', '006a470e8e': 'd:\\\\nepali_notetaker_project\\\\nepali_notetaker_package\\\\DataSet\\\\asr_nepali_0\\\\asr_nepali\\\\data\\\\00\\\\006a470e8e.flac', '006a4b13b2': 'd:\\\\nepali_notetaker_project\\\\nepali_notetaker_package\\\\DataSet\\\\asr_nepali_0\\\\asr_nepali\\\\data\\\\00\\\\006a4b13b2.flac', '006a6e8066': 'd:\\\\nepali_notetaker_project\\\\nepali_notetaker_package\\\\DataSet\\\\asr_nepali_0\\\\asr_nepali\\\\data\\\\00\\\\006a6e8066.flac', '006bc13a70': 'd:\\\\nepali_notetaker_project\\\\nepali_notetaker_package\\\\DataSet\\\\asr_nepali_0\\\\asr_nepali\\\\data\\\\00\\\\006bc13a70.flac', '006bd9a275': 'd:\\\\nepali_notetaker_project\\\\nepali_notetaker_package\\\\DataSet\\\\asr_nepali_0\\\\asr_nepali\\\\data\\\\00\\\\006bd9a275.flac', '006bee0ec1': 'd:\\\\nepali_notetaker_project\\\\nepali_notetaker_package\\\\DataSet\\\\asr_nepali_0\\\\asr_nepali\\\\data\\\\00\\\\006bee0ec1.flac', '006c27957c': 'd:\\\\nepali_notetaker_project\\\\nepali_notetaker_package\\\\DataSet\\\\asr_nepali_0\\\\asr_nepali\\\\data\\\\00\\\\006c27957c.flac', '006c4b9a60': 'd:\\\\nepali_notetaker_project\\\\nepali_notetaker_package\\\\DataSet\\\\asr_nepali_0\\\\asr_nepali\\\\data\\\\00\\\\006c4b9a60.flac', '006c99c215': 'd:\\\\nepali_notetaker_project\\\\nepali_notetaker_package\\\\DataSet\\\\asr_nepali_0\\\\asr_nepali\\\\data\\\\00\\\\006c99c215.flac', '006cb12fd3': 'd:\\\\nepali_notetaker_project\\\\nepali_notetaker_package\\\\DataSet\\\\asr_nepali_0\\\\asr_nepali\\\\data\\\\00\\\\006cb12fd3.flac', '006cc62ead': 'd:\\\\nepali_notetaker_project\\\\nepali_notetaker_package\\\\DataSet\\\\asr_nepali_0\\\\asr_nepali\\\\data\\\\00\\\\006cc62ead.flac', '006cce4997': 'd:\\\\nepali_notetaker_project\\\\nepali_notetaker_package\\\\DataSet\\\\asr_nepali_0\\\\asr_nepali\\\\data\\\\00\\\\006cce4997.flac', '006d188640': 'd:\\\\nepali_notetaker_project\\\\nepali_notetaker_package\\\\DataSet\\\\asr_nepali_0\\\\asr_nepali\\\\data\\\\00\\\\006d188640.flac', '006dcbf209': 'd:\\\\nepali_notetaker_project\\\\nepali_notetaker_package\\\\DataSet\\\\asr_nepali_0\\\\asr_nepali\\\\data\\\\00\\\\006dcbf209.flac', '006e126b7f': 'd:\\\\nepali_notetaker_project\\\\nepali_notetaker_package\\\\DataSet\\\\asr_nepali_0\\\\asr_nepali\\\\data\\\\00\\\\006e126b7f.flac', '006e67532f': 'd:\\\\nepali_notetaker_project\\\\nepali_notetaker_package\\\\DataSet\\\\asr_nepali_0\\\\asr_nepali\\\\data\\\\00\\\\006e67532f.flac', '006f4f5394': 'd:\\\\nepali_notetaker_project\\\\nepali_notetaker_package\\\\DataSet\\\\asr_nepali_0\\\\asr_nepali\\\\data\\\\00\\\\006f4f5394.flac', '006fa22a05': 'd:\\\\nepali_notetaker_project\\\\nepali_notetaker_package\\\\DataSet\\\\asr_nepali_0\\\\asr_nepali\\\\data\\\\00\\\\006fa22a05.flac', '006fe27b4c': 'd:\\\\nepali_notetaker_project\\\\nepali_notetaker_package\\\\DataSet\\\\asr_nepali_0\\\\asr_nepali\\\\data\\\\00\\\\006fe27b4c.flac', '00700398a5': 'd:\\\\nepali_notetaker_project\\\\nepali_notetaker_package\\\\DataSet\\\\asr_nepali_0\\\\asr_nepali\\\\data\\\\00\\\\00700398a5.flac', '007055aacf': 'd:\\\\nepali_notetaker_project\\\\nepali_notetaker_package\\\\DataSet\\\\asr_nepali_0\\\\asr_nepali\\\\data\\\\00\\\\007055aacf.flac', '0071083d08': 'd:\\\\nepali_notetaker_project\\\\nepali_notetaker_package\\\\DataSet\\\\asr_nepali_0\\\\asr_nepali\\\\data\\\\00\\\\0071083d08.flac', '0071207b9a': 'd:\\\\nepali_notetaker_project\\\\nepali_notetaker_package\\\\DataSet\\\\asr_nepali_0\\\\asr_nepali\\\\data\\\\00\\\\0071207b9a.flac', '007169b909': 'd:\\\\nepali_notetaker_project\\\\nepali_notetaker_package\\\\DataSet\\\\asr_nepali_0\\\\asr_nepali\\\\data\\\\00\\\\007169b909.flac', '0071a71da8': 'd:\\\\nepali_notetaker_project\\\\nepali_notetaker_package\\\\DataSet\\\\asr_nepali_0\\\\asr_nepali\\\\data\\\\00\\\\0071a71da8.flac', '00725c6772': 'd:\\\\nepali_notetaker_project\\\\nepali_notetaker_package\\\\DataSet\\\\asr_nepali_0\\\\asr_nepali\\\\data\\\\00\\\\00725c6772.flac', '00728399f6': 'd:\\\\nepali_notetaker_project\\\\nepali_notetaker_package\\\\DataSet\\\\asr_nepali_0\\\\asr_nepali\\\\data\\\\00\\\\00728399f6.flac', '00735959ec': 'd:\\\\nepali_notetaker_project\\\\nepali_notetaker_package\\\\DataSet\\\\asr_nepali_0\\\\asr_nepali\\\\data\\\\00\\\\00735959ec.flac', '0073f3ec94': 'd:\\\\nepali_notetaker_project\\\\nepali_notetaker_package\\\\DataSet\\\\asr_nepali_0\\\\asr_nepali\\\\data\\\\00\\\\0073f3ec94.flac', '00741a0bdd': 'd:\\\\nepali_notetaker_project\\\\nepali_notetaker_package\\\\DataSet\\\\asr_nepali_0\\\\asr_nepali\\\\data\\\\00\\\\00741a0bdd.flac', '0074941145': 'd:\\\\nepali_notetaker_project\\\\nepali_notetaker_package\\\\DataSet\\\\asr_nepali_0\\\\asr_nepali\\\\data\\\\00\\\\0074941145.flac', '0074951921': 'd:\\\\nepali_notetaker_project\\\\nepali_notetaker_package\\\\DataSet\\\\asr_nepali_0\\\\asr_nepali\\\\data\\\\00\\\\0074951921.flac', '0074bb98f0': 'd:\\\\nepali_notetaker_project\\\\nepali_notetaker_package\\\\DataSet\\\\asr_nepali_0\\\\asr_nepali\\\\data\\\\00\\\\0074bb98f0.flac', '0074f60ce3': 'd:\\\\nepali_notetaker_project\\\\nepali_notetaker_package\\\\DataSet\\\\asr_nepali_0\\\\asr_nepali\\\\data\\\\00\\\\0074f60ce3.flac', '0075ae6170': 'd:\\\\nepali_notetaker_project\\\\nepali_notetaker_package\\\\DataSet\\\\asr_nepali_0\\\\asr_nepali\\\\data\\\\00\\\\0075ae6170.flac', '0075d750cb': 'd:\\\\nepali_notetaker_project\\\\nepali_notetaker_package\\\\DataSet\\\\asr_nepali_0\\\\asr_nepali\\\\data\\\\00\\\\0075d750cb.flac', '0075e8448c': 'd:\\\\nepali_notetaker_project\\\\nepali_notetaker_package\\\\DataSet\\\\asr_nepali_0\\\\asr_nepali\\\\data\\\\00\\\\0075e8448c.flac', '007658a342': 'd:\\\\nepali_notetaker_project\\\\nepali_notetaker_package\\\\DataSet\\\\asr_nepali_0\\\\asr_nepali\\\\data\\\\00\\\\007658a342.flac', '007668dc2f': 'd:\\\\nepali_notetaker_project\\\\nepali_notetaker_package\\\\DataSet\\\\asr_nepali_0\\\\asr_nepali\\\\data\\\\00\\\\007668dc2f.flac', '0076aeb41c': 'd:\\\\nepali_notetaker_project\\\\nepali_notetaker_package\\\\DataSet\\\\asr_nepali_0\\\\asr_nepali\\\\data\\\\00\\\\0076aeb41c.flac', '0076c1bd01': 'd:\\\\nepali_notetaker_project\\\\nepali_notetaker_package\\\\DataSet\\\\asr_nepali_0\\\\asr_nepali\\\\data\\\\00\\\\0076c1bd01.flac', '0076fa017b': 'd:\\\\nepali_notetaker_project\\\\nepali_notetaker_package\\\\DataSet\\\\asr_nepali_0\\\\asr_nepali\\\\data\\\\00\\\\0076fa017b.flac', '00772a60b9': 'd:\\\\nepali_notetaker_project\\\\nepali_notetaker_package\\\\DataSet\\\\asr_nepali_0\\\\asr_nepali\\\\data\\\\00\\\\00772a60b9.flac', '0077ba5098': 'd:\\\\nepali_notetaker_project\\\\nepali_notetaker_package\\\\DataSet\\\\asr_nepali_0\\\\asr_nepali\\\\data\\\\00\\\\0077ba5098.flac', '00787822ac': 'd:\\\\nepali_notetaker_project\\\\nepali_notetaker_package\\\\DataSet\\\\asr_nepali_0\\\\asr_nepali\\\\data\\\\00\\\\00787822ac.flac', '00789e449f': 'd:\\\\nepali_notetaker_project\\\\nepali_notetaker_package\\\\DataSet\\\\asr_nepali_0\\\\asr_nepali\\\\data\\\\00\\\\00789e449f.flac', '00794066ec': 'd:\\\\nepali_notetaker_project\\\\nepali_notetaker_package\\\\DataSet\\\\asr_nepali_0\\\\asr_nepali\\\\data\\\\00\\\\00794066ec.flac', '00794a22fd': 'd:\\\\nepali_notetaker_project\\\\nepali_notetaker_package\\\\DataSet\\\\asr_nepali_0\\\\asr_nepali\\\\data\\\\00\\\\00794a22fd.flac', '0079820807': 'd:\\\\nepali_notetaker_project\\\\nepali_notetaker_package\\\\DataSet\\\\asr_nepali_0\\\\asr_nepali\\\\data\\\\00\\\\0079820807.flac', '00798e53d6': 'd:\\\\nepali_notetaker_project\\\\nepali_notetaker_package\\\\DataSet\\\\asr_nepali_0\\\\asr_nepali\\\\data\\\\00\\\\00798e53d6.flac', '007a5a8c03': 'd:\\\\nepali_notetaker_project\\\\nepali_notetaker_package\\\\DataSet\\\\asr_nepali_0\\\\asr_nepali\\\\data\\\\00\\\\007a5a8c03.flac', '007afadd19': 'd:\\\\nepali_notetaker_project\\\\nepali_notetaker_package\\\\DataSet\\\\asr_nepali_0\\\\asr_nepali\\\\data\\\\00\\\\007afadd19.flac', '007b011c89': 'd:\\\\nepali_notetaker_project\\\\nepali_notetaker_package\\\\DataSet\\\\asr_nepali_0\\\\asr_nepali\\\\data\\\\00\\\\007b011c89.flac', '007b1b872b': 'd:\\\\nepali_notetaker_project\\\\nepali_notetaker_package\\\\DataSet\\\\asr_nepali_0\\\\asr_nepali\\\\data\\\\00\\\\007b1b872b.flac', '007b34260d': 'd:\\\\nepali_notetaker_project\\\\nepali_notetaker_package\\\\DataSet\\\\asr_nepali_0\\\\asr_nepali\\\\data\\\\00\\\\007b34260d.flac', '007c2c6e9d': 'd:\\\\nepali_notetaker_project\\\\nepali_notetaker_package\\\\DataSet\\\\asr_nepali_0\\\\asr_nepali\\\\data\\\\00\\\\007c2c6e9d.flac', '007cac7ce2': 'd:\\\\nepali_notetaker_project\\\\nepali_notetaker_package\\\\DataSet\\\\asr_nepali_0\\\\asr_nepali\\\\data\\\\00\\\\007cac7ce2.flac', '007dc08844': 'd:\\\\nepali_notetaker_project\\\\nepali_notetaker_package\\\\DataSet\\\\asr_nepali_0\\\\asr_nepali\\\\data\\\\00\\\\007dc08844.flac', '007e2ce2b9': 'd:\\\\nepali_notetaker_project\\\\nepali_notetaker_package\\\\DataSet\\\\asr_nepali_0\\\\asr_nepali\\\\data\\\\00\\\\007e2ce2b9.flac', '007e419b2e': 'd:\\\\nepali_notetaker_project\\\\nepali_notetaker_package\\\\DataSet\\\\asr_nepali_0\\\\asr_nepali\\\\data\\\\00\\\\007e419b2e.flac', '007e72e734': 'd:\\\\nepali_notetaker_project\\\\nepali_notetaker_package\\\\DataSet\\\\asr_nepali_0\\\\asr_nepali\\\\data\\\\00\\\\007e72e734.flac', '007f200d31': 'd:\\\\nepali_notetaker_project\\\\nepali_notetaker_package\\\\DataSet\\\\asr_nepali_0\\\\asr_nepali\\\\data\\\\00\\\\007f200d31.flac', '007f4447ee': 'd:\\\\nepali_notetaker_project\\\\nepali_notetaker_package\\\\DataSet\\\\asr_nepali_0\\\\asr_nepali\\\\data\\\\00\\\\007f4447ee.flac', '007f615855': 'd:\\\\nepali_notetaker_project\\\\nepali_notetaker_package\\\\DataSet\\\\asr_nepali_0\\\\asr_nepali\\\\data\\\\00\\\\007f615855.flac', '00809f5567': 'd:\\\\nepali_notetaker_project\\\\nepali_notetaker_package\\\\DataSet\\\\asr_nepali_0\\\\asr_nepali\\\\data\\\\00\\\\00809f5567.flac', '0080affd23': 'd:\\\\nepali_notetaker_project\\\\nepali_notetaker_package\\\\DataSet\\\\asr_nepali_0\\\\asr_nepali\\\\data\\\\00\\\\0080affd23.flac', '0081748bf9': 'd:\\\\nepali_notetaker_project\\\\nepali_notetaker_package\\\\DataSet\\\\asr_nepali_0\\\\asr_nepali\\\\data\\\\00\\\\0081748bf9.flac', '0081e89880': 'd:\\\\nepali_notetaker_project\\\\nepali_notetaker_package\\\\DataSet\\\\asr_nepali_0\\\\asr_nepali\\\\data\\\\00\\\\0081e89880.flac', '0082097f7d': 'd:\\\\nepali_notetaker_project\\\\nepali_notetaker_package\\\\DataSet\\\\asr_nepali_0\\\\asr_nepali\\\\data\\\\00\\\\0082097f7d.flac', '0082209f7f': 'd:\\\\nepali_notetaker_project\\\\nepali_notetaker_package\\\\DataSet\\\\asr_nepali_0\\\\asr_nepali\\\\data\\\\00\\\\0082209f7f.flac', '00826a669d': 'd:\\\\nepali_notetaker_project\\\\nepali_notetaker_package\\\\DataSet\\\\asr_nepali_0\\\\asr_nepali\\\\data\\\\00\\\\00826a669d.flac', '0083e30e8a': 'd:\\\\nepali_notetaker_project\\\\nepali_notetaker_package\\\\DataSet\\\\asr_nepali_0\\\\asr_nepali\\\\data\\\\00\\\\0083e30e8a.flac', '0084383a29': 'd:\\\\nepali_notetaker_project\\\\nepali_notetaker_package\\\\DataSet\\\\asr_nepali_0\\\\asr_nepali\\\\data\\\\00\\\\0084383a29.flac', '0084538fb6': 'd:\\\\nepali_notetaker_project\\\\nepali_notetaker_package\\\\DataSet\\\\asr_nepali_0\\\\asr_nepali\\\\data\\\\00\\\\0084538fb6.flac', '0084745793': 'd:\\\\nepali_notetaker_project\\\\nepali_notetaker_package\\\\DataSet\\\\asr_nepali_0\\\\asr_nepali\\\\data\\\\00\\\\0084745793.flac', '00848745a8': 'd:\\\\nepali_notetaker_project\\\\nepali_notetaker_package\\\\DataSet\\\\asr_nepali_0\\\\asr_nepali\\\\data\\\\00\\\\00848745a8.flac', '00849d0a5f': 'd:\\\\nepali_notetaker_project\\\\nepali_notetaker_package\\\\DataSet\\\\asr_nepali_0\\\\asr_nepali\\\\data\\\\00\\\\00849d0a5f.flac', '0084df7f44': 'd:\\\\nepali_notetaker_project\\\\nepali_notetaker_package\\\\DataSet\\\\asr_nepali_0\\\\asr_nepali\\\\data\\\\00\\\\0084df7f44.flac', '008503f6b6': 'd:\\\\nepali_notetaker_project\\\\nepali_notetaker_package\\\\DataSet\\\\asr_nepali_0\\\\asr_nepali\\\\data\\\\00\\\\008503f6b6.flac', '008520f056': 'd:\\\\nepali_notetaker_project\\\\nepali_notetaker_package\\\\DataSet\\\\asr_nepali_0\\\\asr_nepali\\\\data\\\\00\\\\008520f056.flac', '0085652e7d': 'd:\\\\nepali_notetaker_project\\\\nepali_notetaker_package\\\\DataSet\\\\asr_nepali_0\\\\asr_nepali\\\\data\\\\00\\\\0085652e7d.flac', '0085a2cfbd': 'd:\\\\nepali_notetaker_project\\\\nepali_notetaker_package\\\\DataSet\\\\asr_nepali_0\\\\asr_nepali\\\\data\\\\00\\\\0085a2cfbd.flac', '0085e3b43f': 'd:\\\\nepali_notetaker_project\\\\nepali_notetaker_package\\\\DataSet\\\\asr_nepali_0\\\\asr_nepali\\\\data\\\\00\\\\0085e3b43f.flac', '00866e3f11': 'd:\\\\nepali_notetaker_project\\\\nepali_notetaker_package\\\\DataSet\\\\asr_nepali_0\\\\asr_nepali\\\\data\\\\00\\\\00866e3f11.flac', '00867c189f': 'd:\\\\nepali_notetaker_project\\\\nepali_notetaker_package\\\\DataSet\\\\asr_nepali_0\\\\asr_nepali\\\\data\\\\00\\\\00867c189f.flac', '0086d92065': 'd:\\\\nepali_notetaker_project\\\\nepali_notetaker_package\\\\DataSet\\\\asr_nepali_0\\\\asr_nepali\\\\data\\\\00\\\\0086d92065.flac', '0087593a85': 'd:\\\\nepali_notetaker_project\\\\nepali_notetaker_package\\\\DataSet\\\\asr_nepali_0\\\\asr_nepali\\\\data\\\\00\\\\0087593a85.flac', '008810de9d': 'd:\\\\nepali_notetaker_project\\\\nepali_notetaker_package\\\\DataSet\\\\asr_nepali_0\\\\asr_nepali\\\\data\\\\00\\\\008810de9d.flac', '0088aef87c': 'd:\\\\nepali_notetaker_project\\\\nepali_notetaker_package\\\\DataSet\\\\asr_nepali_0\\\\asr_nepali\\\\data\\\\00\\\\0088aef87c.flac', '0089015a1a': 'd:\\\\nepali_notetaker_project\\\\nepali_notetaker_package\\\\DataSet\\\\asr_nepali_0\\\\asr_nepali\\\\data\\\\00\\\\0089015a1a.flac', '00893b5260': 'd:\\\\nepali_notetaker_project\\\\nepali_notetaker_package\\\\DataSet\\\\asr_nepali_0\\\\asr_nepali\\\\data\\\\00\\\\00893b5260.flac', '0089c0341a': 'd:\\\\nepali_notetaker_project\\\\nepali_notetaker_package\\\\DataSet\\\\asr_nepali_0\\\\asr_nepali\\\\data\\\\00\\\\0089c0341a.flac', '008a7f879d': 'd:\\\\nepali_notetaker_project\\\\nepali_notetaker_package\\\\DataSet\\\\asr_nepali_0\\\\asr_nepali\\\\data\\\\00\\\\008a7f879d.flac', '008af38aba': 'd:\\\\nepali_notetaker_project\\\\nepali_notetaker_package\\\\DataSet\\\\asr_nepali_0\\\\asr_nepali\\\\data\\\\00\\\\008af38aba.flac', '008b58e75b': 'd:\\\\nepali_notetaker_project\\\\nepali_notetaker_package\\\\DataSet\\\\asr_nepali_0\\\\asr_nepali\\\\data\\\\00\\\\008b58e75b.flac', '008baab1ad': 'd:\\\\nepali_notetaker_project\\\\nepali_notetaker_package\\\\DataSet\\\\asr_nepali_0\\\\asr_nepali\\\\data\\\\00\\\\008baab1ad.flac', '008bc08d07': 'd:\\\\nepali_notetaker_project\\\\nepali_notetaker_package\\\\DataSet\\\\asr_nepali_0\\\\asr_nepali\\\\data\\\\00\\\\008bc08d07.flac', '008c17f698': 'd:\\\\nepali_notetaker_project\\\\nepali_notetaker_package\\\\DataSet\\\\asr_nepali_0\\\\asr_nepali\\\\data\\\\00\\\\008c17f698.flac', '008c31e8ab': 'd:\\\\nepali_notetaker_project\\\\nepali_notetaker_package\\\\DataSet\\\\asr_nepali_0\\\\asr_nepali\\\\data\\\\00\\\\008c31e8ab.flac', '008c6ed8b1': 'd:\\\\nepali_notetaker_project\\\\nepali_notetaker_package\\\\DataSet\\\\asr_nepali_0\\\\asr_nepali\\\\data\\\\00\\\\008c6ed8b1.flac', '008c945205': 'd:\\\\nepali_notetaker_project\\\\nepali_notetaker_package\\\\DataSet\\\\asr_nepali_0\\\\asr_nepali\\\\data\\\\00\\\\008c945205.flac', '008d4cc604': 'd:\\\\nepali_notetaker_project\\\\nepali_notetaker_package\\\\DataSet\\\\asr_nepali_0\\\\asr_nepali\\\\data\\\\00\\\\008d4cc604.flac', '008d6ce74e': 'd:\\\\nepali_notetaker_project\\\\nepali_notetaker_package\\\\DataSet\\\\asr_nepali_0\\\\asr_nepali\\\\data\\\\00\\\\008d6ce74e.flac', '008d96572b': 'd:\\\\nepali_notetaker_project\\\\nepali_notetaker_package\\\\DataSet\\\\asr_nepali_0\\\\asr_nepali\\\\data\\\\00\\\\008d96572b.flac', '008e71c1af': 'd:\\\\nepali_notetaker_project\\\\nepali_notetaker_package\\\\DataSet\\\\asr_nepali_0\\\\asr_nepali\\\\data\\\\00\\\\008e71c1af.flac', '008ea66b14': 'd:\\\\nepali_notetaker_project\\\\nepali_notetaker_package\\\\DataSet\\\\asr_nepali_0\\\\asr_nepali\\\\data\\\\00\\\\008ea66b14.flac', '008eb9a190': 'd:\\\\nepali_notetaker_project\\\\nepali_notetaker_package\\\\DataSet\\\\asr_nepali_0\\\\asr_nepali\\\\data\\\\00\\\\008eb9a190.flac', '008eee7b02': 'd:\\\\nepali_notetaker_project\\\\nepali_notetaker_package\\\\DataSet\\\\asr_nepali_0\\\\asr_nepali\\\\data\\\\00\\\\008eee7b02.flac', '008ef1abf7': 'd:\\\\nepali_notetaker_project\\\\nepali_notetaker_package\\\\DataSet\\\\asr_nepali_0\\\\asr_nepali\\\\data\\\\00\\\\008ef1abf7.flac', '008effa699': 'd:\\\\nepali_notetaker_project\\\\nepali_notetaker_package\\\\DataSet\\\\asr_nepali_0\\\\asr_nepali\\\\data\\\\00\\\\008effa699.flac', '008f0b5228': 'd:\\\\nepali_notetaker_project\\\\nepali_notetaker_package\\\\DataSet\\\\asr_nepali_0\\\\asr_nepali\\\\data\\\\00\\\\008f0b5228.flac', '008f2e2b4e': 'd:\\\\nepali_notetaker_project\\\\nepali_notetaker_package\\\\DataSet\\\\asr_nepali_0\\\\asr_nepali\\\\data\\\\00\\\\008f2e2b4e.flac', '008fe722ca': 'd:\\\\nepali_notetaker_project\\\\nepali_notetaker_package\\\\DataSet\\\\asr_nepali_0\\\\asr_nepali\\\\data\\\\00\\\\008fe722ca.flac', '0090cceafe': 'd:\\\\nepali_notetaker_project\\\\nepali_notetaker_package\\\\DataSet\\\\asr_nepali_0\\\\asr_nepali\\\\data\\\\00\\\\0090cceafe.flac', '0090dec475': 'd:\\\\nepali_notetaker_project\\\\nepali_notetaker_package\\\\DataSet\\\\asr_nepali_0\\\\asr_nepali\\\\data\\\\00\\\\0090dec475.flac', '0093bbbf85': 'd:\\\\nepali_notetaker_project\\\\nepali_notetaker_package\\\\DataSet\\\\asr_nepali_0\\\\asr_nepali\\\\data\\\\00\\\\0093bbbf85.flac', '0093c0debc': 'd:\\\\nepali_notetaker_project\\\\nepali_notetaker_package\\\\DataSet\\\\asr_nepali_0\\\\asr_nepali\\\\data\\\\00\\\\0093c0debc.flac', '00945443ee': 'd:\\\\nepali_notetaker_project\\\\nepali_notetaker_package\\\\DataSet\\\\asr_nepali_0\\\\asr_nepali\\\\data\\\\00\\\\00945443ee.flac', '009461187d': 'd:\\\\nepali_notetaker_project\\\\nepali_notetaker_package\\\\DataSet\\\\asr_nepali_0\\\\asr_nepali\\\\data\\\\00\\\\009461187d.flac', '0094bbba5d': 'd:\\\\nepali_notetaker_project\\\\nepali_notetaker_package\\\\DataSet\\\\asr_nepali_0\\\\asr_nepali\\\\data\\\\00\\\\0094bbba5d.flac', '009547ce60': 'd:\\\\nepali_notetaker_project\\\\nepali_notetaker_package\\\\DataSet\\\\asr_nepali_0\\\\asr_nepali\\\\data\\\\00\\\\009547ce60.flac', '009562cd5c': 'd:\\\\nepali_notetaker_project\\\\nepali_notetaker_package\\\\DataSet\\\\asr_nepali_0\\\\asr_nepali\\\\data\\\\00\\\\009562cd5c.flac', '00959e7b6b': 'd:\\\\nepali_notetaker_project\\\\nepali_notetaker_package\\\\DataSet\\\\asr_nepali_0\\\\asr_nepali\\\\data\\\\00\\\\00959e7b6b.flac', '00965969ae': 'd:\\\\nepali_notetaker_project\\\\nepali_notetaker_package\\\\DataSet\\\\asr_nepali_0\\\\asr_nepali\\\\data\\\\00\\\\00965969ae.flac', '00966fcbba': 'd:\\\\nepali_notetaker_project\\\\nepali_notetaker_package\\\\DataSet\\\\asr_nepali_0\\\\asr_nepali\\\\data\\\\00\\\\00966fcbba.flac', '0096b358b5': 'd:\\\\nepali_notetaker_project\\\\nepali_notetaker_package\\\\DataSet\\\\asr_nepali_0\\\\asr_nepali\\\\data\\\\00\\\\0096b358b5.flac', '0096ca8f83': 'd:\\\\nepali_notetaker_project\\\\nepali_notetaker_package\\\\DataSet\\\\asr_nepali_0\\\\asr_nepali\\\\data\\\\00\\\\0096ca8f83.flac', '00977957bd': 'd:\\\\nepali_notetaker_project\\\\nepali_notetaker_package\\\\DataSet\\\\asr_nepali_0\\\\asr_nepali\\\\data\\\\00\\\\00977957bd.flac', '0097aa1096': 'd:\\\\nepali_notetaker_project\\\\nepali_notetaker_package\\\\DataSet\\\\asr_nepali_0\\\\asr_nepali\\\\data\\\\00\\\\0097aa1096.flac', '0097dfcf17': 'd:\\\\nepali_notetaker_project\\\\nepali_notetaker_package\\\\DataSet\\\\asr_nepali_0\\\\asr_nepali\\\\data\\\\00\\\\0097dfcf17.flac', '00980d0df7': 'd:\\\\nepali_notetaker_project\\\\nepali_notetaker_package\\\\DataSet\\\\asr_nepali_0\\\\asr_nepali\\\\data\\\\00\\\\00980d0df7.flac', '0098d95c74': 'd:\\\\nepali_notetaker_project\\\\nepali_notetaker_package\\\\DataSet\\\\asr_nepali_0\\\\asr_nepali\\\\data\\\\00\\\\0098d95c74.flac', '0099106657': 'd:\\\\nepali_notetaker_project\\\\nepali_notetaker_package\\\\DataSet\\\\asr_nepali_0\\\\asr_nepali\\\\data\\\\00\\\\0099106657.flac', '00994de24b': 'd:\\\\nepali_notetaker_project\\\\nepali_notetaker_package\\\\DataSet\\\\asr_nepali_0\\\\asr_nepali\\\\data\\\\00\\\\00994de24b.flac', '0099d2bf19': 'd:\\\\nepali_notetaker_project\\\\nepali_notetaker_package\\\\DataSet\\\\asr_nepali_0\\\\asr_nepali\\\\data\\\\00\\\\0099d2bf19.flac', '0099e5bdb9': 'd:\\\\nepali_notetaker_project\\\\nepali_notetaker_package\\\\DataSet\\\\asr_nepali_0\\\\asr_nepali\\\\data\\\\00\\\\0099e5bdb9.flac', '009a021db4': 'd:\\\\nepali_notetaker_project\\\\nepali_notetaker_package\\\\DataSet\\\\asr_nepali_0\\\\asr_nepali\\\\data\\\\00\\\\009a021db4.flac', '009a9a44aa': 'd:\\\\nepali_notetaker_project\\\\nepali_notetaker_package\\\\DataSet\\\\asr_nepali_0\\\\asr_nepali\\\\data\\\\00\\\\009a9a44aa.flac', '009a9d1b4f': 'd:\\\\nepali_notetaker_project\\\\nepali_notetaker_package\\\\DataSet\\\\asr_nepali_0\\\\asr_nepali\\\\data\\\\00\\\\009a9d1b4f.flac', '009aada553': 'd:\\\\nepali_notetaker_project\\\\nepali_notetaker_package\\\\DataSet\\\\asr_nepali_0\\\\asr_nepali\\\\data\\\\00\\\\009aada553.flac', '009b07fdc1': 'd:\\\\nepali_notetaker_project\\\\nepali_notetaker_package\\\\DataSet\\\\asr_nepali_0\\\\asr_nepali\\\\data\\\\00\\\\009b07fdc1.flac', '009b9c916f': 'd:\\\\nepali_notetaker_project\\\\nepali_notetaker_package\\\\DataSet\\\\asr_nepali_0\\\\asr_nepali\\\\data\\\\00\\\\009b9c916f.flac', '009be5e633': 'd:\\\\nepali_notetaker_project\\\\nepali_notetaker_package\\\\DataSet\\\\asr_nepali_0\\\\asr_nepali\\\\data\\\\00\\\\009be5e633.flac', '009c46e55a': 'd:\\\\nepali_notetaker_project\\\\nepali_notetaker_package\\\\DataSet\\\\asr_nepali_0\\\\asr_nepali\\\\data\\\\00\\\\009c46e55a.flac', '009c6f4dfd': 'd:\\\\nepali_notetaker_project\\\\nepali_notetaker_package\\\\DataSet\\\\asr_nepali_0\\\\asr_nepali\\\\data\\\\00\\\\009c6f4dfd.flac', '009ceb2a8b': 'd:\\\\nepali_notetaker_project\\\\nepali_notetaker_package\\\\DataSet\\\\asr_nepali_0\\\\asr_nepali\\\\data\\\\00\\\\009ceb2a8b.flac', '009df49393': 'd:\\\\nepali_notetaker_project\\\\nepali_notetaker_package\\\\DataSet\\\\asr_nepali_0\\\\asr_nepali\\\\data\\\\00\\\\009df49393.flac', '009ece1528': 'd:\\\\nepali_notetaker_project\\\\nepali_notetaker_package\\\\DataSet\\\\asr_nepali_0\\\\asr_nepali\\\\data\\\\00\\\\009ece1528.flac', '009f053316': 'd:\\\\nepali_notetaker_project\\\\nepali_notetaker_package\\\\DataSet\\\\asr_nepali_0\\\\asr_nepali\\\\data\\\\00\\\\009f053316.flac', '009f535ff3': 'd:\\\\nepali_notetaker_project\\\\nepali_notetaker_package\\\\DataSet\\\\asr_nepali_0\\\\asr_nepali\\\\data\\\\00\\\\009f535ff3.flac', '009f53f0a8': 'd:\\\\nepali_notetaker_project\\\\nepali_notetaker_package\\\\DataSet\\\\asr_nepali_0\\\\asr_nepali\\\\data\\\\00\\\\009f53f0a8.flac', '009f5f24f5': 'd:\\\\nepali_notetaker_project\\\\nepali_notetaker_package\\\\DataSet\\\\asr_nepali_0\\\\asr_nepali\\\\data\\\\00\\\\009f5f24f5.flac', '009f5fcb64': 'd:\\\\nepali_notetaker_project\\\\nepali_notetaker_package\\\\DataSet\\\\asr_nepali_0\\\\asr_nepali\\\\data\\\\00\\\\009f5fcb64.flac', '009f8ebc71': 'd:\\\\nepali_notetaker_project\\\\nepali_notetaker_package\\\\DataSet\\\\asr_nepali_0\\\\asr_nepali\\\\data\\\\00\\\\009f8ebc71.flac', '00a03a6d0a': 'd:\\\\nepali_notetaker_project\\\\nepali_notetaker_package\\\\DataSet\\\\asr_nepali_0\\\\asr_nepali\\\\data\\\\00\\\\00a03a6d0a.flac', '00a12fdd22': 'd:\\\\nepali_notetaker_project\\\\nepali_notetaker_package\\\\DataSet\\\\asr_nepali_0\\\\asr_nepali\\\\data\\\\00\\\\00a12fdd22.flac', '00a154bfae': 'd:\\\\nepali_notetaker_project\\\\nepali_notetaker_package\\\\DataSet\\\\asr_nepali_0\\\\asr_nepali\\\\data\\\\00\\\\00a154bfae.flac', '00a1690992': 'd:\\\\nepali_notetaker_project\\\\nepali_notetaker_package\\\\DataSet\\\\asr_nepali_0\\\\asr_nepali\\\\data\\\\00\\\\00a1690992.flac', '00a1eff535': 'd:\\\\nepali_notetaker_project\\\\nepali_notetaker_package\\\\DataSet\\\\asr_nepali_0\\\\asr_nepali\\\\data\\\\00\\\\00a1eff535.flac', '00a1f8a9cc': 'd:\\\\nepali_notetaker_project\\\\nepali_notetaker_package\\\\DataSet\\\\asr_nepali_0\\\\asr_nepali\\\\data\\\\00\\\\00a1f8a9cc.flac', '00a2b01b40': 'd:\\\\nepali_notetaker_project\\\\nepali_notetaker_package\\\\DataSet\\\\asr_nepali_0\\\\asr_nepali\\\\data\\\\00\\\\00a2b01b40.flac', '00a2e7238f': 'd:\\\\nepali_notetaker_project\\\\nepali_notetaker_package\\\\DataSet\\\\asr_nepali_0\\\\asr_nepali\\\\data\\\\00\\\\00a2e7238f.flac', '00a4929082': 'd:\\\\nepali_notetaker_project\\\\nepali_notetaker_package\\\\DataSet\\\\asr_nepali_0\\\\asr_nepali\\\\data\\\\00\\\\00a4929082.flac', '00a49d7c51': 'd:\\\\nepali_notetaker_project\\\\nepali_notetaker_package\\\\DataSet\\\\asr_nepali_0\\\\asr_nepali\\\\data\\\\00\\\\00a49d7c51.flac', '00a4e62268': 'd:\\\\nepali_notetaker_project\\\\nepali_notetaker_package\\\\DataSet\\\\asr_nepali_0\\\\asr_nepali\\\\data\\\\00\\\\00a4e62268.flac', '00a581373f': 'd:\\\\nepali_notetaker_project\\\\nepali_notetaker_package\\\\DataSet\\\\asr_nepali_0\\\\asr_nepali\\\\data\\\\00\\\\00a581373f.flac', '00a63d1092': 'd:\\\\nepali_notetaker_project\\\\nepali_notetaker_package\\\\DataSet\\\\asr_nepali_0\\\\asr_nepali\\\\data\\\\00\\\\00a63d1092.flac', '00a6a08087': 'd:\\\\nepali_notetaker_project\\\\nepali_notetaker_package\\\\DataSet\\\\asr_nepali_0\\\\asr_nepali\\\\data\\\\00\\\\00a6a08087.flac', '00a6ff8c66': 'd:\\\\nepali_notetaker_project\\\\nepali_notetaker_package\\\\DataSet\\\\asr_nepali_0\\\\asr_nepali\\\\data\\\\00\\\\00a6ff8c66.flac', '00a7533f0f': 'd:\\\\nepali_notetaker_project\\\\nepali_notetaker_package\\\\DataSet\\\\asr_nepali_0\\\\asr_nepali\\\\data\\\\00\\\\00a7533f0f.flac', '00a7a2549a': 'd:\\\\nepali_notetaker_project\\\\nepali_notetaker_package\\\\DataSet\\\\asr_nepali_0\\\\asr_nepali\\\\data\\\\00\\\\00a7a2549a.flac', '00a7d4ccea': 'd:\\\\nepali_notetaker_project\\\\nepali_notetaker_package\\\\DataSet\\\\asr_nepali_0\\\\asr_nepali\\\\data\\\\00\\\\00a7d4ccea.flac', '00a7dabef2': 'd:\\\\nepali_notetaker_project\\\\nepali_notetaker_package\\\\DataSet\\\\asr_nepali_0\\\\asr_nepali\\\\data\\\\00\\\\00a7dabef2.flac', '00a8073bc2': 'd:\\\\nepali_notetaker_project\\\\nepali_notetaker_package\\\\DataSet\\\\asr_nepali_0\\\\asr_nepali\\\\data\\\\00\\\\00a8073bc2.flac', '00a80b4c8a': 'd:\\\\nepali_notetaker_project\\\\nepali_notetaker_package\\\\DataSet\\\\asr_nepali_0\\\\asr_nepali\\\\data\\\\00\\\\00a80b4c8a.flac', '00a824abd5': 'd:\\\\nepali_notetaker_project\\\\nepali_notetaker_package\\\\DataSet\\\\asr_nepali_0\\\\asr_nepali\\\\data\\\\00\\\\00a824abd5.flac', '00a835435f': 'd:\\\\nepali_notetaker_project\\\\nepali_notetaker_package\\\\DataSet\\\\asr_nepali_0\\\\asr_nepali\\\\data\\\\00\\\\00a835435f.flac', '00a917dc40': 'd:\\\\nepali_notetaker_project\\\\nepali_notetaker_package\\\\DataSet\\\\asr_nepali_0\\\\asr_nepali\\\\data\\\\00\\\\00a917dc40.flac', '00a9397572': 'd:\\\\nepali_notetaker_project\\\\nepali_notetaker_package\\\\DataSet\\\\asr_nepali_0\\\\asr_nepali\\\\data\\\\00\\\\00a9397572.flac', '00a9723f3b': 'd:\\\\nepali_notetaker_project\\\\nepali_notetaker_package\\\\DataSet\\\\asr_nepali_0\\\\asr_nepali\\\\data\\\\00\\\\00a9723f3b.flac', '00a986dd27': 'd:\\\\nepali_notetaker_project\\\\nepali_notetaker_package\\\\DataSet\\\\asr_nepali_0\\\\asr_nepali\\\\data\\\\00\\\\00a986dd27.flac', '00a9f87d0d': 'd:\\\\nepali_notetaker_project\\\\nepali_notetaker_package\\\\DataSet\\\\asr_nepali_0\\\\asr_nepali\\\\data\\\\00\\\\00a9f87d0d.flac', '00aa27728b': 'd:\\\\nepali_notetaker_project\\\\nepali_notetaker_package\\\\DataSet\\\\asr_nepali_0\\\\asr_nepali\\\\data\\\\00\\\\00aa27728b.flac', '00aa43f669': 'd:\\\\nepali_notetaker_project\\\\nepali_notetaker_package\\\\DataSet\\\\asr_nepali_0\\\\asr_nepali\\\\data\\\\00\\\\00aa43f669.flac', '00aaa9c769': 'd:\\\\nepali_notetaker_project\\\\nepali_notetaker_package\\\\DataSet\\\\asr_nepali_0\\\\asr_nepali\\\\data\\\\00\\\\00aaa9c769.flac', '00ab0e6001': 'd:\\\\nepali_notetaker_project\\\\nepali_notetaker_package\\\\DataSet\\\\asr_nepali_0\\\\asr_nepali\\\\data\\\\00\\\\00ab0e6001.flac', '00ab13f949': 'd:\\\\nepali_notetaker_project\\\\nepali_notetaker_package\\\\DataSet\\\\asr_nepali_0\\\\asr_nepali\\\\data\\\\00\\\\00ab13f949.flac', '00ab3895f1': 'd:\\\\nepali_notetaker_project\\\\nepali_notetaker_package\\\\DataSet\\\\asr_nepali_0\\\\asr_nepali\\\\data\\\\00\\\\00ab3895f1.flac', '00ab74820e': 'd:\\\\nepali_notetaker_project\\\\nepali_notetaker_package\\\\DataSet\\\\asr_nepali_0\\\\asr_nepali\\\\data\\\\00\\\\00ab74820e.flac', '00abc8f067': 'd:\\\\nepali_notetaker_project\\\\nepali_notetaker_package\\\\DataSet\\\\asr_nepali_0\\\\asr_nepali\\\\data\\\\00\\\\00abc8f067.flac', '00ac6e8c9c': 'd:\\\\nepali_notetaker_project\\\\nepali_notetaker_package\\\\DataSet\\\\asr_nepali_0\\\\asr_nepali\\\\data\\\\00\\\\00ac6e8c9c.flac', '00acf6af98': 'd:\\\\nepali_notetaker_project\\\\nepali_notetaker_package\\\\DataSet\\\\asr_nepali_0\\\\asr_nepali\\\\data\\\\00\\\\00acf6af98.flac', '00ad5d31bd': 'd:\\\\nepali_notetaker_project\\\\nepali_notetaker_package\\\\DataSet\\\\asr_nepali_0\\\\asr_nepali\\\\data\\\\00\\\\00ad5d31bd.flac', '00ad6b53d3': 'd:\\\\nepali_notetaker_project\\\\nepali_notetaker_package\\\\DataSet\\\\asr_nepali_0\\\\asr_nepali\\\\data\\\\00\\\\00ad6b53d3.flac', '00ad922f03': 'd:\\\\nepali_notetaker_project\\\\nepali_notetaker_package\\\\DataSet\\\\asr_nepali_0\\\\asr_nepali\\\\data\\\\00\\\\00ad922f03.flac', '00ad9f58ee': 'd:\\\\nepali_notetaker_project\\\\nepali_notetaker_package\\\\DataSet\\\\asr_nepali_0\\\\asr_nepali\\\\data\\\\00\\\\00ad9f58ee.flac', '00adb74fe1': 'd:\\\\nepali_notetaker_project\\\\nepali_notetaker_package\\\\DataSet\\\\asr_nepali_0\\\\asr_nepali\\\\data\\\\00\\\\00adb74fe1.flac', '00adf15143': 'd:\\\\nepali_notetaker_project\\\\nepali_notetaker_package\\\\DataSet\\\\asr_nepali_0\\\\asr_nepali\\\\data\\\\00\\\\00adf15143.flac', '00adf5c131': 'd:\\\\nepali_notetaker_project\\\\nepali_notetaker_package\\\\DataSet\\\\asr_nepali_0\\\\asr_nepali\\\\data\\\\00\\\\00adf5c131.flac', '00af9d0ddc': 'd:\\\\nepali_notetaker_project\\\\nepali_notetaker_package\\\\DataSet\\\\asr_nepali_0\\\\asr_nepali\\\\data\\\\00\\\\00af9d0ddc.flac', '00b0d8f5ac': 'd:\\\\nepali_notetaker_project\\\\nepali_notetaker_package\\\\DataSet\\\\asr_nepali_0\\\\asr_nepali\\\\data\\\\00\\\\00b0d8f5ac.flac', '00b151d284': 'd:\\\\nepali_notetaker_project\\\\nepali_notetaker_package\\\\DataSet\\\\asr_nepali_0\\\\asr_nepali\\\\data\\\\00\\\\00b151d284.flac', '00b1d77c35': 'd:\\\\nepali_notetaker_project\\\\nepali_notetaker_package\\\\DataSet\\\\asr_nepali_0\\\\asr_nepali\\\\data\\\\00\\\\00b1d77c35.flac', '00b2086e26': 'd:\\\\nepali_notetaker_project\\\\nepali_notetaker_package\\\\DataSet\\\\asr_nepali_0\\\\asr_nepali\\\\data\\\\00\\\\00b2086e26.flac', '00b237b81a': 'd:\\\\nepali_notetaker_project\\\\nepali_notetaker_package\\\\DataSet\\\\asr_nepali_0\\\\asr_nepali\\\\data\\\\00\\\\00b237b81a.flac', '00b274b107': 'd:\\\\nepali_notetaker_project\\\\nepali_notetaker_package\\\\DataSet\\\\asr_nepali_0\\\\asr_nepali\\\\data\\\\00\\\\00b274b107.flac', '00b2a9bc64': 'd:\\\\nepali_notetaker_project\\\\nepali_notetaker_package\\\\DataSet\\\\asr_nepali_0\\\\asr_nepali\\\\data\\\\00\\\\00b2a9bc64.flac', '00b2ada74b': 'd:\\\\nepali_notetaker_project\\\\nepali_notetaker_package\\\\DataSet\\\\asr_nepali_0\\\\asr_nepali\\\\data\\\\00\\\\00b2ada74b.flac', '00b316fa0b': 'd:\\\\nepali_notetaker_project\\\\nepali_notetaker_package\\\\DataSet\\\\asr_nepali_0\\\\asr_nepali\\\\data\\\\00\\\\00b316fa0b.flac', '00b42b0a76': 'd:\\\\nepali_notetaker_project\\\\nepali_notetaker_package\\\\DataSet\\\\asr_nepali_0\\\\asr_nepali\\\\data\\\\00\\\\00b42b0a76.flac', '00b4314120': 'd:\\\\nepali_notetaker_project\\\\nepali_notetaker_package\\\\DataSet\\\\asr_nepali_0\\\\asr_nepali\\\\data\\\\00\\\\00b4314120.flac', '00b58764f4': 'd:\\\\nepali_notetaker_project\\\\nepali_notetaker_package\\\\DataSet\\\\asr_nepali_0\\\\asr_nepali\\\\data\\\\00\\\\00b58764f4.flac', '00b5c6734b': 'd:\\\\nepali_notetaker_project\\\\nepali_notetaker_package\\\\DataSet\\\\asr_nepali_0\\\\asr_nepali\\\\data\\\\00\\\\00b5c6734b.flac', '00b6823b6e': 'd:\\\\nepali_notetaker_project\\\\nepali_notetaker_package\\\\DataSet\\\\asr_nepali_0\\\\asr_nepali\\\\data\\\\00\\\\00b6823b6e.flac', '00b6900b3a': 'd:\\\\nepali_notetaker_project\\\\nepali_notetaker_package\\\\DataSet\\\\asr_nepali_0\\\\asr_nepali\\\\data\\\\00\\\\00b6900b3a.flac', '00b6c139ed': 'd:\\\\nepali_notetaker_project\\\\nepali_notetaker_package\\\\DataSet\\\\asr_nepali_0\\\\asr_nepali\\\\data\\\\00\\\\00b6c139ed.flac', '00b7073d6a': 'd:\\\\nepali_notetaker_project\\\\nepali_notetaker_package\\\\DataSet\\\\asr_nepali_0\\\\asr_nepali\\\\data\\\\00\\\\00b7073d6a.flac', '00b731d07d': 'd:\\\\nepali_notetaker_project\\\\nepali_notetaker_package\\\\DataSet\\\\asr_nepali_0\\\\asr_nepali\\\\data\\\\00\\\\00b731d07d.flac', '00b7517bb8': 'd:\\\\nepali_notetaker_project\\\\nepali_notetaker_package\\\\DataSet\\\\asr_nepali_0\\\\asr_nepali\\\\data\\\\00\\\\00b7517bb8.flac', '00b89c7bda': 'd:\\\\nepali_notetaker_project\\\\nepali_notetaker_package\\\\DataSet\\\\asr_nepali_0\\\\asr_nepali\\\\data\\\\00\\\\00b89c7bda.flac', '00b8bf6312': 'd:\\\\nepali_notetaker_project\\\\nepali_notetaker_package\\\\DataSet\\\\asr_nepali_0\\\\asr_nepali\\\\data\\\\00\\\\00b8bf6312.flac', '00b8d3ba57': 'd:\\\\nepali_notetaker_project\\\\nepali_notetaker_package\\\\DataSet\\\\asr_nepali_0\\\\asr_nepali\\\\data\\\\00\\\\00b8d3ba57.flac', '00b94d6ca5': 'd:\\\\nepali_notetaker_project\\\\nepali_notetaker_package\\\\DataSet\\\\asr_nepali_0\\\\asr_nepali\\\\data\\\\00\\\\00b94d6ca5.flac', '00b9c7d012': 'd:\\\\nepali_notetaker_project\\\\nepali_notetaker_package\\\\DataSet\\\\asr_nepali_0\\\\asr_nepali\\\\data\\\\00\\\\00b9c7d012.flac', '00ba3c8620': 'd:\\\\nepali_notetaker_project\\\\nepali_notetaker_package\\\\DataSet\\\\asr_nepali_0\\\\asr_nepali\\\\data\\\\00\\\\00ba3c8620.flac', '00ba7a800e': 'd:\\\\nepali_notetaker_project\\\\nepali_notetaker_package\\\\DataSet\\\\asr_nepali_0\\\\asr_nepali\\\\data\\\\00\\\\00ba7a800e.flac', '00bcf71c72': 'd:\\\\nepali_notetaker_project\\\\nepali_notetaker_package\\\\DataSet\\\\asr_nepali_0\\\\asr_nepali\\\\data\\\\00\\\\00bcf71c72.flac', '00bd0b375e': 'd:\\\\nepali_notetaker_project\\\\nepali_notetaker_package\\\\DataSet\\\\asr_nepali_0\\\\asr_nepali\\\\data\\\\00\\\\00bd0b375e.flac', '00bdaacfc5': 'd:\\\\nepali_notetaker_project\\\\nepali_notetaker_package\\\\DataSet\\\\asr_nepali_0\\\\asr_nepali\\\\data\\\\00\\\\00bdaacfc5.flac', '00bdb3dfd8': 'd:\\\\nepali_notetaker_project\\\\nepali_notetaker_package\\\\DataSet\\\\asr_nepali_0\\\\asr_nepali\\\\data\\\\00\\\\00bdb3dfd8.flac', '00bde165dc': 'd:\\\\nepali_notetaker_project\\\\nepali_notetaker_package\\\\DataSet\\\\asr_nepali_0\\\\asr_nepali\\\\data\\\\00\\\\00bde165dc.flac', '00be9fbd9c': 'd:\\\\nepali_notetaker_project\\\\nepali_notetaker_package\\\\DataSet\\\\asr_nepali_0\\\\asr_nepali\\\\data\\\\00\\\\00be9fbd9c.flac', '00bebc9408': 'd:\\\\nepali_notetaker_project\\\\nepali_notetaker_package\\\\DataSet\\\\asr_nepali_0\\\\asr_nepali\\\\data\\\\00\\\\00bebc9408.flac', '00bede9d9a': 'd:\\\\nepali_notetaker_project\\\\nepali_notetaker_package\\\\DataSet\\\\asr_nepali_0\\\\asr_nepali\\\\data\\\\00\\\\00bede9d9a.flac', '00bf6adb87': 'd:\\\\nepali_notetaker_project\\\\nepali_notetaker_package\\\\DataSet\\\\asr_nepali_0\\\\asr_nepali\\\\data\\\\00\\\\00bf6adb87.flac', '00bf94a59e': 'd:\\\\nepali_notetaker_project\\\\nepali_notetaker_package\\\\DataSet\\\\asr_nepali_0\\\\asr_nepali\\\\data\\\\00\\\\00bf94a59e.flac', '00bfc01fdb': 'd:\\\\nepali_notetaker_project\\\\nepali_notetaker_package\\\\DataSet\\\\asr_nepali_0\\\\asr_nepali\\\\data\\\\00\\\\00bfc01fdb.flac', '00c04277b1': 'd:\\\\nepali_notetaker_project\\\\nepali_notetaker_package\\\\DataSet\\\\asr_nepali_0\\\\asr_nepali\\\\data\\\\00\\\\00c04277b1.flac', '00c0636c06': 'd:\\\\nepali_notetaker_project\\\\nepali_notetaker_package\\\\DataSet\\\\asr_nepali_0\\\\asr_nepali\\\\data\\\\00\\\\00c0636c06.flac', '00c0a071b3': 'd:\\\\nepali_notetaker_project\\\\nepali_notetaker_package\\\\DataSet\\\\asr_nepali_0\\\\asr_nepali\\\\data\\\\00\\\\00c0a071b3.flac', '00c0c971bf': 'd:\\\\nepali_notetaker_project\\\\nepali_notetaker_package\\\\DataSet\\\\asr_nepali_0\\\\asr_nepali\\\\data\\\\00\\\\00c0c971bf.flac', '00c10087a4': 'd:\\\\nepali_notetaker_project\\\\nepali_notetaker_package\\\\DataSet\\\\asr_nepali_0\\\\asr_nepali\\\\data\\\\00\\\\00c10087a4.flac', '00c17c5c23': 'd:\\\\nepali_notetaker_project\\\\nepali_notetaker_package\\\\DataSet\\\\asr_nepali_0\\\\asr_nepali\\\\data\\\\00\\\\00c17c5c23.flac', '00c18ff7fa': 'd:\\\\nepali_notetaker_project\\\\nepali_notetaker_package\\\\DataSet\\\\asr_nepali_0\\\\asr_nepali\\\\data\\\\00\\\\00c18ff7fa.flac', '00c1b6e161': 'd:\\\\nepali_notetaker_project\\\\nepali_notetaker_package\\\\DataSet\\\\asr_nepali_0\\\\asr_nepali\\\\data\\\\00\\\\00c1b6e161.flac', '00c1f09f03': 'd:\\\\nepali_notetaker_project\\\\nepali_notetaker_package\\\\DataSet\\\\asr_nepali_0\\\\asr_nepali\\\\data\\\\00\\\\00c1f09f03.flac', '00c25a5a0e': 'd:\\\\nepali_notetaker_project\\\\nepali_notetaker_package\\\\DataSet\\\\asr_nepali_0\\\\asr_nepali\\\\data\\\\00\\\\00c25a5a0e.flac', '00c2bb188d': 'd:\\\\nepali_notetaker_project\\\\nepali_notetaker_package\\\\DataSet\\\\asr_nepali_0\\\\asr_nepali\\\\data\\\\00\\\\00c2bb188d.flac', '00c32efedc': 'd:\\\\nepali_notetaker_project\\\\nepali_notetaker_package\\\\DataSet\\\\asr_nepali_0\\\\asr_nepali\\\\data\\\\00\\\\00c32efedc.flac', '00c3495e71': 'd:\\\\nepali_notetaker_project\\\\nepali_notetaker_package\\\\DataSet\\\\asr_nepali_0\\\\asr_nepali\\\\data\\\\00\\\\00c3495e71.flac', '00c3a80db0': 'd:\\\\nepali_notetaker_project\\\\nepali_notetaker_package\\\\DataSet\\\\asr_nepali_0\\\\asr_nepali\\\\data\\\\00\\\\00c3a80db0.flac', '00c3e8a5d8': 'd:\\\\nepali_notetaker_project\\\\nepali_notetaker_package\\\\DataSet\\\\asr_nepali_0\\\\asr_nepali\\\\data\\\\00\\\\00c3e8a5d8.flac', '00c6cd4fae': 'd:\\\\nepali_notetaker_project\\\\nepali_notetaker_package\\\\DataSet\\\\asr_nepali_0\\\\asr_nepali\\\\data\\\\00\\\\00c6cd4fae.flac', '00c7a5d936': 'd:\\\\nepali_notetaker_project\\\\nepali_notetaker_package\\\\DataSet\\\\asr_nepali_0\\\\asr_nepali\\\\data\\\\00\\\\00c7a5d936.flac', '00c83021a4': 'd:\\\\nepali_notetaker_project\\\\nepali_notetaker_package\\\\DataSet\\\\asr_nepali_0\\\\asr_nepali\\\\data\\\\00\\\\00c83021a4.flac', '00c84c863f': 'd:\\\\nepali_notetaker_project\\\\nepali_notetaker_package\\\\DataSet\\\\asr_nepali_0\\\\asr_nepali\\\\data\\\\00\\\\00c84c863f.flac', '00c8f14b58': 'd:\\\\nepali_notetaker_project\\\\nepali_notetaker_package\\\\DataSet\\\\asr_nepali_0\\\\asr_nepali\\\\data\\\\00\\\\00c8f14b58.flac', '00c9a59656': 'd:\\\\nepali_notetaker_project\\\\nepali_notetaker_package\\\\DataSet\\\\asr_nepali_0\\\\asr_nepali\\\\data\\\\00\\\\00c9a59656.flac', '00ca272d79': 'd:\\\\nepali_notetaker_project\\\\nepali_notetaker_package\\\\DataSet\\\\asr_nepali_0\\\\asr_nepali\\\\data\\\\00\\\\00ca272d79.flac', '00ca28c959': 'd:\\\\nepali_notetaker_project\\\\nepali_notetaker_package\\\\DataSet\\\\asr_nepali_0\\\\asr_nepali\\\\data\\\\00\\\\00ca28c959.flac', '00ca827157': 'd:\\\\nepali_notetaker_project\\\\nepali_notetaker_package\\\\DataSet\\\\asr_nepali_0\\\\asr_nepali\\\\data\\\\00\\\\00ca827157.flac', '00ca948d62': 'd:\\\\nepali_notetaker_project\\\\nepali_notetaker_package\\\\DataSet\\\\asr_nepali_0\\\\asr_nepali\\\\data\\\\00\\\\00ca948d62.flac', '00cb3ba0f6': 'd:\\\\nepali_notetaker_project\\\\nepali_notetaker_package\\\\DataSet\\\\asr_nepali_0\\\\asr_nepali\\\\data\\\\00\\\\00cb3ba0f6.flac', '00cb68c79a': 'd:\\\\nepali_notetaker_project\\\\nepali_notetaker_package\\\\DataSet\\\\asr_nepali_0\\\\asr_nepali\\\\data\\\\00\\\\00cb68c79a.flac', '00cb9139c3': 'd:\\\\nepali_notetaker_project\\\\nepali_notetaker_package\\\\DataSet\\\\asr_nepali_0\\\\asr_nepali\\\\data\\\\00\\\\00cb9139c3.flac', '00cb99c8e0': 'd:\\\\nepali_notetaker_project\\\\nepali_notetaker_package\\\\DataSet\\\\asr_nepali_0\\\\asr_nepali\\\\data\\\\00\\\\00cb99c8e0.flac', '00cbc54756': 'd:\\\\nepali_notetaker_project\\\\nepali_notetaker_package\\\\DataSet\\\\asr_nepali_0\\\\asr_nepali\\\\data\\\\00\\\\00cbc54756.flac', '00cc6c5240': 'd:\\\\nepali_notetaker_project\\\\nepali_notetaker_package\\\\DataSet\\\\asr_nepali_0\\\\asr_nepali\\\\data\\\\00\\\\00cc6c5240.flac', '00cc8a28f5': 'd:\\\\nepali_notetaker_project\\\\nepali_notetaker_package\\\\DataSet\\\\asr_nepali_0\\\\asr_nepali\\\\data\\\\00\\\\00cc8a28f5.flac', '00cce0b7f1': 'd:\\\\nepali_notetaker_project\\\\nepali_notetaker_package\\\\DataSet\\\\asr_nepali_0\\\\asr_nepali\\\\data\\\\00\\\\00cce0b7f1.flac', '00ce67e6b3': 'd:\\\\nepali_notetaker_project\\\\nepali_notetaker_package\\\\DataSet\\\\asr_nepali_0\\\\asr_nepali\\\\data\\\\00\\\\00ce67e6b3.flac', '00ce831132': 'd:\\\\nepali_notetaker_project\\\\nepali_notetaker_package\\\\DataSet\\\\asr_nepali_0\\\\asr_nepali\\\\data\\\\00\\\\00ce831132.flac', '00ceed2707': 'd:\\\\nepali_notetaker_project\\\\nepali_notetaker_package\\\\DataSet\\\\asr_nepali_0\\\\asr_nepali\\\\data\\\\00\\\\00ceed2707.flac', '00cefd8928': 'd:\\\\nepali_notetaker_project\\\\nepali_notetaker_package\\\\DataSet\\\\asr_nepali_0\\\\asr_nepali\\\\data\\\\00\\\\00cefd8928.flac', '00cf0bb7fc': 'd:\\\\nepali_notetaker_project\\\\nepali_notetaker_package\\\\DataSet\\\\asr_nepali_0\\\\asr_nepali\\\\data\\\\00\\\\00cf0bb7fc.flac', '00cf9c46ac': 'd:\\\\nepali_notetaker_project\\\\nepali_notetaker_package\\\\DataSet\\\\asr_nepali_0\\\\asr_nepali\\\\data\\\\00\\\\00cf9c46ac.flac', '00cfbad117': 'd:\\\\nepali_notetaker_project\\\\nepali_notetaker_package\\\\DataSet\\\\asr_nepali_0\\\\asr_nepali\\\\data\\\\00\\\\00cfbad117.flac', '00d0a22a35': 'd:\\\\nepali_notetaker_project\\\\nepali_notetaker_package\\\\DataSet\\\\asr_nepali_0\\\\asr_nepali\\\\data\\\\00\\\\00d0a22a35.flac', '00d12d9a2c': 'd:\\\\nepali_notetaker_project\\\\nepali_notetaker_package\\\\DataSet\\\\asr_nepali_0\\\\asr_nepali\\\\data\\\\00\\\\00d12d9a2c.flac', '00d17816ad': 'd:\\\\nepali_notetaker_project\\\\nepali_notetaker_package\\\\DataSet\\\\asr_nepali_0\\\\asr_nepali\\\\data\\\\00\\\\00d17816ad.flac', '00d1f92026': 'd:\\\\nepali_notetaker_project\\\\nepali_notetaker_package\\\\DataSet\\\\asr_nepali_0\\\\asr_nepali\\\\data\\\\00\\\\00d1f92026.flac', '00d2238242': 'd:\\\\nepali_notetaker_project\\\\nepali_notetaker_package\\\\DataSet\\\\asr_nepali_0\\\\asr_nepali\\\\data\\\\00\\\\00d2238242.flac', '00d2626c0d': 'd:\\\\nepali_notetaker_project\\\\nepali_notetaker_package\\\\DataSet\\\\asr_nepali_0\\\\asr_nepali\\\\data\\\\00\\\\00d2626c0d.flac', '00d28aedff': 'd:\\\\nepali_notetaker_project\\\\nepali_notetaker_package\\\\DataSet\\\\asr_nepali_0\\\\asr_nepali\\\\data\\\\00\\\\00d28aedff.flac', '00d2c6cac2': 'd:\\\\nepali_notetaker_project\\\\nepali_notetaker_package\\\\DataSet\\\\asr_nepali_0\\\\asr_nepali\\\\data\\\\00\\\\00d2c6cac2.flac', '00d31e9682': 'd:\\\\nepali_notetaker_project\\\\nepali_notetaker_package\\\\DataSet\\\\asr_nepali_0\\\\asr_nepali\\\\data\\\\00\\\\00d31e9682.flac', '00d35c6835': 'd:\\\\nepali_notetaker_project\\\\nepali_notetaker_package\\\\DataSet\\\\asr_nepali_0\\\\asr_nepali\\\\data\\\\00\\\\00d35c6835.flac', '00d40617b5': 'd:\\\\nepali_notetaker_project\\\\nepali_notetaker_package\\\\DataSet\\\\asr_nepali_0\\\\asr_nepali\\\\data\\\\00\\\\00d40617b5.flac', '00d54b3cf2': 'd:\\\\nepali_notetaker_project\\\\nepali_notetaker_package\\\\DataSet\\\\asr_nepali_0\\\\asr_nepali\\\\data\\\\00\\\\00d54b3cf2.flac', '00d54bbd2d': 'd:\\\\nepali_notetaker_project\\\\nepali_notetaker_package\\\\DataSet\\\\asr_nepali_0\\\\asr_nepali\\\\data\\\\00\\\\00d54bbd2d.flac', '00d5d7d93f': 'd:\\\\nepali_notetaker_project\\\\nepali_notetaker_package\\\\DataSet\\\\asr_nepali_0\\\\asr_nepali\\\\data\\\\00\\\\00d5d7d93f.flac', '00d5d9a337': 'd:\\\\nepali_notetaker_project\\\\nepali_notetaker_package\\\\DataSet\\\\asr_nepali_0\\\\asr_nepali\\\\data\\\\00\\\\00d5d9a337.flac', '00d5e69e88': 'd:\\\\nepali_notetaker_project\\\\nepali_notetaker_package\\\\DataSet\\\\asr_nepali_0\\\\asr_nepali\\\\data\\\\00\\\\00d5e69e88.flac', '00d614aa66': 'd:\\\\nepali_notetaker_project\\\\nepali_notetaker_package\\\\DataSet\\\\asr_nepali_0\\\\asr_nepali\\\\data\\\\00\\\\00d614aa66.flac', '00d69b125c': 'd:\\\\nepali_notetaker_project\\\\nepali_notetaker_package\\\\DataSet\\\\asr_nepali_0\\\\asr_nepali\\\\data\\\\00\\\\00d69b125c.flac', '00d7b54ba0': 'd:\\\\nepali_notetaker_project\\\\nepali_notetaker_package\\\\DataSet\\\\asr_nepali_0\\\\asr_nepali\\\\data\\\\00\\\\00d7b54ba0.flac', '00d83e15f9': 'd:\\\\nepali_notetaker_project\\\\nepali_notetaker_package\\\\DataSet\\\\asr_nepali_0\\\\asr_nepali\\\\data\\\\00\\\\00d83e15f9.flac', '00db5eaafb': 'd:\\\\nepali_notetaker_project\\\\nepali_notetaker_package\\\\DataSet\\\\asr_nepali_0\\\\asr_nepali\\\\data\\\\00\\\\00db5eaafb.flac', '00dbbdaa2c': 'd:\\\\nepali_notetaker_project\\\\nepali_notetaker_package\\\\DataSet\\\\asr_nepali_0\\\\asr_nepali\\\\data\\\\00\\\\00dbbdaa2c.flac', '00dbe6c5c9': 'd:\\\\nepali_notetaker_project\\\\nepali_notetaker_package\\\\DataSet\\\\asr_nepali_0\\\\asr_nepali\\\\data\\\\00\\\\00dbe6c5c9.flac', '00dc7d989c': 'd:\\\\nepali_notetaker_project\\\\nepali_notetaker_package\\\\DataSet\\\\asr_nepali_0\\\\asr_nepali\\\\data\\\\00\\\\00dc7d989c.flac', '00dcd01745': 'd:\\\\nepali_notetaker_project\\\\nepali_notetaker_package\\\\DataSet\\\\asr_nepali_0\\\\asr_nepali\\\\data\\\\00\\\\00dcd01745.flac', '00dd2da8d0': 'd:\\\\nepali_notetaker_project\\\\nepali_notetaker_package\\\\DataSet\\\\asr_nepali_0\\\\asr_nepali\\\\data\\\\00\\\\00dd2da8d0.flac', '00dd2e0a8c': 'd:\\\\nepali_notetaker_project\\\\nepali_notetaker_package\\\\DataSet\\\\asr_nepali_0\\\\asr_nepali\\\\data\\\\00\\\\00dd2e0a8c.flac', '00ddd2113d': 'd:\\\\nepali_notetaker_project\\\\nepali_notetaker_package\\\\DataSet\\\\asr_nepali_0\\\\asr_nepali\\\\data\\\\00\\\\00ddd2113d.flac', '00df1b4b51': 'd:\\\\nepali_notetaker_project\\\\nepali_notetaker_package\\\\DataSet\\\\asr_nepali_0\\\\asr_nepali\\\\data\\\\00\\\\00df1b4b51.flac', '00df231fe9': 'd:\\\\nepali_notetaker_project\\\\nepali_notetaker_package\\\\DataSet\\\\asr_nepali_0\\\\asr_nepali\\\\data\\\\00\\\\00df231fe9.flac', '00e0830d1b': 'd:\\\\nepali_notetaker_project\\\\nepali_notetaker_package\\\\DataSet\\\\asr_nepali_0\\\\asr_nepali\\\\data\\\\00\\\\00e0830d1b.flac', '00e1b52ea5': 'd:\\\\nepali_notetaker_project\\\\nepali_notetaker_package\\\\DataSet\\\\asr_nepali_0\\\\asr_nepali\\\\data\\\\00\\\\00e1b52ea5.flac', '00e1e3afa9': 'd:\\\\nepali_notetaker_project\\\\nepali_notetaker_package\\\\DataSet\\\\asr_nepali_0\\\\asr_nepali\\\\data\\\\00\\\\00e1e3afa9.flac', '00e2417c7d': 'd:\\\\nepali_notetaker_project\\\\nepali_notetaker_package\\\\DataSet\\\\asr_nepali_0\\\\asr_nepali\\\\data\\\\00\\\\00e2417c7d.flac', '00e278496e': 'd:\\\\nepali_notetaker_project\\\\nepali_notetaker_package\\\\DataSet\\\\asr_nepali_0\\\\asr_nepali\\\\data\\\\00\\\\00e278496e.flac', '00e304bbaa': 'd:\\\\nepali_notetaker_project\\\\nepali_notetaker_package\\\\DataSet\\\\asr_nepali_0\\\\asr_nepali\\\\data\\\\00\\\\00e304bbaa.flac', '00e32bf36d': 'd:\\\\nepali_notetaker_project\\\\nepali_notetaker_package\\\\DataSet\\\\asr_nepali_0\\\\asr_nepali\\\\data\\\\00\\\\00e32bf36d.flac', '00e3c9161d': 'd:\\\\nepali_notetaker_project\\\\nepali_notetaker_package\\\\DataSet\\\\asr_nepali_0\\\\asr_nepali\\\\data\\\\00\\\\00e3c9161d.flac', '00e5cb134a': 'd:\\\\nepali_notetaker_project\\\\nepali_notetaker_package\\\\DataSet\\\\asr_nepali_0\\\\asr_nepali\\\\data\\\\00\\\\00e5cb134a.flac', '00e60b6169': 'd:\\\\nepali_notetaker_project\\\\nepali_notetaker_package\\\\DataSet\\\\asr_nepali_0\\\\asr_nepali\\\\data\\\\00\\\\00e60b6169.flac', '00e6514d17': 'd:\\\\nepali_notetaker_project\\\\nepali_notetaker_package\\\\DataSet\\\\asr_nepali_0\\\\asr_nepali\\\\data\\\\00\\\\00e6514d17.flac', '00e667f470': 'd:\\\\nepali_notetaker_project\\\\nepali_notetaker_package\\\\DataSet\\\\asr_nepali_0\\\\asr_nepali\\\\data\\\\00\\\\00e667f470.flac', '00e6eda823': 'd:\\\\nepali_notetaker_project\\\\nepali_notetaker_package\\\\DataSet\\\\asr_nepali_0\\\\asr_nepali\\\\data\\\\00\\\\00e6eda823.flac', '00e6fddaf4': 'd:\\\\nepali_notetaker_project\\\\nepali_notetaker_package\\\\DataSet\\\\asr_nepali_0\\\\asr_nepali\\\\data\\\\00\\\\00e6fddaf4.flac', '00e7d4782f': 'd:\\\\nepali_notetaker_project\\\\nepali_notetaker_package\\\\DataSet\\\\asr_nepali_0\\\\asr_nepali\\\\data\\\\00\\\\00e7d4782f.flac', '00e7e78e58': 'd:\\\\nepali_notetaker_project\\\\nepali_notetaker_package\\\\DataSet\\\\asr_nepali_0\\\\asr_nepali\\\\data\\\\00\\\\00e7e78e58.flac', '00e82d8fa1': 'd:\\\\nepali_notetaker_project\\\\nepali_notetaker_package\\\\DataSet\\\\asr_nepali_0\\\\asr_nepali\\\\data\\\\00\\\\00e82d8fa1.flac', '00e840f66d': 'd:\\\\nepali_notetaker_project\\\\nepali_notetaker_package\\\\DataSet\\\\asr_nepali_0\\\\asr_nepali\\\\data\\\\00\\\\00e840f66d.flac', '00e84f7844': 'd:\\\\nepali_notetaker_project\\\\nepali_notetaker_package\\\\DataSet\\\\asr_nepali_0\\\\asr_nepali\\\\data\\\\00\\\\00e84f7844.flac', '00e89ee833': 'd:\\\\nepali_notetaker_project\\\\nepali_notetaker_package\\\\DataSet\\\\asr_nepali_0\\\\asr_nepali\\\\data\\\\00\\\\00e89ee833.flac', '00e97d64b2': 'd:\\\\nepali_notetaker_project\\\\nepali_notetaker_package\\\\DataSet\\\\asr_nepali_0\\\\asr_nepali\\\\data\\\\00\\\\00e97d64b2.flac', '00ea992db8': 'd:\\\\nepali_notetaker_project\\\\nepali_notetaker_package\\\\DataSet\\\\asr_nepali_0\\\\asr_nepali\\\\data\\\\00\\\\00ea992db8.flac', '00ea995040': 'd:\\\\nepali_notetaker_project\\\\nepali_notetaker_package\\\\DataSet\\\\asr_nepali_0\\\\asr_nepali\\\\data\\\\00\\\\00ea995040.flac', '00eab0a931': 'd:\\\\nepali_notetaker_project\\\\nepali_notetaker_package\\\\DataSet\\\\asr_nepali_0\\\\asr_nepali\\\\data\\\\00\\\\00eab0a931.flac', '00ec1daed1': 'd:\\\\nepali_notetaker_project\\\\nepali_notetaker_package\\\\DataSet\\\\asr_nepali_0\\\\asr_nepali\\\\data\\\\00\\\\00ec1daed1.flac', '00ec8bbb48': 'd:\\\\nepali_notetaker_project\\\\nepali_notetaker_package\\\\DataSet\\\\asr_nepali_0\\\\asr_nepali\\\\data\\\\00\\\\00ec8bbb48.flac', '00ed0ea70b': 'd:\\\\nepali_notetaker_project\\\\nepali_notetaker_package\\\\DataSet\\\\asr_nepali_0\\\\asr_nepali\\\\data\\\\00\\\\00ed0ea70b.flac', '00edf97576': 'd:\\\\nepali_notetaker_project\\\\nepali_notetaker_package\\\\DataSet\\\\asr_nepali_0\\\\asr_nepali\\\\data\\\\00\\\\00edf97576.flac', '00ee752d8d': 'd:\\\\nepali_notetaker_project\\\\nepali_notetaker_package\\\\DataSet\\\\asr_nepali_0\\\\asr_nepali\\\\data\\\\00\\\\00ee752d8d.flac', '00ee96117b': 'd:\\\\nepali_notetaker_project\\\\nepali_notetaker_package\\\\DataSet\\\\asr_nepali_0\\\\asr_nepali\\\\data\\\\00\\\\00ee96117b.flac', '00f0069f07': 'd:\\\\nepali_notetaker_project\\\\nepali_notetaker_package\\\\DataSet\\\\asr_nepali_0\\\\asr_nepali\\\\data\\\\00\\\\00f0069f07.flac', '00f010167f': 'd:\\\\nepali_notetaker_project\\\\nepali_notetaker_package\\\\DataSet\\\\asr_nepali_0\\\\asr_nepali\\\\data\\\\00\\\\00f010167f.flac', '00f0d2d1ed': 'd:\\\\nepali_notetaker_project\\\\nepali_notetaker_package\\\\DataSet\\\\asr_nepali_0\\\\asr_nepali\\\\data\\\\00\\\\00f0d2d1ed.flac', '00f146a59a': 'd:\\\\nepali_notetaker_project\\\\nepali_notetaker_package\\\\DataSet\\\\asr_nepali_0\\\\asr_nepali\\\\data\\\\00\\\\00f146a59a.flac', '00f173b391': 'd:\\\\nepali_notetaker_project\\\\nepali_notetaker_package\\\\DataSet\\\\asr_nepali_0\\\\asr_nepali\\\\data\\\\00\\\\00f173b391.flac', '00f2d950d2': 'd:\\\\nepali_notetaker_project\\\\nepali_notetaker_package\\\\DataSet\\\\asr_nepali_0\\\\asr_nepali\\\\data\\\\00\\\\00f2d950d2.flac', '00f3119720': 'd:\\\\nepali_notetaker_project\\\\nepali_notetaker_package\\\\DataSet\\\\asr_nepali_0\\\\asr_nepali\\\\data\\\\00\\\\00f3119720.flac', '00f377d517': 'd:\\\\nepali_notetaker_project\\\\nepali_notetaker_package\\\\DataSet\\\\asr_nepali_0\\\\asr_nepali\\\\data\\\\00\\\\00f377d517.flac', '00f40f5440': 'd:\\\\nepali_notetaker_project\\\\nepali_notetaker_package\\\\DataSet\\\\asr_nepali_0\\\\asr_nepali\\\\data\\\\00\\\\00f40f5440.flac', '00f47c7023': 'd:\\\\nepali_notetaker_project\\\\nepali_notetaker_package\\\\DataSet\\\\asr_nepali_0\\\\asr_nepali\\\\data\\\\00\\\\00f47c7023.flac', '00f4abf44d': 'd:\\\\nepali_notetaker_project\\\\nepali_notetaker_package\\\\DataSet\\\\asr_nepali_0\\\\asr_nepali\\\\data\\\\00\\\\00f4abf44d.flac', '00f4ace3cf': 'd:\\\\nepali_notetaker_project\\\\nepali_notetaker_package\\\\DataSet\\\\asr_nepali_0\\\\asr_nepali\\\\data\\\\00\\\\00f4ace3cf.flac', '00f5e8eecd': 'd:\\\\nepali_notetaker_project\\\\nepali_notetaker_package\\\\DataSet\\\\asr_nepali_0\\\\asr_nepali\\\\data\\\\00\\\\00f5e8eecd.flac', '00f6650270': 'd:\\\\nepali_notetaker_project\\\\nepali_notetaker_package\\\\DataSet\\\\asr_nepali_0\\\\asr_nepali\\\\data\\\\00\\\\00f6650270.flac', '00f7b42746': 'd:\\\\nepali_notetaker_project\\\\nepali_notetaker_package\\\\DataSet\\\\asr_nepali_0\\\\asr_nepali\\\\data\\\\00\\\\00f7b42746.flac', '00f810e052': 'd:\\\\nepali_notetaker_project\\\\nepali_notetaker_package\\\\DataSet\\\\asr_nepali_0\\\\asr_nepali\\\\data\\\\00\\\\00f810e052.flac', '00f8167c06': 'd:\\\\nepali_notetaker_project\\\\nepali_notetaker_package\\\\DataSet\\\\asr_nepali_0\\\\asr_nepali\\\\data\\\\00\\\\00f8167c06.flac', '00f967ce9b': 'd:\\\\nepali_notetaker_project\\\\nepali_notetaker_package\\\\DataSet\\\\asr_nepali_0\\\\asr_nepali\\\\data\\\\00\\\\00f967ce9b.flac', '00f9d2ea47': 'd:\\\\nepali_notetaker_project\\\\nepali_notetaker_package\\\\DataSet\\\\asr_nepali_0\\\\asr_nepali\\\\data\\\\00\\\\00f9d2ea47.flac', '00fa172c5b': 'd:\\\\nepali_notetaker_project\\\\nepali_notetaker_package\\\\DataSet\\\\asr_nepali_0\\\\asr_nepali\\\\data\\\\00\\\\00fa172c5b.flac', '00fa61e587': 'd:\\\\nepali_notetaker_project\\\\nepali_notetaker_package\\\\DataSet\\\\asr_nepali_0\\\\asr_nepali\\\\data\\\\00\\\\00fa61e587.flac', '00fb65beee': 'd:\\\\nepali_notetaker_project\\\\nepali_notetaker_package\\\\DataSet\\\\asr_nepali_0\\\\asr_nepali\\\\data\\\\00\\\\00fb65beee.flac', '00fbda997e': 'd:\\\\nepali_notetaker_project\\\\nepali_notetaker_package\\\\DataSet\\\\asr_nepali_0\\\\asr_nepali\\\\data\\\\00\\\\00fbda997e.flac', '00fbe1e62a': 'd:\\\\nepali_notetaker_project\\\\nepali_notetaker_package\\\\DataSet\\\\asr_nepali_0\\\\asr_nepali\\\\data\\\\00\\\\00fbe1e62a.flac', '00fc408124': 'd:\\\\nepali_notetaker_project\\\\nepali_notetaker_package\\\\DataSet\\\\asr_nepali_0\\\\asr_nepali\\\\data\\\\00\\\\00fc408124.flac', '00fd5ba5b7': 'd:\\\\nepali_notetaker_project\\\\nepali_notetaker_package\\\\DataSet\\\\asr_nepali_0\\\\asr_nepali\\\\data\\\\00\\\\00fd5ba5b7.flac', '00fd5f19fb': 'd:\\\\nepali_notetaker_project\\\\nepali_notetaker_package\\\\DataSet\\\\asr_nepali_0\\\\asr_nepali\\\\data\\\\00\\\\00fd5f19fb.flac', '00fd65f638': 'd:\\\\nepali_notetaker_project\\\\nepali_notetaker_package\\\\DataSet\\\\asr_nepali_0\\\\asr_nepali\\\\data\\\\00\\\\00fd65f638.flac', '00fd703cf5': 'd:\\\\nepali_notetaker_project\\\\nepali_notetaker_package\\\\DataSet\\\\asr_nepali_0\\\\asr_nepali\\\\data\\\\00\\\\00fd703cf5.flac', '00fd707ab9': 'd:\\\\nepali_notetaker_project\\\\nepali_notetaker_package\\\\DataSet\\\\asr_nepali_0\\\\asr_nepali\\\\data\\\\00\\\\00fd707ab9.flac', '00fd896136': 'd:\\\\nepali_notetaker_project\\\\nepali_notetaker_package\\\\DataSet\\\\asr_nepali_0\\\\asr_nepali\\\\data\\\\00\\\\00fd896136.flac', '00fdad27d6': 'd:\\\\nepali_notetaker_project\\\\nepali_notetaker_package\\\\DataSet\\\\asr_nepali_0\\\\asr_nepali\\\\data\\\\00\\\\00fdad27d6.flac', '00ff4905bb': 'd:\\\\nepali_notetaker_project\\\\nepali_notetaker_package\\\\DataSet\\\\asr_nepali_0\\\\asr_nepali\\\\data\\\\00\\\\00ff4905bb.flac', '00ffcffc98': 'd:\\\\nepali_notetaker_project\\\\nepali_notetaker_package\\\\DataSet\\\\asr_nepali_0\\\\asr_nepali\\\\data\\\\00\\\\00ffcffc98.flac'}\n"
     ]
    }
   ],
   "source": [
    "audio_root_dir = r'd:\\nepali_notetaker_project\\nepali_notetaker_package\\DataSet\\asr_nepali_0\\asr_nepali\\data\\00'\n",
    "\n",
    "flac_path = glob(os.path.join(audio_root_dir, '**', '*.flac'), recursive=True)\n",
    "\n",
    "# file_path = (os.path.splitext(os.path.basename(f))[0] for f in flac_path)\n",
    "\n",
    "print(flac_path)\n",
    "file_map = {os.path.splitext(os.path.basename(f))[0]: f for f in flac_path}\n",
    "print(file_map)\n",
    "# Add full path to dataframe\n",
    "df['flac_path'] = df['0'].map(file_map)\n",
    "\n",
    "df['file_id'] = df['flac_path'].apply(lambda x: os.path.splitext(os.path.basename(x))[0] if pd.notnull(x) else None)\n",
    "# Drop missing entries\n",
    "df = df[df['flac_path'].notnull()]\n"
   ]
  },
  {
   "cell_type": "code",
   "execution_count": null,
   "id": "9cf515d4",
   "metadata": {},
   "outputs": [],
   "source": [
    "\n"
   ]
  },
  {
   "cell_type": "code",
   "execution_count": 81,
   "id": "2495b08d",
   "metadata": {},
   "outputs": [
    {
     "data": {
      "text/html": [
       "<div>\n",
       "<style scoped>\n",
       "    .dataframe tbody tr th:only-of-type {\n",
       "        vertical-align: middle;\n",
       "    }\n",
       "\n",
       "    .dataframe tbody tr th {\n",
       "        vertical-align: top;\n",
       "    }\n",
       "\n",
       "    .dataframe thead th {\n",
       "        text-align: right;\n",
       "    }\n",
       "</style>\n",
       "<table border=\"1\" class=\"dataframe\">\n",
       "  <thead>\n",
       "    <tr style=\"text-align: right;\">\n",
       "      <th></th>\n",
       "      <th>0</th>\n",
       "      <th>1</th>\n",
       "      <th>2</th>\n",
       "      <th>flac_path</th>\n",
       "      <th>file_id</th>\n",
       "    </tr>\n",
       "  </thead>\n",
       "  <tbody>\n",
       "    <tr>\n",
       "      <th>295</th>\n",
       "      <td>0071083d08</td>\n",
       "      <td>97b71</td>\n",
       "      <td>११ वर्षको उमेरमा रक्सी</td>\n",
       "      <td>d:\\nepali_notetaker_project\\nepali_notetaker_p...</td>\n",
       "      <td>0071083d08</td>\n",
       "    </tr>\n",
       "    <tr>\n",
       "      <th>407</th>\n",
       "      <td>0052912514</td>\n",
       "      <td>73d74</td>\n",
       "      <td>१२ वर्षे मकर</td>\n",
       "      <td>d:\\nepali_notetaker_project\\nepali_notetaker_p...</td>\n",
       "      <td>0052912514</td>\n",
       "    </tr>\n",
       "    <tr>\n",
       "      <th>769</th>\n",
       "      <td>00772a60b9</td>\n",
       "      <td>5bc3b</td>\n",
       "      <td>१८३९ देखि १८४२</td>\n",
       "      <td>d:\\nepali_notetaker_project\\nepali_notetaker_p...</td>\n",
       "      <td>00772a60b9</td>\n",
       "    </tr>\n",
       "    <tr>\n",
       "      <th>986</th>\n",
       "      <td>001625cc1d</td>\n",
       "      <td>4cc9e</td>\n",
       "      <td>१९४९ को डिसेम्बरमा</td>\n",
       "      <td>d:\\nepali_notetaker_project\\nepali_notetaker_p...</td>\n",
       "      <td>001625cc1d</td>\n",
       "    </tr>\n",
       "    <tr>\n",
       "      <th>1490</th>\n",
       "      <td>0098d95c74</td>\n",
       "      <td>da6d1</td>\n",
       "      <td>१ हजार अमूल्य</td>\n",
       "      <td>d:\\nepali_notetaker_project\\nepali_notetaker_p...</td>\n",
       "      <td>0098d95c74</td>\n",
       "    </tr>\n",
       "    <tr>\n",
       "      <th>...</th>\n",
       "      <td>...</td>\n",
       "      <td>...</td>\n",
       "      <td>...</td>\n",
       "      <td>...</td>\n",
       "      <td>...</td>\n",
       "    </tr>\n",
       "    <tr>\n",
       "      <th>156206</th>\n",
       "      <td>00d83e15f9</td>\n",
       "      <td>c536c</td>\n",
       "      <td>हिसाबले अन्त्यमा ल्याइयो</td>\n",
       "      <td>d:\\nepali_notetaker_project\\nepali_notetaker_p...</td>\n",
       "      <td>00d83e15f9</td>\n",
       "    </tr>\n",
       "    <tr>\n",
       "      <th>156311</th>\n",
       "      <td>00735959ec</td>\n",
       "      <td>f4763</td>\n",
       "      <td>हुत्याउने क्षेत्रभित्र बियो</td>\n",
       "      <td>d:\\nepali_notetaker_project\\nepali_notetaker_p...</td>\n",
       "      <td>00735959ec</td>\n",
       "    </tr>\n",
       "    <tr>\n",
       "      <th>156866</th>\n",
       "      <td>00a154bfae</td>\n",
       "      <td>bb466</td>\n",
       "      <td>हुने वनस्पति हो</td>\n",
       "      <td>d:\\nepali_notetaker_project\\nepali_notetaker_p...</td>\n",
       "      <td>00a154bfae</td>\n",
       "    </tr>\n",
       "    <tr>\n",
       "      <th>157345</th>\n",
       "      <td>001055632c</td>\n",
       "      <td>02e40</td>\n",
       "      <td>हेटौडा हर्नामाडी टाँडी</td>\n",
       "      <td>d:\\nepali_notetaker_project\\nepali_notetaker_p...</td>\n",
       "      <td>001055632c</td>\n",
       "    </tr>\n",
       "    <tr>\n",
       "      <th>157822</th>\n",
       "      <td>0099d2bf19</td>\n",
       "      <td>c55fb</td>\n",
       "      <td>होलीपछि मार्चमा यसको</td>\n",
       "      <td>d:\\nepali_notetaker_project\\nepali_notetaker_p...</td>\n",
       "      <td>0099d2bf19</td>\n",
       "    </tr>\n",
       "  </tbody>\n",
       "</table>\n",
       "<p>607 rows × 5 columns</p>\n",
       "</div>"
      ],
      "text/plain": [
       "                 0      1                            2  \\\n",
       "295     0071083d08  97b71       ११ वर्षको उमेरमा रक्सी   \n",
       "407     0052912514  73d74                 १२ वर्षे मकर   \n",
       "769     00772a60b9  5bc3b               १८३९ देखि १८४२   \n",
       "986     001625cc1d  4cc9e           १९४९ को डिसेम्बरमा   \n",
       "1490    0098d95c74  da6d1                १ हजार अमूल्य   \n",
       "...            ...    ...                          ...   \n",
       "156206  00d83e15f9  c536c     हिसाबले अन्त्यमा ल्याइयो   \n",
       "156311  00735959ec  f4763  हुत्याउने क्षेत्रभित्र बियो   \n",
       "156866  00a154bfae  bb466              हुने वनस्पति हो   \n",
       "157345  001055632c  02e40       हेटौडा हर्नामाडी टाँडी   \n",
       "157822  0099d2bf19  c55fb         होलीपछि मार्चमा यसको   \n",
       "\n",
       "                                                flac_path     file_id  \n",
       "295     d:\\nepali_notetaker_project\\nepali_notetaker_p...  0071083d08  \n",
       "407     d:\\nepali_notetaker_project\\nepali_notetaker_p...  0052912514  \n",
       "769     d:\\nepali_notetaker_project\\nepali_notetaker_p...  00772a60b9  \n",
       "986     d:\\nepali_notetaker_project\\nepali_notetaker_p...  001625cc1d  \n",
       "1490    d:\\nepali_notetaker_project\\nepali_notetaker_p...  0098d95c74  \n",
       "...                                                   ...         ...  \n",
       "156206  d:\\nepali_notetaker_project\\nepali_notetaker_p...  00d83e15f9  \n",
       "156311  d:\\nepali_notetaker_project\\nepali_notetaker_p...  00735959ec  \n",
       "156866  d:\\nepali_notetaker_project\\nepali_notetaker_p...  00a154bfae  \n",
       "157345  d:\\nepali_notetaker_project\\nepali_notetaker_p...  001055632c  \n",
       "157822  d:\\nepali_notetaker_project\\nepali_notetaker_p...  0099d2bf19  \n",
       "\n",
       "[607 rows x 5 columns]"
      ]
     },
     "execution_count": 81,
     "metadata": {},
     "output_type": "execute_result"
    }
   ],
   "source": [
    "df"
   ]
  },
  {
   "cell_type": "code",
   "execution_count": 4,
   "id": "eb4be90d",
   "metadata": {},
   "outputs": [
    {
     "name": "stderr",
     "output_type": "stream",
     "text": [
      "  0%|          | 0/607 [00:00<?, ?it/s]"
     ]
    },
    {
     "name": "stdout",
     "output_type": "stream",
     "text": [
      "'d:\\\\nepali_notetaker_project\\\\nepali_notetaker_package\\\\DataSet\\\\asr_nepali_0\\\\asr_nepali\\\\data\\\\00\\\\0071083d08.flac'\n",
      "d:\\nepali_notetaker_project\\nepali_notetaker_package\\DataSet\\asr_nepali_0\\asr_nepali\\data\\00\\0071083d08.flac\n",
      "d:\\nepali_notetaker_project\\nepali_notetaker_package\\DataSet\\asr_nepali_0\\asr_nepali\\data\\00\\processed_wav\\0071083d08.wav\n"
     ]
    },
    {
     "name": "stderr",
     "output_type": "stream",
     "text": [
      "  0%|          | 2/607 [00:03<14:37,  1.45s/it]"
     ]
    },
    {
     "name": "stdout",
     "output_type": "stream",
     "text": [
      "'d:\\\\nepali_notetaker_project\\\\nepali_notetaker_package\\\\DataSet\\\\asr_nepali_0\\\\asr_nepali\\\\data\\\\00\\\\0052912514.flac'\n",
      "d:\\nepali_notetaker_project\\nepali_notetaker_package\\DataSet\\asr_nepali_0\\asr_nepali\\data\\00\\0052912514.flac\n",
      "d:\\nepali_notetaker_project\\nepali_notetaker_package\\DataSet\\asr_nepali_0\\asr_nepali\\data\\00\\processed_wav\\0052912514.wav\n"
     ]
    },
    {
     "name": "stderr",
     "output_type": "stream",
     "text": [
      "  0%|          | 3/607 [00:03<08:43,  1.15it/s]"
     ]
    },
    {
     "name": "stdout",
     "output_type": "stream",
     "text": [
      "'d:\\\\nepali_notetaker_project\\\\nepali_notetaker_package\\\\DataSet\\\\asr_nepali_0\\\\asr_nepali\\\\data\\\\00\\\\00772a60b9.flac'\n",
      "d:\\nepali_notetaker_project\\nepali_notetaker_package\\DataSet\\asr_nepali_0\\asr_nepali\\data\\00\\00772a60b9.flac\n",
      "d:\\nepali_notetaker_project\\nepali_notetaker_package\\DataSet\\asr_nepali_0\\asr_nepali\\data\\00\\processed_wav\\00772a60b9.wav\n"
     ]
    },
    {
     "name": "stderr",
     "output_type": "stream",
     "text": [
      "  1%|          | 4/607 [00:03<06:05,  1.65it/s]"
     ]
    },
    {
     "name": "stdout",
     "output_type": "stream",
     "text": [
      "'d:\\\\nepali_notetaker_project\\\\nepali_notetaker_package\\\\DataSet\\\\asr_nepali_0\\\\asr_nepali\\\\data\\\\00\\\\001625cc1d.flac'\n",
      "d:\\nepali_notetaker_project\\nepali_notetaker_package\\DataSet\\asr_nepali_0\\asr_nepali\\data\\00\\001625cc1d.flac\n",
      "d:\\nepali_notetaker_project\\nepali_notetaker_package\\DataSet\\asr_nepali_0\\asr_nepali\\data\\00\\processed_wav\\001625cc1d.wav\n"
     ]
    },
    {
     "name": "stderr",
     "output_type": "stream",
     "text": [
      "  1%|          | 5/607 [00:04<04:36,  2.18it/s]"
     ]
    },
    {
     "name": "stdout",
     "output_type": "stream",
     "text": [
      "'d:\\\\nepali_notetaker_project\\\\nepali_notetaker_package\\\\DataSet\\\\asr_nepali_0\\\\asr_nepali\\\\data\\\\00\\\\0098d95c74.flac'\n",
      "d:\\nepali_notetaker_project\\nepali_notetaker_package\\DataSet\\asr_nepali_0\\asr_nepali\\data\\00\\0098d95c74.flac\n",
      "d:\\nepali_notetaker_project\\nepali_notetaker_package\\DataSet\\asr_nepali_0\\asr_nepali\\data\\00\\processed_wav\\0098d95c74.wav\n",
      "'d:\\\\nepali_notetaker_project\\\\nepali_notetaker_package\\\\DataSet\\\\asr_nepali_0\\\\asr_nepali\\\\data\\\\00\\\\003df69d2f.flac'\n",
      "d:\\nepali_notetaker_project\\nepali_notetaker_package\\DataSet\\asr_nepali_0\\asr_nepali\\data\\00\\003df69d2f.flac\n",
      "d:\\nepali_notetaker_project\\nepali_notetaker_package\\DataSet\\asr_nepali_0\\asr_nepali\\data\\00\\processed_wav\\003df69d2f.wav\n"
     ]
    },
    {
     "name": "stderr",
     "output_type": "stream",
     "text": [
      "  1%|          | 7/607 [00:04<03:07,  3.19it/s]"
     ]
    },
    {
     "name": "stdout",
     "output_type": "stream",
     "text": [
      "'d:\\\\nepali_notetaker_project\\\\nepali_notetaker_package\\\\DataSet\\\\asr_nepali_0\\\\asr_nepali\\\\data\\\\00\\\\005d160d81.flac'\n",
      "d:\\nepali_notetaker_project\\nepali_notetaker_package\\DataSet\\asr_nepali_0\\asr_nepali\\data\\00\\005d160d81.flac\n",
      "d:\\nepali_notetaker_project\\nepali_notetaker_package\\DataSet\\asr_nepali_0\\asr_nepali\\data\\00\\processed_wav\\005d160d81.wav\n",
      "'d:\\\\nepali_notetaker_project\\\\nepali_notetaker_package\\\\DataSet\\\\asr_nepali_0\\\\asr_nepali\\\\data\\\\00\\\\00cb3ba0f6.flac'\n",
      "d:\\nepali_notetaker_project\\nepali_notetaker_package\\DataSet\\asr_nepali_0\\asr_nepali\\data\\00\\00cb3ba0f6.flac\n",
      "d:\\nepali_notetaker_project\\nepali_notetaker_package\\DataSet\\asr_nepali_0\\asr_nepali\\data\\00\\processed_wav\\00cb3ba0f6.wav\n"
     ]
    },
    {
     "name": "stderr",
     "output_type": "stream",
     "text": [
      "  1%|▏         | 8/607 [00:04<02:51,  3.50it/s]"
     ]
    },
    {
     "name": "stdout",
     "output_type": "stream",
     "text": [
      "'d:\\\\nepali_notetaker_project\\\\nepali_notetaker_package\\\\DataSet\\\\asr_nepali_0\\\\asr_nepali\\\\data\\\\00\\\\00fbe1e62a.flac'\n",
      "d:\\nepali_notetaker_project\\nepali_notetaker_package\\DataSet\\asr_nepali_0\\asr_nepali\\data\\00\\00fbe1e62a.flac\n",
      "d:\\nepali_notetaker_project\\nepali_notetaker_package\\DataSet\\asr_nepali_0\\asr_nepali\\data\\00\\processed_wav\\00fbe1e62a.wav\n"
     ]
    },
    {
     "name": "stderr",
     "output_type": "stream",
     "text": [
      "  2%|▏         | 10/607 [00:05<02:24,  4.13it/s]"
     ]
    },
    {
     "name": "stdout",
     "output_type": "stream",
     "text": [
      "'d:\\\\nepali_notetaker_project\\\\nepali_notetaker_package\\\\DataSet\\\\asr_nepali_0\\\\asr_nepali\\\\data\\\\00\\\\003e54f4e7.flac'\n",
      "d:\\nepali_notetaker_project\\nepali_notetaker_package\\DataSet\\asr_nepali_0\\asr_nepali\\data\\00\\003e54f4e7.flac\n",
      "d:\\nepali_notetaker_project\\nepali_notetaker_package\\DataSet\\asr_nepali_0\\asr_nepali\\data\\00\\processed_wav\\003e54f4e7.wav\n"
     ]
    },
    {
     "name": "stderr",
     "output_type": "stream",
     "text": [
      "  2%|▏         | 11/607 [00:05<02:15,  4.39it/s]"
     ]
    },
    {
     "name": "stdout",
     "output_type": "stream",
     "text": [
      "'d:\\\\nepali_notetaker_project\\\\nepali_notetaker_package\\\\DataSet\\\\asr_nepali_0\\\\asr_nepali\\\\data\\\\00\\\\00ad922f03.flac'\n",
      "d:\\nepali_notetaker_project\\nepali_notetaker_package\\DataSet\\asr_nepali_0\\asr_nepali\\data\\00\\00ad922f03.flac\n",
      "d:\\nepali_notetaker_project\\nepali_notetaker_package\\DataSet\\asr_nepali_0\\asr_nepali\\data\\00\\processed_wav\\00ad922f03.wav\n",
      "'d:\\\\nepali_notetaker_project\\\\nepali_notetaker_package\\\\DataSet\\\\asr_nepali_0\\\\asr_nepali\\\\data\\\\00\\\\0084383a29.flac'\n",
      "d:\\nepali_notetaker_project\\nepali_notetaker_package\\DataSet\\asr_nepali_0\\asr_nepali\\data\\00\\0084383a29.flac\n",
      "d:\\nepali_notetaker_project\\nepali_notetaker_package\\DataSet\\asr_nepali_0\\asr_nepali\\data\\00\\processed_wav\\0084383a29.wav\n"
     ]
    },
    {
     "name": "stderr",
     "output_type": "stream",
     "text": [
      "  2%|▏         | 13/607 [00:05<02:16,  4.35it/s]"
     ]
    },
    {
     "name": "stdout",
     "output_type": "stream",
     "text": [
      "'d:\\\\nepali_notetaker_project\\\\nepali_notetaker_package\\\\DataSet\\\\asr_nepali_0\\\\asr_nepali\\\\data\\\\00\\\\00c25a5a0e.flac'\n",
      "d:\\nepali_notetaker_project\\nepali_notetaker_package\\DataSet\\asr_nepali_0\\asr_nepali\\data\\00\\00c25a5a0e.flac\n",
      "d:\\nepali_notetaker_project\\nepali_notetaker_package\\DataSet\\asr_nepali_0\\asr_nepali\\data\\00\\processed_wav\\00c25a5a0e.wav\n",
      "'d:\\\\nepali_notetaker_project\\\\nepali_notetaker_package\\\\DataSet\\\\asr_nepali_0\\\\asr_nepali\\\\data\\\\00\\\\0080affd23.flac'\n",
      "d:\\nepali_notetaker_project\\nepali_notetaker_package\\DataSet\\asr_nepali_0\\asr_nepali\\data\\00\\0080affd23.flac\n",
      "d:\\nepali_notetaker_project\\nepali_notetaker_package\\DataSet\\asr_nepali_0\\asr_nepali\\data\\00\\processed_wav\\0080affd23.wav\n"
     ]
    },
    {
     "name": "stderr",
     "output_type": "stream",
     "text": [
      "  2%|▏         | 14/607 [00:06<02:26,  4.04it/s]"
     ]
    },
    {
     "name": "stdout",
     "output_type": "stream",
     "text": [
      "'d:\\\\nepali_notetaker_project\\\\nepali_notetaker_package\\\\DataSet\\\\asr_nepali_0\\\\asr_nepali\\\\data\\\\00\\\\009a9d1b4f.flac'\n",
      "d:\\nepali_notetaker_project\\nepali_notetaker_package\\DataSet\\asr_nepali_0\\asr_nepali\\data\\00\\009a9d1b4f.flac\n",
      "d:\\nepali_notetaker_project\\nepali_notetaker_package\\DataSet\\asr_nepali_0\\asr_nepali\\data\\00\\processed_wav\\009a9d1b4f.wav\n"
     ]
    },
    {
     "name": "stderr",
     "output_type": "stream",
     "text": [
      "  2%|▏         | 15/607 [00:06<02:35,  3.81it/s]"
     ]
    },
    {
     "name": "stdout",
     "output_type": "stream",
     "text": [
      "'d:\\\\nepali_notetaker_project\\\\nepali_notetaker_package\\\\DataSet\\\\asr_nepali_0\\\\asr_nepali\\\\data\\\\00\\\\00559002e5.flac'\n",
      "d:\\nepali_notetaker_project\\nepali_notetaker_package\\DataSet\\asr_nepali_0\\asr_nepali\\data\\00\\00559002e5.flac\n",
      "d:\\nepali_notetaker_project\\nepali_notetaker_package\\DataSet\\asr_nepali_0\\asr_nepali\\data\\00\\processed_wav\\00559002e5.wav\n"
     ]
    },
    {
     "name": "stderr",
     "output_type": "stream",
     "text": [
      "  3%|▎         | 16/607 [00:06<02:29,  3.96it/s]"
     ]
    },
    {
     "name": "stdout",
     "output_type": "stream",
     "text": [
      "'d:\\\\nepali_notetaker_project\\\\nepali_notetaker_package\\\\DataSet\\\\asr_nepali_0\\\\asr_nepali\\\\data\\\\00\\\\0025524348.flac'\n",
      "d:\\nepali_notetaker_project\\nepali_notetaker_package\\DataSet\\asr_nepali_0\\asr_nepali\\data\\00\\0025524348.flac\n",
      "d:\\nepali_notetaker_project\\nepali_notetaker_package\\DataSet\\asr_nepali_0\\asr_nepali\\data\\00\\processed_wav\\0025524348.wav\n"
     ]
    },
    {
     "name": "stderr",
     "output_type": "stream",
     "text": [
      "  3%|▎         | 17/607 [00:06<02:39,  3.70it/s]"
     ]
    },
    {
     "name": "stdout",
     "output_type": "stream",
     "text": [
      "'d:\\\\nepali_notetaker_project\\\\nepali_notetaker_package\\\\DataSet\\\\asr_nepali_0\\\\asr_nepali\\\\data\\\\00\\\\008520f056.flac'\n",
      "d:\\nepali_notetaker_project\\nepali_notetaker_package\\DataSet\\asr_nepali_0\\asr_nepali\\data\\00\\008520f056.flac\n",
      "d:\\nepali_notetaker_project\\nepali_notetaker_package\\DataSet\\asr_nepali_0\\asr_nepali\\data\\00\\processed_wav\\008520f056.wav\n"
     ]
    },
    {
     "name": "stderr",
     "output_type": "stream",
     "text": [
      "  3%|▎         | 18/607 [00:07<02:36,  3.77it/s]"
     ]
    },
    {
     "name": "stdout",
     "output_type": "stream",
     "text": [
      "'d:\\\\nepali_notetaker_project\\\\nepali_notetaker_package\\\\DataSet\\\\asr_nepali_0\\\\asr_nepali\\\\data\\\\00\\\\00789e449f.flac'\n",
      "d:\\nepali_notetaker_project\\nepali_notetaker_package\\DataSet\\asr_nepali_0\\asr_nepali\\data\\00\\00789e449f.flac\n",
      "d:\\nepali_notetaker_project\\nepali_notetaker_package\\DataSet\\asr_nepali_0\\asr_nepali\\data\\00\\processed_wav\\00789e449f.wav\n"
     ]
    },
    {
     "name": "stderr",
     "output_type": "stream",
     "text": [
      "  3%|▎         | 19/607 [00:07<02:34,  3.81it/s]"
     ]
    },
    {
     "name": "stdout",
     "output_type": "stream",
     "text": [
      "'d:\\\\nepali_notetaker_project\\\\nepali_notetaker_package\\\\DataSet\\\\asr_nepali_0\\\\asr_nepali\\\\data\\\\00\\\\0002f96e3e.flac'\n",
      "d:\\nepali_notetaker_project\\nepali_notetaker_package\\DataSet\\asr_nepali_0\\asr_nepali\\data\\00\\0002f96e3e.flac\n",
      "d:\\nepali_notetaker_project\\nepali_notetaker_package\\DataSet\\asr_nepali_0\\asr_nepali\\data\\00\\processed_wav\\0002f96e3e.wav\n"
     ]
    },
    {
     "name": "stderr",
     "output_type": "stream",
     "text": [
      "  3%|▎         | 20/607 [00:07<02:33,  3.82it/s]"
     ]
    },
    {
     "name": "stdout",
     "output_type": "stream",
     "text": [
      "'d:\\\\nepali_notetaker_project\\\\nepali_notetaker_package\\\\DataSet\\\\asr_nepali_0\\\\asr_nepali\\\\data\\\\00\\\\009562cd5c.flac'\n",
      "d:\\nepali_notetaker_project\\nepali_notetaker_package\\DataSet\\asr_nepali_0\\asr_nepali\\data\\00\\009562cd5c.flac\n",
      "d:\\nepali_notetaker_project\\nepali_notetaker_package\\DataSet\\asr_nepali_0\\asr_nepali\\data\\00\\processed_wav\\009562cd5c.wav\n"
     ]
    },
    {
     "name": "stderr",
     "output_type": "stream",
     "text": [
      "  3%|▎         | 21/607 [00:07<02:36,  3.75it/s]"
     ]
    },
    {
     "name": "stdout",
     "output_type": "stream",
     "text": [
      "'d:\\\\nepali_notetaker_project\\\\nepali_notetaker_package\\\\DataSet\\\\asr_nepali_0\\\\asr_nepali\\\\data\\\\00\\\\001d884c4a.flac'\n",
      "d:\\nepali_notetaker_project\\nepali_notetaker_package\\DataSet\\asr_nepali_0\\asr_nepali\\data\\00\\001d884c4a.flac\n",
      "d:\\nepali_notetaker_project\\nepali_notetaker_package\\DataSet\\asr_nepali_0\\asr_nepali\\data\\00\\processed_wav\\001d884c4a.wav\n"
     ]
    },
    {
     "name": "stderr",
     "output_type": "stream",
     "text": [
      "  4%|▎         | 22/607 [00:08<02:31,  3.87it/s]"
     ]
    },
    {
     "name": "stdout",
     "output_type": "stream",
     "text": [
      "'d:\\\\nepali_notetaker_project\\\\nepali_notetaker_package\\\\DataSet\\\\asr_nepali_0\\\\asr_nepali\\\\data\\\\00\\\\00fd5f19fb.flac'\n",
      "d:\\nepali_notetaker_project\\nepali_notetaker_package\\DataSet\\asr_nepali_0\\asr_nepali\\data\\00\\00fd5f19fb.flac\n",
      "d:\\nepali_notetaker_project\\nepali_notetaker_package\\DataSet\\asr_nepali_0\\asr_nepali\\data\\00\\processed_wav\\00fd5f19fb.wav\n"
     ]
    },
    {
     "name": "stderr",
     "output_type": "stream",
     "text": [
      "  4%|▍         | 23/607 [00:08<02:32,  3.84it/s]"
     ]
    },
    {
     "name": "stdout",
     "output_type": "stream",
     "text": [
      "'d:\\\\nepali_notetaker_project\\\\nepali_notetaker_package\\\\DataSet\\\\asr_nepali_0\\\\asr_nepali\\\\data\\\\00\\\\007a5a8c03.flac'\n",
      "d:\\nepali_notetaker_project\\nepali_notetaker_package\\DataSet\\asr_nepali_0\\asr_nepali\\data\\00\\007a5a8c03.flac\n",
      "d:\\nepali_notetaker_project\\nepali_notetaker_package\\DataSet\\asr_nepali_0\\asr_nepali\\data\\00\\processed_wav\\007a5a8c03.wav\n"
     ]
    },
    {
     "name": "stderr",
     "output_type": "stream",
     "text": [
      "  4%|▍         | 25/607 [00:08<02:29,  3.89it/s]"
     ]
    },
    {
     "name": "stdout",
     "output_type": "stream",
     "text": [
      "'d:\\\\nepali_notetaker_project\\\\nepali_notetaker_package\\\\DataSet\\\\asr_nepali_0\\\\asr_nepali\\\\data\\\\00\\\\007e2ce2b9.flac'\n",
      "d:\\nepali_notetaker_project\\nepali_notetaker_package\\DataSet\\asr_nepali_0\\asr_nepali\\data\\00\\007e2ce2b9.flac\n",
      "d:\\nepali_notetaker_project\\nepali_notetaker_package\\DataSet\\asr_nepali_0\\asr_nepali\\data\\00\\processed_wav\\007e2ce2b9.wav\n"
     ]
    },
    {
     "name": "stderr",
     "output_type": "stream",
     "text": [
      "  4%|▍         | 26/607 [00:09<02:19,  4.17it/s]"
     ]
    },
    {
     "name": "stdout",
     "output_type": "stream",
     "text": [
      "'d:\\\\nepali_notetaker_project\\\\nepali_notetaker_package\\\\DataSet\\\\asr_nepali_0\\\\asr_nepali\\\\data\\\\00\\\\006bc13a70.flac'\n",
      "d:\\nepali_notetaker_project\\nepali_notetaker_package\\DataSet\\asr_nepali_0\\asr_nepali\\data\\00\\006bc13a70.flac\n",
      "d:\\nepali_notetaker_project\\nepali_notetaker_package\\DataSet\\asr_nepali_0\\asr_nepali\\data\\00\\processed_wav\\006bc13a70.wav\n"
     ]
    },
    {
     "name": "stderr",
     "output_type": "stream",
     "text": [
      "  4%|▍         | 27/607 [00:09<02:12,  4.37it/s]"
     ]
    },
    {
     "name": "stdout",
     "output_type": "stream",
     "text": [
      "'d:\\\\nepali_notetaker_project\\\\nepali_notetaker_package\\\\DataSet\\\\asr_nepali_0\\\\asr_nepali\\\\data\\\\00\\\\00cfbad117.flac'\n",
      "d:\\nepali_notetaker_project\\nepali_notetaker_package\\DataSet\\asr_nepali_0\\asr_nepali\\data\\00\\00cfbad117.flac\n",
      "d:\\nepali_notetaker_project\\nepali_notetaker_package\\DataSet\\asr_nepali_0\\asr_nepali\\data\\00\\processed_wav\\00cfbad117.wav\n",
      "'d:\\\\nepali_notetaker_project\\\\nepali_notetaker_package\\\\DataSet\\\\asr_nepali_0\\\\asr_nepali\\\\data\\\\00\\\\00f6650270.flac'\n",
      "d:\\nepali_notetaker_project\\nepali_notetaker_package\\DataSet\\asr_nepali_0\\asr_nepali\\data\\00\\00f6650270.flac\n",
      "d:\\nepali_notetaker_project\\nepali_notetaker_package\\DataSet\\asr_nepali_0\\asr_nepali\\data\\00\\processed_wav\\00f6650270.wav\n"
     ]
    },
    {
     "name": "stderr",
     "output_type": "stream",
     "text": [
      "  5%|▍         | 28/607 [00:09<02:13,  4.35it/s]"
     ]
    },
    {
     "name": "stdout",
     "output_type": "stream",
     "text": [
      "'d:\\\\nepali_notetaker_project\\\\nepali_notetaker_package\\\\DataSet\\\\asr_nepali_0\\\\asr_nepali\\\\data\\\\00\\\\007f200d31.flac'\n",
      "d:\\nepali_notetaker_project\\nepali_notetaker_package\\DataSet\\asr_nepali_0\\asr_nepali\\data\\00\\007f200d31.flac\n",
      "d:\\nepali_notetaker_project\\nepali_notetaker_package\\DataSet\\asr_nepali_0\\asr_nepali\\data\\00\\processed_wav\\007f200d31.wav\n"
     ]
    },
    {
     "name": "stderr",
     "output_type": "stream",
     "text": [
      "  5%|▍         | 29/607 [00:09<02:11,  4.41it/s]"
     ]
    },
    {
     "name": "stdout",
     "output_type": "stream",
     "text": [
      "'d:\\\\nepali_notetaker_project\\\\nepali_notetaker_package\\\\DataSet\\\\asr_nepali_0\\\\asr_nepali\\\\data\\\\00\\\\00b316fa0b.flac'\n",
      "d:\\nepali_notetaker_project\\nepali_notetaker_package\\DataSet\\asr_nepali_0\\asr_nepali\\data\\00\\00b316fa0b.flac\n",
      "d:\\nepali_notetaker_project\\nepali_notetaker_package\\DataSet\\asr_nepali_0\\asr_nepali\\data\\00\\processed_wav\\00b316fa0b.wav\n"
     ]
    },
    {
     "name": "stderr",
     "output_type": "stream",
     "text": [
      "  5%|▍         | 30/607 [00:10<02:21,  4.06it/s]"
     ]
    },
    {
     "name": "stdout",
     "output_type": "stream",
     "text": [
      "'d:\\\\nepali_notetaker_project\\\\nepali_notetaker_package\\\\DataSet\\\\asr_nepali_0\\\\asr_nepali\\\\data\\\\00\\\\003da50507.flac'\n",
      "d:\\nepali_notetaker_project\\nepali_notetaker_package\\DataSet\\asr_nepali_0\\asr_nepali\\data\\00\\003da50507.flac\n",
      "d:\\nepali_notetaker_project\\nepali_notetaker_package\\DataSet\\asr_nepali_0\\asr_nepali\\data\\00\\processed_wav\\003da50507.wav\n"
     ]
    },
    {
     "name": "stderr",
     "output_type": "stream",
     "text": [
      "  5%|▌         | 31/607 [00:10<02:39,  3.61it/s]"
     ]
    },
    {
     "name": "stdout",
     "output_type": "stream",
     "text": [
      "'d:\\\\nepali_notetaker_project\\\\nepali_notetaker_package\\\\DataSet\\\\asr_nepali_0\\\\asr_nepali\\\\data\\\\00\\\\00b731d07d.flac'\n",
      "d:\\nepali_notetaker_project\\nepali_notetaker_package\\DataSet\\asr_nepali_0\\asr_nepali\\data\\00\\00b731d07d.flac\n",
      "d:\\nepali_notetaker_project\\nepali_notetaker_package\\DataSet\\asr_nepali_0\\asr_nepali\\data\\00\\processed_wav\\00b731d07d.wav\n"
     ]
    },
    {
     "name": "stderr",
     "output_type": "stream",
     "text": [
      "  5%|▌         | 32/607 [00:10<02:36,  3.67it/s]"
     ]
    },
    {
     "name": "stdout",
     "output_type": "stream",
     "text": [
      "'d:\\\\nepali_notetaker_project\\\\nepali_notetaker_package\\\\DataSet\\\\asr_nepali_0\\\\asr_nepali\\\\data\\\\00\\\\00fd703cf5.flac'\n",
      "d:\\nepali_notetaker_project\\nepali_notetaker_package\\DataSet\\asr_nepali_0\\asr_nepali\\data\\00\\00fd703cf5.flac\n",
      "d:\\nepali_notetaker_project\\nepali_notetaker_package\\DataSet\\asr_nepali_0\\asr_nepali\\data\\00\\processed_wav\\00fd703cf5.wav\n"
     ]
    },
    {
     "name": "stderr",
     "output_type": "stream",
     "text": [
      "  5%|▌         | 33/607 [00:10<02:41,  3.56it/s]"
     ]
    },
    {
     "name": "stdout",
     "output_type": "stream",
     "text": [
      "'d:\\\\nepali_notetaker_project\\\\nepali_notetaker_package\\\\DataSet\\\\asr_nepali_0\\\\asr_nepali\\\\data\\\\00\\\\001d578a71.flac'\n",
      "d:\\nepali_notetaker_project\\nepali_notetaker_package\\DataSet\\asr_nepali_0\\asr_nepali\\data\\00\\001d578a71.flac\n",
      "d:\\nepali_notetaker_project\\nepali_notetaker_package\\DataSet\\asr_nepali_0\\asr_nepali\\data\\00\\processed_wav\\001d578a71.wav\n"
     ]
    },
    {
     "name": "stderr",
     "output_type": "stream",
     "text": [
      "  6%|▌         | 34/607 [00:11<02:33,  3.74it/s]"
     ]
    },
    {
     "name": "stdout",
     "output_type": "stream",
     "text": [
      "'d:\\\\nepali_notetaker_project\\\\nepali_notetaker_package\\\\DataSet\\\\asr_nepali_0\\\\asr_nepali\\\\data\\\\00\\\\0003991b47.flac'\n",
      "d:\\nepali_notetaker_project\\nepali_notetaker_package\\DataSet\\asr_nepali_0\\asr_nepali\\data\\00\\0003991b47.flac\n",
      "d:\\nepali_notetaker_project\\nepali_notetaker_package\\DataSet\\asr_nepali_0\\asr_nepali\\data\\00\\processed_wav\\0003991b47.wav\n"
     ]
    },
    {
     "name": "stderr",
     "output_type": "stream",
     "text": [
      "  6%|▌         | 35/607 [00:11<02:34,  3.69it/s]"
     ]
    },
    {
     "name": "stdout",
     "output_type": "stream",
     "text": [
      "'d:\\\\nepali_notetaker_project\\\\nepali_notetaker_package\\\\DataSet\\\\asr_nepali_0\\\\asr_nepali\\\\data\\\\00\\\\008d6ce74e.flac'\n",
      "d:\\nepali_notetaker_project\\nepali_notetaker_package\\DataSet\\asr_nepali_0\\asr_nepali\\data\\00\\008d6ce74e.flac\n",
      "d:\\nepali_notetaker_project\\nepali_notetaker_package\\DataSet\\asr_nepali_0\\asr_nepali\\data\\00\\processed_wav\\008d6ce74e.wav\n"
     ]
    },
    {
     "name": "stderr",
     "output_type": "stream",
     "text": [
      "  6%|▌         | 36/607 [00:11<02:29,  3.81it/s]"
     ]
    },
    {
     "name": "stdout",
     "output_type": "stream",
     "text": [
      "'d:\\\\nepali_notetaker_project\\\\nepali_notetaker_package\\\\DataSet\\\\asr_nepali_0\\\\asr_nepali\\\\data\\\\00\\\\00fa172c5b.flac'\n",
      "d:\\nepali_notetaker_project\\nepali_notetaker_package\\DataSet\\asr_nepali_0\\asr_nepali\\data\\00\\00fa172c5b.flac\n",
      "d:\\nepali_notetaker_project\\nepali_notetaker_package\\DataSet\\asr_nepali_0\\asr_nepali\\data\\00\\processed_wav\\00fa172c5b.wav\n"
     ]
    },
    {
     "name": "stderr",
     "output_type": "stream",
     "text": [
      "  6%|▌         | 37/607 [00:11<02:24,  3.95it/s]"
     ]
    },
    {
     "name": "stdout",
     "output_type": "stream",
     "text": [
      "'d:\\\\nepali_notetaker_project\\\\nepali_notetaker_package\\\\DataSet\\\\asr_nepali_0\\\\asr_nepali\\\\data\\\\00\\\\0093c0debc.flac'\n",
      "d:\\nepali_notetaker_project\\nepali_notetaker_package\\DataSet\\asr_nepali_0\\asr_nepali\\data\\00\\0093c0debc.flac\n",
      "d:\\nepali_notetaker_project\\nepali_notetaker_package\\DataSet\\asr_nepali_0\\asr_nepali\\data\\00\\processed_wav\\0093c0debc.wav\n"
     ]
    },
    {
     "name": "stderr",
     "output_type": "stream",
     "text": [
      "  6%|▋         | 38/607 [00:12<02:22,  4.01it/s]"
     ]
    },
    {
     "name": "stdout",
     "output_type": "stream",
     "text": [
      "'d:\\\\nepali_notetaker_project\\\\nepali_notetaker_package\\\\DataSet\\\\asr_nepali_0\\\\asr_nepali\\\\data\\\\00\\\\0000c0f43b.flac'\n",
      "d:\\nepali_notetaker_project\\nepali_notetaker_package\\DataSet\\asr_nepali_0\\asr_nepali\\data\\00\\0000c0f43b.flac\n",
      "d:\\nepali_notetaker_project\\nepali_notetaker_package\\DataSet\\asr_nepali_0\\asr_nepali\\data\\00\\processed_wav\\0000c0f43b.wav\n"
     ]
    },
    {
     "name": "stderr",
     "output_type": "stream",
     "text": [
      "  6%|▋         | 39/607 [00:12<02:18,  4.11it/s]"
     ]
    },
    {
     "name": "stdout",
     "output_type": "stream",
     "text": [
      "'d:\\\\nepali_notetaker_project\\\\nepali_notetaker_package\\\\DataSet\\\\asr_nepali_0\\\\asr_nepali\\\\data\\\\00\\\\0037b0503e.flac'\n",
      "d:\\nepali_notetaker_project\\nepali_notetaker_package\\DataSet\\asr_nepali_0\\asr_nepali\\data\\00\\0037b0503e.flac\n",
      "d:\\nepali_notetaker_project\\nepali_notetaker_package\\DataSet\\asr_nepali_0\\asr_nepali\\data\\00\\processed_wav\\0037b0503e.wav\n"
     ]
    },
    {
     "name": "stderr",
     "output_type": "stream",
     "text": [
      "  7%|▋         | 40/607 [00:12<02:14,  4.22it/s]"
     ]
    },
    {
     "name": "stdout",
     "output_type": "stream",
     "text": [
      "'d:\\\\nepali_notetaker_project\\\\nepali_notetaker_package\\\\DataSet\\\\asr_nepali_0\\\\asr_nepali\\\\data\\\\00\\\\00b274b107.flac'\n",
      "d:\\nepali_notetaker_project\\nepali_notetaker_package\\DataSet\\asr_nepali_0\\asr_nepali\\data\\00\\00b274b107.flac\n",
      "d:\\nepali_notetaker_project\\nepali_notetaker_package\\DataSet\\asr_nepali_0\\asr_nepali\\data\\00\\processed_wav\\00b274b107.wav\n"
     ]
    },
    {
     "name": "stderr",
     "output_type": "stream",
     "text": [
      "  7%|▋         | 41/607 [00:12<02:21,  3.99it/s]"
     ]
    },
    {
     "name": "stdout",
     "output_type": "stream",
     "text": [
      "'d:\\\\nepali_notetaker_project\\\\nepali_notetaker_package\\\\DataSet\\\\asr_nepali_0\\\\asr_nepali\\\\data\\\\00\\\\00192533bc.flac'\n",
      "d:\\nepali_notetaker_project\\nepali_notetaker_package\\DataSet\\asr_nepali_0\\asr_nepali\\data\\00\\00192533bc.flac\n",
      "d:\\nepali_notetaker_project\\nepali_notetaker_package\\DataSet\\asr_nepali_0\\asr_nepali\\data\\00\\processed_wav\\00192533bc.wav\n"
     ]
    },
    {
     "name": "stderr",
     "output_type": "stream",
     "text": [
      "  7%|▋         | 42/607 [00:13<02:25,  3.88it/s]"
     ]
    },
    {
     "name": "stdout",
     "output_type": "stream",
     "text": [
      "'d:\\\\nepali_notetaker_project\\\\nepali_notetaker_package\\\\DataSet\\\\asr_nepali_0\\\\asr_nepali\\\\data\\\\00\\\\00c17c5c23.flac'\n",
      "d:\\nepali_notetaker_project\\nepali_notetaker_package\\DataSet\\asr_nepali_0\\asr_nepali\\data\\00\\00c17c5c23.flac\n",
      "d:\\nepali_notetaker_project\\nepali_notetaker_package\\DataSet\\asr_nepali_0\\asr_nepali\\data\\00\\processed_wav\\00c17c5c23.wav\n"
     ]
    },
    {
     "name": "stderr",
     "output_type": "stream",
     "text": [
      "  7%|▋         | 43/607 [00:13<02:21,  3.98it/s]"
     ]
    },
    {
     "name": "stdout",
     "output_type": "stream",
     "text": [
      "'d:\\\\nepali_notetaker_project\\\\nepali_notetaker_package\\\\DataSet\\\\asr_nepali_0\\\\asr_nepali\\\\data\\\\00\\\\004121d71b.flac'\n",
      "d:\\nepali_notetaker_project\\nepali_notetaker_package\\DataSet\\asr_nepali_0\\asr_nepali\\data\\00\\004121d71b.flac\n",
      "d:\\nepali_notetaker_project\\nepali_notetaker_package\\DataSet\\asr_nepali_0\\asr_nepali\\data\\00\\processed_wav\\004121d71b.wav\n"
     ]
    },
    {
     "name": "stderr",
     "output_type": "stream",
     "text": [
      "  7%|▋         | 44/607 [00:13<02:15,  4.17it/s]"
     ]
    },
    {
     "name": "stdout",
     "output_type": "stream",
     "text": [
      "'d:\\\\nepali_notetaker_project\\\\nepali_notetaker_package\\\\DataSet\\\\asr_nepali_0\\\\asr_nepali\\\\data\\\\00\\\\002668d6ff.flac'\n",
      "d:\\nepali_notetaker_project\\nepali_notetaker_package\\DataSet\\asr_nepali_0\\asr_nepali\\data\\00\\002668d6ff.flac\n",
      "d:\\nepali_notetaker_project\\nepali_notetaker_package\\DataSet\\asr_nepali_0\\asr_nepali\\data\\00\\processed_wav\\002668d6ff.wav\n"
     ]
    },
    {
     "name": "stderr",
     "output_type": "stream",
     "text": [
      "  7%|▋         | 45/607 [00:13<02:19,  4.03it/s]"
     ]
    },
    {
     "name": "stdout",
     "output_type": "stream",
     "text": [
      "'d:\\\\nepali_notetaker_project\\\\nepali_notetaker_package\\\\DataSet\\\\asr_nepali_0\\\\asr_nepali\\\\data\\\\00\\\\00b6823b6e.flac'\n",
      "d:\\nepali_notetaker_project\\nepali_notetaker_package\\DataSet\\asr_nepali_0\\asr_nepali\\data\\00\\00b6823b6e.flac\n",
      "d:\\nepali_notetaker_project\\nepali_notetaker_package\\DataSet\\asr_nepali_0\\asr_nepali\\data\\00\\processed_wav\\00b6823b6e.wav\n"
     ]
    },
    {
     "name": "stderr",
     "output_type": "stream",
     "text": [
      "  8%|▊         | 46/607 [00:14<02:19,  4.03it/s]"
     ]
    },
    {
     "name": "stdout",
     "output_type": "stream",
     "text": [
      "'d:\\\\nepali_notetaker_project\\\\nepali_notetaker_package\\\\DataSet\\\\asr_nepali_0\\\\asr_nepali\\\\data\\\\00\\\\00183d8749.flac'\n",
      "d:\\nepali_notetaker_project\\nepali_notetaker_package\\DataSet\\asr_nepali_0\\asr_nepali\\data\\00\\00183d8749.flac\n",
      "d:\\nepali_notetaker_project\\nepali_notetaker_package\\DataSet\\asr_nepali_0\\asr_nepali\\data\\00\\processed_wav\\00183d8749.wav\n"
     ]
    },
    {
     "name": "stderr",
     "output_type": "stream",
     "text": [
      "  8%|▊         | 47/607 [00:14<02:15,  4.13it/s]"
     ]
    },
    {
     "name": "stdout",
     "output_type": "stream",
     "text": [
      "'d:\\\\nepali_notetaker_project\\\\nepali_notetaker_package\\\\DataSet\\\\asr_nepali_0\\\\asr_nepali\\\\data\\\\00\\\\008d4cc604.flac'\n",
      "d:\\nepali_notetaker_project\\nepali_notetaker_package\\DataSet\\asr_nepali_0\\asr_nepali\\data\\00\\008d4cc604.flac\n",
      "d:\\nepali_notetaker_project\\nepali_notetaker_package\\DataSet\\asr_nepali_0\\asr_nepali\\data\\00\\processed_wav\\008d4cc604.wav\n"
     ]
    },
    {
     "name": "stderr",
     "output_type": "stream",
     "text": [
      "  8%|▊         | 49/607 [00:14<02:05,  4.45it/s]"
     ]
    },
    {
     "name": "stdout",
     "output_type": "stream",
     "text": [
      "'d:\\\\nepali_notetaker_project\\\\nepali_notetaker_package\\\\DataSet\\\\asr_nepali_0\\\\asr_nepali\\\\data\\\\00\\\\00342a5f73.flac'\n",
      "d:\\nepali_notetaker_project\\nepali_notetaker_package\\DataSet\\asr_nepali_0\\asr_nepali\\data\\00\\00342a5f73.flac\n",
      "d:\\nepali_notetaker_project\\nepali_notetaker_package\\DataSet\\asr_nepali_0\\asr_nepali\\data\\00\\processed_wav\\00342a5f73.wav\n",
      "'d:\\\\nepali_notetaker_project\\\\nepali_notetaker_package\\\\DataSet\\\\asr_nepali_0\\\\asr_nepali\\\\data\\\\00\\\\00e2417c7d.flac'\n",
      "d:\\nepali_notetaker_project\\nepali_notetaker_package\\DataSet\\asr_nepali_0\\asr_nepali\\data\\00\\00e2417c7d.flac\n",
      "d:\\nepali_notetaker_project\\nepali_notetaker_package\\DataSet\\asr_nepali_0\\asr_nepali\\data\\00\\processed_wav\\00e2417c7d.wav\n"
     ]
    },
    {
     "name": "stderr",
     "output_type": "stream",
     "text": [
      "  8%|▊         | 50/607 [00:15<02:09,  4.31it/s]"
     ]
    },
    {
     "name": "stdout",
     "output_type": "stream",
     "text": [
      "'d:\\\\nepali_notetaker_project\\\\nepali_notetaker_package\\\\DataSet\\\\asr_nepali_0\\\\asr_nepali\\\\data\\\\00\\\\00ed0ea70b.flac'\n",
      "d:\\nepali_notetaker_project\\nepali_notetaker_package\\DataSet\\asr_nepali_0\\asr_nepali\\data\\00\\00ed0ea70b.flac\n",
      "d:\\nepali_notetaker_project\\nepali_notetaker_package\\DataSet\\asr_nepali_0\\asr_nepali\\data\\00\\processed_wav\\00ed0ea70b.wav\n"
     ]
    },
    {
     "name": "stderr",
     "output_type": "stream",
     "text": [
      "  8%|▊         | 51/607 [00:15<02:12,  4.20it/s]"
     ]
    },
    {
     "name": "stdout",
     "output_type": "stream",
     "text": [
      "'d:\\\\nepali_notetaker_project\\\\nepali_notetaker_package\\\\DataSet\\\\asr_nepali_0\\\\asr_nepali\\\\data\\\\00\\\\0021bc4fcb.flac'\n",
      "d:\\nepali_notetaker_project\\nepali_notetaker_package\\DataSet\\asr_nepali_0\\asr_nepali\\data\\00\\0021bc4fcb.flac\n",
      "d:\\nepali_notetaker_project\\nepali_notetaker_package\\DataSet\\asr_nepali_0\\asr_nepali\\data\\00\\processed_wav\\0021bc4fcb.wav\n"
     ]
    },
    {
     "name": "stderr",
     "output_type": "stream",
     "text": [
      "  9%|▊         | 52/607 [00:15<02:13,  4.15it/s]"
     ]
    },
    {
     "name": "stdout",
     "output_type": "stream",
     "text": [
      "'d:\\\\nepali_notetaker_project\\\\nepali_notetaker_package\\\\DataSet\\\\asr_nepali_0\\\\asr_nepali\\\\data\\\\00\\\\00df1b4b51.flac'\n",
      "d:\\nepali_notetaker_project\\nepali_notetaker_package\\DataSet\\asr_nepali_0\\asr_nepali\\data\\00\\00df1b4b51.flac\n",
      "d:\\nepali_notetaker_project\\nepali_notetaker_package\\DataSet\\asr_nepali_0\\asr_nepali\\data\\00\\processed_wav\\00df1b4b51.wav\n"
     ]
    },
    {
     "name": "stderr",
     "output_type": "stream",
     "text": [
      "  9%|▊         | 53/607 [00:15<02:27,  3.76it/s]"
     ]
    },
    {
     "name": "stdout",
     "output_type": "stream",
     "text": [
      "'d:\\\\nepali_notetaker_project\\\\nepali_notetaker_package\\\\DataSet\\\\asr_nepali_0\\\\asr_nepali\\\\data\\\\00\\\\0036aafc9a.flac'\n",
      "d:\\nepali_notetaker_project\\nepali_notetaker_package\\DataSet\\asr_nepali_0\\asr_nepali\\data\\00\\0036aafc9a.flac\n",
      "d:\\nepali_notetaker_project\\nepali_notetaker_package\\DataSet\\asr_nepali_0\\asr_nepali\\data\\00\\processed_wav\\0036aafc9a.wav\n"
     ]
    },
    {
     "name": "stderr",
     "output_type": "stream",
     "text": [
      "  9%|▉         | 54/607 [00:16<02:23,  3.86it/s]"
     ]
    },
    {
     "name": "stdout",
     "output_type": "stream",
     "text": [
      "'d:\\\\nepali_notetaker_project\\\\nepali_notetaker_package\\\\DataSet\\\\asr_nepali_0\\\\asr_nepali\\\\data\\\\00\\\\00b0d8f5ac.flac'\n",
      "d:\\nepali_notetaker_project\\nepali_notetaker_package\\DataSet\\asr_nepali_0\\asr_nepali\\data\\00\\00b0d8f5ac.flac\n",
      "d:\\nepali_notetaker_project\\nepali_notetaker_package\\DataSet\\asr_nepali_0\\asr_nepali\\data\\00\\processed_wav\\00b0d8f5ac.wav\n"
     ]
    },
    {
     "name": "stderr",
     "output_type": "stream",
     "text": [
      "  9%|▉         | 55/607 [00:16<02:19,  3.95it/s]"
     ]
    },
    {
     "name": "stdout",
     "output_type": "stream",
     "text": [
      "'d:\\\\nepali_notetaker_project\\\\nepali_notetaker_package\\\\DataSet\\\\asr_nepali_0\\\\asr_nepali\\\\data\\\\00\\\\00334a9f80.flac'\n",
      "d:\\nepali_notetaker_project\\nepali_notetaker_package\\DataSet\\asr_nepali_0\\asr_nepali\\data\\00\\00334a9f80.flac\n",
      "d:\\nepali_notetaker_project\\nepali_notetaker_package\\DataSet\\asr_nepali_0\\asr_nepali\\data\\00\\processed_wav\\00334a9f80.wav\n"
     ]
    },
    {
     "name": "stderr",
     "output_type": "stream",
     "text": [
      "  9%|▉         | 56/607 [00:16<02:21,  3.89it/s]"
     ]
    },
    {
     "name": "stdout",
     "output_type": "stream",
     "text": [
      "'d:\\\\nepali_notetaker_project\\\\nepali_notetaker_package\\\\DataSet\\\\asr_nepali_0\\\\asr_nepali\\\\data\\\\00\\\\00c83021a4.flac'\n",
      "d:\\nepali_notetaker_project\\nepali_notetaker_package\\DataSet\\asr_nepali_0\\asr_nepali\\data\\00\\00c83021a4.flac\n",
      "d:\\nepali_notetaker_project\\nepali_notetaker_package\\DataSet\\asr_nepali_0\\asr_nepali\\data\\00\\processed_wav\\00c83021a4.wav\n"
     ]
    },
    {
     "name": "stderr",
     "output_type": "stream",
     "text": [
      "  9%|▉         | 57/607 [00:16<02:27,  3.74it/s]"
     ]
    },
    {
     "name": "stdout",
     "output_type": "stream",
     "text": [
      "'d:\\\\nepali_notetaker_project\\\\nepali_notetaker_package\\\\DataSet\\\\asr_nepali_0\\\\asr_nepali\\\\data\\\\00\\\\00a9723f3b.flac'\n",
      "d:\\nepali_notetaker_project\\nepali_notetaker_package\\DataSet\\asr_nepali_0\\asr_nepali\\data\\00\\00a9723f3b.flac\n",
      "d:\\nepali_notetaker_project\\nepali_notetaker_package\\DataSet\\asr_nepali_0\\asr_nepali\\data\\00\\processed_wav\\00a9723f3b.wav\n"
     ]
    },
    {
     "name": "stderr",
     "output_type": "stream",
     "text": [
      " 10%|▉         | 59/607 [00:17<02:10,  4.20it/s]"
     ]
    },
    {
     "name": "stdout",
     "output_type": "stream",
     "text": [
      "'d:\\\\nepali_notetaker_project\\\\nepali_notetaker_package\\\\DataSet\\\\asr_nepali_0\\\\asr_nepali\\\\data\\\\00\\\\006c99c215.flac'\n",
      "d:\\nepali_notetaker_project\\nepali_notetaker_package\\DataSet\\asr_nepali_0\\asr_nepali\\data\\00\\006c99c215.flac\n",
      "d:\\nepali_notetaker_project\\nepali_notetaker_package\\DataSet\\asr_nepali_0\\asr_nepali\\data\\00\\processed_wav\\006c99c215.wav\n"
     ]
    },
    {
     "name": "stderr",
     "output_type": "stream",
     "text": [
      " 10%|▉         | 60/607 [00:17<02:02,  4.48it/s]"
     ]
    },
    {
     "name": "stdout",
     "output_type": "stream",
     "text": [
      "'d:\\\\nepali_notetaker_project\\\\nepali_notetaker_package\\\\DataSet\\\\asr_nepali_0\\\\asr_nepali\\\\data\\\\00\\\\005068078d.flac'\n",
      "d:\\nepali_notetaker_project\\nepali_notetaker_package\\DataSet\\asr_nepali_0\\asr_nepali\\data\\00\\005068078d.flac\n",
      "d:\\nepali_notetaker_project\\nepali_notetaker_package\\DataSet\\asr_nepali_0\\asr_nepali\\data\\00\\processed_wav\\005068078d.wav\n",
      "'d:\\\\nepali_notetaker_project\\\\nepali_notetaker_package\\\\DataSet\\\\asr_nepali_0\\\\asr_nepali\\\\data\\\\00\\\\00e0830d1b.flac'\n",
      "d:\\nepali_notetaker_project\\nepali_notetaker_package\\DataSet\\asr_nepali_0\\asr_nepali\\data\\00\\00e0830d1b.flac\n",
      "d:\\nepali_notetaker_project\\nepali_notetaker_package\\DataSet\\asr_nepali_0\\asr_nepali\\data\\00\\processed_wav\\00e0830d1b.wav\n"
     ]
    },
    {
     "name": "stderr",
     "output_type": "stream",
     "text": [
      " 10%|█         | 61/607 [00:17<02:06,  4.33it/s]"
     ]
    },
    {
     "name": "stdout",
     "output_type": "stream",
     "text": [
      "'d:\\\\nepali_notetaker_project\\\\nepali_notetaker_package\\\\DataSet\\\\asr_nepali_0\\\\asr_nepali\\\\data\\\\00\\\\002199cfd5.flac'\n",
      "d:\\nepali_notetaker_project\\nepali_notetaker_package\\DataSet\\asr_nepali_0\\asr_nepali\\data\\00\\002199cfd5.flac\n",
      "d:\\nepali_notetaker_project\\nepali_notetaker_package\\DataSet\\asr_nepali_0\\asr_nepali\\data\\00\\processed_wav\\002199cfd5.wav\n"
     ]
    },
    {
     "name": "stderr",
     "output_type": "stream",
     "text": [
      " 10%|█         | 62/607 [00:18<02:09,  4.20it/s]"
     ]
    },
    {
     "name": "stdout",
     "output_type": "stream",
     "text": [
      "'d:\\\\nepali_notetaker_project\\\\nepali_notetaker_package\\\\DataSet\\\\asr_nepali_0\\\\asr_nepali\\\\data\\\\00\\\\004ffbf2b3.flac'\n",
      "d:\\nepali_notetaker_project\\nepali_notetaker_package\\DataSet\\asr_nepali_0\\asr_nepali\\data\\00\\004ffbf2b3.flac\n",
      "d:\\nepali_notetaker_project\\nepali_notetaker_package\\DataSet\\asr_nepali_0\\asr_nepali\\data\\00\\processed_wav\\004ffbf2b3.wav\n"
     ]
    },
    {
     "name": "stderr",
     "output_type": "stream",
     "text": [
      " 10%|█         | 63/607 [00:18<02:20,  3.87it/s]"
     ]
    },
    {
     "name": "stdout",
     "output_type": "stream",
     "text": [
      "'d:\\\\nepali_notetaker_project\\\\nepali_notetaker_package\\\\DataSet\\\\asr_nepali_0\\\\asr_nepali\\\\data\\\\00\\\\00bdb3dfd8.flac'\n",
      "d:\\nepali_notetaker_project\\nepali_notetaker_package\\DataSet\\asr_nepali_0\\asr_nepali\\data\\00\\00bdb3dfd8.flac\n",
      "d:\\nepali_notetaker_project\\nepali_notetaker_package\\DataSet\\asr_nepali_0\\asr_nepali\\data\\00\\processed_wav\\00bdb3dfd8.wav\n"
     ]
    },
    {
     "name": "stderr",
     "output_type": "stream",
     "text": [
      " 11%|█         | 64/607 [00:18<02:25,  3.74it/s]"
     ]
    },
    {
     "name": "stdout",
     "output_type": "stream",
     "text": [
      "'d:\\\\nepali_notetaker_project\\\\nepali_notetaker_package\\\\DataSet\\\\asr_nepali_0\\\\asr_nepali\\\\data\\\\00\\\\007b1b872b.flac'\n",
      "d:\\nepali_notetaker_project\\nepali_notetaker_package\\DataSet\\asr_nepali_0\\asr_nepali\\data\\00\\007b1b872b.flac\n",
      "d:\\nepali_notetaker_project\\nepali_notetaker_package\\DataSet\\asr_nepali_0\\asr_nepali\\data\\00\\processed_wav\\007b1b872b.wav\n"
     ]
    },
    {
     "name": "stderr",
     "output_type": "stream",
     "text": [
      " 11%|█         | 65/607 [00:19<03:27,  2.62it/s]"
     ]
    },
    {
     "name": "stdout",
     "output_type": "stream",
     "text": [
      "'d:\\\\nepali_notetaker_project\\\\nepali_notetaker_package\\\\DataSet\\\\asr_nepali_0\\\\asr_nepali\\\\data\\\\00\\\\00e6eda823.flac'\n",
      "d:\\nepali_notetaker_project\\nepali_notetaker_package\\DataSet\\asr_nepali_0\\asr_nepali\\data\\00\\00e6eda823.flac\n",
      "d:\\nepali_notetaker_project\\nepali_notetaker_package\\DataSet\\asr_nepali_0\\asr_nepali\\data\\00\\processed_wav\\00e6eda823.wav\n"
     ]
    },
    {
     "name": "stderr",
     "output_type": "stream",
     "text": [
      " 11%|█         | 66/607 [00:19<03:14,  2.78it/s]"
     ]
    },
    {
     "name": "stdout",
     "output_type": "stream",
     "text": [
      "'d:\\\\nepali_notetaker_project\\\\nepali_notetaker_package\\\\DataSet\\\\asr_nepali_0\\\\asr_nepali\\\\data\\\\00\\\\00a2e7238f.flac'\n",
      "d:\\nepali_notetaker_project\\nepali_notetaker_package\\DataSet\\asr_nepali_0\\asr_nepali\\data\\00\\00a2e7238f.flac\n",
      "d:\\nepali_notetaker_project\\nepali_notetaker_package\\DataSet\\asr_nepali_0\\asr_nepali\\data\\00\\processed_wav\\00a2e7238f.wav\n"
     ]
    },
    {
     "name": "stderr",
     "output_type": "stream",
     "text": [
      " 11%|█         | 68/607 [00:20<02:37,  3.42it/s]"
     ]
    },
    {
     "name": "stdout",
     "output_type": "stream",
     "text": [
      "'d:\\\\nepali_notetaker_project\\\\nepali_notetaker_package\\\\DataSet\\\\asr_nepali_0\\\\asr_nepali\\\\data\\\\00\\\\00b7073d6a.flac'\n",
      "d:\\nepali_notetaker_project\\nepali_notetaker_package\\DataSet\\asr_nepali_0\\asr_nepali\\data\\00\\00b7073d6a.flac\n",
      "d:\\nepali_notetaker_project\\nepali_notetaker_package\\DataSet\\asr_nepali_0\\asr_nepali\\data\\00\\processed_wav\\00b7073d6a.wav\n",
      "'d:\\\\nepali_notetaker_project\\\\nepali_notetaker_package\\\\DataSet\\\\asr_nepali_0\\\\asr_nepali\\\\data\\\\00\\\\00ad5d31bd.flac'\n",
      "d:\\nepali_notetaker_project\\nepali_notetaker_package\\DataSet\\asr_nepali_0\\asr_nepali\\data\\00\\00ad5d31bd.flac\n",
      "d:\\nepali_notetaker_project\\nepali_notetaker_package\\DataSet\\asr_nepali_0\\asr_nepali\\data\\00\\processed_wav\\00ad5d31bd.wav\n"
     ]
    },
    {
     "name": "stderr",
     "output_type": "stream",
     "text": [
      " 11%|█▏        | 69/607 [00:20<02:23,  3.74it/s]"
     ]
    },
    {
     "name": "stdout",
     "output_type": "stream",
     "text": [
      "'d:\\\\nepali_notetaker_project\\\\nepali_notetaker_package\\\\DataSet\\\\asr_nepali_0\\\\asr_nepali\\\\data\\\\00\\\\0097dfcf17.flac'\n",
      "d:\\nepali_notetaker_project\\nepali_notetaker_package\\DataSet\\asr_nepali_0\\asr_nepali\\data\\00\\0097dfcf17.flac\n",
      "d:\\nepali_notetaker_project\\nepali_notetaker_package\\DataSet\\asr_nepali_0\\asr_nepali\\data\\00\\processed_wav\\0097dfcf17.wav\n"
     ]
    },
    {
     "name": "stderr",
     "output_type": "stream",
     "text": [
      " 12%|█▏        | 70/607 [00:20<02:21,  3.79it/s]"
     ]
    },
    {
     "name": "stdout",
     "output_type": "stream",
     "text": [
      "'d:\\\\nepali_notetaker_project\\\\nepali_notetaker_package\\\\DataSet\\\\asr_nepali_0\\\\asr_nepali\\\\data\\\\00\\\\007c2c6e9d.flac'\n",
      "d:\\nepali_notetaker_project\\nepali_notetaker_package\\DataSet\\asr_nepali_0\\asr_nepali\\data\\00\\007c2c6e9d.flac\n",
      "d:\\nepali_notetaker_project\\nepali_notetaker_package\\DataSet\\asr_nepali_0\\asr_nepali\\data\\00\\processed_wav\\007c2c6e9d.wav\n"
     ]
    },
    {
     "name": "stderr",
     "output_type": "stream",
     "text": [
      " 12%|█▏        | 72/607 [00:21<02:11,  4.07it/s]"
     ]
    },
    {
     "name": "stdout",
     "output_type": "stream",
     "text": [
      "'d:\\\\nepali_notetaker_project\\\\nepali_notetaker_package\\\\DataSet\\\\asr_nepali_0\\\\asr_nepali\\\\data\\\\00\\\\00a6a08087.flac'\n",
      "d:\\nepali_notetaker_project\\nepali_notetaker_package\\DataSet\\asr_nepali_0\\asr_nepali\\data\\00\\00a6a08087.flac\n",
      "d:\\nepali_notetaker_project\\nepali_notetaker_package\\DataSet\\asr_nepali_0\\asr_nepali\\data\\00\\processed_wav\\00a6a08087.wav\n",
      "'d:\\\\nepali_notetaker_project\\\\nepali_notetaker_package\\\\DataSet\\\\asr_nepali_0\\\\asr_nepali\\\\data\\\\00\\\\00fb65beee.flac'\n",
      "d:\\nepali_notetaker_project\\nepali_notetaker_package\\DataSet\\asr_nepali_0\\asr_nepali\\data\\00\\00fb65beee.flac\n",
      "d:\\nepali_notetaker_project\\nepali_notetaker_package\\DataSet\\asr_nepali_0\\asr_nepali\\data\\00\\processed_wav\\00fb65beee.wav\n"
     ]
    },
    {
     "name": "stderr",
     "output_type": "stream",
     "text": [
      " 12%|█▏        | 73/607 [00:21<02:05,  4.25it/s]"
     ]
    },
    {
     "name": "stdout",
     "output_type": "stream",
     "text": [
      "'d:\\\\nepali_notetaker_project\\\\nepali_notetaker_package\\\\DataSet\\\\asr_nepali_0\\\\asr_nepali\\\\data\\\\00\\\\00df231fe9.flac'\n",
      "d:\\nepali_notetaker_project\\nepali_notetaker_package\\DataSet\\asr_nepali_0\\asr_nepali\\data\\00\\00df231fe9.flac\n",
      "d:\\nepali_notetaker_project\\nepali_notetaker_package\\DataSet\\asr_nepali_0\\asr_nepali\\data\\00\\processed_wav\\00df231fe9.wav\n"
     ]
    },
    {
     "name": "stderr",
     "output_type": "stream",
     "text": [
      " 12%|█▏        | 74/607 [00:21<02:02,  4.35it/s]"
     ]
    },
    {
     "name": "stdout",
     "output_type": "stream",
     "text": [
      "'d:\\\\nepali_notetaker_project\\\\nepali_notetaker_package\\\\DataSet\\\\asr_nepali_0\\\\asr_nepali\\\\data\\\\00\\\\00e89ee833.flac'\n",
      "d:\\nepali_notetaker_project\\nepali_notetaker_package\\DataSet\\asr_nepali_0\\asr_nepali\\data\\00\\00e89ee833.flac\n",
      "d:\\nepali_notetaker_project\\nepali_notetaker_package\\DataSet\\asr_nepali_0\\asr_nepali\\data\\00\\processed_wav\\00e89ee833.wav\n"
     ]
    },
    {
     "name": "stderr",
     "output_type": "stream",
     "text": [
      " 13%|█▎        | 76/607 [00:21<02:01,  4.36it/s]"
     ]
    },
    {
     "name": "stdout",
     "output_type": "stream",
     "text": [
      "'d:\\\\nepali_notetaker_project\\\\nepali_notetaker_package\\\\DataSet\\\\asr_nepali_0\\\\asr_nepali\\\\data\\\\00\\\\00064cff78.flac'\n",
      "d:\\nepali_notetaker_project\\nepali_notetaker_package\\DataSet\\asr_nepali_0\\asr_nepali\\data\\00\\00064cff78.flac\n",
      "d:\\nepali_notetaker_project\\nepali_notetaker_package\\DataSet\\asr_nepali_0\\asr_nepali\\data\\00\\processed_wav\\00064cff78.wav\n",
      "'d:\\\\nepali_notetaker_project\\\\nepali_notetaker_package\\\\DataSet\\\\asr_nepali_0\\\\asr_nepali\\\\data\\\\00\\\\00b6900b3a.flac'\n",
      "d:\\nepali_notetaker_project\\nepali_notetaker_package\\DataSet\\asr_nepali_0\\asr_nepali\\data\\00\\00b6900b3a.flac\n",
      "d:\\nepali_notetaker_project\\nepali_notetaker_package\\DataSet\\asr_nepali_0\\asr_nepali\\data\\00\\processed_wav\\00b6900b3a.wav\n"
     ]
    },
    {
     "name": "stderr",
     "output_type": "stream",
     "text": [
      " 13%|█▎        | 78/607 [00:22<01:54,  4.64it/s]"
     ]
    },
    {
     "name": "stdout",
     "output_type": "stream",
     "text": [
      "'d:\\\\nepali_notetaker_project\\\\nepali_notetaker_package\\\\DataSet\\\\asr_nepali_0\\\\asr_nepali\\\\data\\\\00\\\\00c32efedc.flac'\n",
      "d:\\nepali_notetaker_project\\nepali_notetaker_package\\DataSet\\asr_nepali_0\\asr_nepali\\data\\00\\00c32efedc.flac\n",
      "d:\\nepali_notetaker_project\\nepali_notetaker_package\\DataSet\\asr_nepali_0\\asr_nepali\\data\\00\\processed_wav\\00c32efedc.wav\n"
     ]
    },
    {
     "name": "stderr",
     "output_type": "stream",
     "text": [
      " 13%|█▎        | 79/607 [00:22<01:51,  4.73it/s]"
     ]
    },
    {
     "name": "stdout",
     "output_type": "stream",
     "text": [
      "'d:\\\\nepali_notetaker_project\\\\nepali_notetaker_package\\\\DataSet\\\\asr_nepali_0\\\\asr_nepali\\\\data\\\\00\\\\00db5eaafb.flac'\n",
      "d:\\nepali_notetaker_project\\nepali_notetaker_package\\DataSet\\asr_nepali_0\\asr_nepali\\data\\00\\00db5eaafb.flac\n",
      "d:\\nepali_notetaker_project\\nepali_notetaker_package\\DataSet\\asr_nepali_0\\asr_nepali\\data\\00\\processed_wav\\00db5eaafb.wav\n",
      "'d:\\\\nepali_notetaker_project\\\\nepali_notetaker_package\\\\DataSet\\\\asr_nepali_0\\\\asr_nepali\\\\data\\\\00\\\\00064ab0f0.flac'\n",
      "d:\\nepali_notetaker_project\\nepali_notetaker_package\\DataSet\\asr_nepali_0\\asr_nepali\\data\\00\\00064ab0f0.flac\n",
      "d:\\nepali_notetaker_project\\nepali_notetaker_package\\DataSet\\asr_nepali_0\\asr_nepali\\data\\00\\processed_wav\\00064ab0f0.wav\n"
     ]
    },
    {
     "name": "stderr",
     "output_type": "stream",
     "text": [
      " 13%|█▎        | 80/607 [00:22<02:11,  4.01it/s]"
     ]
    },
    {
     "name": "stdout",
     "output_type": "stream",
     "text": [
      "'d:\\\\nepali_notetaker_project\\\\nepali_notetaker_package\\\\DataSet\\\\asr_nepali_0\\\\asr_nepali\\\\data\\\\00\\\\00189ddfe4.flac'\n",
      "d:\\nepali_notetaker_project\\nepali_notetaker_package\\DataSet\\asr_nepali_0\\asr_nepali\\data\\00\\00189ddfe4.flac\n",
      "d:\\nepali_notetaker_project\\nepali_notetaker_package\\DataSet\\asr_nepali_0\\asr_nepali\\data\\00\\processed_wav\\00189ddfe4.wav\n"
     ]
    },
    {
     "name": "stderr",
     "output_type": "stream",
     "text": [
      " 13%|█▎        | 81/607 [00:23<02:07,  4.13it/s]"
     ]
    },
    {
     "name": "stdout",
     "output_type": "stream",
     "text": [
      "'d:\\\\nepali_notetaker_project\\\\nepali_notetaker_package\\\\DataSet\\\\asr_nepali_0\\\\asr_nepali\\\\data\\\\00\\\\005caf7037.flac'\n",
      "d:\\nepali_notetaker_project\\nepali_notetaker_package\\DataSet\\asr_nepali_0\\asr_nepali\\data\\00\\005caf7037.flac\n",
      "d:\\nepali_notetaker_project\\nepali_notetaker_package\\DataSet\\asr_nepali_0\\asr_nepali\\data\\00\\processed_wav\\005caf7037.wav\n"
     ]
    },
    {
     "name": "stderr",
     "output_type": "stream",
     "text": [
      " 14%|█▎        | 82/607 [00:23<02:05,  4.18it/s]"
     ]
    },
    {
     "name": "stdout",
     "output_type": "stream",
     "text": [
      "'d:\\\\nepali_notetaker_project\\\\nepali_notetaker_package\\\\DataSet\\\\asr_nepali_0\\\\asr_nepali\\\\data\\\\00\\\\002ce69b3f.flac'\n",
      "d:\\nepali_notetaker_project\\nepali_notetaker_package\\DataSet\\asr_nepali_0\\asr_nepali\\data\\00\\002ce69b3f.flac\n",
      "d:\\nepali_notetaker_project\\nepali_notetaker_package\\DataSet\\asr_nepali_0\\asr_nepali\\data\\00\\processed_wav\\002ce69b3f.wav\n"
     ]
    },
    {
     "name": "stderr",
     "output_type": "stream",
     "text": [
      " 14%|█▎        | 83/607 [00:25<07:35,  1.15it/s]"
     ]
    },
    {
     "name": "stdout",
     "output_type": "stream",
     "text": [
      "'d:\\\\nepali_notetaker_project\\\\nepali_notetaker_package\\\\DataSet\\\\asr_nepali_0\\\\asr_nepali\\\\data\\\\00\\\\00849d0a5f.flac'\n",
      "d:\\nepali_notetaker_project\\nepali_notetaker_package\\DataSet\\asr_nepali_0\\asr_nepali\\data\\00\\00849d0a5f.flac\n",
      "d:\\nepali_notetaker_project\\nepali_notetaker_package\\DataSet\\asr_nepali_0\\asr_nepali\\data\\00\\processed_wav\\00849d0a5f.wav\n"
     ]
    },
    {
     "name": "stderr",
     "output_type": "stream",
     "text": [
      " 14%|█▍        | 85/607 [00:27<07:38,  1.14it/s]"
     ]
    },
    {
     "name": "stdout",
     "output_type": "stream",
     "text": [
      "'d:\\\\nepali_notetaker_project\\\\nepali_notetaker_package\\\\DataSet\\\\asr_nepali_0\\\\asr_nepali\\\\data\\\\00\\\\000db1717c.flac'\n",
      "d:\\nepali_notetaker_project\\nepali_notetaker_package\\DataSet\\asr_nepali_0\\asr_nepali\\data\\00\\000db1717c.flac\n",
      "d:\\nepali_notetaker_project\\nepali_notetaker_package\\DataSet\\asr_nepali_0\\asr_nepali\\data\\00\\processed_wav\\000db1717c.wav\n",
      "'d:\\\\nepali_notetaker_project\\\\nepali_notetaker_package\\\\DataSet\\\\asr_nepali_0\\\\asr_nepali\\\\data\\\\00\\\\00b8d3ba57.flac'\n",
      "d:\\nepali_notetaker_project\\nepali_notetaker_package\\DataSet\\asr_nepali_0\\asr_nepali\\data\\00\\00b8d3ba57.flac\n",
      "d:\\nepali_notetaker_project\\nepali_notetaker_package\\DataSet\\asr_nepali_0\\asr_nepali\\data\\00\\processed_wav\\00b8d3ba57.wav\n"
     ]
    },
    {
     "name": "stderr",
     "output_type": "stream",
     "text": [
      " 14%|█▍        | 87/607 [00:28<04:30,  1.92it/s]"
     ]
    },
    {
     "name": "stdout",
     "output_type": "stream",
     "text": [
      "'d:\\\\nepali_notetaker_project\\\\nepali_notetaker_package\\\\DataSet\\\\asr_nepali_0\\\\asr_nepali\\\\data\\\\00\\\\00b58764f4.flac'\n",
      "d:\\nepali_notetaker_project\\nepali_notetaker_package\\DataSet\\asr_nepali_0\\asr_nepali\\data\\00\\00b58764f4.flac\n",
      "d:\\nepali_notetaker_project\\nepali_notetaker_package\\DataSet\\asr_nepali_0\\asr_nepali\\data\\00\\processed_wav\\00b58764f4.wav\n",
      "'d:\\\\nepali_notetaker_project\\\\nepali_notetaker_package\\\\DataSet\\\\asr_nepali_0\\\\asr_nepali\\\\data\\\\00\\\\0014e261ff.flac'\n",
      "d:\\nepali_notetaker_project\\nepali_notetaker_package\\DataSet\\asr_nepali_0\\asr_nepali\\data\\00\\0014e261ff.flac\n",
      "d:\\nepali_notetaker_project\\nepali_notetaker_package\\DataSet\\asr_nepali_0\\asr_nepali\\data\\00\\processed_wav\\0014e261ff.wav\n"
     ]
    },
    {
     "name": "stderr",
     "output_type": "stream",
     "text": [
      " 14%|█▍        | 88/607 [00:28<03:43,  2.33it/s]"
     ]
    },
    {
     "name": "stdout",
     "output_type": "stream",
     "text": [
      "'d:\\\\nepali_notetaker_project\\\\nepali_notetaker_package\\\\DataSet\\\\asr_nepali_0\\\\asr_nepali\\\\data\\\\00\\\\004a5ac98a.flac'\n",
      "d:\\nepali_notetaker_project\\nepali_notetaker_package\\DataSet\\asr_nepali_0\\asr_nepali\\data\\00\\004a5ac98a.flac\n",
      "d:\\nepali_notetaker_project\\nepali_notetaker_package\\DataSet\\asr_nepali_0\\asr_nepali\\data\\00\\processed_wav\\004a5ac98a.wav\n"
     ]
    },
    {
     "name": "stderr",
     "output_type": "stream",
     "text": [
      " 15%|█▍        | 90/607 [00:28<02:39,  3.24it/s]"
     ]
    },
    {
     "name": "stdout",
     "output_type": "stream",
     "text": [
      "'d:\\\\nepali_notetaker_project\\\\nepali_notetaker_package\\\\DataSet\\\\asr_nepali_0\\\\asr_nepali\\\\data\\\\00\\\\003486bf21.flac'\n",
      "d:\\nepali_notetaker_project\\nepali_notetaker_package\\DataSet\\asr_nepali_0\\asr_nepali\\data\\00\\003486bf21.flac\n",
      "d:\\nepali_notetaker_project\\nepali_notetaker_package\\DataSet\\asr_nepali_0\\asr_nepali\\data\\00\\processed_wav\\003486bf21.wav\n"
     ]
    },
    {
     "name": "stderr",
     "output_type": "stream",
     "text": [
      " 15%|█▍        | 91/607 [00:28<02:16,  3.77it/s]"
     ]
    },
    {
     "name": "stdout",
     "output_type": "stream",
     "text": [
      "'d:\\\\nepali_notetaker_project\\\\nepali_notetaker_package\\\\DataSet\\\\asr_nepali_0\\\\asr_nepali\\\\data\\\\00\\\\00f377d517.flac'\n",
      "d:\\nepali_notetaker_project\\nepali_notetaker_package\\DataSet\\asr_nepali_0\\asr_nepali\\data\\00\\00f377d517.flac\n",
      "d:\\nepali_notetaker_project\\nepali_notetaker_package\\DataSet\\asr_nepali_0\\asr_nepali\\data\\00\\processed_wav\\00f377d517.wav\n",
      "'d:\\\\nepali_notetaker_project\\\\nepali_notetaker_package\\\\DataSet\\\\asr_nepali_0\\\\asr_nepali\\\\data\\\\00\\\\00eab0a931.flac'\n",
      "d:\\nepali_notetaker_project\\nepali_notetaker_package\\DataSet\\asr_nepali_0\\asr_nepali\\data\\00\\00eab0a931.flac\n",
      "d:\\nepali_notetaker_project\\nepali_notetaker_package\\DataSet\\asr_nepali_0\\asr_nepali\\data\\00\\processed_wav\\00eab0a931.wav\n"
     ]
    },
    {
     "name": "stderr",
     "output_type": "stream",
     "text": [
      " 15%|█▌        | 93/607 [00:29<01:59,  4.31it/s]"
     ]
    },
    {
     "name": "stdout",
     "output_type": "stream",
     "text": [
      "'d:\\\\nepali_notetaker_project\\\\nepali_notetaker_package\\\\DataSet\\\\asr_nepali_0\\\\asr_nepali\\\\data\\\\00\\\\00c3a80db0.flac'\n",
      "d:\\nepali_notetaker_project\\nepali_notetaker_package\\DataSet\\asr_nepali_0\\asr_nepali\\data\\00\\00c3a80db0.flac\n",
      "d:\\nepali_notetaker_project\\nepali_notetaker_package\\DataSet\\asr_nepali_0\\asr_nepali\\data\\00\\processed_wav\\00c3a80db0.wav\n",
      "'d:\\\\nepali_notetaker_project\\\\nepali_notetaker_package\\\\DataSet\\\\asr_nepali_0\\\\asr_nepali\\\\data\\\\00\\\\00c8f14b58.flac'\n",
      "d:\\nepali_notetaker_project\\nepali_notetaker_package\\DataSet\\asr_nepali_0\\asr_nepali\\data\\00\\00c8f14b58.flac\n",
      "d:\\nepali_notetaker_project\\nepali_notetaker_package\\DataSet\\asr_nepali_0\\asr_nepali\\data\\00\\processed_wav\\00c8f14b58.wav\n"
     ]
    },
    {
     "name": "stderr",
     "output_type": "stream",
     "text": [
      " 16%|█▌        | 95/607 [00:29<01:42,  4.97it/s]"
     ]
    },
    {
     "name": "stdout",
     "output_type": "stream",
     "text": [
      "'d:\\\\nepali_notetaker_project\\\\nepali_notetaker_package\\\\DataSet\\\\asr_nepali_0\\\\asr_nepali\\\\data\\\\00\\\\006cb12fd3.flac'\n",
      "d:\\nepali_notetaker_project\\nepali_notetaker_package\\DataSet\\asr_nepali_0\\asr_nepali\\data\\00\\006cb12fd3.flac\n",
      "d:\\nepali_notetaker_project\\nepali_notetaker_package\\DataSet\\asr_nepali_0\\asr_nepali\\data\\00\\processed_wav\\006cb12fd3.wav\n",
      "'d:\\\\nepali_notetaker_project\\\\nepali_notetaker_package\\\\DataSet\\\\asr_nepali_0\\\\asr_nepali\\\\data\\\\00\\\\00f7b42746.flac'\n",
      "d:\\nepali_notetaker_project\\nepali_notetaker_package\\DataSet\\asr_nepali_0\\asr_nepali\\data\\00\\00f7b42746.flac\n",
      "d:\\nepali_notetaker_project\\nepali_notetaker_package\\DataSet\\asr_nepali_0\\asr_nepali\\data\\00\\processed_wav\\00f7b42746.wav\n"
     ]
    },
    {
     "name": "stderr",
     "output_type": "stream",
     "text": [
      " 16%|█▌        | 96/607 [00:29<01:42,  5.00it/s]"
     ]
    },
    {
     "name": "stdout",
     "output_type": "stream",
     "text": [
      "'d:\\\\nepali_notetaker_project\\\\nepali_notetaker_package\\\\DataSet\\\\asr_nepali_0\\\\asr_nepali\\\\data\\\\00\\\\0061189667.flac'\n",
      "d:\\nepali_notetaker_project\\nepali_notetaker_package\\DataSet\\asr_nepali_0\\asr_nepali\\data\\00\\0061189667.flac\n",
      "d:\\nepali_notetaker_project\\nepali_notetaker_package\\DataSet\\asr_nepali_0\\asr_nepali\\data\\00\\processed_wav\\0061189667.wav\n"
     ]
    },
    {
     "name": "stderr",
     "output_type": "stream",
     "text": [
      " 16%|█▌        | 98/607 [00:30<01:41,  5.02it/s]"
     ]
    },
    {
     "name": "stdout",
     "output_type": "stream",
     "text": [
      "'d:\\\\nepali_notetaker_project\\\\nepali_notetaker_package\\\\DataSet\\\\asr_nepali_0\\\\asr_nepali\\\\data\\\\00\\\\00d40617b5.flac'\n",
      "d:\\nepali_notetaker_project\\nepali_notetaker_package\\DataSet\\asr_nepali_0\\asr_nepali\\data\\00\\00d40617b5.flac\n",
      "d:\\nepali_notetaker_project\\nepali_notetaker_package\\DataSet\\asr_nepali_0\\asr_nepali\\data\\00\\processed_wav\\00d40617b5.wav\n"
     ]
    },
    {
     "name": "stderr",
     "output_type": "stream",
     "text": [
      " 16%|█▋        | 99/607 [00:30<01:38,  5.14it/s]"
     ]
    },
    {
     "name": "stdout",
     "output_type": "stream",
     "text": [
      "'d:\\\\nepali_notetaker_project\\\\nepali_notetaker_package\\\\DataSet\\\\asr_nepali_0\\\\asr_nepali\\\\data\\\\00\\\\00c18ff7fa.flac'\n",
      "d:\\nepali_notetaker_project\\nepali_notetaker_package\\DataSet\\asr_nepali_0\\asr_nepali\\data\\00\\00c18ff7fa.flac\n",
      "d:\\nepali_notetaker_project\\nepali_notetaker_package\\DataSet\\asr_nepali_0\\asr_nepali\\data\\00\\processed_wav\\00c18ff7fa.wav\n"
     ]
    },
    {
     "name": "stderr",
     "output_type": "stream",
     "text": [
      " 16%|█▋        | 100/607 [00:30<01:36,  5.26it/s]"
     ]
    },
    {
     "name": "stdout",
     "output_type": "stream",
     "text": [
      "'d:\\\\nepali_notetaker_project\\\\nepali_notetaker_package\\\\DataSet\\\\asr_nepali_0\\\\asr_nepali\\\\data\\\\00\\\\0076fa017b.flac'\n",
      "d:\\nepali_notetaker_project\\nepali_notetaker_package\\DataSet\\asr_nepali_0\\asr_nepali\\data\\00\\0076fa017b.flac\n",
      "d:\\nepali_notetaker_project\\nepali_notetaker_package\\DataSet\\asr_nepali_0\\asr_nepali\\data\\00\\processed_wav\\0076fa017b.wav\n",
      "'d:\\\\nepali_notetaker_project\\\\nepali_notetaker_package\\\\DataSet\\\\asr_nepali_0\\\\asr_nepali\\\\data\\\\00\\\\00bde165dc.flac'\n",
      "d:\\nepali_notetaker_project\\nepali_notetaker_package\\DataSet\\asr_nepali_0\\asr_nepali\\data\\00\\00bde165dc.flac\n",
      "d:\\nepali_notetaker_project\\nepali_notetaker_package\\DataSet\\asr_nepali_0\\asr_nepali\\data\\00\\processed_wav\\00bde165dc.wav\n"
     ]
    },
    {
     "name": "stderr",
     "output_type": "stream",
     "text": [
      " 17%|█▋        | 101/607 [00:30<01:43,  4.89it/s]"
     ]
    },
    {
     "name": "stdout",
     "output_type": "stream",
     "text": [
      "'d:\\\\nepali_notetaker_project\\\\nepali_notetaker_package\\\\DataSet\\\\asr_nepali_0\\\\asr_nepali\\\\data\\\\00\\\\004afc2286.flac'\n",
      "d:\\nepali_notetaker_project\\nepali_notetaker_package\\DataSet\\asr_nepali_0\\asr_nepali\\data\\00\\004afc2286.flac\n",
      "d:\\nepali_notetaker_project\\nepali_notetaker_package\\DataSet\\asr_nepali_0\\asr_nepali\\data\\00\\processed_wav\\004afc2286.wav\n"
     ]
    },
    {
     "name": "stderr",
     "output_type": "stream",
     "text": [
      " 17%|█▋        | 103/607 [00:31<01:46,  4.72it/s]"
     ]
    },
    {
     "name": "stdout",
     "output_type": "stream",
     "text": [
      "'d:\\\\nepali_notetaker_project\\\\nepali_notetaker_package\\\\DataSet\\\\asr_nepali_0\\\\asr_nepali\\\\data\\\\00\\\\00bebc9408.flac'\n",
      "d:\\nepali_notetaker_project\\nepali_notetaker_package\\DataSet\\asr_nepali_0\\asr_nepali\\data\\00\\00bebc9408.flac\n",
      "d:\\nepali_notetaker_project\\nepali_notetaker_package\\DataSet\\asr_nepali_0\\asr_nepali\\data\\00\\processed_wav\\00bebc9408.wav\n",
      "'d:\\\\nepali_notetaker_project\\\\nepali_notetaker_package\\\\DataSet\\\\asr_nepali_0\\\\asr_nepali\\\\data\\\\00\\\\00a917dc40.flac'\n",
      "d:\\nepali_notetaker_project\\nepali_notetaker_package\\DataSet\\asr_nepali_0\\asr_nepali\\data\\00\\00a917dc40.flac\n",
      "d:\\nepali_notetaker_project\\nepali_notetaker_package\\DataSet\\asr_nepali_0\\asr_nepali\\data\\00\\processed_wav\\00a917dc40.wav\n"
     ]
    },
    {
     "name": "stderr",
     "output_type": "stream",
     "text": [
      " 17%|█▋        | 104/607 [00:31<01:52,  4.45it/s]"
     ]
    },
    {
     "name": "stdout",
     "output_type": "stream",
     "text": [
      "'d:\\\\nepali_notetaker_project\\\\nepali_notetaker_package\\\\DataSet\\\\asr_nepali_0\\\\asr_nepali\\\\data\\\\00\\\\00ce831132.flac'\n",
      "d:\\nepali_notetaker_project\\nepali_notetaker_package\\DataSet\\asr_nepali_0\\asr_nepali\\data\\00\\00ce831132.flac\n",
      "d:\\nepali_notetaker_project\\nepali_notetaker_package\\DataSet\\asr_nepali_0\\asr_nepali\\data\\00\\processed_wav\\00ce831132.wav\n"
     ]
    },
    {
     "name": "stderr",
     "output_type": "stream",
     "text": [
      " 17%|█▋        | 106/607 [00:31<01:48,  4.61it/s]"
     ]
    },
    {
     "name": "stdout",
     "output_type": "stream",
     "text": [
      "'d:\\\\nepali_notetaker_project\\\\nepali_notetaker_package\\\\DataSet\\\\asr_nepali_0\\\\asr_nepali\\\\data\\\\00\\\\0029f655b5.flac'\n",
      "d:\\nepali_notetaker_project\\nepali_notetaker_package\\DataSet\\asr_nepali_0\\asr_nepali\\data\\00\\0029f655b5.flac\n",
      "d:\\nepali_notetaker_project\\nepali_notetaker_package\\DataSet\\asr_nepali_0\\asr_nepali\\data\\00\\processed_wav\\0029f655b5.wav\n",
      "'d:\\\\nepali_notetaker_project\\\\nepali_notetaker_package\\\\DataSet\\\\asr_nepali_0\\\\asr_nepali\\\\data\\\\00\\\\00ca272d79.flac'\n",
      "d:\\nepali_notetaker_project\\nepali_notetaker_package\\DataSet\\asr_nepali_0\\asr_nepali\\data\\00\\00ca272d79.flac\n",
      "d:\\nepali_notetaker_project\\nepali_notetaker_package\\DataSet\\asr_nepali_0\\asr_nepali\\data\\00\\processed_wav\\00ca272d79.wav\n"
     ]
    },
    {
     "name": "stderr",
     "output_type": "stream",
     "text": [
      " 18%|█▊        | 108/607 [00:32<01:38,  5.07it/s]"
     ]
    },
    {
     "name": "stdout",
     "output_type": "stream",
     "text": [
      "'d:\\\\nepali_notetaker_project\\\\nepali_notetaker_package\\\\DataSet\\\\asr_nepali_0\\\\asr_nepali\\\\data\\\\00\\\\00e7e78e58.flac'\n",
      "d:\\nepali_notetaker_project\\nepali_notetaker_package\\DataSet\\asr_nepali_0\\asr_nepali\\data\\00\\00e7e78e58.flac\n",
      "d:\\nepali_notetaker_project\\nepali_notetaker_package\\DataSet\\asr_nepali_0\\asr_nepali\\data\\00\\processed_wav\\00e7e78e58.wav\n",
      "'d:\\\\nepali_notetaker_project\\\\nepali_notetaker_package\\\\DataSet\\\\asr_nepali_0\\\\asr_nepali\\\\data\\\\00\\\\00a824abd5.flac'\n",
      "d:\\nepali_notetaker_project\\nepali_notetaker_package\\DataSet\\asr_nepali_0\\asr_nepali\\data\\00\\00a824abd5.flac\n",
      "d:\\nepali_notetaker_project\\nepali_notetaker_package\\DataSet\\asr_nepali_0\\asr_nepali\\data\\00\\processed_wav\\00a824abd5.wav\n"
     ]
    },
    {
     "name": "stderr",
     "output_type": "stream",
     "text": [
      " 18%|█▊        | 110/607 [00:32<01:29,  5.55it/s]"
     ]
    },
    {
     "name": "stdout",
     "output_type": "stream",
     "text": [
      "'d:\\\\nepali_notetaker_project\\\\nepali_notetaker_package\\\\DataSet\\\\asr_nepali_0\\\\asr_nepali\\\\data\\\\00\\\\0016fb0938.flac'\n",
      "d:\\nepali_notetaker_project\\nepali_notetaker_package\\DataSet\\asr_nepali_0\\asr_nepali\\data\\00\\0016fb0938.flac\n",
      "d:\\nepali_notetaker_project\\nepali_notetaker_package\\DataSet\\asr_nepali_0\\asr_nepali\\data\\00\\processed_wav\\0016fb0938.wav\n",
      "'d:\\\\nepali_notetaker_project\\\\nepali_notetaker_package\\\\DataSet\\\\asr_nepali_0\\\\asr_nepali\\\\data\\\\00\\\\00169e1a5c.flac'\n",
      "d:\\nepali_notetaker_project\\nepali_notetaker_package\\DataSet\\asr_nepali_0\\asr_nepali\\data\\00\\00169e1a5c.flac\n",
      "d:\\nepali_notetaker_project\\nepali_notetaker_package\\DataSet\\asr_nepali_0\\asr_nepali\\data\\00\\processed_wav\\00169e1a5c.wav\n"
     ]
    },
    {
     "name": "stderr",
     "output_type": "stream",
     "text": [
      " 18%|█▊        | 112/607 [00:33<01:31,  5.41it/s]"
     ]
    },
    {
     "name": "stdout",
     "output_type": "stream",
     "text": [
      "'d:\\\\nepali_notetaker_project\\\\nepali_notetaker_package\\\\DataSet\\\\asr_nepali_0\\\\asr_nepali\\\\data\\\\00\\\\006e126b7f.flac'\n",
      "d:\\nepali_notetaker_project\\nepali_notetaker_package\\DataSet\\asr_nepali_0\\asr_nepali\\data\\00\\006e126b7f.flac\n",
      "d:\\nepali_notetaker_project\\nepali_notetaker_package\\DataSet\\asr_nepali_0\\asr_nepali\\data\\00\\processed_wav\\006e126b7f.wav\n",
      "'d:\\\\nepali_notetaker_project\\\\nepali_notetaker_package\\\\DataSet\\\\asr_nepali_0\\\\asr_nepali\\\\data\\\\00\\\\00d5d9a337.flac'\n",
      "d:\\nepali_notetaker_project\\nepali_notetaker_package\\DataSet\\asr_nepali_0\\asr_nepali\\data\\00\\00d5d9a337.flac\n",
      "d:\\nepali_notetaker_project\\nepali_notetaker_package\\DataSet\\asr_nepali_0\\asr_nepali\\data\\00\\processed_wav\\00d5d9a337.wav\n"
     ]
    },
    {
     "name": "stderr",
     "output_type": "stream",
     "text": [
      " 19%|█▉        | 114/607 [00:33<01:31,  5.38it/s]"
     ]
    },
    {
     "name": "stdout",
     "output_type": "stream",
     "text": [
      "'d:\\\\nepali_notetaker_project\\\\nepali_notetaker_package\\\\DataSet\\\\asr_nepali_0\\\\asr_nepali\\\\data\\\\00\\\\00e97d64b2.flac'\n",
      "d:\\nepali_notetaker_project\\nepali_notetaker_package\\DataSet\\asr_nepali_0\\asr_nepali\\data\\00\\00e97d64b2.flac\n",
      "d:\\nepali_notetaker_project\\nepali_notetaker_package\\DataSet\\asr_nepali_0\\asr_nepali\\data\\00\\processed_wav\\00e97d64b2.wav\n",
      "'d:\\\\nepali_notetaker_project\\\\nepali_notetaker_package\\\\DataSet\\\\asr_nepali_0\\\\asr_nepali\\\\data\\\\00\\\\007b011c89.flac'\n",
      "d:\\nepali_notetaker_project\\nepali_notetaker_package\\DataSet\\asr_nepali_0\\asr_nepali\\data\\00\\007b011c89.flac\n",
      "d:\\nepali_notetaker_project\\nepali_notetaker_package\\DataSet\\asr_nepali_0\\asr_nepali\\data\\00\\processed_wav\\007b011c89.wav\n"
     ]
    },
    {
     "name": "stderr",
     "output_type": "stream",
     "text": [
      " 19%|█▉        | 116/607 [00:33<01:34,  5.21it/s]"
     ]
    },
    {
     "name": "stdout",
     "output_type": "stream",
     "text": [
      "'d:\\\\nepali_notetaker_project\\\\nepali_notetaker_package\\\\DataSet\\\\asr_nepali_0\\\\asr_nepali\\\\data\\\\00\\\\008c945205.flac'\n",
      "d:\\nepali_notetaker_project\\nepali_notetaker_package\\DataSet\\asr_nepali_0\\asr_nepali\\data\\00\\008c945205.flac\n",
      "d:\\nepali_notetaker_project\\nepali_notetaker_package\\DataSet\\asr_nepali_0\\asr_nepali\\data\\00\\processed_wav\\008c945205.wav\n"
     ]
    },
    {
     "name": "stderr",
     "output_type": "stream",
     "text": [
      " 19%|█▉        | 117/607 [00:34<01:33,  5.23it/s]"
     ]
    },
    {
     "name": "stdout",
     "output_type": "stream",
     "text": [
      "'d:\\\\nepali_notetaker_project\\\\nepali_notetaker_package\\\\DataSet\\\\asr_nepali_0\\\\asr_nepali\\\\data\\\\00\\\\0067d42315.flac'\n",
      "d:\\nepali_notetaker_project\\nepali_notetaker_package\\DataSet\\asr_nepali_0\\asr_nepali\\data\\00\\0067d42315.flac\n",
      "d:\\nepali_notetaker_project\\nepali_notetaker_package\\DataSet\\asr_nepali_0\\asr_nepali\\data\\00\\processed_wav\\0067d42315.wav\n",
      "'d:\\\\nepali_notetaker_project\\\\nepali_notetaker_package\\\\DataSet\\\\asr_nepali_0\\\\asr_nepali\\\\data\\\\00\\\\0064b8d48c.flac'\n",
      "d:\\nepali_notetaker_project\\nepali_notetaker_package\\DataSet\\asr_nepali_0\\asr_nepali\\data\\00\\0064b8d48c.flac\n",
      "d:\\nepali_notetaker_project\\nepali_notetaker_package\\DataSet\\asr_nepali_0\\asr_nepali\\data\\00\\processed_wav\\0064b8d48c.wav\n"
     ]
    },
    {
     "name": "stderr",
     "output_type": "stream",
     "text": [
      " 20%|█▉        | 119/607 [00:34<01:31,  5.35it/s]"
     ]
    },
    {
     "name": "stdout",
     "output_type": "stream",
     "text": [
      "'d:\\\\nepali_notetaker_project\\\\nepali_notetaker_package\\\\DataSet\\\\asr_nepali_0\\\\asr_nepali\\\\data\\\\00\\\\00d7b54ba0.flac'\n",
      "d:\\nepali_notetaker_project\\nepali_notetaker_package\\DataSet\\asr_nepali_0\\asr_nepali\\data\\00\\00d7b54ba0.flac\n",
      "d:\\nepali_notetaker_project\\nepali_notetaker_package\\DataSet\\asr_nepali_0\\asr_nepali\\data\\00\\processed_wav\\00d7b54ba0.wav\n",
      "'d:\\\\nepali_notetaker_project\\\\nepali_notetaker_package\\\\DataSet\\\\asr_nepali_0\\\\asr_nepali\\\\data\\\\00\\\\00ffcffc98.flac'\n",
      "d:\\nepali_notetaker_project\\nepali_notetaker_package\\DataSet\\asr_nepali_0\\asr_nepali\\data\\00\\00ffcffc98.flac\n",
      "d:\\nepali_notetaker_project\\nepali_notetaker_package\\DataSet\\asr_nepali_0\\asr_nepali\\data\\00\\processed_wav\\00ffcffc98.wav\n"
     ]
    },
    {
     "name": "stderr",
     "output_type": "stream",
     "text": [
      " 20%|█▉        | 121/607 [00:34<01:27,  5.58it/s]"
     ]
    },
    {
     "name": "stdout",
     "output_type": "stream",
     "text": [
      "'d:\\\\nepali_notetaker_project\\\\nepali_notetaker_package\\\\DataSet\\\\asr_nepali_0\\\\asr_nepali\\\\data\\\\00\\\\00bf94a59e.flac'\n",
      "d:\\nepali_notetaker_project\\nepali_notetaker_package\\DataSet\\asr_nepali_0\\asr_nepali\\data\\00\\00bf94a59e.flac\n",
      "d:\\nepali_notetaker_project\\nepali_notetaker_package\\DataSet\\asr_nepali_0\\asr_nepali\\data\\00\\processed_wav\\00bf94a59e.wav\n",
      "'d:\\\\nepali_notetaker_project\\\\nepali_notetaker_package\\\\DataSet\\\\asr_nepali_0\\\\asr_nepali\\\\data\\\\00\\\\001167389e.flac'\n",
      "d:\\nepali_notetaker_project\\nepali_notetaker_package\\DataSet\\asr_nepali_0\\asr_nepali\\data\\00\\001167389e.flac\n",
      "d:\\nepali_notetaker_project\\nepali_notetaker_package\\DataSet\\asr_nepali_0\\asr_nepali\\data\\00\\processed_wav\\001167389e.wav\n"
     ]
    },
    {
     "name": "stderr",
     "output_type": "stream",
     "text": [
      " 20%|██        | 123/607 [00:35<01:25,  5.68it/s]"
     ]
    },
    {
     "name": "stdout",
     "output_type": "stream",
     "text": [
      "'d:\\\\nepali_notetaker_project\\\\nepali_notetaker_package\\\\DataSet\\\\asr_nepali_0\\\\asr_nepali\\\\data\\\\00\\\\00206fb325.flac'\n",
      "d:\\nepali_notetaker_project\\nepali_notetaker_package\\DataSet\\asr_nepali_0\\asr_nepali\\data\\00\\00206fb325.flac\n",
      "d:\\nepali_notetaker_project\\nepali_notetaker_package\\DataSet\\asr_nepali_0\\asr_nepali\\data\\00\\processed_wav\\00206fb325.wav\n",
      "'d:\\\\nepali_notetaker_project\\\\nepali_notetaker_package\\\\DataSet\\\\asr_nepali_0\\\\asr_nepali\\\\data\\\\00\\\\00e278496e.flac'\n",
      "d:\\nepali_notetaker_project\\nepali_notetaker_package\\DataSet\\asr_nepali_0\\asr_nepali\\data\\00\\00e278496e.flac\n",
      "d:\\nepali_notetaker_project\\nepali_notetaker_package\\DataSet\\asr_nepali_0\\asr_nepali\\data\\00\\processed_wav\\00e278496e.wav\n"
     ]
    },
    {
     "name": "stderr",
     "output_type": "stream",
     "text": [
      " 20%|██        | 124/607 [00:35<01:33,  5.18it/s]"
     ]
    },
    {
     "name": "stdout",
     "output_type": "stream",
     "text": [
      "'d:\\\\nepali_notetaker_project\\\\nepali_notetaker_package\\\\DataSet\\\\asr_nepali_0\\\\asr_nepali\\\\data\\\\00\\\\003cb4cf59.flac'\n",
      "d:\\nepali_notetaker_project\\nepali_notetaker_package\\DataSet\\asr_nepali_0\\asr_nepali\\data\\00\\003cb4cf59.flac\n",
      "d:\\nepali_notetaker_project\\nepali_notetaker_package\\DataSet\\asr_nepali_0\\asr_nepali\\data\\00\\processed_wav\\003cb4cf59.wav\n"
     ]
    },
    {
     "name": "stderr",
     "output_type": "stream",
     "text": [
      " 21%|██        | 126/607 [00:35<01:34,  5.08it/s]"
     ]
    },
    {
     "name": "stdout",
     "output_type": "stream",
     "text": [
      "'d:\\\\nepali_notetaker_project\\\\nepali_notetaker_package\\\\DataSet\\\\asr_nepali_0\\\\asr_nepali\\\\data\\\\00\\\\009f8ebc71.flac'\n",
      "d:\\nepali_notetaker_project\\nepali_notetaker_package\\DataSet\\asr_nepali_0\\asr_nepali\\data\\00\\009f8ebc71.flac\n",
      "d:\\nepali_notetaker_project\\nepali_notetaker_package\\DataSet\\asr_nepali_0\\asr_nepali\\data\\00\\processed_wav\\009f8ebc71.wav\n"
     ]
    },
    {
     "name": "stderr",
     "output_type": "stream",
     "text": [
      " 21%|██        | 127/607 [00:35<01:31,  5.23it/s]"
     ]
    },
    {
     "name": "stdout",
     "output_type": "stream",
     "text": [
      "'d:\\\\nepali_notetaker_project\\\\nepali_notetaker_package\\\\DataSet\\\\asr_nepali_0\\\\asr_nepali\\\\data\\\\00\\\\0096ca8f83.flac'\n",
      "d:\\nepali_notetaker_project\\nepali_notetaker_package\\DataSet\\asr_nepali_0\\asr_nepali\\data\\00\\0096ca8f83.flac\n",
      "d:\\nepali_notetaker_project\\nepali_notetaker_package\\DataSet\\asr_nepali_0\\asr_nepali\\data\\00\\processed_wav\\0096ca8f83.wav\n"
     ]
    },
    {
     "name": "stderr",
     "output_type": "stream",
     "text": [
      " 21%|██        | 128/607 [00:36<01:26,  5.51it/s]"
     ]
    },
    {
     "name": "stdout",
     "output_type": "stream",
     "text": [
      "'d:\\\\nepali_notetaker_project\\\\nepali_notetaker_package\\\\DataSet\\\\asr_nepali_0\\\\asr_nepali\\\\data\\\\00\\\\00149e90a4.flac'\n",
      "d:\\nepali_notetaker_project\\nepali_notetaker_package\\DataSet\\asr_nepali_0\\asr_nepali\\data\\00\\00149e90a4.flac\n",
      "d:\\nepali_notetaker_project\\nepali_notetaker_package\\DataSet\\asr_nepali_0\\asr_nepali\\data\\00\\processed_wav\\00149e90a4.wav\n",
      "'d:\\\\nepali_notetaker_project\\\\nepali_notetaker_package\\\\DataSet\\\\asr_nepali_0\\\\asr_nepali\\\\data\\\\00\\\\0071a71da8.flac'\n",
      "d:\\nepali_notetaker_project\\nepali_notetaker_package\\DataSet\\asr_nepali_0\\asr_nepali\\data\\00\\0071a71da8.flac\n",
      "d:\\nepali_notetaker_project\\nepali_notetaker_package\\DataSet\\asr_nepali_0\\asr_nepali\\data\\00\\processed_wav\\0071a71da8.wav\n"
     ]
    },
    {
     "name": "stderr",
     "output_type": "stream",
     "text": [
      " 21%|██▏       | 129/607 [00:36<01:37,  4.93it/s]"
     ]
    },
    {
     "name": "stdout",
     "output_type": "stream",
     "text": [
      "'d:\\\\nepali_notetaker_project\\\\nepali_notetaker_package\\\\DataSet\\\\asr_nepali_0\\\\asr_nepali\\\\data\\\\00\\\\0013bfeda1.flac'\n",
      "d:\\nepali_notetaker_project\\nepali_notetaker_package\\DataSet\\asr_nepali_0\\asr_nepali\\data\\00\\0013bfeda1.flac\n",
      "d:\\nepali_notetaker_project\\nepali_notetaker_package\\DataSet\\asr_nepali_0\\asr_nepali\\data\\00\\processed_wav\\0013bfeda1.wav\n"
     ]
    },
    {
     "name": "stderr",
     "output_type": "stream",
     "text": [
      " 22%|██▏       | 131/607 [00:36<01:39,  4.79it/s]"
     ]
    },
    {
     "name": "stdout",
     "output_type": "stream",
     "text": [
      "'d:\\\\nepali_notetaker_project\\\\nepali_notetaker_package\\\\DataSet\\\\asr_nepali_0\\\\asr_nepali\\\\data\\\\00\\\\00f173b391.flac'\n",
      "d:\\nepali_notetaker_project\\nepali_notetaker_package\\DataSet\\asr_nepali_0\\asr_nepali\\data\\00\\00f173b391.flac\n",
      "d:\\nepali_notetaker_project\\nepali_notetaker_package\\DataSet\\asr_nepali_0\\asr_nepali\\data\\00\\processed_wav\\00f173b391.wav\n",
      "'d:\\\\nepali_notetaker_project\\\\nepali_notetaker_package\\\\DataSet\\\\asr_nepali_0\\\\asr_nepali\\\\data\\\\00\\\\00f2d950d2.flac'\n",
      "d:\\nepali_notetaker_project\\nepali_notetaker_package\\DataSet\\asr_nepali_0\\asr_nepali\\data\\00\\00f2d950d2.flac\n",
      "d:\\nepali_notetaker_project\\nepali_notetaker_package\\DataSet\\asr_nepali_0\\asr_nepali\\data\\00\\processed_wav\\00f2d950d2.wav\n"
     ]
    },
    {
     "name": "stderr",
     "output_type": "stream",
     "text": [
      " 22%|██▏       | 133/607 [00:37<01:33,  5.06it/s]"
     ]
    },
    {
     "name": "stdout",
     "output_type": "stream",
     "text": [
      "'d:\\\\nepali_notetaker_project\\\\nepali_notetaker_package\\\\DataSet\\\\asr_nepali_0\\\\asr_nepali\\\\data\\\\00\\\\0083e30e8a.flac'\n",
      "d:\\nepali_notetaker_project\\nepali_notetaker_package\\DataSet\\asr_nepali_0\\asr_nepali\\data\\00\\0083e30e8a.flac\n",
      "d:\\nepali_notetaker_project\\nepali_notetaker_package\\DataSet\\asr_nepali_0\\asr_nepali\\data\\00\\processed_wav\\0083e30e8a.wav\n",
      "'d:\\\\nepali_notetaker_project\\\\nepali_notetaker_package\\\\DataSet\\\\asr_nepali_0\\\\asr_nepali\\\\data\\\\00\\\\006a1abbf3.flac'\n",
      "d:\\nepali_notetaker_project\\nepali_notetaker_package\\DataSet\\asr_nepali_0\\asr_nepali\\data\\00\\006a1abbf3.flac\n",
      "d:\\nepali_notetaker_project\\nepali_notetaker_package\\DataSet\\asr_nepali_0\\asr_nepali\\data\\00\\processed_wav\\006a1abbf3.wav\n"
     ]
    },
    {
     "name": "stderr",
     "output_type": "stream",
     "text": [
      " 22%|██▏       | 135/607 [00:37<01:31,  5.13it/s]"
     ]
    },
    {
     "name": "stdout",
     "output_type": "stream",
     "text": [
      "'d:\\\\nepali_notetaker_project\\\\nepali_notetaker_package\\\\DataSet\\\\asr_nepali_0\\\\asr_nepali\\\\data\\\\00\\\\00c7a5d936.flac'\n",
      "d:\\nepali_notetaker_project\\nepali_notetaker_package\\DataSet\\asr_nepali_0\\asr_nepali\\data\\00\\00c7a5d936.flac\n",
      "d:\\nepali_notetaker_project\\nepali_notetaker_package\\DataSet\\asr_nepali_0\\asr_nepali\\data\\00\\processed_wav\\00c7a5d936.wav\n"
     ]
    },
    {
     "name": "stderr",
     "output_type": "stream",
     "text": [
      " 22%|██▏       | 136/607 [00:37<01:31,  5.16it/s]"
     ]
    },
    {
     "name": "stdout",
     "output_type": "stream",
     "text": [
      "'d:\\\\nepali_notetaker_project\\\\nepali_notetaker_package\\\\DataSet\\\\asr_nepali_0\\\\asr_nepali\\\\data\\\\00\\\\00fa61e587.flac'\n",
      "d:\\nepali_notetaker_project\\nepali_notetaker_package\\DataSet\\asr_nepali_0\\asr_nepali\\data\\00\\00fa61e587.flac\n",
      "d:\\nepali_notetaker_project\\nepali_notetaker_package\\DataSet\\asr_nepali_0\\asr_nepali\\data\\00\\processed_wav\\00fa61e587.wav\n"
     ]
    },
    {
     "name": "stderr",
     "output_type": "stream",
     "text": [
      " 23%|██▎       | 137/607 [00:37<01:27,  5.40it/s]"
     ]
    },
    {
     "name": "stdout",
     "output_type": "stream",
     "text": [
      "'d:\\\\nepali_notetaker_project\\\\nepali_notetaker_package\\\\DataSet\\\\asr_nepali_0\\\\asr_nepali\\\\data\\\\00\\\\006c4b9a60.flac'\n",
      "d:\\nepali_notetaker_project\\nepali_notetaker_package\\DataSet\\asr_nepali_0\\asr_nepali\\data\\00\\006c4b9a60.flac\n",
      "d:\\nepali_notetaker_project\\nepali_notetaker_package\\DataSet\\asr_nepali_0\\asr_nepali\\data\\00\\processed_wav\\006c4b9a60.wav\n",
      "'d:\\\\nepali_notetaker_project\\\\nepali_notetaker_package\\\\DataSet\\\\asr_nepali_0\\\\asr_nepali\\\\data\\\\00\\\\006f4f5394.flac'\n",
      "d:\\nepali_notetaker_project\\nepali_notetaker_package\\DataSet\\asr_nepali_0\\asr_nepali\\data\\00\\006f4f5394.flac\n",
      "d:\\nepali_notetaker_project\\nepali_notetaker_package\\DataSet\\asr_nepali_0\\asr_nepali\\data\\00\\processed_wav\\006f4f5394.wav\n"
     ]
    },
    {
     "name": "stderr",
     "output_type": "stream",
     "text": [
      " 23%|██▎       | 139/607 [00:38<01:25,  5.48it/s]"
     ]
    },
    {
     "name": "stdout",
     "output_type": "stream",
     "text": [
      "'d:\\\\nepali_notetaker_project\\\\nepali_notetaker_package\\\\DataSet\\\\asr_nepali_0\\\\asr_nepali\\\\data\\\\00\\\\00fd707ab9.flac'\n",
      "d:\\nepali_notetaker_project\\nepali_notetaker_package\\DataSet\\asr_nepali_0\\asr_nepali\\data\\00\\00fd707ab9.flac\n",
      "d:\\nepali_notetaker_project\\nepali_notetaker_package\\DataSet\\asr_nepali_0\\asr_nepali\\data\\00\\processed_wav\\00fd707ab9.wav\n",
      "'d:\\\\nepali_notetaker_project\\\\nepali_notetaker_package\\\\DataSet\\\\asr_nepali_0\\\\asr_nepali\\\\data\\\\00\\\\0047f889f0.flac'\n",
      "d:\\nepali_notetaker_project\\nepali_notetaker_package\\DataSet\\asr_nepali_0\\asr_nepali\\data\\00\\0047f889f0.flac\n",
      "d:\\nepali_notetaker_project\\nepali_notetaker_package\\DataSet\\asr_nepali_0\\asr_nepali\\data\\00\\processed_wav\\0047f889f0.wav\n"
     ]
    },
    {
     "name": "stderr",
     "output_type": "stream",
     "text": [
      " 23%|██▎       | 141/607 [00:38<01:29,  5.19it/s]"
     ]
    },
    {
     "name": "stdout",
     "output_type": "stream",
     "text": [
      "'d:\\\\nepali_notetaker_project\\\\nepali_notetaker_package\\\\DataSet\\\\asr_nepali_0\\\\asr_nepali\\\\data\\\\00\\\\00f5e8eecd.flac'\n",
      "d:\\nepali_notetaker_project\\nepali_notetaker_package\\DataSet\\asr_nepali_0\\asr_nepali\\data\\00\\00f5e8eecd.flac\n",
      "d:\\nepali_notetaker_project\\nepali_notetaker_package\\DataSet\\asr_nepali_0\\asr_nepali\\data\\00\\processed_wav\\00f5e8eecd.wav\n"
     ]
    },
    {
     "name": "stderr",
     "output_type": "stream",
     "text": [
      " 23%|██▎       | 142/607 [00:38<01:28,  5.27it/s]"
     ]
    },
    {
     "name": "stdout",
     "output_type": "stream",
     "text": [
      "'d:\\\\nepali_notetaker_project\\\\nepali_notetaker_package\\\\DataSet\\\\asr_nepali_0\\\\asr_nepali\\\\data\\\\00\\\\000515a639.flac'\n",
      "d:\\nepali_notetaker_project\\nepali_notetaker_package\\DataSet\\asr_nepali_0\\asr_nepali\\data\\00\\000515a639.flac\n",
      "d:\\nepali_notetaker_project\\nepali_notetaker_package\\DataSet\\asr_nepali_0\\asr_nepali\\data\\00\\processed_wav\\000515a639.wav\n"
     ]
    },
    {
     "name": "stderr",
     "output_type": "stream",
     "text": [
      " 24%|██▎       | 143/607 [00:38<01:26,  5.35it/s]"
     ]
    },
    {
     "name": "stdout",
     "output_type": "stream",
     "text": [
      "'d:\\\\nepali_notetaker_project\\\\nepali_notetaker_package\\\\DataSet\\\\asr_nepali_0\\\\asr_nepali\\\\data\\\\00\\\\00a9f87d0d.flac'\n",
      "d:\\nepali_notetaker_project\\nepali_notetaker_package\\DataSet\\asr_nepali_0\\asr_nepali\\data\\00\\00a9f87d0d.flac\n",
      "d:\\nepali_notetaker_project\\nepali_notetaker_package\\DataSet\\asr_nepali_0\\asr_nepali\\data\\00\\processed_wav\\00a9f87d0d.wav\n",
      "'d:\\\\nepali_notetaker_project\\\\nepali_notetaker_package\\\\DataSet\\\\asr_nepali_0\\\\asr_nepali\\\\data\\\\00\\\\00a1eff535.flac'\n",
      "d:\\nepali_notetaker_project\\nepali_notetaker_package\\DataSet\\asr_nepali_0\\asr_nepali\\data\\00\\00a1eff535.flac\n",
      "d:\\nepali_notetaker_project\\nepali_notetaker_package\\DataSet\\asr_nepali_0\\asr_nepali\\data\\00\\processed_wav\\00a1eff535.wav\n"
     ]
    },
    {
     "name": "stderr",
     "output_type": "stream",
     "text": [
      " 24%|██▍       | 145/607 [00:39<01:26,  5.34it/s]"
     ]
    },
    {
     "name": "stdout",
     "output_type": "stream",
     "text": [
      "'d:\\\\nepali_notetaker_project\\\\nepali_notetaker_package\\\\DataSet\\\\asr_nepali_0\\\\asr_nepali\\\\data\\\\00\\\\00623ed729.flac'\n",
      "d:\\nepali_notetaker_project\\nepali_notetaker_package\\DataSet\\asr_nepali_0\\asr_nepali\\data\\00\\00623ed729.flac\n",
      "d:\\nepali_notetaker_project\\nepali_notetaker_package\\DataSet\\asr_nepali_0\\asr_nepali\\data\\00\\processed_wav\\00623ed729.wav\n"
     ]
    },
    {
     "name": "stderr",
     "output_type": "stream",
     "text": [
      " 24%|██▍       | 146/607 [00:39<01:23,  5.51it/s]"
     ]
    },
    {
     "name": "stdout",
     "output_type": "stream",
     "text": [
      "'d:\\\\nepali_notetaker_project\\\\nepali_notetaker_package\\\\DataSet\\\\asr_nepali_0\\\\asr_nepali\\\\data\\\\00\\\\00ff4905bb.flac'\n",
      "d:\\nepali_notetaker_project\\nepali_notetaker_package\\DataSet\\asr_nepali_0\\asr_nepali\\data\\00\\00ff4905bb.flac\n",
      "d:\\nepali_notetaker_project\\nepali_notetaker_package\\DataSet\\asr_nepali_0\\asr_nepali\\data\\00\\processed_wav\\00ff4905bb.wav\n",
      "'d:\\\\nepali_notetaker_project\\\\nepali_notetaker_package\\\\DataSet\\\\asr_nepali_0\\\\asr_nepali\\\\data\\\\00\\\\001bb101c4.flac'\n",
      "d:\\nepali_notetaker_project\\nepali_notetaker_package\\DataSet\\asr_nepali_0\\asr_nepali\\data\\00\\001bb101c4.flac\n",
      "d:\\nepali_notetaker_project\\nepali_notetaker_package\\DataSet\\asr_nepali_0\\asr_nepali\\data\\00\\processed_wav\\001bb101c4.wav\n"
     ]
    },
    {
     "name": "stderr",
     "output_type": "stream",
     "text": [
      " 24%|██▍       | 147/607 [00:39<01:31,  5.05it/s]"
     ]
    },
    {
     "name": "stdout",
     "output_type": "stream",
     "text": [
      "'d:\\\\nepali_notetaker_project\\\\nepali_notetaker_package\\\\DataSet\\\\asr_nepali_0\\\\asr_nepali\\\\data\\\\00\\\\00d12d9a2c.flac'\n",
      "d:\\nepali_notetaker_project\\nepali_notetaker_package\\DataSet\\asr_nepali_0\\asr_nepali\\data\\00\\00d12d9a2c.flac\n",
      "d:\\nepali_notetaker_project\\nepali_notetaker_package\\DataSet\\asr_nepali_0\\asr_nepali\\data\\00\\processed_wav\\00d12d9a2c.wav\n"
     ]
    },
    {
     "name": "stderr",
     "output_type": "stream",
     "text": [
      " 25%|██▍       | 149/607 [00:40<01:35,  4.80it/s]"
     ]
    },
    {
     "name": "stdout",
     "output_type": "stream",
     "text": [
      "'d:\\\\nepali_notetaker_project\\\\nepali_notetaker_package\\\\DataSet\\\\asr_nepali_0\\\\asr_nepali\\\\data\\\\00\\\\008bc08d07.flac'\n",
      "d:\\nepali_notetaker_project\\nepali_notetaker_package\\DataSet\\asr_nepali_0\\asr_nepali\\data\\00\\008bc08d07.flac\n",
      "d:\\nepali_notetaker_project\\nepali_notetaker_package\\DataSet\\asr_nepali_0\\asr_nepali\\data\\00\\processed_wav\\008bc08d07.wav\n"
     ]
    },
    {
     "name": "stderr",
     "output_type": "stream",
     "text": [
      " 25%|██▍       | 150/607 [00:40<01:32,  4.96it/s]"
     ]
    },
    {
     "name": "stdout",
     "output_type": "stream",
     "text": [
      "'d:\\\\nepali_notetaker_project\\\\nepali_notetaker_package\\\\DataSet\\\\asr_nepali_0\\\\asr_nepali\\\\data\\\\00\\\\00c10087a4.flac'\n",
      "d:\\nepali_notetaker_project\\nepali_notetaker_package\\DataSet\\asr_nepali_0\\asr_nepali\\data\\00\\00c10087a4.flac\n",
      "d:\\nepali_notetaker_project\\nepali_notetaker_package\\DataSet\\asr_nepali_0\\asr_nepali\\data\\00\\processed_wav\\00c10087a4.wav\n",
      "'d:\\\\nepali_notetaker_project\\\\nepali_notetaker_package\\\\DataSet\\\\asr_nepali_0\\\\asr_nepali\\\\data\\\\00\\\\001c182577.flac'\n",
      "d:\\nepali_notetaker_project\\nepali_notetaker_package\\DataSet\\asr_nepali_0\\asr_nepali\\data\\00\\001c182577.flac\n",
      "d:\\nepali_notetaker_project\\nepali_notetaker_package\\DataSet\\asr_nepali_0\\asr_nepali\\data\\00\\processed_wav\\001c182577.wav\n"
     ]
    },
    {
     "name": "stderr",
     "output_type": "stream",
     "text": [
      " 25%|██▍       | 151/607 [00:40<01:38,  4.64it/s]"
     ]
    },
    {
     "name": "stdout",
     "output_type": "stream",
     "text": [
      "'d:\\\\nepali_notetaker_project\\\\nepali_notetaker_package\\\\DataSet\\\\asr_nepali_0\\\\asr_nepali\\\\data\\\\00\\\\00ceed2707.flac'\n",
      "d:\\nepali_notetaker_project\\nepali_notetaker_package\\DataSet\\asr_nepali_0\\asr_nepali\\data\\00\\00ceed2707.flac\n",
      "d:\\nepali_notetaker_project\\nepali_notetaker_package\\DataSet\\asr_nepali_0\\asr_nepali\\data\\00\\processed_wav\\00ceed2707.wav\n"
     ]
    },
    {
     "name": "stderr",
     "output_type": "stream",
     "text": [
      " 25%|██▌       | 153/607 [00:41<01:31,  4.95it/s]"
     ]
    },
    {
     "name": "stdout",
     "output_type": "stream",
     "text": [
      "'d:\\\\nepali_notetaker_project\\\\nepali_notetaker_package\\\\DataSet\\\\asr_nepali_0\\\\asr_nepali\\\\data\\\\00\\\\0089c0341a.flac'\n",
      "d:\\nepali_notetaker_project\\nepali_notetaker_package\\DataSet\\asr_nepali_0\\asr_nepali\\data\\00\\0089c0341a.flac\n",
      "d:\\nepali_notetaker_project\\nepali_notetaker_package\\DataSet\\asr_nepali_0\\asr_nepali\\data\\00\\processed_wav\\0089c0341a.wav\n",
      "'d:\\\\nepali_notetaker_project\\\\nepali_notetaker_package\\\\DataSet\\\\asr_nepali_0\\\\asr_nepali\\\\data\\\\00\\\\00c6cd4fae.flac'\n",
      "d:\\nepali_notetaker_project\\nepali_notetaker_package\\DataSet\\asr_nepali_0\\asr_nepali\\data\\00\\00c6cd4fae.flac\n",
      "d:\\nepali_notetaker_project\\nepali_notetaker_package\\DataSet\\asr_nepali_0\\asr_nepali\\data\\00\\processed_wav\\00c6cd4fae.wav\n"
     ]
    },
    {
     "name": "stderr",
     "output_type": "stream",
     "text": [
      " 26%|██▌       | 155/607 [00:41<01:26,  5.24it/s]"
     ]
    },
    {
     "name": "stdout",
     "output_type": "stream",
     "text": [
      "'d:\\\\nepali_notetaker_project\\\\nepali_notetaker_package\\\\DataSet\\\\asr_nepali_0\\\\asr_nepali\\\\data\\\\00\\\\00097747cd.flac'\n",
      "d:\\nepali_notetaker_project\\nepali_notetaker_package\\DataSet\\asr_nepali_0\\asr_nepali\\data\\00\\00097747cd.flac\n",
      "d:\\nepali_notetaker_project\\nepali_notetaker_package\\DataSet\\asr_nepali_0\\asr_nepali\\data\\00\\processed_wav\\00097747cd.wav\n"
     ]
    },
    {
     "name": "stderr",
     "output_type": "stream",
     "text": [
      " 26%|██▌       | 156/607 [00:41<01:21,  5.51it/s]"
     ]
    },
    {
     "name": "stdout",
     "output_type": "stream",
     "text": [
      "'d:\\\\nepali_notetaker_project\\\\nepali_notetaker_package\\\\DataSet\\\\asr_nepali_0\\\\asr_nepali\\\\data\\\\00\\\\00725c6772.flac'\n",
      "d:\\nepali_notetaker_project\\nepali_notetaker_package\\DataSet\\asr_nepali_0\\asr_nepali\\data\\00\\00725c6772.flac\n",
      "d:\\nepali_notetaker_project\\nepali_notetaker_package\\DataSet\\asr_nepali_0\\asr_nepali\\data\\00\\processed_wav\\00725c6772.wav\n",
      "'d:\\\\nepali_notetaker_project\\\\nepali_notetaker_package\\\\DataSet\\\\asr_nepali_0\\\\asr_nepali\\\\data\\\\00\\\\00826a669d.flac'\n",
      "d:\\nepali_notetaker_project\\nepali_notetaker_package\\DataSet\\asr_nepali_0\\asr_nepali\\data\\00\\00826a669d.flac\n",
      "d:\\nepali_notetaker_project\\nepali_notetaker_package\\DataSet\\asr_nepali_0\\asr_nepali\\data\\00\\processed_wav\\00826a669d.wav\n"
     ]
    },
    {
     "name": "stderr",
     "output_type": "stream",
     "text": [
      " 26%|██▌       | 158/607 [00:41<01:22,  5.47it/s]"
     ]
    },
    {
     "name": "stdout",
     "output_type": "stream",
     "text": [
      "'d:\\\\nepali_notetaker_project\\\\nepali_notetaker_package\\\\DataSet\\\\asr_nepali_0\\\\asr_nepali\\\\data\\\\00\\\\00157312d0.flac'\n",
      "d:\\nepali_notetaker_project\\nepali_notetaker_package\\DataSet\\asr_nepali_0\\asr_nepali\\data\\00\\00157312d0.flac\n",
      "d:\\nepali_notetaker_project\\nepali_notetaker_package\\DataSet\\asr_nepali_0\\asr_nepali\\data\\00\\processed_wav\\00157312d0.wav\n"
     ]
    },
    {
     "name": "stderr",
     "output_type": "stream",
     "text": [
      " 26%|██▌       | 159/607 [00:42<01:22,  5.43it/s]"
     ]
    },
    {
     "name": "stdout",
     "output_type": "stream",
     "text": [
      "'d:\\\\nepali_notetaker_project\\\\nepali_notetaker_package\\\\DataSet\\\\asr_nepali_0\\\\asr_nepali\\\\data\\\\00\\\\007f615855.flac'\n",
      "d:\\nepali_notetaker_project\\nepali_notetaker_package\\DataSet\\asr_nepali_0\\asr_nepali\\data\\00\\007f615855.flac\n",
      "d:\\nepali_notetaker_project\\nepali_notetaker_package\\DataSet\\asr_nepali_0\\asr_nepali\\data\\00\\processed_wav\\007f615855.wav\n"
     ]
    },
    {
     "name": "stderr",
     "output_type": "stream",
     "text": [
      " 26%|██▋       | 160/607 [00:42<01:18,  5.67it/s]"
     ]
    },
    {
     "name": "stdout",
     "output_type": "stream",
     "text": [
      "'d:\\\\nepali_notetaker_project\\\\nepali_notetaker_package\\\\DataSet\\\\asr_nepali_0\\\\asr_nepali\\\\data\\\\00\\\\00ee752d8d.flac'\n",
      "d:\\nepali_notetaker_project\\nepali_notetaker_package\\DataSet\\asr_nepali_0\\asr_nepali\\data\\00\\00ee752d8d.flac\n",
      "d:\\nepali_notetaker_project\\nepali_notetaker_package\\DataSet\\asr_nepali_0\\asr_nepali\\data\\00\\processed_wav\\00ee752d8d.wav\n",
      "'d:\\\\nepali_notetaker_project\\\\nepali_notetaker_package\\\\DataSet\\\\asr_nepali_0\\\\asr_nepali\\\\data\\\\00\\\\0071207b9a.flac'\n",
      "d:\\nepali_notetaker_project\\nepali_notetaker_package\\DataSet\\asr_nepali_0\\asr_nepali\\data\\00\\0071207b9a.flac\n",
      "d:\\nepali_notetaker_project\\nepali_notetaker_package\\DataSet\\asr_nepali_0\\asr_nepali\\data\\00\\processed_wav\\0071207b9a.wav\n"
     ]
    },
    {
     "name": "stderr",
     "output_type": "stream",
     "text": [
      " 27%|██▋       | 162/607 [00:42<01:21,  5.49it/s]"
     ]
    },
    {
     "name": "stdout",
     "output_type": "stream",
     "text": [
      "'d:\\\\nepali_notetaker_project\\\\nepali_notetaker_package\\\\DataSet\\\\asr_nepali_0\\\\asr_nepali\\\\data\\\\00\\\\001b968b46.flac'\n",
      "d:\\nepali_notetaker_project\\nepali_notetaker_package\\DataSet\\asr_nepali_0\\asr_nepali\\data\\00\\001b968b46.flac\n",
      "d:\\nepali_notetaker_project\\nepali_notetaker_package\\DataSet\\asr_nepali_0\\asr_nepali\\data\\00\\processed_wav\\001b968b46.wav\n"
     ]
    },
    {
     "name": "stderr",
     "output_type": "stream",
     "text": [
      " 27%|██▋       | 163/607 [00:42<01:17,  5.72it/s]"
     ]
    },
    {
     "name": "stdout",
     "output_type": "stream",
     "text": [
      "'d:\\\\nepali_notetaker_project\\\\nepali_notetaker_package\\\\DataSet\\\\asr_nepali_0\\\\asr_nepali\\\\data\\\\00\\\\003807abfa.flac'\n",
      "d:\\nepali_notetaker_project\\nepali_notetaker_package\\DataSet\\asr_nepali_0\\asr_nepali\\data\\00\\003807abfa.flac\n",
      "d:\\nepali_notetaker_project\\nepali_notetaker_package\\DataSet\\asr_nepali_0\\asr_nepali\\data\\00\\processed_wav\\003807abfa.wav\n",
      "'d:\\\\nepali_notetaker_project\\\\nepali_notetaker_package\\\\DataSet\\\\asr_nepali_0\\\\asr_nepali\\\\data\\\\00\\\\00848745a8.flac'\n",
      "d:\\nepali_notetaker_project\\nepali_notetaker_package\\DataSet\\asr_nepali_0\\asr_nepali\\data\\00\\00848745a8.flac\n",
      "d:\\nepali_notetaker_project\\nepali_notetaker_package\\DataSet\\asr_nepali_0\\asr_nepali\\data\\00\\processed_wav\\00848745a8.wav\n"
     ]
    },
    {
     "name": "stderr",
     "output_type": "stream",
     "text": [
      " 27%|██▋       | 164/607 [00:42<01:23,  5.34it/s]"
     ]
    },
    {
     "name": "stdout",
     "output_type": "stream",
     "text": [
      "'d:\\\\nepali_notetaker_project\\\\nepali_notetaker_package\\\\DataSet\\\\asr_nepali_0\\\\asr_nepali\\\\data\\\\00\\\\0033b1ea68.flac'\n",
      "d:\\nepali_notetaker_project\\nepali_notetaker_package\\DataSet\\asr_nepali_0\\asr_nepali\\data\\00\\0033b1ea68.flac\n",
      "d:\\nepali_notetaker_project\\nepali_notetaker_package\\DataSet\\asr_nepali_0\\asr_nepali\\data\\00\\processed_wav\\0033b1ea68.wav\n"
     ]
    },
    {
     "name": "stderr",
     "output_type": "stream",
     "text": [
      " 27%|██▋       | 165/607 [00:43<01:31,  4.84it/s]"
     ]
    },
    {
     "name": "stdout",
     "output_type": "stream",
     "text": [
      "'d:\\\\nepali_notetaker_project\\\\nepali_notetaker_package\\\\DataSet\\\\asr_nepali_0\\\\asr_nepali\\\\data\\\\00\\\\009df49393.flac'\n",
      "d:\\nepali_notetaker_project\\nepali_notetaker_package\\DataSet\\asr_nepali_0\\asr_nepali\\data\\00\\009df49393.flac\n",
      "d:\\nepali_notetaker_project\\nepali_notetaker_package\\DataSet\\asr_nepali_0\\asr_nepali\\data\\00\\processed_wav\\009df49393.wav\n"
     ]
    },
    {
     "name": "stderr",
     "output_type": "stream",
     "text": [
      " 28%|██▊       | 167/607 [00:43<01:28,  4.97it/s]"
     ]
    },
    {
     "name": "stdout",
     "output_type": "stream",
     "text": [
      "'d:\\\\nepali_notetaker_project\\\\nepali_notetaker_package\\\\DataSet\\\\asr_nepali_0\\\\asr_nepali\\\\data\\\\00\\\\00a2b01b40.flac'\n",
      "d:\\nepali_notetaker_project\\nepali_notetaker_package\\DataSet\\asr_nepali_0\\asr_nepali\\data\\00\\00a2b01b40.flac\n",
      "d:\\nepali_notetaker_project\\nepali_notetaker_package\\DataSet\\asr_nepali_0\\asr_nepali\\data\\00\\processed_wav\\00a2b01b40.wav\n"
     ]
    },
    {
     "name": "stderr",
     "output_type": "stream",
     "text": [
      " 28%|██▊       | 168/607 [00:43<01:24,  5.18it/s]"
     ]
    },
    {
     "name": "stdout",
     "output_type": "stream",
     "text": [
      "'d:\\\\nepali_notetaker_project\\\\nepali_notetaker_package\\\\DataSet\\\\asr_nepali_0\\\\asr_nepali\\\\data\\\\00\\\\00e84f7844.flac'\n",
      "d:\\nepali_notetaker_project\\nepali_notetaker_package\\DataSet\\asr_nepali_0\\asr_nepali\\data\\00\\00e84f7844.flac\n",
      "d:\\nepali_notetaker_project\\nepali_notetaker_package\\DataSet\\asr_nepali_0\\asr_nepali\\data\\00\\processed_wav\\00e84f7844.wav\n",
      "'d:\\\\nepali_notetaker_project\\\\nepali_notetaker_package\\\\DataSet\\\\asr_nepali_0\\\\asr_nepali\\\\data\\\\00\\\\009ece1528.flac'\n",
      "d:\\nepali_notetaker_project\\nepali_notetaker_package\\DataSet\\asr_nepali_0\\asr_nepali\\data\\00\\009ece1528.flac\n",
      "d:\\nepali_notetaker_project\\nepali_notetaker_package\\DataSet\\asr_nepali_0\\asr_nepali\\data\\00\\processed_wav\\009ece1528.wav\n"
     ]
    },
    {
     "name": "stderr",
     "output_type": "stream",
     "text": [
      " 28%|██▊       | 170/607 [00:44<01:21,  5.36it/s]"
     ]
    },
    {
     "name": "stdout",
     "output_type": "stream",
     "text": [
      "'d:\\\\nepali_notetaker_project\\\\nepali_notetaker_package\\\\DataSet\\\\asr_nepali_0\\\\asr_nepali\\\\data\\\\00\\\\00083ac4d8.flac'\n",
      "d:\\nepali_notetaker_project\\nepali_notetaker_package\\DataSet\\asr_nepali_0\\asr_nepali\\data\\00\\00083ac4d8.flac\n",
      "d:\\nepali_notetaker_project\\nepali_notetaker_package\\DataSet\\asr_nepali_0\\asr_nepali\\data\\00\\processed_wav\\00083ac4d8.wav\n",
      "'d:\\\\nepali_notetaker_project\\\\nepali_notetaker_package\\\\DataSet\\\\asr_nepali_0\\\\asr_nepali\\\\data\\\\00\\\\00187a4bbd.flac'\n",
      "d:\\nepali_notetaker_project\\nepali_notetaker_package\\DataSet\\asr_nepali_0\\asr_nepali\\data\\00\\00187a4bbd.flac\n",
      "d:\\nepali_notetaker_project\\nepali_notetaker_package\\DataSet\\asr_nepali_0\\asr_nepali\\data\\00\\processed_wav\\00187a4bbd.wav\n"
     ]
    },
    {
     "name": "stderr",
     "output_type": "stream",
     "text": [
      " 28%|██▊       | 172/607 [00:44<01:21,  5.34it/s]"
     ]
    },
    {
     "name": "stdout",
     "output_type": "stream",
     "text": [
      "'d:\\\\nepali_notetaker_project\\\\nepali_notetaker_package\\\\DataSet\\\\asr_nepali_0\\\\asr_nepali\\\\data\\\\00\\\\0041bb2219.flac'\n",
      "d:\\nepali_notetaker_project\\nepali_notetaker_package\\DataSet\\asr_nepali_0\\asr_nepali\\data\\00\\0041bb2219.flac\n",
      "d:\\nepali_notetaker_project\\nepali_notetaker_package\\DataSet\\asr_nepali_0\\asr_nepali\\data\\00\\processed_wav\\0041bb2219.wav\n"
     ]
    },
    {
     "name": "stderr",
     "output_type": "stream",
     "text": [
      " 29%|██▊       | 173/607 [00:44<01:19,  5.46it/s]"
     ]
    },
    {
     "name": "stdout",
     "output_type": "stream",
     "text": [
      "'d:\\\\nepali_notetaker_project\\\\nepali_notetaker_package\\\\DataSet\\\\asr_nepali_0\\\\asr_nepali\\\\data\\\\00\\\\00adf5c131.flac'\n",
      "d:\\nepali_notetaker_project\\nepali_notetaker_package\\DataSet\\asr_nepali_0\\asr_nepali\\data\\00\\00adf5c131.flac\n",
      "d:\\nepali_notetaker_project\\nepali_notetaker_package\\DataSet\\asr_nepali_0\\asr_nepali\\data\\00\\processed_wav\\00adf5c131.wav\n",
      "'d:\\\\nepali_notetaker_project\\\\nepali_notetaker_package\\\\DataSet\\\\asr_nepali_0\\\\asr_nepali\\\\data\\\\00\\\\00cb9139c3.flac'\n",
      "d:\\nepali_notetaker_project\\nepali_notetaker_package\\DataSet\\asr_nepali_0\\asr_nepali\\data\\00\\00cb9139c3.flac\n",
      "d:\\nepali_notetaker_project\\nepali_notetaker_package\\DataSet\\asr_nepali_0\\asr_nepali\\data\\00\\processed_wav\\00cb9139c3.wav\n"
     ]
    },
    {
     "name": "stderr",
     "output_type": "stream",
     "text": [
      " 29%|██▉       | 175/607 [00:45<01:18,  5.50it/s]"
     ]
    },
    {
     "name": "stdout",
     "output_type": "stream",
     "text": [
      "'d:\\\\nepali_notetaker_project\\\\nepali_notetaker_package\\\\DataSet\\\\asr_nepali_0\\\\asr_nepali\\\\data\\\\00\\\\002c06d80c.flac'\n",
      "d:\\nepali_notetaker_project\\nepali_notetaker_package\\DataSet\\asr_nepali_0\\asr_nepali\\data\\00\\002c06d80c.flac\n",
      "d:\\nepali_notetaker_project\\nepali_notetaker_package\\DataSet\\asr_nepali_0\\asr_nepali\\data\\00\\processed_wav\\002c06d80c.wav\n",
      "'d:\\\\nepali_notetaker_project\\\\nepali_notetaker_package\\\\DataSet\\\\asr_nepali_0\\\\asr_nepali\\\\data\\\\00\\\\0062779f1f.flac'\n",
      "d:\\nepali_notetaker_project\\nepali_notetaker_package\\DataSet\\asr_nepali_0\\asr_nepali\\data\\00\\0062779f1f.flac\n",
      "d:\\nepali_notetaker_project\\nepali_notetaker_package\\DataSet\\asr_nepali_0\\asr_nepali\\data\\00\\processed_wav\\0062779f1f.wav\n"
     ]
    },
    {
     "name": "stderr",
     "output_type": "stream",
     "text": [
      " 29%|██▉       | 177/607 [00:45<01:13,  5.88it/s]"
     ]
    },
    {
     "name": "stdout",
     "output_type": "stream",
     "text": [
      "'d:\\\\nepali_notetaker_project\\\\nepali_notetaker_package\\\\DataSet\\\\asr_nepali_0\\\\asr_nepali\\\\data\\\\00\\\\0021f02f4a.flac'\n",
      "d:\\nepali_notetaker_project\\nepali_notetaker_package\\DataSet\\asr_nepali_0\\asr_nepali\\data\\00\\0021f02f4a.flac\n",
      "d:\\nepali_notetaker_project\\nepali_notetaker_package\\DataSet\\asr_nepali_0\\asr_nepali\\data\\00\\processed_wav\\0021f02f4a.wav\n",
      "'d:\\\\nepali_notetaker_project\\\\nepali_notetaker_package\\\\DataSet\\\\asr_nepali_0\\\\asr_nepali\\\\data\\\\00\\\\00edf97576.flac'\n",
      "d:\\nepali_notetaker_project\\nepali_notetaker_package\\DataSet\\asr_nepali_0\\asr_nepali\\data\\00\\00edf97576.flac\n",
      "d:\\nepali_notetaker_project\\nepali_notetaker_package\\DataSet\\asr_nepali_0\\asr_nepali\\data\\00\\processed_wav\\00edf97576.wav\n"
     ]
    },
    {
     "name": "stderr",
     "output_type": "stream",
     "text": [
      " 29%|██▉       | 179/607 [00:45<01:13,  5.84it/s]"
     ]
    },
    {
     "name": "stdout",
     "output_type": "stream",
     "text": [
      "'d:\\\\nepali_notetaker_project\\\\nepali_notetaker_package\\\\DataSet\\\\asr_nepali_0\\\\asr_nepali\\\\data\\\\00\\\\004835bff8.flac'\n",
      "d:\\nepali_notetaker_project\\nepali_notetaker_package\\DataSet\\asr_nepali_0\\asr_nepali\\data\\00\\004835bff8.flac\n",
      "d:\\nepali_notetaker_project\\nepali_notetaker_package\\DataSet\\asr_nepali_0\\asr_nepali\\data\\00\\processed_wav\\004835bff8.wav\n",
      "'d:\\\\nepali_notetaker_project\\\\nepali_notetaker_package\\\\DataSet\\\\asr_nepali_0\\\\asr_nepali\\\\data\\\\00\\\\005a79209e.flac'\n",
      "d:\\nepali_notetaker_project\\nepali_notetaker_package\\DataSet\\asr_nepali_0\\asr_nepali\\data\\00\\005a79209e.flac\n",
      "d:\\nepali_notetaker_project\\nepali_notetaker_package\\DataSet\\asr_nepali_0\\asr_nepali\\data\\00\\processed_wav\\005a79209e.wav\n"
     ]
    },
    {
     "name": "stderr",
     "output_type": "stream",
     "text": [
      " 30%|██▉       | 181/607 [00:46<01:15,  5.66it/s]"
     ]
    },
    {
     "name": "stdout",
     "output_type": "stream",
     "text": [
      "'d:\\\\nepali_notetaker_project\\\\nepali_notetaker_package\\\\DataSet\\\\asr_nepali_0\\\\asr_nepali\\\\data\\\\00\\\\0068ce4e94.flac'\n",
      "d:\\nepali_notetaker_project\\nepali_notetaker_package\\DataSet\\asr_nepali_0\\asr_nepali\\data\\00\\0068ce4e94.flac\n",
      "d:\\nepali_notetaker_project\\nepali_notetaker_package\\DataSet\\asr_nepali_0\\asr_nepali\\data\\00\\processed_wav\\0068ce4e94.wav\n",
      "'d:\\\\nepali_notetaker_project\\\\nepali_notetaker_package\\\\DataSet\\\\asr_nepali_0\\\\asr_nepali\\\\data\\\\00\\\\004797d788.flac'\n",
      "d:\\nepali_notetaker_project\\nepali_notetaker_package\\DataSet\\asr_nepali_0\\asr_nepali\\data\\00\\004797d788.flac\n",
      "d:\\nepali_notetaker_project\\nepali_notetaker_package\\DataSet\\asr_nepali_0\\asr_nepali\\data\\00\\processed_wav\\004797d788.wav\n"
     ]
    },
    {
     "name": "stderr",
     "output_type": "stream",
     "text": [
      " 30%|███       | 183/607 [00:46<01:15,  5.61it/s]"
     ]
    },
    {
     "name": "stdout",
     "output_type": "stream",
     "text": [
      "'d:\\\\nepali_notetaker_project\\\\nepali_notetaker_package\\\\DataSet\\\\asr_nepali_0\\\\asr_nepali\\\\data\\\\00\\\\002bf0aab4.flac'\n",
      "d:\\nepali_notetaker_project\\nepali_notetaker_package\\DataSet\\asr_nepali_0\\asr_nepali\\data\\00\\002bf0aab4.flac\n",
      "d:\\nepali_notetaker_project\\nepali_notetaker_package\\DataSet\\asr_nepali_0\\asr_nepali\\data\\00\\processed_wav\\002bf0aab4.wav\n",
      "'d:\\\\nepali_notetaker_project\\\\nepali_notetaker_package\\\\DataSet\\\\asr_nepali_0\\\\asr_nepali\\\\data\\\\00\\\\007e72e734.flac'\n",
      "d:\\nepali_notetaker_project\\nepali_notetaker_package\\DataSet\\asr_nepali_0\\asr_nepali\\data\\00\\007e72e734.flac\n",
      "d:\\nepali_notetaker_project\\nepali_notetaker_package\\DataSet\\asr_nepali_0\\asr_nepali\\data\\00\\processed_wav\\007e72e734.wav\n"
     ]
    },
    {
     "name": "stderr",
     "output_type": "stream",
     "text": [
      " 30%|███       | 185/607 [00:46<01:17,  5.44it/s]"
     ]
    },
    {
     "name": "stdout",
     "output_type": "stream",
     "text": [
      "'d:\\\\nepali_notetaker_project\\\\nepali_notetaker_package\\\\DataSet\\\\asr_nepali_0\\\\asr_nepali\\\\data\\\\00\\\\004943999e.flac'\n",
      "d:\\nepali_notetaker_project\\nepali_notetaker_package\\DataSet\\asr_nepali_0\\asr_nepali\\data\\00\\004943999e.flac\n",
      "d:\\nepali_notetaker_project\\nepali_notetaker_package\\DataSet\\asr_nepali_0\\asr_nepali\\data\\00\\processed_wav\\004943999e.wav\n"
     ]
    },
    {
     "name": "stderr",
     "output_type": "stream",
     "text": [
      " 31%|███       | 186/607 [00:47<01:14,  5.65it/s]"
     ]
    },
    {
     "name": "stdout",
     "output_type": "stream",
     "text": [
      "'d:\\\\nepali_notetaker_project\\\\nepali_notetaker_package\\\\DataSet\\\\asr_nepali_0\\\\asr_nepali\\\\data\\\\00\\\\00fdad27d6.flac'\n",
      "d:\\nepali_notetaker_project\\nepali_notetaker_package\\DataSet\\asr_nepali_0\\asr_nepali\\data\\00\\00fdad27d6.flac\n",
      "d:\\nepali_notetaker_project\\nepali_notetaker_package\\DataSet\\asr_nepali_0\\asr_nepali\\data\\00\\processed_wav\\00fdad27d6.wav\n",
      "'d:\\\\nepali_notetaker_project\\\\nepali_notetaker_package\\\\DataSet\\\\asr_nepali_0\\\\asr_nepali\\\\data\\\\00\\\\0057b55228.flac'\n",
      "d:\\nepali_notetaker_project\\nepali_notetaker_package\\DataSet\\asr_nepali_0\\asr_nepali\\data\\00\\0057b55228.flac\n",
      "d:\\nepali_notetaker_project\\nepali_notetaker_package\\DataSet\\asr_nepali_0\\asr_nepali\\data\\00\\processed_wav\\0057b55228.wav\n"
     ]
    },
    {
     "name": "stderr",
     "output_type": "stream",
     "text": [
      " 31%|███       | 187/607 [00:47<01:21,  5.17it/s]"
     ]
    },
    {
     "name": "stdout",
     "output_type": "stream",
     "text": [
      "'d:\\\\nepali_notetaker_project\\\\nepali_notetaker_package\\\\DataSet\\\\asr_nepali_0\\\\asr_nepali\\\\data\\\\00\\\\004743fcf7.flac'\n",
      "d:\\nepali_notetaker_project\\nepali_notetaker_package\\DataSet\\asr_nepali_0\\asr_nepali\\data\\00\\004743fcf7.flac\n",
      "d:\\nepali_notetaker_project\\nepali_notetaker_package\\DataSet\\asr_nepali_0\\asr_nepali\\data\\00\\processed_wav\\004743fcf7.wav\n"
     ]
    },
    {
     "name": "stderr",
     "output_type": "stream",
     "text": [
      " 31%|███       | 189/607 [00:47<01:21,  5.11it/s]"
     ]
    },
    {
     "name": "stdout",
     "output_type": "stream",
     "text": [
      "'d:\\\\nepali_notetaker_project\\\\nepali_notetaker_package\\\\DataSet\\\\asr_nepali_0\\\\asr_nepali\\\\data\\\\00\\\\00e667f470.flac'\n",
      "d:\\nepali_notetaker_project\\nepali_notetaker_package\\DataSet\\asr_nepali_0\\asr_nepali\\data\\00\\00e667f470.flac\n",
      "d:\\nepali_notetaker_project\\nepali_notetaker_package\\DataSet\\asr_nepali_0\\asr_nepali\\data\\00\\processed_wav\\00e667f470.wav\n",
      "'d:\\\\nepali_notetaker_project\\\\nepali_notetaker_package\\\\DataSet\\\\asr_nepali_0\\\\asr_nepali\\\\data\\\\00\\\\005a56a1a2.flac'\n",
      "d:\\nepali_notetaker_project\\nepali_notetaker_package\\DataSet\\asr_nepali_0\\asr_nepali\\data\\00\\005a56a1a2.flac\n",
      "d:\\nepali_notetaker_project\\nepali_notetaker_package\\DataSet\\asr_nepali_0\\asr_nepali\\data\\00\\processed_wav\\005a56a1a2.wav\n"
     ]
    },
    {
     "name": "stderr",
     "output_type": "stream",
     "text": [
      " 31%|███▏      | 191/607 [00:48<01:18,  5.30it/s]"
     ]
    },
    {
     "name": "stdout",
     "output_type": "stream",
     "text": [
      "'d:\\\\nepali_notetaker_project\\\\nepali_notetaker_package\\\\DataSet\\\\asr_nepali_0\\\\asr_nepali\\\\data\\\\00\\\\009c46e55a.flac'\n",
      "d:\\nepali_notetaker_project\\nepali_notetaker_package\\DataSet\\asr_nepali_0\\asr_nepali\\data\\00\\009c46e55a.flac\n",
      "d:\\nepali_notetaker_project\\nepali_notetaker_package\\DataSet\\asr_nepali_0\\asr_nepali\\data\\00\\processed_wav\\009c46e55a.wav\n"
     ]
    },
    {
     "name": "stderr",
     "output_type": "stream",
     "text": [
      " 32%|███▏      | 192/607 [00:48<01:19,  5.19it/s]"
     ]
    },
    {
     "name": "stdout",
     "output_type": "stream",
     "text": [
      "'d:\\\\nepali_notetaker_project\\\\nepali_notetaker_package\\\\DataSet\\\\asr_nepali_0\\\\asr_nepali\\\\data\\\\00\\\\00dc7d989c.flac'\n",
      "d:\\nepali_notetaker_project\\nepali_notetaker_package\\DataSet\\asr_nepali_0\\asr_nepali\\data\\00\\00dc7d989c.flac\n",
      "d:\\nepali_notetaker_project\\nepali_notetaker_package\\DataSet\\asr_nepali_0\\asr_nepali\\data\\00\\processed_wav\\00dc7d989c.wav\n"
     ]
    },
    {
     "name": "stderr",
     "output_type": "stream",
     "text": [
      " 32%|███▏      | 193/607 [00:48<01:16,  5.43it/s]"
     ]
    },
    {
     "name": "stdout",
     "output_type": "stream",
     "text": [
      "'d:\\\\nepali_notetaker_project\\\\nepali_notetaker_package\\\\DataSet\\\\asr_nepali_0\\\\asr_nepali\\\\data\\\\00\\\\0086d92065.flac'\n",
      "d:\\nepali_notetaker_project\\nepali_notetaker_package\\DataSet\\asr_nepali_0\\asr_nepali\\data\\00\\0086d92065.flac\n",
      "d:\\nepali_notetaker_project\\nepali_notetaker_package\\DataSet\\asr_nepali_0\\asr_nepali\\data\\00\\processed_wav\\0086d92065.wav\n",
      "'d:\\\\nepali_notetaker_project\\\\nepali_notetaker_package\\\\DataSet\\\\asr_nepali_0\\\\asr_nepali\\\\data\\\\00\\\\00c0a071b3.flac'\n",
      "d:\\nepali_notetaker_project\\nepali_notetaker_package\\DataSet\\asr_nepali_0\\asr_nepali\\data\\00\\00c0a071b3.flac\n",
      "d:\\nepali_notetaker_project\\nepali_notetaker_package\\DataSet\\asr_nepali_0\\asr_nepali\\data\\00\\processed_wav\\00c0a071b3.wav\n"
     ]
    },
    {
     "name": "stderr",
     "output_type": "stream",
     "text": [
      " 32%|███▏      | 194/607 [00:48<01:24,  4.90it/s]"
     ]
    },
    {
     "name": "stdout",
     "output_type": "stream",
     "text": [
      "'d:\\\\nepali_notetaker_project\\\\nepali_notetaker_package\\\\DataSet\\\\asr_nepali_0\\\\asr_nepali\\\\data\\\\00\\\\0036dd80ed.flac'\n",
      "d:\\nepali_notetaker_project\\nepali_notetaker_package\\DataSet\\asr_nepali_0\\asr_nepali\\data\\00\\0036dd80ed.flac\n",
      "d:\\nepali_notetaker_project\\nepali_notetaker_package\\DataSet\\asr_nepali_0\\asr_nepali\\data\\00\\processed_wav\\0036dd80ed.wav\n"
     ]
    },
    {
     "name": "stderr",
     "output_type": "stream",
     "text": [
      " 32%|███▏      | 195/607 [00:48<01:30,  4.55it/s]"
     ]
    },
    {
     "name": "stdout",
     "output_type": "stream",
     "text": [
      "'d:\\\\nepali_notetaker_project\\\\nepali_notetaker_package\\\\DataSet\\\\asr_nepali_0\\\\asr_nepali\\\\data\\\\00\\\\000a0be2c6.flac'\n",
      "d:\\nepali_notetaker_project\\nepali_notetaker_package\\DataSet\\asr_nepali_0\\asr_nepali\\data\\00\\000a0be2c6.flac\n",
      "d:\\nepali_notetaker_project\\nepali_notetaker_package\\DataSet\\asr_nepali_0\\asr_nepali\\data\\00\\processed_wav\\000a0be2c6.wav\n"
     ]
    },
    {
     "name": "stderr",
     "output_type": "stream",
     "text": [
      " 32%|███▏      | 196/607 [00:49<01:31,  4.49it/s]"
     ]
    },
    {
     "name": "stdout",
     "output_type": "stream",
     "text": [
      "'d:\\\\nepali_notetaker_project\\\\nepali_notetaker_package\\\\DataSet\\\\asr_nepali_0\\\\asr_nepali\\\\data\\\\00\\\\0079820807.flac'\n",
      "d:\\nepali_notetaker_project\\nepali_notetaker_package\\DataSet\\asr_nepali_0\\asr_nepali\\data\\00\\0079820807.flac\n",
      "d:\\nepali_notetaker_project\\nepali_notetaker_package\\DataSet\\asr_nepali_0\\asr_nepali\\data\\00\\processed_wav\\0079820807.wav\n"
     ]
    },
    {
     "name": "stderr",
     "output_type": "stream",
     "text": [
      " 32%|███▏      | 197/607 [00:49<01:34,  4.34it/s]"
     ]
    },
    {
     "name": "stdout",
     "output_type": "stream",
     "text": [
      "'d:\\\\nepali_notetaker_project\\\\nepali_notetaker_package\\\\DataSet\\\\asr_nepali_0\\\\asr_nepali\\\\data\\\\00\\\\00893b5260.flac'\n",
      "d:\\nepali_notetaker_project\\nepali_notetaker_package\\DataSet\\asr_nepali_0\\asr_nepali\\data\\00\\00893b5260.flac\n",
      "d:\\nepali_notetaker_project\\nepali_notetaker_package\\DataSet\\asr_nepali_0\\asr_nepali\\data\\00\\processed_wav\\00893b5260.wav\n"
     ]
    },
    {
     "name": "stderr",
     "output_type": "stream",
     "text": [
      " 33%|███▎      | 199/607 [00:49<01:29,  4.55it/s]"
     ]
    },
    {
     "name": "stdout",
     "output_type": "stream",
     "text": [
      "'d:\\\\nepali_notetaker_project\\\\nepali_notetaker_package\\\\DataSet\\\\asr_nepali_0\\\\asr_nepali\\\\data\\\\00\\\\007afadd19.flac'\n",
      "d:\\nepali_notetaker_project\\nepali_notetaker_package\\DataSet\\asr_nepali_0\\asr_nepali\\data\\00\\007afadd19.flac\n",
      "d:\\nepali_notetaker_project\\nepali_notetaker_package\\DataSet\\asr_nepali_0\\asr_nepali\\data\\00\\processed_wav\\007afadd19.wav\n"
     ]
    },
    {
     "name": "stderr",
     "output_type": "stream",
     "text": [
      " 33%|███▎      | 200/607 [00:49<01:23,  4.88it/s]"
     ]
    },
    {
     "name": "stdout",
     "output_type": "stream",
     "text": [
      "'d:\\\\nepali_notetaker_project\\\\nepali_notetaker_package\\\\DataSet\\\\asr_nepali_0\\\\asr_nepali\\\\data\\\\00\\\\00cf9c46ac.flac'\n",
      "d:\\nepali_notetaker_project\\nepali_notetaker_package\\DataSet\\asr_nepali_0\\asr_nepali\\data\\00\\00cf9c46ac.flac\n",
      "d:\\nepali_notetaker_project\\nepali_notetaker_package\\DataSet\\asr_nepali_0\\asr_nepali\\data\\00\\processed_wav\\00cf9c46ac.wav\n",
      "'d:\\\\nepali_notetaker_project\\\\nepali_notetaker_package\\\\DataSet\\\\asr_nepali_0\\\\asr_nepali\\\\data\\\\00\\\\0009e14baa.flac'\n",
      "d:\\nepali_notetaker_project\\nepali_notetaker_package\\DataSet\\asr_nepali_0\\asr_nepali\\data\\00\\0009e14baa.flac\n",
      "d:\\nepali_notetaker_project\\nepali_notetaker_package\\DataSet\\asr_nepali_0\\asr_nepali\\data\\00\\processed_wav\\0009e14baa.wav\n"
     ]
    },
    {
     "name": "stderr",
     "output_type": "stream",
     "text": [
      " 33%|███▎      | 202/607 [00:50<01:18,  5.19it/s]"
     ]
    },
    {
     "name": "stdout",
     "output_type": "stream",
     "text": [
      "'d:\\\\nepali_notetaker_project\\\\nepali_notetaker_package\\\\DataSet\\\\asr_nepali_0\\\\asr_nepali\\\\data\\\\00\\\\005c593499.flac'\n",
      "d:\\nepali_notetaker_project\\nepali_notetaker_package\\DataSet\\asr_nepali_0\\asr_nepali\\data\\00\\005c593499.flac\n",
      "d:\\nepali_notetaker_project\\nepali_notetaker_package\\DataSet\\asr_nepali_0\\asr_nepali\\data\\00\\processed_wav\\005c593499.wav\n",
      "'d:\\\\nepali_notetaker_project\\\\nepali_notetaker_package\\\\DataSet\\\\asr_nepali_0\\\\asr_nepali\\\\data\\\\00\\\\00a581373f.flac'\n",
      "d:\\nepali_notetaker_project\\nepali_notetaker_package\\DataSet\\asr_nepali_0\\asr_nepali\\data\\00\\00a581373f.flac\n",
      "d:\\nepali_notetaker_project\\nepali_notetaker_package\\DataSet\\asr_nepali_0\\asr_nepali\\data\\00\\processed_wav\\00a581373f.wav\n"
     ]
    },
    {
     "name": "stderr",
     "output_type": "stream",
     "text": [
      " 34%|███▎      | 204/607 [00:50<01:15,  5.33it/s]"
     ]
    },
    {
     "name": "stdout",
     "output_type": "stream",
     "text": [
      "'d:\\\\nepali_notetaker_project\\\\nepali_notetaker_package\\\\DataSet\\\\asr_nepali_0\\\\asr_nepali\\\\data\\\\00\\\\005c147b66.flac'\n",
      "d:\\nepali_notetaker_project\\nepali_notetaker_package\\DataSet\\asr_nepali_0\\asr_nepali\\data\\00\\005c147b66.flac\n",
      "d:\\nepali_notetaker_project\\nepali_notetaker_package\\DataSet\\asr_nepali_0\\asr_nepali\\data\\00\\processed_wav\\005c147b66.wav\n",
      "'d:\\\\nepali_notetaker_project\\\\nepali_notetaker_package\\\\DataSet\\\\asr_nepali_0\\\\asr_nepali\\\\data\\\\00\\\\0055a267b0.flac'\n",
      "d:\\nepali_notetaker_project\\nepali_notetaker_package\\DataSet\\asr_nepali_0\\asr_nepali\\data\\00\\0055a267b0.flac\n",
      "d:\\nepali_notetaker_project\\nepali_notetaker_package\\DataSet\\asr_nepali_0\\asr_nepali\\data\\00\\processed_wav\\0055a267b0.wav\n"
     ]
    },
    {
     "name": "stderr",
     "output_type": "stream",
     "text": [
      " 34%|███▍      | 206/607 [00:51<01:18,  5.11it/s]"
     ]
    },
    {
     "name": "stdout",
     "output_type": "stream",
     "text": [
      "'d:\\\\nepali_notetaker_project\\\\nepali_notetaker_package\\\\DataSet\\\\asr_nepali_0\\\\asr_nepali\\\\data\\\\00\\\\003af8ec13.flac'\n",
      "d:\\nepali_notetaker_project\\nepali_notetaker_package\\DataSet\\asr_nepali_0\\asr_nepali\\data\\00\\003af8ec13.flac\n",
      "d:\\nepali_notetaker_project\\nepali_notetaker_package\\DataSet\\asr_nepali_0\\asr_nepali\\data\\00\\processed_wav\\003af8ec13.wav\n",
      "'d:\\\\nepali_notetaker_project\\\\nepali_notetaker_package\\\\DataSet\\\\asr_nepali_0\\\\asr_nepali\\\\data\\\\00\\\\0088aef87c.flac'\n",
      "d:\\nepali_notetaker_project\\nepali_notetaker_package\\DataSet\\asr_nepali_0\\asr_nepali\\data\\00\\0088aef87c.flac\n",
      "d:\\nepali_notetaker_project\\nepali_notetaker_package\\DataSet\\asr_nepali_0\\asr_nepali\\data\\00\\processed_wav\\0088aef87c.wav\n"
     ]
    },
    {
     "name": "stderr",
     "output_type": "stream",
     "text": [
      " 34%|███▍      | 207/607 [00:51<01:23,  4.81it/s]"
     ]
    },
    {
     "name": "stdout",
     "output_type": "stream",
     "text": [
      "'d:\\\\nepali_notetaker_project\\\\nepali_notetaker_package\\\\DataSet\\\\asr_nepali_0\\\\asr_nepali\\\\data\\\\00\\\\00cf0bb7fc.flac'\n",
      "d:\\nepali_notetaker_project\\nepali_notetaker_package\\DataSet\\asr_nepali_0\\asr_nepali\\data\\00\\00cf0bb7fc.flac\n",
      "d:\\nepali_notetaker_project\\nepali_notetaker_package\\DataSet\\asr_nepali_0\\asr_nepali\\data\\00\\processed_wav\\00cf0bb7fc.wav\n"
     ]
    },
    {
     "name": "stderr",
     "output_type": "stream",
     "text": [
      " 34%|███▍      | 208/607 [00:51<01:27,  4.57it/s]"
     ]
    },
    {
     "name": "stdout",
     "output_type": "stream",
     "text": [
      "'d:\\\\nepali_notetaker_project\\\\nepali_notetaker_package\\\\DataSet\\\\asr_nepali_0\\\\asr_nepali\\\\data\\\\00\\\\00ba7a800e.flac'\n",
      "d:\\nepali_notetaker_project\\nepali_notetaker_package\\DataSet\\asr_nepali_0\\asr_nepali\\data\\00\\00ba7a800e.flac\n",
      "d:\\nepali_notetaker_project\\nepali_notetaker_package\\DataSet\\asr_nepali_0\\asr_nepali\\data\\00\\processed_wav\\00ba7a800e.wav\n"
     ]
    },
    {
     "name": "stderr",
     "output_type": "stream",
     "text": [
      " 35%|███▍      | 210/607 [00:51<01:22,  4.84it/s]"
     ]
    },
    {
     "name": "stdout",
     "output_type": "stream",
     "text": [
      "'d:\\\\nepali_notetaker_project\\\\nepali_notetaker_package\\\\DataSet\\\\asr_nepali_0\\\\asr_nepali\\\\data\\\\00\\\\00af9d0ddc.flac'\n",
      "d:\\nepali_notetaker_project\\nepali_notetaker_package\\DataSet\\asr_nepali_0\\asr_nepali\\data\\00\\00af9d0ddc.flac\n",
      "d:\\nepali_notetaker_project\\nepali_notetaker_package\\DataSet\\asr_nepali_0\\asr_nepali\\data\\00\\processed_wav\\00af9d0ddc.wav\n"
     ]
    },
    {
     "name": "stderr",
     "output_type": "stream",
     "text": [
      " 35%|███▍      | 211/607 [00:52<01:16,  5.15it/s]"
     ]
    },
    {
     "name": "stdout",
     "output_type": "stream",
     "text": [
      "'d:\\\\nepali_notetaker_project\\\\nepali_notetaker_package\\\\DataSet\\\\asr_nepali_0\\\\asr_nepali\\\\data\\\\00\\\\003ac759fb.flac'\n",
      "d:\\nepali_notetaker_project\\nepali_notetaker_package\\DataSet\\asr_nepali_0\\asr_nepali\\data\\00\\003ac759fb.flac\n",
      "d:\\nepali_notetaker_project\\nepali_notetaker_package\\DataSet\\asr_nepali_0\\asr_nepali\\data\\00\\processed_wav\\003ac759fb.wav\n",
      "'d:\\\\nepali_notetaker_project\\\\nepali_notetaker_package\\\\DataSet\\\\asr_nepali_0\\\\asr_nepali\\\\data\\\\00\\\\0074941145.flac'\n",
      "d:\\nepali_notetaker_project\\nepali_notetaker_package\\DataSet\\asr_nepali_0\\asr_nepali\\data\\00\\0074941145.flac\n",
      "d:\\nepali_notetaker_project\\nepali_notetaker_package\\DataSet\\asr_nepali_0\\asr_nepali\\data\\00\\processed_wav\\0074941145.wav\n"
     ]
    },
    {
     "name": "stderr",
     "output_type": "stream",
     "text": [
      " 35%|███▍      | 212/607 [00:52<01:35,  4.14it/s]"
     ]
    },
    {
     "name": "stdout",
     "output_type": "stream",
     "text": [
      "'d:\\\\nepali_notetaker_project\\\\nepali_notetaker_package\\\\DataSet\\\\asr_nepali_0\\\\asr_nepali\\\\data\\\\00\\\\008baab1ad.flac'\n",
      "d:\\nepali_notetaker_project\\nepali_notetaker_package\\DataSet\\asr_nepali_0\\asr_nepali\\data\\00\\008baab1ad.flac\n",
      "d:\\nepali_notetaker_project\\nepali_notetaker_package\\DataSet\\asr_nepali_0\\asr_nepali\\data\\00\\processed_wav\\008baab1ad.wav\n"
     ]
    },
    {
     "name": "stderr",
     "output_type": "stream",
     "text": [
      " 35%|███▌      | 213/607 [00:52<01:39,  3.97it/s]"
     ]
    },
    {
     "name": "stdout",
     "output_type": "stream",
     "text": [
      "'d:\\\\nepali_notetaker_project\\\\nepali_notetaker_package\\\\DataSet\\\\asr_nepali_0\\\\asr_nepali\\\\data\\\\00\\\\00fc408124.flac'\n",
      "d:\\nepali_notetaker_project\\nepali_notetaker_package\\DataSet\\asr_nepali_0\\asr_nepali\\data\\00\\00fc408124.flac\n",
      "d:\\nepali_notetaker_project\\nepali_notetaker_package\\DataSet\\asr_nepali_0\\asr_nepali\\data\\00\\processed_wav\\00fc408124.wav\n"
     ]
    },
    {
     "name": "stderr",
     "output_type": "stream",
     "text": [
      " 35%|███▌      | 214/607 [00:53<01:41,  3.89it/s]"
     ]
    },
    {
     "name": "stdout",
     "output_type": "stream",
     "text": [
      "'d:\\\\nepali_notetaker_project\\\\nepali_notetaker_package\\\\DataSet\\\\asr_nepali_0\\\\asr_nepali\\\\data\\\\00\\\\0010c24b61.flac'\n",
      "d:\\nepali_notetaker_project\\nepali_notetaker_package\\DataSet\\asr_nepali_0\\asr_nepali\\data\\00\\0010c24b61.flac\n",
      "d:\\nepali_notetaker_project\\nepali_notetaker_package\\DataSet\\asr_nepali_0\\asr_nepali\\data\\00\\processed_wav\\0010c24b61.wav\n"
     ]
    },
    {
     "name": "stderr",
     "output_type": "stream",
     "text": [
      " 36%|███▌      | 216/607 [00:53<01:31,  4.26it/s]"
     ]
    },
    {
     "name": "stdout",
     "output_type": "stream",
     "text": [
      "'d:\\\\nepali_notetaker_project\\\\nepali_notetaker_package\\\\DataSet\\\\asr_nepali_0\\\\asr_nepali\\\\data\\\\00\\\\00133a9876.flac'\n",
      "d:\\nepali_notetaker_project\\nepali_notetaker_package\\DataSet\\asr_nepali_0\\asr_nepali\\data\\00\\00133a9876.flac\n",
      "d:\\nepali_notetaker_project\\nepali_notetaker_package\\DataSet\\asr_nepali_0\\asr_nepali\\data\\00\\processed_wav\\00133a9876.wav\n"
     ]
    },
    {
     "name": "stderr",
     "output_type": "stream",
     "text": [
      " 36%|███▌      | 217/607 [00:53<01:26,  4.49it/s]"
     ]
    },
    {
     "name": "stdout",
     "output_type": "stream",
     "text": [
      "'d:\\\\nepali_notetaker_project\\\\nepali_notetaker_package\\\\DataSet\\\\asr_nepali_0\\\\asr_nepali\\\\data\\\\00\\\\0081e89880.flac'\n",
      "d:\\nepali_notetaker_project\\nepali_notetaker_package\\DataSet\\asr_nepali_0\\asr_nepali\\data\\00\\0081e89880.flac\n",
      "d:\\nepali_notetaker_project\\nepali_notetaker_package\\DataSet\\asr_nepali_0\\asr_nepali\\data\\00\\processed_wav\\0081e89880.wav\n",
      "'d:\\\\nepali_notetaker_project\\\\nepali_notetaker_package\\\\DataSet\\\\asr_nepali_0\\\\asr_nepali\\\\data\\\\00\\\\00aaa9c769.flac'\n",
      "d:\\nepali_notetaker_project\\nepali_notetaker_package\\DataSet\\asr_nepali_0\\asr_nepali\\data\\00\\00aaa9c769.flac\n",
      "d:\\nepali_notetaker_project\\nepali_notetaker_package\\DataSet\\asr_nepali_0\\asr_nepali\\data\\00\\processed_wav\\00aaa9c769.wav\n"
     ]
    },
    {
     "name": "stderr",
     "output_type": "stream",
     "text": [
      " 36%|███▌      | 218/607 [00:53<01:34,  4.12it/s]"
     ]
    },
    {
     "name": "stdout",
     "output_type": "stream",
     "text": [
      "'d:\\\\nepali_notetaker_project\\\\nepali_notetaker_package\\\\DataSet\\\\asr_nepali_0\\\\asr_nepali\\\\data\\\\00\\\\00597752e4.flac'\n",
      "d:\\nepali_notetaker_project\\nepali_notetaker_package\\DataSet\\asr_nepali_0\\asr_nepali\\data\\00\\00597752e4.flac\n",
      "d:\\nepali_notetaker_project\\nepali_notetaker_package\\DataSet\\asr_nepali_0\\asr_nepali\\data\\00\\processed_wav\\00597752e4.wav\n"
     ]
    },
    {
     "name": "stderr",
     "output_type": "stream",
     "text": [
      " 36%|███▌      | 220/607 [00:54<01:27,  4.42it/s]"
     ]
    },
    {
     "name": "stdout",
     "output_type": "stream",
     "text": [
      "'d:\\\\nepali_notetaker_project\\\\nepali_notetaker_package\\\\DataSet\\\\asr_nepali_0\\\\asr_nepali\\\\data\\\\00\\\\00d614aa66.flac'\n",
      "d:\\nepali_notetaker_project\\nepali_notetaker_package\\DataSet\\asr_nepali_0\\asr_nepali\\data\\00\\00d614aa66.flac\n",
      "d:\\nepali_notetaker_project\\nepali_notetaker_package\\DataSet\\asr_nepali_0\\asr_nepali\\data\\00\\processed_wav\\00d614aa66.wav\n"
     ]
    },
    {
     "name": "stderr",
     "output_type": "stream",
     "text": [
      " 36%|███▋      | 221/607 [00:54<01:23,  4.65it/s]"
     ]
    },
    {
     "name": "stdout",
     "output_type": "stream",
     "text": [
      "'d:\\\\nepali_notetaker_project\\\\nepali_notetaker_package\\\\DataSet\\\\asr_nepali_0\\\\asr_nepali\\\\data\\\\00\\\\00acf6af98.flac'\n",
      "d:\\nepali_notetaker_project\\nepali_notetaker_package\\DataSet\\asr_nepali_0\\asr_nepali\\data\\00\\00acf6af98.flac\n",
      "d:\\nepali_notetaker_project\\nepali_notetaker_package\\DataSet\\asr_nepali_0\\asr_nepali\\data\\00\\processed_wav\\00acf6af98.wav\n"
     ]
    },
    {
     "name": "stderr",
     "output_type": "stream",
     "text": [
      " 37%|███▋      | 222/607 [00:54<01:18,  4.92it/s]"
     ]
    },
    {
     "name": "stdout",
     "output_type": "stream",
     "text": [
      "'d:\\\\nepali_notetaker_project\\\\nepali_notetaker_package\\\\DataSet\\\\asr_nepali_0\\\\asr_nepali\\\\data\\\\00\\\\007dc08844.flac'\n",
      "d:\\nepali_notetaker_project\\nepali_notetaker_package\\DataSet\\asr_nepali_0\\asr_nepali\\data\\00\\007dc08844.flac\n",
      "d:\\nepali_notetaker_project\\nepali_notetaker_package\\DataSet\\asr_nepali_0\\asr_nepali\\data\\00\\processed_wav\\007dc08844.wav\n",
      "'d:\\\\nepali_notetaker_project\\\\nepali_notetaker_package\\\\DataSet\\\\asr_nepali_0\\\\asr_nepali\\\\data\\\\00\\\\002c0b500c.flac'\n",
      "d:\\nepali_notetaker_project\\nepali_notetaker_package\\DataSet\\asr_nepali_0\\asr_nepali\\data\\00\\002c0b500c.flac\n",
      "d:\\nepali_notetaker_project\\nepali_notetaker_package\\DataSet\\asr_nepali_0\\asr_nepali\\data\\00\\processed_wav\\002c0b500c.wav\n"
     ]
    },
    {
     "name": "stderr",
     "output_type": "stream",
     "text": [
      " 37%|███▋      | 223/607 [00:54<01:18,  4.91it/s]"
     ]
    },
    {
     "name": "stdout",
     "output_type": "stream",
     "text": [
      "'d:\\\\nepali_notetaker_project\\\\nepali_notetaker_package\\\\DataSet\\\\asr_nepali_0\\\\asr_nepali\\\\data\\\\00\\\\00542a36b2.flac'\n",
      "d:\\nepali_notetaker_project\\nepali_notetaker_package\\DataSet\\asr_nepali_0\\asr_nepali\\data\\00\\00542a36b2.flac\n",
      "d:\\nepali_notetaker_project\\nepali_notetaker_package\\DataSet\\asr_nepali_0\\asr_nepali\\data\\00\\processed_wav\\00542a36b2.wav\n"
     ]
    },
    {
     "name": "stderr",
     "output_type": "stream",
     "text": [
      " 37%|███▋      | 225/607 [00:55<01:19,  4.81it/s]"
     ]
    },
    {
     "name": "stdout",
     "output_type": "stream",
     "text": [
      "'d:\\\\nepali_notetaker_project\\\\nepali_notetaker_package\\\\DataSet\\\\asr_nepali_0\\\\asr_nepali\\\\data\\\\00\\\\009f53f0a8.flac'\n",
      "d:\\nepali_notetaker_project\\nepali_notetaker_package\\DataSet\\asr_nepali_0\\asr_nepali\\data\\00\\009f53f0a8.flac\n",
      "d:\\nepali_notetaker_project\\nepali_notetaker_package\\DataSet\\asr_nepali_0\\asr_nepali\\data\\00\\processed_wav\\009f53f0a8.wav\n"
     ]
    },
    {
     "name": "stderr",
     "output_type": "stream",
     "text": [
      " 37%|███▋      | 226/607 [00:55<01:17,  4.93it/s]"
     ]
    },
    {
     "name": "stdout",
     "output_type": "stream",
     "text": [
      "'d:\\\\nepali_notetaker_project\\\\nepali_notetaker_package\\\\DataSet\\\\asr_nepali_0\\\\asr_nepali\\\\data\\\\00\\\\00c0636c06.flac'\n",
      "d:\\nepali_notetaker_project\\nepali_notetaker_package\\DataSet\\asr_nepali_0\\asr_nepali\\data\\00\\00c0636c06.flac\n",
      "d:\\nepali_notetaker_project\\nepali_notetaker_package\\DataSet\\asr_nepali_0\\asr_nepali\\data\\00\\processed_wav\\00c0636c06.wav\n"
     ]
    },
    {
     "name": "stderr",
     "output_type": "stream",
     "text": [
      " 37%|███▋      | 227/607 [00:55<01:17,  4.91it/s]"
     ]
    },
    {
     "name": "stdout",
     "output_type": "stream",
     "text": [
      "'d:\\\\nepali_notetaker_project\\\\nepali_notetaker_package\\\\DataSet\\\\asr_nepali_0\\\\asr_nepali\\\\data\\\\00\\\\00ee96117b.flac'\n",
      "d:\\nepali_notetaker_project\\nepali_notetaker_package\\DataSet\\asr_nepali_0\\asr_nepali\\data\\00\\00ee96117b.flac\n",
      "d:\\nepali_notetaker_project\\nepali_notetaker_package\\DataSet\\asr_nepali_0\\asr_nepali\\data\\00\\processed_wav\\00ee96117b.wav\n",
      "'d:\\\\nepali_notetaker_project\\\\nepali_notetaker_package\\\\DataSet\\\\asr_nepali_0\\\\asr_nepali\\\\data\\\\00\\\\009aada553.flac'\n",
      "d:\\nepali_notetaker_project\\nepali_notetaker_package\\DataSet\\asr_nepali_0\\asr_nepali\\data\\00\\009aada553.flac\n",
      "d:\\nepali_notetaker_project\\nepali_notetaker_package\\DataSet\\asr_nepali_0\\asr_nepali\\data\\00\\processed_wav\\009aada553.wav\n"
     ]
    },
    {
     "name": "stderr",
     "output_type": "stream",
     "text": [
      " 38%|███▊      | 229/607 [00:56<01:13,  5.12it/s]"
     ]
    },
    {
     "name": "stdout",
     "output_type": "stream",
     "text": [
      "'d:\\\\nepali_notetaker_project\\\\nepali_notetaker_package\\\\DataSet\\\\asr_nepali_0\\\\asr_nepali\\\\data\\\\00\\\\009a9a44aa.flac'\n",
      "d:\\nepali_notetaker_project\\nepali_notetaker_package\\DataSet\\asr_nepali_0\\asr_nepali\\data\\00\\009a9a44aa.flac\n",
      "d:\\nepali_notetaker_project\\nepali_notetaker_package\\DataSet\\asr_nepali_0\\asr_nepali\\data\\00\\processed_wav\\009a9a44aa.wav\n",
      "'d:\\\\nepali_notetaker_project\\\\nepali_notetaker_package\\\\DataSet\\\\asr_nepali_0\\\\asr_nepali\\\\data\\\\00\\\\005b4bae5d.flac'\n",
      "d:\\nepali_notetaker_project\\nepali_notetaker_package\\DataSet\\asr_nepali_0\\asr_nepali\\data\\00\\005b4bae5d.flac\n",
      "d:\\nepali_notetaker_project\\nepali_notetaker_package\\DataSet\\asr_nepali_0\\asr_nepali\\data\\00\\processed_wav\\005b4bae5d.wav\n"
     ]
    },
    {
     "name": "stderr",
     "output_type": "stream",
     "text": [
      " 38%|███▊      | 230/607 [00:56<01:18,  4.83it/s]"
     ]
    },
    {
     "name": "stdout",
     "output_type": "stream",
     "text": [
      "'d:\\\\nepali_notetaker_project\\\\nepali_notetaker_package\\\\DataSet\\\\asr_nepali_0\\\\asr_nepali\\\\data\\\\00\\\\00d35c6835.flac'\n",
      "d:\\nepali_notetaker_project\\nepali_notetaker_package\\DataSet\\asr_nepali_0\\asr_nepali\\data\\00\\00d35c6835.flac\n",
      "d:\\nepali_notetaker_project\\nepali_notetaker_package\\DataSet\\asr_nepali_0\\asr_nepali\\data\\00\\processed_wav\\00d35c6835.wav\n"
     ]
    },
    {
     "name": "stderr",
     "output_type": "stream",
     "text": [
      " 38%|███▊      | 232/607 [00:56<01:15,  4.95it/s]"
     ]
    },
    {
     "name": "stdout",
     "output_type": "stream",
     "text": [
      "'d:\\\\nepali_notetaker_project\\\\nepali_notetaker_package\\\\DataSet\\\\asr_nepali_0\\\\asr_nepali\\\\data\\\\00\\\\001f81eeec.flac'\n",
      "d:\\nepali_notetaker_project\\nepali_notetaker_package\\DataSet\\asr_nepali_0\\asr_nepali\\data\\00\\001f81eeec.flac\n",
      "d:\\nepali_notetaker_project\\nepali_notetaker_package\\DataSet\\asr_nepali_0\\asr_nepali\\data\\00\\processed_wav\\001f81eeec.wav\n",
      "'d:\\\\nepali_notetaker_project\\\\nepali_notetaker_package\\\\DataSet\\\\asr_nepali_0\\\\asr_nepali\\\\data\\\\00\\\\0018ff05ca.flac'\n",
      "d:\\nepali_notetaker_project\\nepali_notetaker_package\\DataSet\\asr_nepali_0\\asr_nepali\\data\\00\\0018ff05ca.flac\n",
      "d:\\nepali_notetaker_project\\nepali_notetaker_package\\DataSet\\asr_nepali_0\\asr_nepali\\data\\00\\processed_wav\\0018ff05ca.wav\n"
     ]
    },
    {
     "name": "stderr",
     "output_type": "stream",
     "text": [
      " 39%|███▊      | 234/607 [00:57<01:11,  5.25it/s]"
     ]
    },
    {
     "name": "stdout",
     "output_type": "stream",
     "text": [
      "'d:\\\\nepali_notetaker_project\\\\nepali_notetaker_package\\\\DataSet\\\\asr_nepali_0\\\\asr_nepali\\\\data\\\\00\\\\00653ad703.flac'\n",
      "d:\\nepali_notetaker_project\\nepali_notetaker_package\\DataSet\\asr_nepali_0\\asr_nepali\\data\\00\\00653ad703.flac\n",
      "d:\\nepali_notetaker_project\\nepali_notetaker_package\\DataSet\\asr_nepali_0\\asr_nepali\\data\\00\\processed_wav\\00653ad703.wav\n"
     ]
    },
    {
     "name": "stderr",
     "output_type": "stream",
     "text": [
      " 39%|███▊      | 235/607 [00:57<01:09,  5.37it/s]"
     ]
    },
    {
     "name": "stdout",
     "output_type": "stream",
     "text": [
      "'d:\\\\nepali_notetaker_project\\\\nepali_notetaker_package\\\\DataSet\\\\asr_nepali_0\\\\asr_nepali\\\\data\\\\00\\\\00bfc01fdb.flac'\n",
      "d:\\nepali_notetaker_project\\nepali_notetaker_package\\DataSet\\asr_nepali_0\\asr_nepali\\data\\00\\00bfc01fdb.flac\n",
      "d:\\nepali_notetaker_project\\nepali_notetaker_package\\DataSet\\asr_nepali_0\\asr_nepali\\data\\00\\processed_wav\\00bfc01fdb.wav\n",
      "'d:\\\\nepali_notetaker_project\\\\nepali_notetaker_package\\\\DataSet\\\\asr_nepali_0\\\\asr_nepali\\\\data\\\\00\\\\00be9fbd9c.flac'\n",
      "d:\\nepali_notetaker_project\\nepali_notetaker_package\\DataSet\\asr_nepali_0\\asr_nepali\\data\\00\\00be9fbd9c.flac\n",
      "d:\\nepali_notetaker_project\\nepali_notetaker_package\\DataSet\\asr_nepali_0\\asr_nepali\\data\\00\\processed_wav\\00be9fbd9c.wav\n"
     ]
    },
    {
     "name": "stderr",
     "output_type": "stream",
     "text": [
      " 39%|███▉      | 236/607 [00:57<01:05,  5.64it/s]"
     ]
    },
    {
     "name": "stdout",
     "output_type": "stream",
     "text": [
      "'d:\\\\nepali_notetaker_project\\\\nepali_notetaker_package\\\\DataSet\\\\asr_nepali_0\\\\asr_nepali\\\\data\\\\00\\\\0042fe1a44.flac'\n",
      "d:\\nepali_notetaker_project\\nepali_notetaker_package\\DataSet\\asr_nepali_0\\asr_nepali\\data\\00\\0042fe1a44.flac\n",
      "d:\\nepali_notetaker_project\\nepali_notetaker_package\\DataSet\\asr_nepali_0\\asr_nepali\\data\\00\\processed_wav\\0042fe1a44.wav\n"
     ]
    },
    {
     "name": "stderr",
     "output_type": "stream",
     "text": [
      " 39%|███▉      | 238/607 [00:57<01:10,  5.26it/s]"
     ]
    },
    {
     "name": "stdout",
     "output_type": "stream",
     "text": [
      "'d:\\\\nepali_notetaker_project\\\\nepali_notetaker_package\\\\DataSet\\\\asr_nepali_0\\\\asr_nepali\\\\data\\\\00\\\\000414cbb9.flac'\n",
      "d:\\nepali_notetaker_project\\nepali_notetaker_package\\DataSet\\asr_nepali_0\\asr_nepali\\data\\00\\000414cbb9.flac\n",
      "d:\\nepali_notetaker_project\\nepali_notetaker_package\\DataSet\\asr_nepali_0\\asr_nepali\\data\\00\\processed_wav\\000414cbb9.wav\n"
     ]
    },
    {
     "name": "stderr",
     "output_type": "stream",
     "text": [
      " 39%|███▉      | 239/607 [00:58<01:10,  5.21it/s]"
     ]
    },
    {
     "name": "stdout",
     "output_type": "stream",
     "text": [
      "'d:\\\\nepali_notetaker_project\\\\nepali_notetaker_package\\\\DataSet\\\\asr_nepali_0\\\\asr_nepali\\\\data\\\\00\\\\008eb9a190.flac'\n",
      "d:\\nepali_notetaker_project\\nepali_notetaker_package\\DataSet\\asr_nepali_0\\asr_nepali\\data\\00\\008eb9a190.flac\n",
      "d:\\nepali_notetaker_project\\nepali_notetaker_package\\DataSet\\asr_nepali_0\\asr_nepali\\data\\00\\processed_wav\\008eb9a190.wav\n"
     ]
    },
    {
     "name": "stderr",
     "output_type": "stream",
     "text": [
      " 40%|███▉      | 240/607 [00:58<01:08,  5.38it/s]"
     ]
    },
    {
     "name": "stdout",
     "output_type": "stream",
     "text": [
      "'d:\\\\nepali_notetaker_project\\\\nepali_notetaker_package\\\\DataSet\\\\asr_nepali_0\\\\asr_nepali\\\\data\\\\00\\\\005fb17f2b.flac'\n",
      "d:\\nepali_notetaker_project\\nepali_notetaker_package\\DataSet\\asr_nepali_0\\asr_nepali\\data\\00\\005fb17f2b.flac\n",
      "d:\\nepali_notetaker_project\\nepali_notetaker_package\\DataSet\\asr_nepali_0\\asr_nepali\\data\\00\\processed_wav\\005fb17f2b.wav\n",
      "'d:\\\\nepali_notetaker_project\\\\nepali_notetaker_package\\\\DataSet\\\\asr_nepali_0\\\\asr_nepali\\\\data\\\\00\\\\003017eaca.flac'\n",
      "d:\\nepali_notetaker_project\\nepali_notetaker_package\\DataSet\\asr_nepali_0\\asr_nepali\\data\\00\\003017eaca.flac\n",
      "d:\\nepali_notetaker_project\\nepali_notetaker_package\\DataSet\\asr_nepali_0\\asr_nepali\\data\\00\\processed_wav\\003017eaca.wav\n"
     ]
    },
    {
     "name": "stderr",
     "output_type": "stream",
     "text": [
      " 40%|███▉      | 242/607 [00:58<01:06,  5.45it/s]"
     ]
    },
    {
     "name": "stdout",
     "output_type": "stream",
     "text": [
      "'d:\\\\nepali_notetaker_project\\\\nepali_notetaker_package\\\\DataSet\\\\asr_nepali_0\\\\asr_nepali\\\\data\\\\00\\\\00d1f92026.flac'\n",
      "d:\\nepali_notetaker_project\\nepali_notetaker_package\\DataSet\\asr_nepali_0\\asr_nepali\\data\\00\\00d1f92026.flac\n",
      "d:\\nepali_notetaker_project\\nepali_notetaker_package\\DataSet\\asr_nepali_0\\asr_nepali\\data\\00\\processed_wav\\00d1f92026.wav\n",
      "'d:\\\\nepali_notetaker_project\\\\nepali_notetaker_package\\\\DataSet\\\\asr_nepali_0\\\\asr_nepali\\\\data\\\\00\\\\00abc8f067.flac'\n",
      "d:\\nepali_notetaker_project\\nepali_notetaker_package\\DataSet\\asr_nepali_0\\asr_nepali\\data\\00\\00abc8f067.flac\n",
      "d:\\nepali_notetaker_project\\nepali_notetaker_package\\DataSet\\asr_nepali_0\\asr_nepali\\data\\00\\processed_wav\\00abc8f067.wav\n"
     ]
    },
    {
     "name": "stderr",
     "output_type": "stream",
     "text": [
      " 40%|████      | 244/607 [00:58<01:05,  5.54it/s]"
     ]
    },
    {
     "name": "stdout",
     "output_type": "stream",
     "text": [
      "'d:\\\\nepali_notetaker_project\\\\nepali_notetaker_package\\\\DataSet\\\\asr_nepali_0\\\\asr_nepali\\\\data\\\\00\\\\00a4929082.flac'\n",
      "d:\\nepali_notetaker_project\\nepali_notetaker_package\\DataSet\\asr_nepali_0\\asr_nepali\\data\\00\\00a4929082.flac\n",
      "d:\\nepali_notetaker_project\\nepali_notetaker_package\\DataSet\\asr_nepali_0\\asr_nepali\\data\\00\\processed_wav\\00a4929082.wav\n"
     ]
    },
    {
     "name": "stderr",
     "output_type": "stream",
     "text": [
      " 40%|████      | 245/607 [00:59<01:05,  5.53it/s]"
     ]
    },
    {
     "name": "stdout",
     "output_type": "stream",
     "text": [
      "'d:\\\\nepali_notetaker_project\\\\nepali_notetaker_package\\\\DataSet\\\\asr_nepali_0\\\\asr_nepali\\\\data\\\\00\\\\00ea995040.flac'\n",
      "d:\\nepali_notetaker_project\\nepali_notetaker_package\\DataSet\\asr_nepali_0\\asr_nepali\\data\\00\\00ea995040.flac\n",
      "d:\\nepali_notetaker_project\\nepali_notetaker_package\\DataSet\\asr_nepali_0\\asr_nepali\\data\\00\\processed_wav\\00ea995040.wav\n",
      "'d:\\\\nepali_notetaker_project\\\\nepali_notetaker_package\\\\DataSet\\\\asr_nepali_0\\\\asr_nepali\\\\data\\\\00\\\\00ac6e8c9c.flac'\n",
      "d:\\nepali_notetaker_project\\nepali_notetaker_package\\DataSet\\asr_nepali_0\\asr_nepali\\data\\00\\00ac6e8c9c.flac\n",
      "d:\\nepali_notetaker_project\\nepali_notetaker_package\\DataSet\\asr_nepali_0\\asr_nepali\\data\\00\\processed_wav\\00ac6e8c9c.wav\n"
     ]
    },
    {
     "name": "stderr",
     "output_type": "stream",
     "text": [
      " 41%|████      | 247/607 [00:59<01:05,  5.52it/s]"
     ]
    },
    {
     "name": "stdout",
     "output_type": "stream",
     "text": [
      "'d:\\\\nepali_notetaker_project\\\\nepali_notetaker_package\\\\DataSet\\\\asr_nepali_0\\\\asr_nepali\\\\data\\\\00\\\\00e1e3afa9.flac'\n",
      "d:\\nepali_notetaker_project\\nepali_notetaker_package\\DataSet\\asr_nepali_0\\asr_nepali\\data\\00\\00e1e3afa9.flac\n",
      "d:\\nepali_notetaker_project\\nepali_notetaker_package\\DataSet\\asr_nepali_0\\asr_nepali\\data\\00\\processed_wav\\00e1e3afa9.wav\n"
     ]
    },
    {
     "name": "stderr",
     "output_type": "stream",
     "text": [
      " 41%|████      | 248/607 [00:59<01:04,  5.60it/s]"
     ]
    },
    {
     "name": "stdout",
     "output_type": "stream",
     "text": [
      "'d:\\\\nepali_notetaker_project\\\\nepali_notetaker_package\\\\DataSet\\\\asr_nepali_0\\\\asr_nepali\\\\data\\\\00\\\\0096b358b5.flac'\n",
      "d:\\nepali_notetaker_project\\nepali_notetaker_package\\DataSet\\asr_nepali_0\\asr_nepali\\data\\00\\0096b358b5.flac\n",
      "d:\\nepali_notetaker_project\\nepali_notetaker_package\\DataSet\\asr_nepali_0\\asr_nepali\\data\\00\\processed_wav\\0096b358b5.wav\n",
      "'d:\\\\nepali_notetaker_project\\\\nepali_notetaker_package\\\\DataSet\\\\asr_nepali_0\\\\asr_nepali\\\\data\\\\00\\\\00ec1daed1.flac'\n",
      "d:\\nepali_notetaker_project\\nepali_notetaker_package\\DataSet\\asr_nepali_0\\asr_nepali\\data\\00\\00ec1daed1.flac\n",
      "d:\\nepali_notetaker_project\\nepali_notetaker_package\\DataSet\\asr_nepali_0\\asr_nepali\\data\\00\\processed_wav\\00ec1daed1.wav\n"
     ]
    },
    {
     "name": "stderr",
     "output_type": "stream",
     "text": [
      " 41%|████      | 249/607 [00:59<01:03,  5.61it/s]"
     ]
    },
    {
     "name": "stdout",
     "output_type": "stream",
     "text": [
      "'d:\\\\nepali_notetaker_project\\\\nepali_notetaker_package\\\\DataSet\\\\asr_nepali_0\\\\asr_nepali\\\\data\\\\00\\\\005e9b6303.flac'\n",
      "d:\\nepali_notetaker_project\\nepali_notetaker_package\\DataSet\\asr_nepali_0\\asr_nepali\\data\\00\\005e9b6303.flac\n",
      "d:\\nepali_notetaker_project\\nepali_notetaker_package\\DataSet\\asr_nepali_0\\asr_nepali\\data\\00\\processed_wav\\005e9b6303.wav\n"
     ]
    },
    {
     "name": "stderr",
     "output_type": "stream",
     "text": [
      " 41%|████▏     | 251/607 [01:00<01:06,  5.32it/s]"
     ]
    },
    {
     "name": "stdout",
     "output_type": "stream",
     "text": [
      "'d:\\\\nepali_notetaker_project\\\\nepali_notetaker_package\\\\DataSet\\\\asr_nepali_0\\\\asr_nepali\\\\data\\\\00\\\\000dedf722.flac'\n",
      "d:\\nepali_notetaker_project\\nepali_notetaker_package\\DataSet\\asr_nepali_0\\asr_nepali\\data\\00\\000dedf722.flac\n",
      "d:\\nepali_notetaker_project\\nepali_notetaker_package\\DataSet\\asr_nepali_0\\asr_nepali\\data\\00\\processed_wav\\000dedf722.wav\n",
      "'d:\\\\nepali_notetaker_project\\\\nepali_notetaker_package\\\\DataSet\\\\asr_nepali_0\\\\asr_nepali\\\\data\\\\00\\\\0074bb98f0.flac'\n",
      "d:\\nepali_notetaker_project\\nepali_notetaker_package\\DataSet\\asr_nepali_0\\asr_nepali\\data\\00\\0074bb98f0.flac\n",
      "d:\\nepali_notetaker_project\\nepali_notetaker_package\\DataSet\\asr_nepali_0\\asr_nepali\\data\\00\\processed_wav\\0074bb98f0.wav\n"
     ]
    },
    {
     "name": "stderr",
     "output_type": "stream",
     "text": [
      " 42%|████▏     | 253/607 [01:00<01:06,  5.34it/s]"
     ]
    },
    {
     "name": "stdout",
     "output_type": "stream",
     "text": [
      "'d:\\\\nepali_notetaker_project\\\\nepali_notetaker_package\\\\DataSet\\\\asr_nepali_0\\\\asr_nepali\\\\data\\\\00\\\\004481c30d.flac'\n",
      "d:\\nepali_notetaker_project\\nepali_notetaker_package\\DataSet\\asr_nepali_0\\asr_nepali\\data\\00\\004481c30d.flac\n",
      "d:\\nepali_notetaker_project\\nepali_notetaker_package\\DataSet\\asr_nepali_0\\asr_nepali\\data\\00\\processed_wav\\004481c30d.wav\n"
     ]
    },
    {
     "name": "stderr",
     "output_type": "stream",
     "text": [
      " 42%|████▏     | 254/607 [01:00<01:03,  5.52it/s]"
     ]
    },
    {
     "name": "stdout",
     "output_type": "stream",
     "text": [
      "'d:\\\\nepali_notetaker_project\\\\nepali_notetaker_package\\\\DataSet\\\\asr_nepali_0\\\\asr_nepali\\\\data\\\\00\\\\00e6514d17.flac'\n",
      "d:\\nepali_notetaker_project\\nepali_notetaker_package\\DataSet\\asr_nepali_0\\asr_nepali\\data\\00\\00e6514d17.flac\n",
      "d:\\nepali_notetaker_project\\nepali_notetaker_package\\DataSet\\asr_nepali_0\\asr_nepali\\data\\00\\processed_wav\\00e6514d17.wav\n",
      "'d:\\\\nepali_notetaker_project\\\\nepali_notetaker_package\\\\DataSet\\\\asr_nepali_0\\\\asr_nepali\\\\data\\\\00\\\\0053a0b787.flac'\n",
      "d:\\nepali_notetaker_project\\nepali_notetaker_package\\DataSet\\asr_nepali_0\\asr_nepali\\data\\00\\0053a0b787.flac\n",
      "d:\\nepali_notetaker_project\\nepali_notetaker_package\\DataSet\\asr_nepali_0\\asr_nepali\\data\\00\\processed_wav\\0053a0b787.wav\n"
     ]
    },
    {
     "name": "stderr",
     "output_type": "stream",
     "text": [
      " 42%|████▏     | 256/607 [01:01<01:02,  5.60it/s]"
     ]
    },
    {
     "name": "stdout",
     "output_type": "stream",
     "text": [
      "'d:\\\\nepali_notetaker_project\\\\nepali_notetaker_package\\\\DataSet\\\\asr_nepali_0\\\\asr_nepali\\\\data\\\\00\\\\00024e9ee7.flac'\n",
      "d:\\nepali_notetaker_project\\nepali_notetaker_package\\DataSet\\asr_nepali_0\\asr_nepali\\data\\00\\00024e9ee7.flac\n",
      "d:\\nepali_notetaker_project\\nepali_notetaker_package\\DataSet\\asr_nepali_0\\asr_nepali\\data\\00\\processed_wav\\00024e9ee7.wav\n",
      "'d:\\\\nepali_notetaker_project\\\\nepali_notetaker_package\\\\DataSet\\\\asr_nepali_0\\\\asr_nepali\\\\data\\\\00\\\\001907805e.flac'\n",
      "d:\\nepali_notetaker_project\\nepali_notetaker_package\\DataSet\\asr_nepali_0\\asr_nepali\\data\\00\\001907805e.flac\n",
      "d:\\nepali_notetaker_project\\nepali_notetaker_package\\DataSet\\asr_nepali_0\\asr_nepali\\data\\00\\processed_wav\\001907805e.wav\n"
     ]
    },
    {
     "name": "stderr",
     "output_type": "stream",
     "text": [
      " 42%|████▏     | 257/607 [01:01<01:05,  5.31it/s]"
     ]
    },
    {
     "name": "stdout",
     "output_type": "stream",
     "text": [
      "'d:\\\\nepali_notetaker_project\\\\nepali_notetaker_package\\\\DataSet\\\\asr_nepali_0\\\\asr_nepali\\\\data\\\\00\\\\0051a6b535.flac'\n",
      "d:\\nepali_notetaker_project\\nepali_notetaker_package\\DataSet\\asr_nepali_0\\asr_nepali\\data\\00\\0051a6b535.flac\n",
      "d:\\nepali_notetaker_project\\nepali_notetaker_package\\DataSet\\asr_nepali_0\\asr_nepali\\data\\00\\processed_wav\\0051a6b535.wav\n"
     ]
    },
    {
     "name": "stderr",
     "output_type": "stream",
     "text": [
      " 43%|████▎     | 258/607 [01:01<01:12,  4.84it/s]"
     ]
    },
    {
     "name": "stdout",
     "output_type": "stream",
     "text": [
      "'d:\\\\nepali_notetaker_project\\\\nepali_notetaker_package\\\\DataSet\\\\asr_nepali_0\\\\asr_nepali\\\\data\\\\00\\\\000f91b35e.flac'\n",
      "d:\\nepali_notetaker_project\\nepali_notetaker_package\\DataSet\\asr_nepali_0\\asr_nepali\\data\\00\\000f91b35e.flac\n",
      "d:\\nepali_notetaker_project\\nepali_notetaker_package\\DataSet\\asr_nepali_0\\asr_nepali\\data\\00\\processed_wav\\000f91b35e.wav\n"
     ]
    },
    {
     "name": "stderr",
     "output_type": "stream",
     "text": [
      " 43%|████▎     | 260/607 [01:01<01:09,  4.99it/s]"
     ]
    },
    {
     "name": "stdout",
     "output_type": "stream",
     "text": [
      "'d:\\\\nepali_notetaker_project\\\\nepali_notetaker_package\\\\DataSet\\\\asr_nepali_0\\\\asr_nepali\\\\data\\\\00\\\\00fbda997e.flac'\n",
      "d:\\nepali_notetaker_project\\nepali_notetaker_package\\DataSet\\asr_nepali_0\\asr_nepali\\data\\00\\00fbda997e.flac\n",
      "d:\\nepali_notetaker_project\\nepali_notetaker_package\\DataSet\\asr_nepali_0\\asr_nepali\\data\\00\\processed_wav\\00fbda997e.wav\n"
     ]
    },
    {
     "name": "stderr",
     "output_type": "stream",
     "text": [
      " 43%|████▎     | 261/607 [01:02<01:08,  5.02it/s]"
     ]
    },
    {
     "name": "stdout",
     "output_type": "stream",
     "text": [
      "'d:\\\\nepali_notetaker_project\\\\nepali_notetaker_package\\\\DataSet\\\\asr_nepali_0\\\\asr_nepali\\\\data\\\\00\\\\00f0069f07.flac'\n",
      "d:\\nepali_notetaker_project\\nepali_notetaker_package\\DataSet\\asr_nepali_0\\asr_nepali\\data\\00\\00f0069f07.flac\n",
      "d:\\nepali_notetaker_project\\nepali_notetaker_package\\DataSet\\asr_nepali_0\\asr_nepali\\data\\00\\processed_wav\\00f0069f07.wav\n"
     ]
    },
    {
     "name": "stderr",
     "output_type": "stream",
     "text": [
      " 43%|████▎     | 262/607 [01:02<01:08,  5.05it/s]"
     ]
    },
    {
     "name": "stdout",
     "output_type": "stream",
     "text": [
      "'d:\\\\nepali_notetaker_project\\\\nepali_notetaker_package\\\\DataSet\\\\asr_nepali_0\\\\asr_nepali\\\\data\\\\00\\\\0050b10a01.flac'\n",
      "d:\\nepali_notetaker_project\\nepali_notetaker_package\\DataSet\\asr_nepali_0\\asr_nepali\\data\\00\\0050b10a01.flac\n",
      "d:\\nepali_notetaker_project\\nepali_notetaker_package\\DataSet\\asr_nepali_0\\asr_nepali\\data\\00\\processed_wav\\0050b10a01.wav\n"
     ]
    },
    {
     "name": "stderr",
     "output_type": "stream",
     "text": [
      " 43%|████▎     | 263/607 [01:02<01:04,  5.36it/s]"
     ]
    },
    {
     "name": "stdout",
     "output_type": "stream",
     "text": [
      "'d:\\\\nepali_notetaker_project\\\\nepali_notetaker_package\\\\DataSet\\\\asr_nepali_0\\\\asr_nepali\\\\data\\\\00\\\\008b58e75b.flac'\n",
      "d:\\nepali_notetaker_project\\nepali_notetaker_package\\DataSet\\asr_nepali_0\\asr_nepali\\data\\00\\008b58e75b.flac\n",
      "d:\\nepali_notetaker_project\\nepali_notetaker_package\\DataSet\\asr_nepali_0\\asr_nepali\\data\\00\\processed_wav\\008b58e75b.wav\n",
      "'d:\\\\nepali_notetaker_project\\\\nepali_notetaker_package\\\\DataSet\\\\asr_nepali_0\\\\asr_nepali\\\\data\\\\00\\\\007cac7ce2.flac'\n",
      "d:\\nepali_notetaker_project\\nepali_notetaker_package\\DataSet\\asr_nepali_0\\asr_nepali\\data\\00\\007cac7ce2.flac\n",
      "d:\\nepali_notetaker_project\\nepali_notetaker_package\\DataSet\\asr_nepali_0\\asr_nepali\\data\\00\\processed_wav\\007cac7ce2.wav\n"
     ]
    },
    {
     "name": "stderr",
     "output_type": "stream",
     "text": [
      " 44%|████▎     | 265/607 [01:02<01:03,  5.37it/s]"
     ]
    },
    {
     "name": "stdout",
     "output_type": "stream",
     "text": [
      "'d:\\\\nepali_notetaker_project\\\\nepali_notetaker_package\\\\DataSet\\\\asr_nepali_0\\\\asr_nepali\\\\data\\\\00\\\\00d54b3cf2.flac'\n",
      "d:\\nepali_notetaker_project\\nepali_notetaker_package\\DataSet\\asr_nepali_0\\asr_nepali\\data\\00\\00d54b3cf2.flac\n",
      "d:\\nepali_notetaker_project\\nepali_notetaker_package\\DataSet\\asr_nepali_0\\asr_nepali\\data\\00\\processed_wav\\00d54b3cf2.wav\n"
     ]
    },
    {
     "name": "stderr",
     "output_type": "stream",
     "text": [
      " 44%|████▍     | 266/607 [01:03<01:03,  5.40it/s]"
     ]
    },
    {
     "name": "stdout",
     "output_type": "stream",
     "text": [
      "'d:\\\\nepali_notetaker_project\\\\nepali_notetaker_package\\\\DataSet\\\\asr_nepali_0\\\\asr_nepali\\\\data\\\\00\\\\0014d70fca.flac'\n",
      "d:\\nepali_notetaker_project\\nepali_notetaker_package\\DataSet\\asr_nepali_0\\asr_nepali\\data\\00\\0014d70fca.flac\n",
      "d:\\nepali_notetaker_project\\nepali_notetaker_package\\DataSet\\asr_nepali_0\\asr_nepali\\data\\00\\processed_wav\\0014d70fca.wav\n",
      "'d:\\\\nepali_notetaker_project\\\\nepali_notetaker_package\\\\DataSet\\\\asr_nepali_0\\\\asr_nepali\\\\data\\\\00\\\\006e67532f.flac'\n",
      "d:\\nepali_notetaker_project\\nepali_notetaker_package\\DataSet\\asr_nepali_0\\asr_nepali\\data\\00\\006e67532f.flac\n",
      "d:\\nepali_notetaker_project\\nepali_notetaker_package\\DataSet\\asr_nepali_0\\asr_nepali\\data\\00\\processed_wav\\006e67532f.wav\n"
     ]
    },
    {
     "name": "stderr",
     "output_type": "stream",
     "text": [
      " 44%|████▍     | 267/607 [01:03<01:12,  4.69it/s]"
     ]
    },
    {
     "name": "stdout",
     "output_type": "stream",
     "text": [
      "'d:\\\\nepali_notetaker_project\\\\nepali_notetaker_package\\\\DataSet\\\\asr_nepali_0\\\\asr_nepali\\\\data\\\\00\\\\00033e7a6c.flac'\n",
      "d:\\nepali_notetaker_project\\nepali_notetaker_package\\DataSet\\asr_nepali_0\\asr_nepali\\data\\00\\00033e7a6c.flac\n",
      "d:\\nepali_notetaker_project\\nepali_notetaker_package\\DataSet\\asr_nepali_0\\asr_nepali\\data\\00\\processed_wav\\00033e7a6c.wav\n"
     ]
    },
    {
     "name": "stderr",
     "output_type": "stream",
     "text": [
      " 44%|████▍     | 268/607 [01:03<01:13,  4.58it/s]"
     ]
    },
    {
     "name": "stdout",
     "output_type": "stream",
     "text": [
      "'d:\\\\nepali_notetaker_project\\\\nepali_notetaker_package\\\\DataSet\\\\asr_nepali_0\\\\asr_nepali\\\\data\\\\00\\\\00966fcbba.flac'\n",
      "d:\\nepali_notetaker_project\\nepali_notetaker_package\\DataSet\\asr_nepali_0\\asr_nepali\\data\\00\\00966fcbba.flac\n",
      "d:\\nepali_notetaker_project\\nepali_notetaker_package\\DataSet\\asr_nepali_0\\asr_nepali\\data\\00\\processed_wav\\00966fcbba.wav\n"
     ]
    },
    {
     "name": "stderr",
     "output_type": "stream",
     "text": [
      " 44%|████▍     | 269/607 [01:03<01:22,  4.11it/s]"
     ]
    },
    {
     "name": "stdout",
     "output_type": "stream",
     "text": [
      "'d:\\\\nepali_notetaker_project\\\\nepali_notetaker_package\\\\DataSet\\\\asr_nepali_0\\\\asr_nepali\\\\data\\\\00\\\\009547ce60.flac'\n",
      "d:\\nepali_notetaker_project\\nepali_notetaker_package\\DataSet\\asr_nepali_0\\asr_nepali\\data\\00\\009547ce60.flac\n",
      "d:\\nepali_notetaker_project\\nepali_notetaker_package\\DataSet\\asr_nepali_0\\asr_nepali\\data\\00\\processed_wav\\009547ce60.wav\n"
     ]
    },
    {
     "name": "stderr",
     "output_type": "stream",
     "text": [
      " 45%|████▍     | 271/607 [01:04<01:12,  4.65it/s]"
     ]
    },
    {
     "name": "stdout",
     "output_type": "stream",
     "text": [
      "'d:\\\\nepali_notetaker_project\\\\nepali_notetaker_package\\\\DataSet\\\\asr_nepali_0\\\\asr_nepali\\\\data\\\\00\\\\00c1b6e161.flac'\n",
      "d:\\nepali_notetaker_project\\nepali_notetaker_package\\DataSet\\asr_nepali_0\\asr_nepali\\data\\00\\00c1b6e161.flac\n",
      "d:\\nepali_notetaker_project\\nepali_notetaker_package\\DataSet\\asr_nepali_0\\asr_nepali\\data\\00\\processed_wav\\00c1b6e161.wav\n",
      "'d:\\\\nepali_notetaker_project\\\\nepali_notetaker_package\\\\DataSet\\\\asr_nepali_0\\\\asr_nepali\\\\data\\\\00\\\\005106c8d8.flac'\n",
      "d:\\nepali_notetaker_project\\nepali_notetaker_package\\DataSet\\asr_nepali_0\\asr_nepali\\data\\00\\005106c8d8.flac\n",
      "d:\\nepali_notetaker_project\\nepali_notetaker_package\\DataSet\\asr_nepali_0\\asr_nepali\\data\\00\\processed_wav\\005106c8d8.wav\n"
     ]
    },
    {
     "name": "stderr",
     "output_type": "stream",
     "text": [
      " 45%|████▍     | 273/607 [01:04<01:08,  4.88it/s]"
     ]
    },
    {
     "name": "stdout",
     "output_type": "stream",
     "text": [
      "'d:\\\\nepali_notetaker_project\\\\nepali_notetaker_package\\\\DataSet\\\\asr_nepali_0\\\\asr_nepali\\\\data\\\\00\\\\00980d0df7.flac'\n",
      "d:\\nepali_notetaker_project\\nepali_notetaker_package\\DataSet\\asr_nepali_0\\asr_nepali\\data\\00\\00980d0df7.flac\n",
      "d:\\nepali_notetaker_project\\nepali_notetaker_package\\DataSet\\asr_nepali_0\\asr_nepali\\data\\00\\processed_wav\\00980d0df7.wav\n",
      "'d:\\\\nepali_notetaker_project\\\\nepali_notetaker_package\\\\DataSet\\\\asr_nepali_0\\\\asr_nepali\\\\data\\\\00\\\\00b5c6734b.flac'\n",
      "d:\\nepali_notetaker_project\\nepali_notetaker_package\\DataSet\\asr_nepali_0\\asr_nepali\\data\\00\\00b5c6734b.flac\n",
      "d:\\nepali_notetaker_project\\nepali_notetaker_package\\DataSet\\asr_nepali_0\\asr_nepali\\data\\00\\processed_wav\\00b5c6734b.wav\n"
     ]
    },
    {
     "name": "stderr",
     "output_type": "stream",
     "text": [
      " 45%|████▌     | 275/607 [01:05<01:03,  5.24it/s]"
     ]
    },
    {
     "name": "stdout",
     "output_type": "stream",
     "text": [
      "'d:\\\\nepali_notetaker_project\\\\nepali_notetaker_package\\\\DataSet\\\\asr_nepali_0\\\\asr_nepali\\\\data\\\\00\\\\002c53fe1e.flac'\n",
      "d:\\nepali_notetaker_project\\nepali_notetaker_package\\DataSet\\asr_nepali_0\\asr_nepali\\data\\00\\002c53fe1e.flac\n",
      "d:\\nepali_notetaker_project\\nepali_notetaker_package\\DataSet\\asr_nepali_0\\asr_nepali\\data\\00\\processed_wav\\002c53fe1e.wav\n",
      "'d:\\\\nepali_notetaker_project\\\\nepali_notetaker_package\\\\DataSet\\\\asr_nepali_0\\\\asr_nepali\\\\data\\\\00\\\\00f8167c06.flac'\n",
      "d:\\nepali_notetaker_project\\nepali_notetaker_package\\DataSet\\asr_nepali_0\\asr_nepali\\data\\00\\00f8167c06.flac\n",
      "d:\\nepali_notetaker_project\\nepali_notetaker_package\\DataSet\\asr_nepali_0\\asr_nepali\\data\\00\\processed_wav\\00f8167c06.wav\n"
     ]
    },
    {
     "name": "stderr",
     "output_type": "stream",
     "text": [
      " 46%|████▌     | 277/607 [01:05<01:00,  5.46it/s]"
     ]
    },
    {
     "name": "stdout",
     "output_type": "stream",
     "text": [
      "'d:\\\\nepali_notetaker_project\\\\nepali_notetaker_package\\\\DataSet\\\\asr_nepali_0\\\\asr_nepali\\\\data\\\\00\\\\0087593a85.flac'\n",
      "d:\\nepali_notetaker_project\\nepali_notetaker_package\\DataSet\\asr_nepali_0\\asr_nepali\\data\\00\\0087593a85.flac\n",
      "d:\\nepali_notetaker_project\\nepali_notetaker_package\\DataSet\\asr_nepali_0\\asr_nepali\\data\\00\\processed_wav\\0087593a85.wav\n",
      "'d:\\\\nepali_notetaker_project\\\\nepali_notetaker_package\\\\DataSet\\\\asr_nepali_0\\\\asr_nepali\\\\data\\\\00\\\\006a470e8e.flac'\n",
      "d:\\nepali_notetaker_project\\nepali_notetaker_package\\DataSet\\asr_nepali_0\\asr_nepali\\data\\00\\006a470e8e.flac\n",
      "d:\\nepali_notetaker_project\\nepali_notetaker_package\\DataSet\\asr_nepali_0\\asr_nepali\\data\\00\\processed_wav\\006a470e8e.wav\n"
     ]
    },
    {
     "name": "stderr",
     "output_type": "stream",
     "text": [
      " 46%|████▌     | 279/607 [01:05<00:58,  5.61it/s]"
     ]
    },
    {
     "name": "stdout",
     "output_type": "stream",
     "text": [
      "'d:\\\\nepali_notetaker_project\\\\nepali_notetaker_package\\\\DataSet\\\\asr_nepali_0\\\\asr_nepali\\\\data\\\\00\\\\00175448c8.flac'\n",
      "d:\\nepali_notetaker_project\\nepali_notetaker_package\\DataSet\\asr_nepali_0\\asr_nepali\\data\\00\\00175448c8.flac\n",
      "d:\\nepali_notetaker_project\\nepali_notetaker_package\\DataSet\\asr_nepali_0\\asr_nepali\\data\\00\\processed_wav\\00175448c8.wav\n",
      "'d:\\\\nepali_notetaker_project\\\\nepali_notetaker_package\\\\DataSet\\\\asr_nepali_0\\\\asr_nepali\\\\data\\\\00\\\\005a2445a2.flac'\n",
      "d:\\nepali_notetaker_project\\nepali_notetaker_package\\DataSet\\asr_nepali_0\\asr_nepali\\data\\00\\005a2445a2.flac\n",
      "d:\\nepali_notetaker_project\\nepali_notetaker_package\\DataSet\\asr_nepali_0\\asr_nepali\\data\\00\\processed_wav\\005a2445a2.wav\n"
     ]
    },
    {
     "name": "stderr",
     "output_type": "stream",
     "text": [
      " 46%|████▋     | 281/607 [01:06<01:00,  5.36it/s]"
     ]
    },
    {
     "name": "stdout",
     "output_type": "stream",
     "text": [
      "'d:\\\\nepali_notetaker_project\\\\nepali_notetaker_package\\\\DataSet\\\\asr_nepali_0\\\\asr_nepali\\\\data\\\\00\\\\003355e560.flac'\n",
      "d:\\nepali_notetaker_project\\nepali_notetaker_package\\DataSet\\asr_nepali_0\\asr_nepali\\data\\00\\003355e560.flac\n",
      "d:\\nepali_notetaker_project\\nepali_notetaker_package\\DataSet\\asr_nepali_0\\asr_nepali\\data\\00\\processed_wav\\003355e560.wav\n"
     ]
    },
    {
     "name": "stderr",
     "output_type": "stream",
     "text": [
      " 46%|████▋     | 282/607 [01:06<01:02,  5.19it/s]"
     ]
    },
    {
     "name": "stdout",
     "output_type": "stream",
     "text": [
      "'d:\\\\nepali_notetaker_project\\\\nepali_notetaker_package\\\\DataSet\\\\asr_nepali_0\\\\asr_nepali\\\\data\\\\00\\\\0073f3ec94.flac'\n",
      "d:\\nepali_notetaker_project\\nepali_notetaker_package\\DataSet\\asr_nepali_0\\asr_nepali\\data\\00\\0073f3ec94.flac\n",
      "d:\\nepali_notetaker_project\\nepali_notetaker_package\\DataSet\\asr_nepali_0\\asr_nepali\\data\\00\\processed_wav\\0073f3ec94.wav\n"
     ]
    },
    {
     "name": "stderr",
     "output_type": "stream",
     "text": [
      " 47%|████▋     | 283/607 [01:06<01:03,  5.13it/s]"
     ]
    },
    {
     "name": "stdout",
     "output_type": "stream",
     "text": [
      "'d:\\\\nepali_notetaker_project\\\\nepali_notetaker_package\\\\DataSet\\\\asr_nepali_0\\\\asr_nepali\\\\data\\\\00\\\\008f0b5228.flac'\n",
      "d:\\nepali_notetaker_project\\nepali_notetaker_package\\DataSet\\asr_nepali_0\\asr_nepali\\data\\00\\008f0b5228.flac\n",
      "d:\\nepali_notetaker_project\\nepali_notetaker_package\\DataSet\\asr_nepali_0\\asr_nepali\\data\\00\\processed_wav\\008f0b5228.wav\n"
     ]
    },
    {
     "name": "stderr",
     "output_type": "stream",
     "text": [
      " 47%|████▋     | 284/607 [01:06<01:02,  5.17it/s]"
     ]
    },
    {
     "name": "stdout",
     "output_type": "stream",
     "text": [
      "'d:\\\\nepali_notetaker_project\\\\nepali_notetaker_package\\\\DataSet\\\\asr_nepali_0\\\\asr_nepali\\\\data\\\\00\\\\00f146a59a.flac'\n",
      "d:\\nepali_notetaker_project\\nepali_notetaker_package\\DataSet\\asr_nepali_0\\asr_nepali\\data\\00\\00f146a59a.flac\n",
      "d:\\nepali_notetaker_project\\nepali_notetaker_package\\DataSet\\asr_nepali_0\\asr_nepali\\data\\00\\processed_wav\\00f146a59a.wav\n"
     ]
    },
    {
     "name": "stderr",
     "output_type": "stream",
     "text": [
      " 47%|████▋     | 285/607 [01:06<01:01,  5.26it/s]"
     ]
    },
    {
     "name": "stdout",
     "output_type": "stream",
     "text": [
      "'d:\\\\nepali_notetaker_project\\\\nepali_notetaker_package\\\\DataSet\\\\asr_nepali_0\\\\asr_nepali\\\\data\\\\00\\\\009b9c916f.flac'\n",
      "d:\\nepali_notetaker_project\\nepali_notetaker_package\\DataSet\\asr_nepali_0\\asr_nepali\\data\\00\\009b9c916f.flac\n",
      "d:\\nepali_notetaker_project\\nepali_notetaker_package\\DataSet\\asr_nepali_0\\asr_nepali\\data\\00\\processed_wav\\009b9c916f.wav\n"
     ]
    },
    {
     "name": "stderr",
     "output_type": "stream",
     "text": [
      " 47%|████▋     | 286/607 [01:07<01:02,  5.14it/s]"
     ]
    },
    {
     "name": "stdout",
     "output_type": "stream",
     "text": [
      "'d:\\\\nepali_notetaker_project\\\\nepali_notetaker_package\\\\DataSet\\\\asr_nepali_0\\\\asr_nepali\\\\data\\\\00\\\\00ce67e6b3.flac'\n",
      "d:\\nepali_notetaker_project\\nepali_notetaker_package\\DataSet\\asr_nepali_0\\asr_nepali\\data\\00\\00ce67e6b3.flac\n",
      "d:\\nepali_notetaker_project\\nepali_notetaker_package\\DataSet\\asr_nepali_0\\asr_nepali\\data\\00\\processed_wav\\00ce67e6b3.wav\n"
     ]
    },
    {
     "name": "stderr",
     "output_type": "stream",
     "text": [
      " 47%|████▋     | 287/607 [01:07<01:01,  5.22it/s]"
     ]
    },
    {
     "name": "stdout",
     "output_type": "stream",
     "text": [
      "'d:\\\\nepali_notetaker_project\\\\nepali_notetaker_package\\\\DataSet\\\\asr_nepali_0\\\\asr_nepali\\\\data\\\\00\\\\00315cbb63.flac'\n",
      "d:\\nepali_notetaker_project\\nepali_notetaker_package\\DataSet\\asr_nepali_0\\asr_nepali\\data\\00\\00315cbb63.flac\n",
      "d:\\nepali_notetaker_project\\nepali_notetaker_package\\DataSet\\asr_nepali_0\\asr_nepali\\data\\00\\processed_wav\\00315cbb63.wav\n"
     ]
    },
    {
     "name": "stderr",
     "output_type": "stream",
     "text": [
      " 47%|████▋     | 288/607 [01:07<01:02,  5.11it/s]"
     ]
    },
    {
     "name": "stdout",
     "output_type": "stream",
     "text": [
      "'d:\\\\nepali_notetaker_project\\\\nepali_notetaker_package\\\\DataSet\\\\asr_nepali_0\\\\asr_nepali\\\\data\\\\00\\\\00a12fdd22.flac'\n",
      "d:\\nepali_notetaker_project\\nepali_notetaker_package\\DataSet\\asr_nepali_0\\asr_nepali\\data\\00\\00a12fdd22.flac\n",
      "d:\\nepali_notetaker_project\\nepali_notetaker_package\\DataSet\\asr_nepali_0\\asr_nepali\\data\\00\\processed_wav\\00a12fdd22.wav\n"
     ]
    },
    {
     "name": "stderr",
     "output_type": "stream",
     "text": [
      " 48%|████▊     | 289/607 [01:07<01:00,  5.22it/s]"
     ]
    },
    {
     "name": "stdout",
     "output_type": "stream",
     "text": [
      "'d:\\\\nepali_notetaker_project\\\\nepali_notetaker_package\\\\DataSet\\\\asr_nepali_0\\\\asr_nepali\\\\data\\\\00\\\\00ab74820e.flac'\n",
      "d:\\nepali_notetaker_project\\nepali_notetaker_package\\DataSet\\asr_nepali_0\\asr_nepali\\data\\00\\00ab74820e.flac\n",
      "d:\\nepali_notetaker_project\\nepali_notetaker_package\\DataSet\\asr_nepali_0\\asr_nepali\\data\\00\\processed_wav\\00ab74820e.wav\n"
     ]
    },
    {
     "name": "stderr",
     "output_type": "stream",
     "text": [
      " 48%|████▊     | 290/607 [01:07<00:58,  5.46it/s]"
     ]
    },
    {
     "name": "stdout",
     "output_type": "stream",
     "text": [
      "'d:\\\\nepali_notetaker_project\\\\nepali_notetaker_package\\\\DataSet\\\\asr_nepali_0\\\\asr_nepali\\\\data\\\\00\\\\006c27957c.flac'\n",
      "d:\\nepali_notetaker_project\\nepali_notetaker_package\\DataSet\\asr_nepali_0\\asr_nepali\\data\\00\\006c27957c.flac\n",
      "d:\\nepali_notetaker_project\\nepali_notetaker_package\\DataSet\\asr_nepali_0\\asr_nepali\\data\\00\\processed_wav\\006c27957c.wav\n",
      "'d:\\\\nepali_notetaker_project\\\\nepali_notetaker_package\\\\DataSet\\\\asr_nepali_0\\\\asr_nepali\\\\data\\\\00\\\\00c04277b1.flac'\n",
      "d:\\nepali_notetaker_project\\nepali_notetaker_package\\DataSet\\asr_nepali_0\\asr_nepali\\data\\00\\00c04277b1.flac\n",
      "d:\\nepali_notetaker_project\\nepali_notetaker_package\\DataSet\\asr_nepali_0\\asr_nepali\\data\\00\\processed_wav\\00c04277b1.wav\n"
     ]
    },
    {
     "name": "stderr",
     "output_type": "stream",
     "text": [
      " 48%|████▊     | 292/607 [01:08<00:58,  5.41it/s]"
     ]
    },
    {
     "name": "stdout",
     "output_type": "stream",
     "text": [
      "'d:\\\\nepali_notetaker_project\\\\nepali_notetaker_package\\\\DataSet\\\\asr_nepali_0\\\\asr_nepali\\\\data\\\\00\\\\00254a8fcd.flac'\n",
      "d:\\nepali_notetaker_project\\nepali_notetaker_package\\DataSet\\asr_nepali_0\\asr_nepali\\data\\00\\00254a8fcd.flac\n",
      "d:\\nepali_notetaker_project\\nepali_notetaker_package\\DataSet\\asr_nepali_0\\asr_nepali\\data\\00\\processed_wav\\00254a8fcd.wav\n"
     ]
    },
    {
     "name": "stderr",
     "output_type": "stream",
     "text": [
      " 48%|████▊     | 293/607 [01:08<00:56,  5.59it/s]"
     ]
    },
    {
     "name": "stdout",
     "output_type": "stream",
     "text": [
      "'d:\\\\nepali_notetaker_project\\\\nepali_notetaker_package\\\\DataSet\\\\asr_nepali_0\\\\asr_nepali\\\\data\\\\00\\\\001a027a44.flac'\n",
      "d:\\nepali_notetaker_project\\nepali_notetaker_package\\DataSet\\asr_nepali_0\\asr_nepali\\data\\00\\001a027a44.flac\n",
      "d:\\nepali_notetaker_project\\nepali_notetaker_package\\DataSet\\asr_nepali_0\\asr_nepali\\data\\00\\processed_wav\\001a027a44.wav\n",
      "'d:\\\\nepali_notetaker_project\\\\nepali_notetaker_package\\\\DataSet\\\\asr_nepali_0\\\\asr_nepali\\\\data\\\\00\\\\00e304bbaa.flac'\n",
      "d:\\nepali_notetaker_project\\nepali_notetaker_package\\DataSet\\asr_nepali_0\\asr_nepali\\data\\00\\00e304bbaa.flac\n",
      "d:\\nepali_notetaker_project\\nepali_notetaker_package\\DataSet\\asr_nepali_0\\asr_nepali\\data\\00\\processed_wav\\00e304bbaa.wav\n"
     ]
    },
    {
     "name": "stderr",
     "output_type": "stream",
     "text": [
      " 49%|████▊     | 295/607 [01:08<00:55,  5.58it/s]"
     ]
    },
    {
     "name": "stdout",
     "output_type": "stream",
     "text": [
      "'d:\\\\nepali_notetaker_project\\\\nepali_notetaker_package\\\\DataSet\\\\asr_nepali_0\\\\asr_nepali\\\\data\\\\00\\\\007f4447ee.flac'\n",
      "d:\\nepali_notetaker_project\\nepali_notetaker_package\\DataSet\\asr_nepali_0\\asr_nepali\\data\\00\\007f4447ee.flac\n",
      "d:\\nepali_notetaker_project\\nepali_notetaker_package\\DataSet\\asr_nepali_0\\asr_nepali\\data\\00\\processed_wav\\007f4447ee.wav\n",
      "'d:\\\\nepali_notetaker_project\\\\nepali_notetaker_package\\\\DataSet\\\\asr_nepali_0\\\\asr_nepali\\\\data\\\\00\\\\00cc6c5240.flac'\n",
      "d:\\nepali_notetaker_project\\nepali_notetaker_package\\DataSet\\asr_nepali_0\\asr_nepali\\data\\00\\00cc6c5240.flac\n",
      "d:\\nepali_notetaker_project\\nepali_notetaker_package\\DataSet\\asr_nepali_0\\asr_nepali\\data\\00\\processed_wav\\00cc6c5240.wav\n"
     ]
    },
    {
     "name": "stderr",
     "output_type": "stream",
     "text": [
      " 49%|████▉     | 297/607 [01:09<00:54,  5.68it/s]"
     ]
    },
    {
     "name": "stdout",
     "output_type": "stream",
     "text": [
      "'d:\\\\nepali_notetaker_project\\\\nepali_notetaker_package\\\\DataSet\\\\asr_nepali_0\\\\asr_nepali\\\\data\\\\00\\\\0064c75d84.flac'\n",
      "d:\\nepali_notetaker_project\\nepali_notetaker_package\\DataSet\\asr_nepali_0\\asr_nepali\\data\\00\\0064c75d84.flac\n",
      "d:\\nepali_notetaker_project\\nepali_notetaker_package\\DataSet\\asr_nepali_0\\asr_nepali\\data\\00\\processed_wav\\0064c75d84.wav\n",
      "'d:\\\\nepali_notetaker_project\\\\nepali_notetaker_package\\\\DataSet\\\\asr_nepali_0\\\\asr_nepali\\\\data\\\\00\\\\006a6e8066.flac'\n",
      "d:\\nepali_notetaker_project\\nepali_notetaker_package\\DataSet\\asr_nepali_0\\asr_nepali\\data\\00\\006a6e8066.flac\n",
      "d:\\nepali_notetaker_project\\nepali_notetaker_package\\DataSet\\asr_nepali_0\\asr_nepali\\data\\00\\processed_wav\\006a6e8066.wav\n"
     ]
    },
    {
     "name": "stderr",
     "output_type": "stream",
     "text": [
      " 49%|████▉     | 299/607 [01:09<00:53,  5.71it/s]"
     ]
    },
    {
     "name": "stdout",
     "output_type": "stream",
     "text": [
      "'d:\\\\nepali_notetaker_project\\\\nepali_notetaker_package\\\\DataSet\\\\asr_nepali_0\\\\asr_nepali\\\\data\\\\00\\\\00171840ba.flac'\n",
      "d:\\nepali_notetaker_project\\nepali_notetaker_package\\DataSet\\asr_nepali_0\\asr_nepali\\data\\00\\00171840ba.flac\n",
      "d:\\nepali_notetaker_project\\nepali_notetaker_package\\DataSet\\asr_nepali_0\\asr_nepali\\data\\00\\processed_wav\\00171840ba.wav\n",
      "'d:\\\\nepali_notetaker_project\\\\nepali_notetaker_package\\\\DataSet\\\\asr_nepali_0\\\\asr_nepali\\\\data\\\\00\\\\00ad9f58ee.flac'\n",
      "d:\\nepali_notetaker_project\\nepali_notetaker_package\\DataSet\\asr_nepali_0\\asr_nepali\\data\\00\\00ad9f58ee.flac\n",
      "d:\\nepali_notetaker_project\\nepali_notetaker_package\\DataSet\\asr_nepali_0\\asr_nepali\\data\\00\\processed_wav\\00ad9f58ee.wav\n"
     ]
    },
    {
     "name": "stderr",
     "output_type": "stream",
     "text": [
      " 50%|████▉     | 301/607 [01:09<00:55,  5.50it/s]"
     ]
    },
    {
     "name": "stdout",
     "output_type": "stream",
     "text": [
      "'d:\\\\nepali_notetaker_project\\\\nepali_notetaker_package\\\\DataSet\\\\asr_nepali_0\\\\asr_nepali\\\\data\\\\00\\\\0019a63118.flac'\n",
      "d:\\nepali_notetaker_project\\nepali_notetaker_package\\DataSet\\asr_nepali_0\\asr_nepali\\data\\00\\0019a63118.flac\n",
      "d:\\nepali_notetaker_project\\nepali_notetaker_package\\DataSet\\asr_nepali_0\\asr_nepali\\data\\00\\processed_wav\\0019a63118.wav\n",
      "'d:\\\\nepali_notetaker_project\\\\nepali_notetaker_package\\\\DataSet\\\\asr_nepali_0\\\\asr_nepali\\\\data\\\\00\\\\00cb99c8e0.flac'\n",
      "d:\\nepali_notetaker_project\\nepali_notetaker_package\\DataSet\\asr_nepali_0\\asr_nepali\\data\\00\\00cb99c8e0.flac\n",
      "d:\\nepali_notetaker_project\\nepali_notetaker_package\\DataSet\\asr_nepali_0\\asr_nepali\\data\\00\\processed_wav\\00cb99c8e0.wav\n"
     ]
    },
    {
     "name": "stderr",
     "output_type": "stream",
     "text": [
      " 50%|████▉     | 303/607 [01:10<00:54,  5.53it/s]"
     ]
    },
    {
     "name": "stdout",
     "output_type": "stream",
     "text": [
      "'d:\\\\nepali_notetaker_project\\\\nepali_notetaker_package\\\\DataSet\\\\asr_nepali_0\\\\asr_nepali\\\\data\\\\00\\\\0053504615.flac'\n",
      "d:\\nepali_notetaker_project\\nepali_notetaker_package\\DataSet\\asr_nepali_0\\asr_nepali\\data\\00\\0053504615.flac\n",
      "d:\\nepali_notetaker_project\\nepali_notetaker_package\\DataSet\\asr_nepali_0\\asr_nepali\\data\\00\\processed_wav\\0053504615.wav\n",
      "'d:\\\\nepali_notetaker_project\\\\nepali_notetaker_package\\\\DataSet\\\\asr_nepali_0\\\\asr_nepali\\\\data\\\\00\\\\00d31e9682.flac'\n",
      "d:\\nepali_notetaker_project\\nepali_notetaker_package\\DataSet\\asr_nepali_0\\asr_nepali\\data\\00\\00d31e9682.flac\n",
      "d:\\nepali_notetaker_project\\nepali_notetaker_package\\DataSet\\asr_nepali_0\\asr_nepali\\data\\00\\processed_wav\\00d31e9682.wav\n"
     ]
    },
    {
     "name": "stderr",
     "output_type": "stream",
     "text": [
      " 50%|█████     | 305/607 [01:10<00:52,  5.71it/s]"
     ]
    },
    {
     "name": "stdout",
     "output_type": "stream",
     "text": [
      "'d:\\\\nepali_notetaker_project\\\\nepali_notetaker_package\\\\DataSet\\\\asr_nepali_0\\\\asr_nepali\\\\data\\\\00\\\\004491fa72.flac'\n",
      "d:\\nepali_notetaker_project\\nepali_notetaker_package\\DataSet\\asr_nepali_0\\asr_nepali\\data\\00\\004491fa72.flac\n",
      "d:\\nepali_notetaker_project\\nepali_notetaker_package\\DataSet\\asr_nepali_0\\asr_nepali\\data\\00\\processed_wav\\004491fa72.wav\n",
      "'d:\\\\nepali_notetaker_project\\\\nepali_notetaker_package\\\\DataSet\\\\asr_nepali_0\\\\asr_nepali\\\\data\\\\00\\\\009f535ff3.flac'\n",
      "d:\\nepali_notetaker_project\\nepali_notetaker_package\\DataSet\\asr_nepali_0\\asr_nepali\\data\\00\\009f535ff3.flac\n",
      "d:\\nepali_notetaker_project\\nepali_notetaker_package\\DataSet\\asr_nepali_0\\asr_nepali\\data\\00\\processed_wav\\009f535ff3.wav\n"
     ]
    },
    {
     "name": "stderr",
     "output_type": "stream",
     "text": [
      " 51%|█████     | 307/607 [01:10<00:51,  5.83it/s]"
     ]
    },
    {
     "name": "stdout",
     "output_type": "stream",
     "text": [
      "'d:\\\\nepali_notetaker_project\\\\nepali_notetaker_package\\\\DataSet\\\\asr_nepali_0\\\\asr_nepali\\\\data\\\\00\\\\005eefedf2.flac'\n",
      "d:\\nepali_notetaker_project\\nepali_notetaker_package\\DataSet\\asr_nepali_0\\asr_nepali\\data\\00\\005eefedf2.flac\n",
      "d:\\nepali_notetaker_project\\nepali_notetaker_package\\DataSet\\asr_nepali_0\\asr_nepali\\data\\00\\processed_wav\\005eefedf2.wav\n",
      "'d:\\\\nepali_notetaker_project\\\\nepali_notetaker_package\\\\DataSet\\\\asr_nepali_0\\\\asr_nepali\\\\data\\\\00\\\\00dcd01745.flac'\n",
      "d:\\nepali_notetaker_project\\nepali_notetaker_package\\DataSet\\asr_nepali_0\\asr_nepali\\data\\00\\00dcd01745.flac\n",
      "d:\\nepali_notetaker_project\\nepali_notetaker_package\\DataSet\\asr_nepali_0\\asr_nepali\\data\\00\\processed_wav\\00dcd01745.wav\n"
     ]
    },
    {
     "name": "stderr",
     "output_type": "stream",
     "text": [
      " 51%|█████     | 308/607 [01:11<00:50,  5.97it/s]"
     ]
    },
    {
     "name": "stdout",
     "output_type": "stream",
     "text": [
      "'d:\\\\nepali_notetaker_project\\\\nepali_notetaker_package\\\\DataSet\\\\asr_nepali_0\\\\asr_nepali\\\\data\\\\00\\\\006d188640.flac'\n",
      "d:\\nepali_notetaker_project\\nepali_notetaker_package\\DataSet\\asr_nepali_0\\asr_nepali\\data\\00\\006d188640.flac\n",
      "d:\\nepali_notetaker_project\\nepali_notetaker_package\\DataSet\\asr_nepali_0\\asr_nepali\\data\\00\\processed_wav\\006d188640.wav\n"
     ]
    },
    {
     "name": "stderr",
     "output_type": "stream",
     "text": [
      " 51%|█████     | 310/607 [01:11<00:53,  5.56it/s]"
     ]
    },
    {
     "name": "stdout",
     "output_type": "stream",
     "text": [
      "'d:\\\\nepali_notetaker_project\\\\nepali_notetaker_package\\\\DataSet\\\\asr_nepali_0\\\\asr_nepali\\\\data\\\\00\\\\001c35c0db.flac'\n",
      "d:\\nepali_notetaker_project\\nepali_notetaker_package\\DataSet\\asr_nepali_0\\asr_nepali\\data\\00\\001c35c0db.flac\n",
      "d:\\nepali_notetaker_project\\nepali_notetaker_package\\DataSet\\asr_nepali_0\\asr_nepali\\data\\00\\processed_wav\\001c35c0db.wav\n"
     ]
    },
    {
     "name": "stderr",
     "output_type": "stream",
     "text": [
      " 51%|█████     | 311/607 [01:11<00:51,  5.79it/s]"
     ]
    },
    {
     "name": "stdout",
     "output_type": "stream",
     "text": [
      "'d:\\\\nepali_notetaker_project\\\\nepali_notetaker_package\\\\DataSet\\\\asr_nepali_0\\\\asr_nepali\\\\data\\\\00\\\\00adb74fe1.flac'\n",
      "d:\\nepali_notetaker_project\\nepali_notetaker_package\\DataSet\\asr_nepali_0\\asr_nepali\\data\\00\\00adb74fe1.flac\n",
      "d:\\nepali_notetaker_project\\nepali_notetaker_package\\DataSet\\asr_nepali_0\\asr_nepali\\data\\00\\processed_wav\\00adb74fe1.wav\n",
      "'d:\\\\nepali_notetaker_project\\\\nepali_notetaker_package\\\\DataSet\\\\asr_nepali_0\\\\asr_nepali\\\\data\\\\00\\\\00fd65f638.flac'\n",
      "d:\\nepali_notetaker_project\\nepali_notetaker_package\\DataSet\\asr_nepali_0\\asr_nepali\\data\\00\\00fd65f638.flac\n",
      "d:\\nepali_notetaker_project\\nepali_notetaker_package\\DataSet\\asr_nepali_0\\asr_nepali\\data\\00\\processed_wav\\00fd65f638.wav\n"
     ]
    },
    {
     "name": "stderr",
     "output_type": "stream",
     "text": [
      " 52%|█████▏    | 313/607 [01:11<00:51,  5.73it/s]"
     ]
    },
    {
     "name": "stdout",
     "output_type": "stream",
     "text": [
      "'d:\\\\nepali_notetaker_project\\\\nepali_notetaker_package\\\\DataSet\\\\asr_nepali_0\\\\asr_nepali\\\\data\\\\00\\\\00a7533f0f.flac'\n",
      "d:\\nepali_notetaker_project\\nepali_notetaker_package\\DataSet\\asr_nepali_0\\asr_nepali\\data\\00\\00a7533f0f.flac\n",
      "d:\\nepali_notetaker_project\\nepali_notetaker_package\\DataSet\\asr_nepali_0\\asr_nepali\\data\\00\\processed_wav\\00a7533f0f.wav\n",
      "'d:\\\\nepali_notetaker_project\\\\nepali_notetaker_package\\\\DataSet\\\\asr_nepali_0\\\\asr_nepali\\\\data\\\\00\\\\00061584d8.flac'\n",
      "d:\\nepali_notetaker_project\\nepali_notetaker_package\\DataSet\\asr_nepali_0\\asr_nepali\\data\\00\\00061584d8.flac\n",
      "d:\\nepali_notetaker_project\\nepali_notetaker_package\\DataSet\\asr_nepali_0\\asr_nepali\\data\\00\\processed_wav\\00061584d8.wav\n"
     ]
    },
    {
     "name": "stderr",
     "output_type": "stream",
     "text": [
      " 52%|█████▏    | 315/607 [01:12<00:49,  5.86it/s]"
     ]
    },
    {
     "name": "stdout",
     "output_type": "stream",
     "text": [
      "'d:\\\\nepali_notetaker_project\\\\nepali_notetaker_package\\\\DataSet\\\\asr_nepali_0\\\\asr_nepali\\\\data\\\\00\\\\00ba3c8620.flac'\n",
      "d:\\nepali_notetaker_project\\nepali_notetaker_package\\DataSet\\asr_nepali_0\\asr_nepali\\data\\00\\00ba3c8620.flac\n",
      "d:\\nepali_notetaker_project\\nepali_notetaker_package\\DataSet\\asr_nepali_0\\asr_nepali\\data\\00\\processed_wav\\00ba3c8620.wav\n",
      "'d:\\\\nepali_notetaker_project\\\\nepali_notetaker_package\\\\DataSet\\\\asr_nepali_0\\\\asr_nepali\\\\data\\\\00\\\\008fe722ca.flac'\n",
      "d:\\nepali_notetaker_project\\nepali_notetaker_package\\DataSet\\asr_nepali_0\\asr_nepali\\data\\00\\008fe722ca.flac\n",
      "d:\\nepali_notetaker_project\\nepali_notetaker_package\\DataSet\\asr_nepali_0\\asr_nepali\\data\\00\\processed_wav\\008fe722ca.wav\n"
     ]
    },
    {
     "name": "stderr",
     "output_type": "stream",
     "text": [
      " 52%|█████▏    | 317/607 [01:12<00:54,  5.34it/s]"
     ]
    },
    {
     "name": "stdout",
     "output_type": "stream",
     "text": [
      "'d:\\\\nepali_notetaker_project\\\\nepali_notetaker_package\\\\DataSet\\\\asr_nepali_0\\\\asr_nepali\\\\data\\\\00\\\\00e82d8fa1.flac'\n",
      "d:\\nepali_notetaker_project\\nepali_notetaker_package\\DataSet\\asr_nepali_0\\asr_nepali\\data\\00\\00e82d8fa1.flac\n",
      "d:\\nepali_notetaker_project\\nepali_notetaker_package\\DataSet\\asr_nepali_0\\asr_nepali\\data\\00\\processed_wav\\00e82d8fa1.wav\n",
      "'d:\\\\nepali_notetaker_project\\\\nepali_notetaker_package\\\\DataSet\\\\asr_nepali_0\\\\asr_nepali\\\\data\\\\00\\\\0022946707.flac'\n",
      "d:\\nepali_notetaker_project\\nepali_notetaker_package\\DataSet\\asr_nepali_0\\asr_nepali\\data\\00\\0022946707.flac\n",
      "d:\\nepali_notetaker_project\\nepali_notetaker_package\\DataSet\\asr_nepali_0\\asr_nepali\\data\\00\\processed_wav\\0022946707.wav\n"
     ]
    },
    {
     "name": "stderr",
     "output_type": "stream",
     "text": [
      " 53%|█████▎    | 319/607 [01:13<00:56,  5.09it/s]"
     ]
    },
    {
     "name": "stdout",
     "output_type": "stream",
     "text": [
      "'d:\\\\nepali_notetaker_project\\\\nepali_notetaker_package\\\\DataSet\\\\asr_nepali_0\\\\asr_nepali\\\\data\\\\00\\\\00a9397572.flac'\n",
      "d:\\nepali_notetaker_project\\nepali_notetaker_package\\DataSet\\asr_nepali_0\\asr_nepali\\data\\00\\00a9397572.flac\n",
      "d:\\nepali_notetaker_project\\nepali_notetaker_package\\DataSet\\asr_nepali_0\\asr_nepali\\data\\00\\processed_wav\\00a9397572.wav\n",
      "'d:\\\\nepali_notetaker_project\\\\nepali_notetaker_package\\\\DataSet\\\\asr_nepali_0\\\\asr_nepali\\\\data\\\\00\\\\00139ba3d9.flac'\n",
      "d:\\nepali_notetaker_project\\nepali_notetaker_package\\DataSet\\asr_nepali_0\\asr_nepali\\data\\00\\00139ba3d9.flac\n",
      "d:\\nepali_notetaker_project\\nepali_notetaker_package\\DataSet\\asr_nepali_0\\asr_nepali\\data\\00\\processed_wav\\00139ba3d9.wav\n"
     ]
    },
    {
     "name": "stderr",
     "output_type": "stream",
     "text": [
      " 53%|█████▎    | 320/607 [01:13<00:55,  5.13it/s]"
     ]
    },
    {
     "name": "stdout",
     "output_type": "stream",
     "text": [
      "'d:\\\\nepali_notetaker_project\\\\nepali_notetaker_package\\\\DataSet\\\\asr_nepali_0\\\\asr_nepali\\\\data\\\\00\\\\006464b1e7.flac'\n",
      "d:\\nepali_notetaker_project\\nepali_notetaker_package\\DataSet\\asr_nepali_0\\asr_nepali\\data\\00\\006464b1e7.flac\n",
      "d:\\nepali_notetaker_project\\nepali_notetaker_package\\DataSet\\asr_nepali_0\\asr_nepali\\data\\00\\processed_wav\\006464b1e7.wav\n"
     ]
    },
    {
     "name": "stderr",
     "output_type": "stream",
     "text": [
      " 53%|█████▎    | 322/607 [01:13<00:56,  5.06it/s]"
     ]
    },
    {
     "name": "stdout",
     "output_type": "stream",
     "text": [
      "'d:\\\\nepali_notetaker_project\\\\nepali_notetaker_package\\\\DataSet\\\\asr_nepali_0\\\\asr_nepali\\\\data\\\\00\\\\008a7f879d.flac'\n",
      "d:\\nepali_notetaker_project\\nepali_notetaker_package\\DataSet\\asr_nepali_0\\asr_nepali\\data\\00\\008a7f879d.flac\n",
      "d:\\nepali_notetaker_project\\nepali_notetaker_package\\DataSet\\asr_nepali_0\\asr_nepali\\data\\00\\processed_wav\\008a7f879d.wav\n"
     ]
    },
    {
     "name": "stderr",
     "output_type": "stream",
     "text": [
      " 53%|█████▎    | 323/607 [01:13<00:53,  5.31it/s]"
     ]
    },
    {
     "name": "stdout",
     "output_type": "stream",
     "text": [
      "'d:\\\\nepali_notetaker_project\\\\nepali_notetaker_package\\\\DataSet\\\\asr_nepali_0\\\\asr_nepali\\\\data\\\\00\\\\002cf3a895.flac'\n",
      "d:\\nepali_notetaker_project\\nepali_notetaker_package\\DataSet\\asr_nepali_0\\asr_nepali\\data\\00\\002cf3a895.flac\n",
      "d:\\nepali_notetaker_project\\nepali_notetaker_package\\DataSet\\asr_nepali_0\\asr_nepali\\data\\00\\processed_wav\\002cf3a895.wav\n",
      "'d:\\\\nepali_notetaker_project\\\\nepali_notetaker_package\\\\DataSet\\\\asr_nepali_0\\\\asr_nepali\\\\data\\\\00\\\\008d96572b.flac'\n",
      "d:\\nepali_notetaker_project\\nepali_notetaker_package\\DataSet\\asr_nepali_0\\asr_nepali\\data\\00\\008d96572b.flac\n",
      "d:\\nepali_notetaker_project\\nepali_notetaker_package\\DataSet\\asr_nepali_0\\asr_nepali\\data\\00\\processed_wav\\008d96572b.wav\n"
     ]
    },
    {
     "name": "stderr",
     "output_type": "stream",
     "text": [
      " 54%|█████▎    | 325/607 [01:14<00:52,  5.38it/s]"
     ]
    },
    {
     "name": "stdout",
     "output_type": "stream",
     "text": [
      "'d:\\\\nepali_notetaker_project\\\\nepali_notetaker_package\\\\DataSet\\\\asr_nepali_0\\\\asr_nepali\\\\data\\\\00\\\\003f4f4dd5.flac'\n",
      "d:\\nepali_notetaker_project\\nepali_notetaker_package\\DataSet\\asr_nepali_0\\asr_nepali\\data\\00\\003f4f4dd5.flac\n",
      "d:\\nepali_notetaker_project\\nepali_notetaker_package\\DataSet\\asr_nepali_0\\asr_nepali\\data\\00\\processed_wav\\003f4f4dd5.wav\n"
     ]
    },
    {
     "name": "stderr",
     "output_type": "stream",
     "text": [
      " 54%|█████▎    | 326/607 [01:14<00:50,  5.55it/s]"
     ]
    },
    {
     "name": "stdout",
     "output_type": "stream",
     "text": [
      "'d:\\\\nepali_notetaker_project\\\\nepali_notetaker_package\\\\DataSet\\\\asr_nepali_0\\\\asr_nepali\\\\data\\\\00\\\\0025aa8395.flac'\n",
      "d:\\nepali_notetaker_project\\nepali_notetaker_package\\DataSet\\asr_nepali_0\\asr_nepali\\data\\00\\0025aa8395.flac\n",
      "d:\\nepali_notetaker_project\\nepali_notetaker_package\\DataSet\\asr_nepali_0\\asr_nepali\\data\\00\\processed_wav\\0025aa8395.wav\n",
      "'d:\\\\nepali_notetaker_project\\\\nepali_notetaker_package\\\\DataSet\\\\asr_nepali_0\\\\asr_nepali\\\\data\\\\00\\\\00ab13f949.flac'\n",
      "d:\\nepali_notetaker_project\\nepali_notetaker_package\\DataSet\\asr_nepali_0\\asr_nepali\\data\\00\\00ab13f949.flac\n",
      "d:\\nepali_notetaker_project\\nepali_notetaker_package\\DataSet\\asr_nepali_0\\asr_nepali\\data\\00\\processed_wav\\00ab13f949.wav\n"
     ]
    },
    {
     "name": "stderr",
     "output_type": "stream",
     "text": [
      " 54%|█████▍    | 328/607 [01:14<00:49,  5.65it/s]"
     ]
    },
    {
     "name": "stdout",
     "output_type": "stream",
     "text": [
      "'d:\\\\nepali_notetaker_project\\\\nepali_notetaker_package\\\\DataSet\\\\asr_nepali_0\\\\asr_nepali\\\\data\\\\00\\\\00d0a22a35.flac'\n",
      "d:\\nepali_notetaker_project\\nepali_notetaker_package\\DataSet\\asr_nepali_0\\asr_nepali\\data\\00\\00d0a22a35.flac\n",
      "d:\\nepali_notetaker_project\\nepali_notetaker_package\\DataSet\\asr_nepali_0\\asr_nepali\\data\\00\\processed_wav\\00d0a22a35.wav\n"
     ]
    },
    {
     "name": "stderr",
     "output_type": "stream",
     "text": [
      " 54%|█████▍    | 329/607 [01:14<00:47,  5.81it/s]"
     ]
    },
    {
     "name": "stdout",
     "output_type": "stream",
     "text": [
      "'d:\\\\nepali_notetaker_project\\\\nepali_notetaker_package\\\\DataSet\\\\asr_nepali_0\\\\asr_nepali\\\\data\\\\00\\\\009b07fdc1.flac'\n",
      "d:\\nepali_notetaker_project\\nepali_notetaker_package\\DataSet\\asr_nepali_0\\asr_nepali\\data\\00\\009b07fdc1.flac\n",
      "d:\\nepali_notetaker_project\\nepali_notetaker_package\\DataSet\\asr_nepali_0\\asr_nepali\\data\\00\\processed_wav\\009b07fdc1.wav\n",
      "'d:\\\\nepali_notetaker_project\\\\nepali_notetaker_package\\\\DataSet\\\\asr_nepali_0\\\\asr_nepali\\\\data\\\\00\\\\0033cfeddb.flac'\n",
      "d:\\nepali_notetaker_project\\nepali_notetaker_package\\DataSet\\asr_nepali_0\\asr_nepali\\data\\00\\0033cfeddb.flac\n",
      "d:\\nepali_notetaker_project\\nepali_notetaker_package\\DataSet\\asr_nepali_0\\asr_nepali\\data\\00\\processed_wav\\0033cfeddb.wav\n"
     ]
    },
    {
     "name": "stderr",
     "output_type": "stream",
     "text": [
      " 55%|█████▍    | 331/607 [01:15<00:45,  6.11it/s]"
     ]
    },
    {
     "name": "stdout",
     "output_type": "stream",
     "text": [
      "'d:\\\\nepali_notetaker_project\\\\nepali_notetaker_package\\\\DataSet\\\\asr_nepali_0\\\\asr_nepali\\\\data\\\\00\\\\00f4ace3cf.flac'\n",
      "d:\\nepali_notetaker_project\\nepali_notetaker_package\\DataSet\\asr_nepali_0\\asr_nepali\\data\\00\\00f4ace3cf.flac\n",
      "d:\\nepali_notetaker_project\\nepali_notetaker_package\\DataSet\\asr_nepali_0\\asr_nepali\\data\\00\\processed_wav\\00f4ace3cf.wav\n",
      "'d:\\\\nepali_notetaker_project\\\\nepali_notetaker_package\\\\DataSet\\\\asr_nepali_0\\\\asr_nepali\\\\data\\\\00\\\\002c9d84c5.flac'\n",
      "d:\\nepali_notetaker_project\\nepali_notetaker_package\\DataSet\\asr_nepali_0\\asr_nepali\\data\\00\\002c9d84c5.flac\n",
      "d:\\nepali_notetaker_project\\nepali_notetaker_package\\DataSet\\asr_nepali_0\\asr_nepali\\data\\00\\processed_wav\\002c9d84c5.wav\n"
     ]
    },
    {
     "name": "stderr",
     "output_type": "stream",
     "text": [
      " 55%|█████▍    | 333/607 [01:15<00:47,  5.83it/s]"
     ]
    },
    {
     "name": "stdout",
     "output_type": "stream",
     "text": [
      "'d:\\\\nepali_notetaker_project\\\\nepali_notetaker_package\\\\DataSet\\\\asr_nepali_0\\\\asr_nepali\\\\data\\\\00\\\\00e7d4782f.flac'\n",
      "d:\\nepali_notetaker_project\\nepali_notetaker_package\\DataSet\\asr_nepali_0\\asr_nepali\\data\\00\\00e7d4782f.flac\n",
      "d:\\nepali_notetaker_project\\nepali_notetaker_package\\DataSet\\asr_nepali_0\\asr_nepali\\data\\00\\processed_wav\\00e7d4782f.wav\n"
     ]
    },
    {
     "name": "stderr",
     "output_type": "stream",
     "text": [
      " 55%|█████▌    | 334/607 [01:15<00:49,  5.54it/s]"
     ]
    },
    {
     "name": "stdout",
     "output_type": "stream",
     "text": [
      "'d:\\\\nepali_notetaker_project\\\\nepali_notetaker_package\\\\DataSet\\\\asr_nepali_0\\\\asr_nepali\\\\data\\\\00\\\\00aa27728b.flac'\n",
      "d:\\nepali_notetaker_project\\nepali_notetaker_package\\DataSet\\asr_nepali_0\\asr_nepali\\data\\00\\00aa27728b.flac\n",
      "d:\\nepali_notetaker_project\\nepali_notetaker_package\\DataSet\\asr_nepali_0\\asr_nepali\\data\\00\\processed_wav\\00aa27728b.wav\n"
     ]
    },
    {
     "name": "stderr",
     "output_type": "stream",
     "text": [
      " 55%|█████▌    | 335/607 [01:15<00:51,  5.30it/s]"
     ]
    },
    {
     "name": "stdout",
     "output_type": "stream",
     "text": [
      "'d:\\\\nepali_notetaker_project\\\\nepali_notetaker_package\\\\DataSet\\\\asr_nepali_0\\\\asr_nepali\\\\data\\\\00\\\\001d5349b6.flac'\n",
      "d:\\nepali_notetaker_project\\nepali_notetaker_package\\DataSet\\asr_nepali_0\\asr_nepali\\data\\00\\001d5349b6.flac\n",
      "d:\\nepali_notetaker_project\\nepali_notetaker_package\\DataSet\\asr_nepali_0\\asr_nepali\\data\\00\\processed_wav\\001d5349b6.wav\n"
     ]
    },
    {
     "name": "stderr",
     "output_type": "stream",
     "text": [
      " 55%|█████▌    | 336/607 [01:16<00:52,  5.18it/s]"
     ]
    },
    {
     "name": "stdout",
     "output_type": "stream",
     "text": [
      "'d:\\\\nepali_notetaker_project\\\\nepali_notetaker_package\\\\DataSet\\\\asr_nepali_0\\\\asr_nepali\\\\data\\\\00\\\\004e9c6334.flac'\n",
      "d:\\nepali_notetaker_project\\nepali_notetaker_package\\DataSet\\asr_nepali_0\\asr_nepali\\data\\00\\004e9c6334.flac\n",
      "d:\\nepali_notetaker_project\\nepali_notetaker_package\\DataSet\\asr_nepali_0\\asr_nepali\\data\\00\\processed_wav\\004e9c6334.wav\n"
     ]
    },
    {
     "name": "stderr",
     "output_type": "stream",
     "text": [
      " 56%|█████▌    | 337/607 [01:16<00:51,  5.26it/s]"
     ]
    },
    {
     "name": "stdout",
     "output_type": "stream",
     "text": [
      "'d:\\\\nepali_notetaker_project\\\\nepali_notetaker_package\\\\DataSet\\\\asr_nepali_0\\\\asr_nepali\\\\data\\\\00\\\\00a1690992.flac'\n",
      "d:\\nepali_notetaker_project\\nepali_notetaker_package\\DataSet\\asr_nepali_0\\asr_nepali\\data\\00\\00a1690992.flac\n",
      "d:\\nepali_notetaker_project\\nepali_notetaker_package\\DataSet\\asr_nepali_0\\asr_nepali\\data\\00\\processed_wav\\00a1690992.wav\n"
     ]
    },
    {
     "name": "stderr",
     "output_type": "stream",
     "text": [
      " 56%|█████▌    | 338/607 [01:16<00:50,  5.37it/s]"
     ]
    },
    {
     "name": "stdout",
     "output_type": "stream",
     "text": [
      "'d:\\\\nepali_notetaker_project\\\\nepali_notetaker_package\\\\DataSet\\\\asr_nepali_0\\\\asr_nepali\\\\data\\\\00\\\\00798e53d6.flac'\n",
      "d:\\nepali_notetaker_project\\nepali_notetaker_package\\DataSet\\asr_nepali_0\\asr_nepali\\data\\00\\00798e53d6.flac\n",
      "d:\\nepali_notetaker_project\\nepali_notetaker_package\\DataSet\\asr_nepali_0\\asr_nepali\\data\\00\\processed_wav\\00798e53d6.wav\n",
      "'d:\\\\nepali_notetaker_project\\\\nepali_notetaker_package\\\\DataSet\\\\asr_nepali_0\\\\asr_nepali\\\\data\\\\00\\\\003edba4bf.flac'\n",
      "d:\\nepali_notetaker_project\\nepali_notetaker_package\\DataSet\\asr_nepali_0\\asr_nepali\\data\\00\\003edba4bf.flac\n",
      "d:\\nepali_notetaker_project\\nepali_notetaker_package\\DataSet\\asr_nepali_0\\asr_nepali\\data\\00\\processed_wav\\003edba4bf.wav\n"
     ]
    },
    {
     "name": "stderr",
     "output_type": "stream",
     "text": [
      " 56%|█████▌    | 340/607 [01:16<00:47,  5.63it/s]"
     ]
    },
    {
     "name": "stdout",
     "output_type": "stream",
     "text": [
      "'d:\\\\nepali_notetaker_project\\\\nepali_notetaker_package\\\\DataSet\\\\asr_nepali_0\\\\asr_nepali\\\\data\\\\00\\\\00b8bf6312.flac'\n",
      "d:\\nepali_notetaker_project\\nepali_notetaker_package\\DataSet\\asr_nepali_0\\asr_nepali\\data\\00\\00b8bf6312.flac\n",
      "d:\\nepali_notetaker_project\\nepali_notetaker_package\\DataSet\\asr_nepali_0\\asr_nepali\\data\\00\\processed_wav\\00b8bf6312.wav\n",
      "'d:\\\\nepali_notetaker_project\\\\nepali_notetaker_package\\\\DataSet\\\\asr_nepali_0\\\\asr_nepali\\\\data\\\\00\\\\00ea992db8.flac'\n",
      "d:\\nepali_notetaker_project\\nepali_notetaker_package\\DataSet\\asr_nepali_0\\asr_nepali\\data\\00\\00ea992db8.flac\n",
      "d:\\nepali_notetaker_project\\nepali_notetaker_package\\DataSet\\asr_nepali_0\\asr_nepali\\data\\00\\processed_wav\\00ea992db8.wav\n"
     ]
    },
    {
     "name": "stderr",
     "output_type": "stream",
     "text": [
      " 56%|█████▋    | 342/607 [01:17<00:44,  5.97it/s]"
     ]
    },
    {
     "name": "stdout",
     "output_type": "stream",
     "text": [
      "'d:\\\\nepali_notetaker_project\\\\nepali_notetaker_package\\\\DataSet\\\\asr_nepali_0\\\\asr_nepali\\\\data\\\\00\\\\00741a0bdd.flac'\n",
      "d:\\nepali_notetaker_project\\nepali_notetaker_package\\DataSet\\asr_nepali_0\\asr_nepali\\data\\00\\00741a0bdd.flac\n",
      "d:\\nepali_notetaker_project\\nepali_notetaker_package\\DataSet\\asr_nepali_0\\asr_nepali\\data\\00\\processed_wav\\00741a0bdd.wav\n",
      "'d:\\\\nepali_notetaker_project\\\\nepali_notetaker_package\\\\DataSet\\\\asr_nepali_0\\\\asr_nepali\\\\data\\\\00\\\\00014b6780.flac'\n",
      "d:\\nepali_notetaker_project\\nepali_notetaker_package\\DataSet\\asr_nepali_0\\asr_nepali\\data\\00\\00014b6780.flac\n",
      "d:\\nepali_notetaker_project\\nepali_notetaker_package\\DataSet\\asr_nepali_0\\asr_nepali\\data\\00\\processed_wav\\00014b6780.wav\n"
     ]
    },
    {
     "name": "stderr",
     "output_type": "stream",
     "text": [
      " 57%|█████▋    | 344/607 [01:17<00:45,  5.81it/s]"
     ]
    },
    {
     "name": "stdout",
     "output_type": "stream",
     "text": [
      "'d:\\\\nepali_notetaker_project\\\\nepali_notetaker_package\\\\DataSet\\\\asr_nepali_0\\\\asr_nepali\\\\data\\\\00\\\\004658e9ed.flac'\n",
      "d:\\nepali_notetaker_project\\nepali_notetaker_package\\DataSet\\asr_nepali_0\\asr_nepali\\data\\00\\004658e9ed.flac\n",
      "d:\\nepali_notetaker_project\\nepali_notetaker_package\\DataSet\\asr_nepali_0\\asr_nepali\\data\\00\\processed_wav\\004658e9ed.wav\n",
      "'d:\\\\nepali_notetaker_project\\\\nepali_notetaker_package\\\\DataSet\\\\asr_nepali_0\\\\asr_nepali\\\\data\\\\00\\\\0061b8e7bd.flac'\n",
      "d:\\nepali_notetaker_project\\nepali_notetaker_package\\DataSet\\asr_nepali_0\\asr_nepali\\data\\00\\0061b8e7bd.flac\n",
      "d:\\nepali_notetaker_project\\nepali_notetaker_package\\DataSet\\asr_nepali_0\\asr_nepali\\data\\00\\processed_wav\\0061b8e7bd.wav\n"
     ]
    },
    {
     "name": "stderr",
     "output_type": "stream",
     "text": [
      " 57%|█████▋    | 345/607 [01:17<00:45,  5.80it/s]"
     ]
    },
    {
     "name": "stdout",
     "output_type": "stream",
     "text": [
      "'d:\\\\nepali_notetaker_project\\\\nepali_notetaker_package\\\\DataSet\\\\asr_nepali_0\\\\asr_nepali\\\\data\\\\00\\\\008c6ed8b1.flac'\n",
      "d:\\nepali_notetaker_project\\nepali_notetaker_package\\DataSet\\asr_nepali_0\\asr_nepali\\data\\00\\008c6ed8b1.flac\n",
      "d:\\nepali_notetaker_project\\nepali_notetaker_package\\DataSet\\asr_nepali_0\\asr_nepali\\data\\00\\processed_wav\\008c6ed8b1.wav\n"
     ]
    },
    {
     "name": "stderr",
     "output_type": "stream",
     "text": [
      " 57%|█████▋    | 347/607 [01:18<00:47,  5.46it/s]"
     ]
    },
    {
     "name": "stdout",
     "output_type": "stream",
     "text": [
      "'d:\\\\nepali_notetaker_project\\\\nepali_notetaker_package\\\\DataSet\\\\asr_nepali_0\\\\asr_nepali\\\\data\\\\00\\\\004e49acdc.flac'\n",
      "d:\\nepali_notetaker_project\\nepali_notetaker_package\\DataSet\\asr_nepali_0\\asr_nepali\\data\\00\\004e49acdc.flac\n",
      "d:\\nepali_notetaker_project\\nepali_notetaker_package\\DataSet\\asr_nepali_0\\asr_nepali\\data\\00\\processed_wav\\004e49acdc.wav\n",
      "'d:\\\\nepali_notetaker_project\\\\nepali_notetaker_package\\\\DataSet\\\\asr_nepali_0\\\\asr_nepali\\\\data\\\\00\\\\0001cf394a.flac'\n",
      "d:\\nepali_notetaker_project\\nepali_notetaker_package\\DataSet\\asr_nepali_0\\asr_nepali\\data\\00\\0001cf394a.flac\n",
      "d:\\nepali_notetaker_project\\nepali_notetaker_package\\DataSet\\asr_nepali_0\\asr_nepali\\data\\00\\processed_wav\\0001cf394a.wav\n"
     ]
    },
    {
     "name": "stderr",
     "output_type": "stream",
     "text": [
      " 57%|█████▋    | 349/607 [01:18<00:45,  5.66it/s]"
     ]
    },
    {
     "name": "stdout",
     "output_type": "stream",
     "text": [
      "'d:\\\\nepali_notetaker_project\\\\nepali_notetaker_package\\\\DataSet\\\\asr_nepali_0\\\\asr_nepali\\\\data\\\\00\\\\008effa699.flac'\n",
      "d:\\nepali_notetaker_project\\nepali_notetaker_package\\DataSet\\asr_nepali_0\\asr_nepali\\data\\00\\008effa699.flac\n",
      "d:\\nepali_notetaker_project\\nepali_notetaker_package\\DataSet\\asr_nepali_0\\asr_nepali\\data\\00\\processed_wav\\008effa699.wav\n",
      "'d:\\\\nepali_notetaker_project\\\\nepali_notetaker_package\\\\DataSet\\\\asr_nepali_0\\\\asr_nepali\\\\data\\\\00\\\\005f0246e6.flac'\n",
      "d:\\nepali_notetaker_project\\nepali_notetaker_package\\DataSet\\asr_nepali_0\\asr_nepali\\data\\00\\005f0246e6.flac\n",
      "d:\\nepali_notetaker_project\\nepali_notetaker_package\\DataSet\\asr_nepali_0\\asr_nepali\\data\\00\\processed_wav\\005f0246e6.wav\n"
     ]
    },
    {
     "name": "stderr",
     "output_type": "stream",
     "text": [
      " 58%|█████▊    | 351/607 [01:18<00:42,  6.01it/s]"
     ]
    },
    {
     "name": "stdout",
     "output_type": "stream",
     "text": [
      "'d:\\\\nepali_notetaker_project\\\\nepali_notetaker_package\\\\DataSet\\\\asr_nepali_0\\\\asr_nepali\\\\data\\\\00\\\\0054538d54.flac'\n",
      "d:\\nepali_notetaker_project\\nepali_notetaker_package\\DataSet\\asr_nepali_0\\asr_nepali\\data\\00\\0054538d54.flac\n",
      "d:\\nepali_notetaker_project\\nepali_notetaker_package\\DataSet\\asr_nepali_0\\asr_nepali\\data\\00\\processed_wav\\0054538d54.wav\n",
      "'d:\\\\nepali_notetaker_project\\\\nepali_notetaker_package\\\\DataSet\\\\asr_nepali_0\\\\asr_nepali\\\\data\\\\00\\\\00866e3f11.flac'\n",
      "d:\\nepali_notetaker_project\\nepali_notetaker_package\\DataSet\\asr_nepali_0\\asr_nepali\\data\\00\\00866e3f11.flac\n",
      "d:\\nepali_notetaker_project\\nepali_notetaker_package\\DataSet\\asr_nepali_0\\asr_nepali\\data\\00\\processed_wav\\00866e3f11.wav\n"
     ]
    },
    {
     "name": "stderr",
     "output_type": "stream",
     "text": [
      " 58%|█████▊    | 353/607 [01:19<00:48,  5.26it/s]"
     ]
    },
    {
     "name": "stdout",
     "output_type": "stream",
     "text": [
      "'d:\\\\nepali_notetaker_project\\\\nepali_notetaker_package\\\\DataSet\\\\asr_nepali_0\\\\asr_nepali\\\\data\\\\00\\\\00f010167f.flac'\n",
      "d:\\nepali_notetaker_project\\nepali_notetaker_package\\DataSet\\asr_nepali_0\\asr_nepali\\data\\00\\00f010167f.flac\n",
      "d:\\nepali_notetaker_project\\nepali_notetaker_package\\DataSet\\asr_nepali_0\\asr_nepali\\data\\00\\processed_wav\\00f010167f.wav\n"
     ]
    },
    {
     "name": "stderr",
     "output_type": "stream",
     "text": [
      " 58%|█████▊    | 354/607 [01:19<00:45,  5.57it/s]"
     ]
    },
    {
     "name": "stdout",
     "output_type": "stream",
     "text": [
      "'d:\\\\nepali_notetaker_project\\\\nepali_notetaker_package\\\\DataSet\\\\asr_nepali_0\\\\asr_nepali\\\\data\\\\00\\\\00fd896136.flac'\n",
      "d:\\nepali_notetaker_project\\nepali_notetaker_package\\DataSet\\asr_nepali_0\\asr_nepali\\data\\00\\00fd896136.flac\n",
      "d:\\nepali_notetaker_project\\nepali_notetaker_package\\DataSet\\asr_nepali_0\\asr_nepali\\data\\00\\processed_wav\\00fd896136.wav\n",
      "'d:\\\\nepali_notetaker_project\\\\nepali_notetaker_package\\\\DataSet\\\\asr_nepali_0\\\\asr_nepali\\\\data\\\\00\\\\0004a4f6e2.flac'\n",
      "d:\\nepali_notetaker_project\\nepali_notetaker_package\\DataSet\\asr_nepali_0\\asr_nepali\\data\\00\\0004a4f6e2.flac\n",
      "d:\\nepali_notetaker_project\\nepali_notetaker_package\\DataSet\\asr_nepali_0\\asr_nepali\\data\\00\\processed_wav\\0004a4f6e2.wav\n"
     ]
    },
    {
     "name": "stderr",
     "output_type": "stream",
     "text": [
      " 59%|█████▊    | 356/607 [01:19<00:44,  5.58it/s]"
     ]
    },
    {
     "name": "stdout",
     "output_type": "stream",
     "text": [
      "'d:\\\\nepali_notetaker_project\\\\nepali_notetaker_package\\\\DataSet\\\\asr_nepali_0\\\\asr_nepali\\\\data\\\\00\\\\005fef7b5d.flac'\n",
      "d:\\nepali_notetaker_project\\nepali_notetaker_package\\DataSet\\asr_nepali_0\\asr_nepali\\data\\00\\005fef7b5d.flac\n",
      "d:\\nepali_notetaker_project\\nepali_notetaker_package\\DataSet\\asr_nepali_0\\asr_nepali\\data\\00\\processed_wav\\005fef7b5d.wav\n",
      "'d:\\\\nepali_notetaker_project\\\\nepali_notetaker_package\\\\DataSet\\\\asr_nepali_0\\\\asr_nepali\\\\data\\\\00\\\\0075ae6170.flac'\n",
      "d:\\nepali_notetaker_project\\nepali_notetaker_package\\DataSet\\asr_nepali_0\\asr_nepali\\data\\00\\0075ae6170.flac\n",
      "d:\\nepali_notetaker_project\\nepali_notetaker_package\\DataSet\\asr_nepali_0\\asr_nepali\\data\\00\\processed_wav\\0075ae6170.wav\n"
     ]
    },
    {
     "name": "stderr",
     "output_type": "stream",
     "text": [
      " 59%|█████▉    | 358/607 [01:20<00:42,  5.83it/s]"
     ]
    },
    {
     "name": "stdout",
     "output_type": "stream",
     "text": [
      "'d:\\\\nepali_notetaker_project\\\\nepali_notetaker_package\\\\DataSet\\\\asr_nepali_0\\\\asr_nepali\\\\data\\\\00\\\\00f4abf44d.flac'\n",
      "d:\\nepali_notetaker_project\\nepali_notetaker_package\\DataSet\\asr_nepali_0\\asr_nepali\\data\\00\\00f4abf44d.flac\n",
      "d:\\nepali_notetaker_project\\nepali_notetaker_package\\DataSet\\asr_nepali_0\\asr_nepali\\data\\00\\processed_wav\\00f4abf44d.wav\n",
      "'d:\\\\nepali_notetaker_project\\\\nepali_notetaker_package\\\\DataSet\\\\asr_nepali_0\\\\asr_nepali\\\\data\\\\00\\\\006bd9a275.flac'\n",
      "d:\\nepali_notetaker_project\\nepali_notetaker_package\\DataSet\\asr_nepali_0\\asr_nepali\\data\\00\\006bd9a275.flac\n",
      "d:\\nepali_notetaker_project\\nepali_notetaker_package\\DataSet\\asr_nepali_0\\asr_nepali\\data\\00\\processed_wav\\006bd9a275.wav\n"
     ]
    },
    {
     "name": "stderr",
     "output_type": "stream",
     "text": [
      " 59%|█████▉    | 360/607 [01:20<00:46,  5.30it/s]"
     ]
    },
    {
     "name": "stdout",
     "output_type": "stream",
     "text": [
      "'d:\\\\nepali_notetaker_project\\\\nepali_notetaker_package\\\\DataSet\\\\asr_nepali_0\\\\asr_nepali\\\\data\\\\00\\\\00d28aedff.flac'\n",
      "d:\\nepali_notetaker_project\\nepali_notetaker_package\\DataSet\\asr_nepali_0\\asr_nepali\\data\\00\\00d28aedff.flac\n",
      "d:\\nepali_notetaker_project\\nepali_notetaker_package\\DataSet\\asr_nepali_0\\asr_nepali\\data\\00\\processed_wav\\00d28aedff.wav\n"
     ]
    },
    {
     "name": "stderr",
     "output_type": "stream",
     "text": [
      " 59%|█████▉    | 361/607 [01:20<00:45,  5.40it/s]"
     ]
    },
    {
     "name": "stdout",
     "output_type": "stream",
     "text": [
      "'d:\\\\nepali_notetaker_project\\\\nepali_notetaker_package\\\\DataSet\\\\asr_nepali_0\\\\asr_nepali\\\\data\\\\00\\\\008f2e2b4e.flac'\n",
      "d:\\nepali_notetaker_project\\nepali_notetaker_package\\DataSet\\asr_nepali_0\\asr_nepali\\data\\00\\008f2e2b4e.flac\n",
      "d:\\nepali_notetaker_project\\nepali_notetaker_package\\DataSet\\asr_nepali_0\\asr_nepali\\data\\00\\processed_wav\\008f2e2b4e.wav\n",
      "'d:\\\\nepali_notetaker_project\\\\nepali_notetaker_package\\\\DataSet\\\\asr_nepali_0\\\\asr_nepali\\\\data\\\\00\\\\007658a342.flac'\n",
      "d:\\nepali_notetaker_project\\nepali_notetaker_package\\DataSet\\asr_nepali_0\\asr_nepali\\data\\00\\007658a342.flac\n",
      "d:\\nepali_notetaker_project\\nepali_notetaker_package\\DataSet\\asr_nepali_0\\asr_nepali\\data\\00\\processed_wav\\007658a342.wav\n"
     ]
    },
    {
     "name": "stderr",
     "output_type": "stream",
     "text": [
      " 60%|█████▉    | 363/607 [01:20<00:43,  5.61it/s]"
     ]
    },
    {
     "name": "stdout",
     "output_type": "stream",
     "text": [
      "'d:\\\\nepali_notetaker_project\\\\nepali_notetaker_package\\\\DataSet\\\\asr_nepali_0\\\\asr_nepali\\\\data\\\\00\\\\0059c7e2ff.flac'\n",
      "d:\\nepali_notetaker_project\\nepali_notetaker_package\\DataSet\\asr_nepali_0\\asr_nepali\\data\\00\\0059c7e2ff.flac\n",
      "d:\\nepali_notetaker_project\\nepali_notetaker_package\\DataSet\\asr_nepali_0\\asr_nepali\\data\\00\\processed_wav\\0059c7e2ff.wav\n",
      "'d:\\\\nepali_notetaker_project\\\\nepali_notetaker_package\\\\DataSet\\\\asr_nepali_0\\\\asr_nepali\\\\data\\\\00\\\\00f967ce9b.flac'\n",
      "d:\\nepali_notetaker_project\\nepali_notetaker_package\\DataSet\\asr_nepali_0\\asr_nepali\\data\\00\\00f967ce9b.flac\n",
      "d:\\nepali_notetaker_project\\nepali_notetaker_package\\DataSet\\asr_nepali_0\\asr_nepali\\data\\00\\processed_wav\\00f967ce9b.wav\n"
     ]
    },
    {
     "name": "stderr",
     "output_type": "stream",
     "text": [
      " 60%|██████    | 365/607 [01:21<00:39,  6.07it/s]"
     ]
    },
    {
     "name": "stdout",
     "output_type": "stream",
     "text": [
      "'d:\\\\nepali_notetaker_project\\\\nepali_notetaker_package\\\\DataSet\\\\asr_nepali_0\\\\asr_nepali\\\\data\\\\00\\\\0047bf7b18.flac'\n",
      "d:\\nepali_notetaker_project\\nepali_notetaker_package\\DataSet\\asr_nepali_0\\asr_nepali\\data\\00\\0047bf7b18.flac\n",
      "d:\\nepali_notetaker_project\\nepali_notetaker_package\\DataSet\\asr_nepali_0\\asr_nepali\\data\\00\\processed_wav\\0047bf7b18.wav\n",
      "'d:\\\\nepali_notetaker_project\\\\nepali_notetaker_package\\\\DataSet\\\\asr_nepali_0\\\\asr_nepali\\\\data\\\\00\\\\005f8f48ec.flac'\n",
      "d:\\nepali_notetaker_project\\nepali_notetaker_package\\DataSet\\asr_nepali_0\\asr_nepali\\data\\00\\005f8f48ec.flac\n",
      "d:\\nepali_notetaker_project\\nepali_notetaker_package\\DataSet\\asr_nepali_0\\asr_nepali\\data\\00\\processed_wav\\005f8f48ec.wav\n"
     ]
    },
    {
     "name": "stderr",
     "output_type": "stream",
     "text": [
      " 60%|██████    | 367/607 [01:21<00:41,  5.75it/s]"
     ]
    },
    {
     "name": "stdout",
     "output_type": "stream",
     "text": [
      "'d:\\\\nepali_notetaker_project\\\\nepali_notetaker_package\\\\DataSet\\\\asr_nepali_0\\\\asr_nepali\\\\data\\\\00\\\\0076aeb41c.flac'\n",
      "d:\\nepali_notetaker_project\\nepali_notetaker_package\\DataSet\\asr_nepali_0\\asr_nepali\\data\\00\\0076aeb41c.flac\n",
      "d:\\nepali_notetaker_project\\nepali_notetaker_package\\DataSet\\asr_nepali_0\\asr_nepali\\data\\00\\processed_wav\\0076aeb41c.wav\n"
     ]
    },
    {
     "name": "stderr",
     "output_type": "stream",
     "text": [
      " 61%|██████    | 368/607 [01:21<00:40,  5.88it/s]"
     ]
    },
    {
     "name": "stdout",
     "output_type": "stream",
     "text": [
      "'d:\\\\nepali_notetaker_project\\\\nepali_notetaker_package\\\\DataSet\\\\asr_nepali_0\\\\asr_nepali\\\\data\\\\00\\\\00a835435f.flac'\n",
      "d:\\nepali_notetaker_project\\nepali_notetaker_package\\DataSet\\asr_nepali_0\\asr_nepali\\data\\00\\00a835435f.flac\n",
      "d:\\nepali_notetaker_project\\nepali_notetaker_package\\DataSet\\asr_nepali_0\\asr_nepali\\data\\00\\processed_wav\\00a835435f.wav\n",
      "'d:\\\\nepali_notetaker_project\\\\nepali_notetaker_package\\\\DataSet\\\\asr_nepali_0\\\\asr_nepali\\\\data\\\\00\\\\002b1a8489.flac'\n",
      "d:\\nepali_notetaker_project\\nepali_notetaker_package\\DataSet\\asr_nepali_0\\asr_nepali\\data\\00\\002b1a8489.flac\n",
      "d:\\nepali_notetaker_project\\nepali_notetaker_package\\DataSet\\asr_nepali_0\\asr_nepali\\data\\00\\processed_wav\\002b1a8489.wav\n"
     ]
    },
    {
     "name": "stderr",
     "output_type": "stream",
     "text": [
      " 61%|██████    | 370/607 [01:22<00:41,  5.68it/s]"
     ]
    },
    {
     "name": "stdout",
     "output_type": "stream",
     "text": [
      "'d:\\\\nepali_notetaker_project\\\\nepali_notetaker_package\\\\DataSet\\\\asr_nepali_0\\\\asr_nepali\\\\data\\\\00\\\\00f40f5440.flac'\n",
      "d:\\nepali_notetaker_project\\nepali_notetaker_package\\DataSet\\asr_nepali_0\\asr_nepali\\data\\00\\00f40f5440.flac\n",
      "d:\\nepali_notetaker_project\\nepali_notetaker_package\\DataSet\\asr_nepali_0\\asr_nepali\\data\\00\\processed_wav\\00f40f5440.wav\n"
     ]
    },
    {
     "name": "stderr",
     "output_type": "stream",
     "text": [
      " 61%|██████    | 371/607 [01:22<00:42,  5.62it/s]"
     ]
    },
    {
     "name": "stdout",
     "output_type": "stream",
     "text": [
      "'d:\\\\nepali_notetaker_project\\\\nepali_notetaker_package\\\\DataSet\\\\asr_nepali_0\\\\asr_nepali\\\\data\\\\00\\\\0030168dbb.flac'\n",
      "d:\\nepali_notetaker_project\\nepali_notetaker_package\\DataSet\\asr_nepali_0\\asr_nepali\\data\\00\\0030168dbb.flac\n",
      "d:\\nepali_notetaker_project\\nepali_notetaker_package\\DataSet\\asr_nepali_0\\asr_nepali\\data\\00\\processed_wav\\0030168dbb.wav\n"
     ]
    },
    {
     "name": "stderr",
     "output_type": "stream",
     "text": [
      " 61%|██████▏   | 372/607 [01:22<00:42,  5.49it/s]"
     ]
    },
    {
     "name": "stdout",
     "output_type": "stream",
     "text": [
      "'d:\\\\nepali_notetaker_project\\\\nepali_notetaker_package\\\\DataSet\\\\asr_nepali_0\\\\asr_nepali\\\\data\\\\00\\\\0001b0e4b4.flac'\n",
      "d:\\nepali_notetaker_project\\nepali_notetaker_package\\DataSet\\asr_nepali_0\\asr_nepali\\data\\00\\0001b0e4b4.flac\n",
      "d:\\nepali_notetaker_project\\nepali_notetaker_package\\DataSet\\asr_nepali_0\\asr_nepali\\data\\00\\processed_wav\\0001b0e4b4.wav\n"
     ]
    },
    {
     "name": "stderr",
     "output_type": "stream",
     "text": [
      " 61%|██████▏   | 373/607 [01:22<00:42,  5.48it/s]"
     ]
    },
    {
     "name": "stdout",
     "output_type": "stream",
     "text": [
      "'d:\\\\nepali_notetaker_project\\\\nepali_notetaker_package\\\\DataSet\\\\asr_nepali_0\\\\asr_nepali\\\\data\\\\00\\\\0019c4a22b.flac'\n",
      "d:\\nepali_notetaker_project\\nepali_notetaker_package\\DataSet\\asr_nepali_0\\asr_nepali\\data\\00\\0019c4a22b.flac\n",
      "d:\\nepali_notetaker_project\\nepali_notetaker_package\\DataSet\\asr_nepali_0\\asr_nepali\\data\\00\\processed_wav\\0019c4a22b.wav\n"
     ]
    },
    {
     "name": "stderr",
     "output_type": "stream",
     "text": [
      " 62%|██████▏   | 374/607 [01:22<00:42,  5.49it/s]"
     ]
    },
    {
     "name": "stdout",
     "output_type": "stream",
     "text": [
      "'d:\\\\nepali_notetaker_project\\\\nepali_notetaker_package\\\\DataSet\\\\asr_nepali_0\\\\asr_nepali\\\\data\\\\00\\\\001ca0ce21.flac'\n",
      "d:\\nepali_notetaker_project\\nepali_notetaker_package\\DataSet\\asr_nepali_0\\asr_nepali\\data\\00\\001ca0ce21.flac\n",
      "d:\\nepali_notetaker_project\\nepali_notetaker_package\\DataSet\\asr_nepali_0\\asr_nepali\\data\\00\\processed_wav\\001ca0ce21.wav\n"
     ]
    },
    {
     "name": "stderr",
     "output_type": "stream",
     "text": [
      " 62%|██████▏   | 375/607 [01:23<00:41,  5.53it/s]"
     ]
    },
    {
     "name": "stdout",
     "output_type": "stream",
     "text": [
      "'d:\\\\nepali_notetaker_project\\\\nepali_notetaker_package\\\\DataSet\\\\asr_nepali_0\\\\asr_nepali\\\\data\\\\00\\\\004baae003.flac'\n",
      "d:\\nepali_notetaker_project\\nepali_notetaker_package\\DataSet\\asr_nepali_0\\asr_nepali\\data\\00\\004baae003.flac\n",
      "d:\\nepali_notetaker_project\\nepali_notetaker_package\\DataSet\\asr_nepali_0\\asr_nepali\\data\\00\\processed_wav\\004baae003.wav\n",
      "'d:\\\\nepali_notetaker_project\\\\nepali_notetaker_package\\\\DataSet\\\\asr_nepali_0\\\\asr_nepali\\\\data\\\\00\\\\00d69b125c.flac'\n",
      "d:\\nepali_notetaker_project\\nepali_notetaker_package\\DataSet\\asr_nepali_0\\asr_nepali\\data\\00\\00d69b125c.flac\n",
      "d:\\nepali_notetaker_project\\nepali_notetaker_package\\DataSet\\asr_nepali_0\\asr_nepali\\data\\00\\processed_wav\\00d69b125c.wav\n"
     ]
    },
    {
     "name": "stderr",
     "output_type": "stream",
     "text": [
      " 62%|██████▏   | 377/607 [01:23<00:42,  5.47it/s]"
     ]
    },
    {
     "name": "stdout",
     "output_type": "stream",
     "text": [
      "'d:\\\\nepali_notetaker_project\\\\nepali_notetaker_package\\\\DataSet\\\\asr_nepali_0\\\\asr_nepali\\\\data\\\\00\\\\00c84c863f.flac'\n",
      "d:\\nepali_notetaker_project\\nepali_notetaker_package\\DataSet\\asr_nepali_0\\asr_nepali\\data\\00\\00c84c863f.flac\n",
      "d:\\nepali_notetaker_project\\nepali_notetaker_package\\DataSet\\asr_nepali_0\\asr_nepali\\data\\00\\processed_wav\\00c84c863f.wav\n",
      "'d:\\\\nepali_notetaker_project\\\\nepali_notetaker_package\\\\DataSet\\\\asr_nepali_0\\\\asr_nepali\\\\data\\\\00\\\\006a0535dc.flac'\n",
      "d:\\nepali_notetaker_project\\nepali_notetaker_package\\DataSet\\asr_nepali_0\\asr_nepali\\data\\00\\006a0535dc.flac\n",
      "d:\\nepali_notetaker_project\\nepali_notetaker_package\\DataSet\\asr_nepali_0\\asr_nepali\\data\\00\\processed_wav\\006a0535dc.wav\n"
     ]
    },
    {
     "name": "stderr",
     "output_type": "stream",
     "text": [
      " 62%|██████▏   | 379/607 [01:23<00:41,  5.48it/s]"
     ]
    },
    {
     "name": "stdout",
     "output_type": "stream",
     "text": [
      "'d:\\\\nepali_notetaker_project\\\\nepali_notetaker_package\\\\DataSet\\\\asr_nepali_0\\\\asr_nepali\\\\data\\\\00\\\\00aa43f669.flac'\n",
      "d:\\nepali_notetaker_project\\nepali_notetaker_package\\DataSet\\asr_nepali_0\\asr_nepali\\data\\00\\00aa43f669.flac\n",
      "d:\\nepali_notetaker_project\\nepali_notetaker_package\\DataSet\\asr_nepali_0\\asr_nepali\\data\\00\\processed_wav\\00aa43f669.wav\n"
     ]
    },
    {
     "name": "stderr",
     "output_type": "stream",
     "text": [
      " 63%|██████▎   | 380/607 [01:23<00:41,  5.52it/s]"
     ]
    },
    {
     "name": "stdout",
     "output_type": "stream",
     "text": [
      "'d:\\\\nepali_notetaker_project\\\\nepali_notetaker_package\\\\DataSet\\\\asr_nepali_0\\\\asr_nepali\\\\data\\\\00\\\\005ef574ee.flac'\n",
      "d:\\nepali_notetaker_project\\nepali_notetaker_package\\DataSet\\asr_nepali_0\\asr_nepali\\data\\00\\005ef574ee.flac\n",
      "d:\\nepali_notetaker_project\\nepali_notetaker_package\\DataSet\\asr_nepali_0\\asr_nepali\\data\\00\\processed_wav\\005ef574ee.wav\n",
      "'d:\\\\nepali_notetaker_project\\\\nepali_notetaker_package\\\\DataSet\\\\asr_nepali_0\\\\asr_nepali\\\\data\\\\00\\\\00dbbdaa2c.flac'\n",
      "d:\\nepali_notetaker_project\\nepali_notetaker_package\\DataSet\\asr_nepali_0\\asr_nepali\\data\\00\\00dbbdaa2c.flac\n",
      "d:\\nepali_notetaker_project\\nepali_notetaker_package\\DataSet\\asr_nepali_0\\asr_nepali\\data\\00\\processed_wav\\00dbbdaa2c.wav\n"
     ]
    },
    {
     "name": "stderr",
     "output_type": "stream",
     "text": [
      " 63%|██████▎   | 382/607 [01:24<00:41,  5.38it/s]"
     ]
    },
    {
     "name": "stdout",
     "output_type": "stream",
     "text": [
      "'d:\\\\nepali_notetaker_project\\\\nepali_notetaker_package\\\\DataSet\\\\asr_nepali_0\\\\asr_nepali\\\\data\\\\00\\\\00700398a5.flac'\n",
      "d:\\nepali_notetaker_project\\nepali_notetaker_package\\DataSet\\asr_nepali_0\\asr_nepali\\data\\00\\00700398a5.flac\n",
      "d:\\nepali_notetaker_project\\nepali_notetaker_package\\DataSet\\asr_nepali_0\\asr_nepali\\data\\00\\processed_wav\\00700398a5.wav\n"
     ]
    },
    {
     "name": "stderr",
     "output_type": "stream",
     "text": [
      " 63%|██████▎   | 383/607 [01:24<00:43,  5.19it/s]"
     ]
    },
    {
     "name": "stdout",
     "output_type": "stream",
     "text": [
      "'d:\\\\nepali_notetaker_project\\\\nepali_notetaker_package\\\\DataSet\\\\asr_nepali_0\\\\asr_nepali\\\\data\\\\00\\\\004a2c6066.flac'\n",
      "d:\\nepali_notetaker_project\\nepali_notetaker_package\\DataSet\\asr_nepali_0\\asr_nepali\\data\\00\\004a2c6066.flac\n",
      "d:\\nepali_notetaker_project\\nepali_notetaker_package\\DataSet\\asr_nepali_0\\asr_nepali\\data\\00\\processed_wav\\004a2c6066.wav\n"
     ]
    },
    {
     "name": "stderr",
     "output_type": "stream",
     "text": [
      " 63%|██████▎   | 384/607 [01:24<00:43,  5.16it/s]"
     ]
    },
    {
     "name": "stdout",
     "output_type": "stream",
     "text": [
      "'d:\\\\nepali_notetaker_project\\\\nepali_notetaker_package\\\\DataSet\\\\asr_nepali_0\\\\asr_nepali\\\\data\\\\00\\\\0074f60ce3.flac'\n",
      "d:\\nepali_notetaker_project\\nepali_notetaker_package\\DataSet\\asr_nepali_0\\asr_nepali\\data\\00\\0074f60ce3.flac\n",
      "d:\\nepali_notetaker_project\\nepali_notetaker_package\\DataSet\\asr_nepali_0\\asr_nepali\\data\\00\\processed_wav\\0074f60ce3.wav\n"
     ]
    },
    {
     "name": "stderr",
     "output_type": "stream",
     "text": [
      " 63%|██████▎   | 385/607 [01:24<00:44,  5.00it/s]"
     ]
    },
    {
     "name": "stdout",
     "output_type": "stream",
     "text": [
      "'d:\\\\nepali_notetaker_project\\\\nepali_notetaker_package\\\\DataSet\\\\asr_nepali_0\\\\asr_nepali\\\\data\\\\00\\\\00d54bbd2d.flac'\n",
      "d:\\nepali_notetaker_project\\nepali_notetaker_package\\DataSet\\asr_nepali_0\\asr_nepali\\data\\00\\00d54bbd2d.flac\n",
      "d:\\nepali_notetaker_project\\nepali_notetaker_package\\DataSet\\asr_nepali_0\\asr_nepali\\data\\00\\processed_wav\\00d54bbd2d.wav\n"
     ]
    },
    {
     "name": "stderr",
     "output_type": "stream",
     "text": [
      " 64%|██████▎   | 386/607 [01:25<00:44,  4.95it/s]"
     ]
    },
    {
     "name": "stdout",
     "output_type": "stream",
     "text": [
      "'d:\\\\nepali_notetaker_project\\\\nepali_notetaker_package\\\\DataSet\\\\asr_nepali_0\\\\asr_nepali\\\\data\\\\00\\\\002af29a8a.flac'\n",
      "d:\\nepali_notetaker_project\\nepali_notetaker_package\\DataSet\\asr_nepali_0\\asr_nepali\\data\\00\\002af29a8a.flac\n",
      "d:\\nepali_notetaker_project\\nepali_notetaker_package\\DataSet\\asr_nepali_0\\asr_nepali\\data\\00\\processed_wav\\002af29a8a.wav\n"
     ]
    },
    {
     "name": "stderr",
     "output_type": "stream",
     "text": [
      " 64%|██████▍   | 387/607 [01:25<00:42,  5.16it/s]"
     ]
    },
    {
     "name": "stdout",
     "output_type": "stream",
     "text": [
      "'d:\\\\nepali_notetaker_project\\\\nepali_notetaker_package\\\\DataSet\\\\asr_nepali_0\\\\asr_nepali\\\\data\\\\00\\\\00e840f66d.flac'\n",
      "d:\\nepali_notetaker_project\\nepali_notetaker_package\\DataSet\\asr_nepali_0\\asr_nepali\\data\\00\\00e840f66d.flac\n",
      "d:\\nepali_notetaker_project\\nepali_notetaker_package\\DataSet\\asr_nepali_0\\asr_nepali\\data\\00\\processed_wav\\00e840f66d.wav\n",
      "'d:\\\\nepali_notetaker_project\\\\nepali_notetaker_package\\\\DataSet\\\\asr_nepali_0\\\\asr_nepali\\\\data\\\\00\\\\009ceb2a8b.flac'\n",
      "d:\\nepali_notetaker_project\\nepali_notetaker_package\\DataSet\\asr_nepali_0\\asr_nepali\\data\\00\\009ceb2a8b.flac\n",
      "d:\\nepali_notetaker_project\\nepali_notetaker_package\\DataSet\\asr_nepali_0\\asr_nepali\\data\\00\\processed_wav\\009ceb2a8b.wav\n"
     ]
    },
    {
     "name": "stderr",
     "output_type": "stream",
     "text": [
      " 64%|██████▍   | 389/607 [01:25<00:39,  5.54it/s]"
     ]
    },
    {
     "name": "stdout",
     "output_type": "stream",
     "text": [
      "'d:\\\\nepali_notetaker_project\\\\nepali_notetaker_package\\\\DataSet\\\\asr_nepali_0\\\\asr_nepali\\\\data\\\\00\\\\0085652e7d.flac'\n",
      "d:\\nepali_notetaker_project\\nepali_notetaker_package\\DataSet\\asr_nepali_0\\asr_nepali\\data\\00\\0085652e7d.flac\n",
      "d:\\nepali_notetaker_project\\nepali_notetaker_package\\DataSet\\asr_nepali_0\\asr_nepali\\data\\00\\processed_wav\\0085652e7d.wav\n",
      "'d:\\\\nepali_notetaker_project\\\\nepali_notetaker_package\\\\DataSet\\\\asr_nepali_0\\\\asr_nepali\\\\data\\\\00\\\\00421d8146.flac'\n",
      "d:\\nepali_notetaker_project\\nepali_notetaker_package\\DataSet\\asr_nepali_0\\asr_nepali\\data\\00\\00421d8146.flac\n",
      "d:\\nepali_notetaker_project\\nepali_notetaker_package\\DataSet\\asr_nepali_0\\asr_nepali\\data\\00\\processed_wav\\00421d8146.wav\n"
     ]
    },
    {
     "name": "stderr",
     "output_type": "stream",
     "text": [
      " 64%|██████▍   | 391/607 [01:26<00:36,  5.94it/s]"
     ]
    },
    {
     "name": "stdout",
     "output_type": "stream",
     "text": [
      "'d:\\\\nepali_notetaker_project\\\\nepali_notetaker_package\\\\DataSet\\\\asr_nepali_0\\\\asr_nepali\\\\data\\\\00\\\\00f810e052.flac'\n",
      "d:\\nepali_notetaker_project\\nepali_notetaker_package\\DataSet\\asr_nepali_0\\asr_nepali\\data\\00\\00f810e052.flac\n",
      "d:\\nepali_notetaker_project\\nepali_notetaker_package\\DataSet\\asr_nepali_0\\asr_nepali\\data\\00\\processed_wav\\00f810e052.wav\n",
      "'d:\\\\nepali_notetaker_project\\\\nepali_notetaker_package\\\\DataSet\\\\asr_nepali_0\\\\asr_nepali\\\\data\\\\00\\\\0008fd3262.flac'\n",
      "d:\\nepali_notetaker_project\\nepali_notetaker_package\\DataSet\\asr_nepali_0\\asr_nepali\\data\\00\\0008fd3262.flac\n",
      "d:\\nepali_notetaker_project\\nepali_notetaker_package\\DataSet\\asr_nepali_0\\asr_nepali\\data\\00\\processed_wav\\0008fd3262.wav\n"
     ]
    },
    {
     "name": "stderr",
     "output_type": "stream",
     "text": [
      " 65%|██████▍   | 393/607 [01:26<00:37,  5.75it/s]"
     ]
    },
    {
     "name": "stdout",
     "output_type": "stream",
     "text": [
      "'d:\\\\nepali_notetaker_project\\\\nepali_notetaker_package\\\\DataSet\\\\asr_nepali_0\\\\asr_nepali\\\\data\\\\00\\\\00959e7b6b.flac'\n",
      "d:\\nepali_notetaker_project\\nepali_notetaker_package\\DataSet\\asr_nepali_0\\asr_nepali\\data\\00\\00959e7b6b.flac\n",
      "d:\\nepali_notetaker_project\\nepali_notetaker_package\\DataSet\\asr_nepali_0\\asr_nepali\\data\\00\\processed_wav\\00959e7b6b.wav\n"
     ]
    },
    {
     "name": "stderr",
     "output_type": "stream",
     "text": [
      " 65%|██████▍   | 394/607 [01:26<00:36,  5.86it/s]"
     ]
    },
    {
     "name": "stdout",
     "output_type": "stream",
     "text": [
      "'d:\\\\nepali_notetaker_project\\\\nepali_notetaker_package\\\\DataSet\\\\asr_nepali_0\\\\asr_nepali\\\\data\\\\00\\\\00062958ef.flac'\n",
      "d:\\nepali_notetaker_project\\nepali_notetaker_package\\DataSet\\asr_nepali_0\\asr_nepali\\data\\00\\00062958ef.flac\n",
      "d:\\nepali_notetaker_project\\nepali_notetaker_package\\DataSet\\asr_nepali_0\\asr_nepali\\data\\00\\processed_wav\\00062958ef.wav\n",
      "'d:\\\\nepali_notetaker_project\\\\nepali_notetaker_package\\\\DataSet\\\\asr_nepali_0\\\\asr_nepali\\\\data\\\\00\\\\001aafcee1.flac'\n",
      "d:\\nepali_notetaker_project\\nepali_notetaker_package\\DataSet\\asr_nepali_0\\asr_nepali\\data\\00\\001aafcee1.flac\n",
      "d:\\nepali_notetaker_project\\nepali_notetaker_package\\DataSet\\asr_nepali_0\\asr_nepali\\data\\00\\processed_wav\\001aafcee1.wav\n"
     ]
    },
    {
     "name": "stderr",
     "output_type": "stream",
     "text": [
      " 65%|██████▌   | 395/607 [01:26<00:38,  5.49it/s]"
     ]
    },
    {
     "name": "stdout",
     "output_type": "stream",
     "text": [
      "'d:\\\\nepali_notetaker_project\\\\nepali_notetaker_package\\\\DataSet\\\\asr_nepali_0\\\\asr_nepali\\\\data\\\\00\\\\0025bee851.flac'\n",
      "d:\\nepali_notetaker_project\\nepali_notetaker_package\\DataSet\\asr_nepali_0\\asr_nepali\\data\\00\\0025bee851.flac\n",
      "d:\\nepali_notetaker_project\\nepali_notetaker_package\\DataSet\\asr_nepali_0\\asr_nepali\\data\\00\\processed_wav\\0025bee851.wav\n"
     ]
    },
    {
     "name": "stderr",
     "output_type": "stream",
     "text": [
      " 65%|██████▌   | 397/607 [01:27<00:42,  5.00it/s]"
     ]
    },
    {
     "name": "stdout",
     "output_type": "stream",
     "text": [
      "'d:\\\\nepali_notetaker_project\\\\nepali_notetaker_package\\\\DataSet\\\\asr_nepali_0\\\\asr_nepali\\\\data\\\\00\\\\00bdaacfc5.flac'\n",
      "d:\\nepali_notetaker_project\\nepali_notetaker_package\\DataSet\\asr_nepali_0\\asr_nepali\\data\\00\\00bdaacfc5.flac\n",
      "d:\\nepali_notetaker_project\\nepali_notetaker_package\\DataSet\\asr_nepali_0\\asr_nepali\\data\\00\\processed_wav\\00bdaacfc5.wav\n"
     ]
    },
    {
     "name": "stderr",
     "output_type": "stream",
     "text": [
      " 66%|██████▌   | 398/607 [01:27<00:40,  5.11it/s]"
     ]
    },
    {
     "name": "stdout",
     "output_type": "stream",
     "text": [
      "'d:\\\\nepali_notetaker_project\\\\nepali_notetaker_package\\\\DataSet\\\\asr_nepali_0\\\\asr_nepali\\\\data\\\\00\\\\006bee0ec1.flac'\n",
      "d:\\nepali_notetaker_project\\nepali_notetaker_package\\DataSet\\asr_nepali_0\\asr_nepali\\data\\00\\006bee0ec1.flac\n",
      "d:\\nepali_notetaker_project\\nepali_notetaker_package\\DataSet\\asr_nepali_0\\asr_nepali\\data\\00\\processed_wav\\006bee0ec1.wav\n"
     ]
    },
    {
     "name": "stderr",
     "output_type": "stream",
     "text": [
      " 66%|██████▌   | 399/607 [01:27<00:39,  5.25it/s]"
     ]
    },
    {
     "name": "stdout",
     "output_type": "stream",
     "text": [
      "'d:\\\\nepali_notetaker_project\\\\nepali_notetaker_package\\\\DataSet\\\\asr_nepali_0\\\\asr_nepali\\\\data\\\\00\\\\004fde742c.flac'\n",
      "d:\\nepali_notetaker_project\\nepali_notetaker_package\\DataSet\\asr_nepali_0\\asr_nepali\\data\\00\\004fde742c.flac\n",
      "d:\\nepali_notetaker_project\\nepali_notetaker_package\\DataSet\\asr_nepali_0\\asr_nepali\\data\\00\\processed_wav\\004fde742c.wav\n",
      "'d:\\\\nepali_notetaker_project\\\\nepali_notetaker_package\\\\DataSet\\\\asr_nepali_0\\\\asr_nepali\\\\data\\\\00\\\\0013095d41.flac'\n",
      "d:\\nepali_notetaker_project\\nepali_notetaker_package\\DataSet\\asr_nepali_0\\asr_nepali\\data\\00\\0013095d41.flac\n",
      "d:\\nepali_notetaker_project\\nepali_notetaker_package\\DataSet\\asr_nepali_0\\asr_nepali\\data\\00\\processed_wav\\0013095d41.wav\n"
     ]
    },
    {
     "name": "stderr",
     "output_type": "stream",
     "text": [
      " 66%|██████▌   | 401/607 [01:27<00:37,  5.44it/s]"
     ]
    },
    {
     "name": "stdout",
     "output_type": "stream",
     "text": [
      "'d:\\\\nepali_notetaker_project\\\\nepali_notetaker_package\\\\DataSet\\\\asr_nepali_0\\\\asr_nepali\\\\data\\\\00\\\\008eee7b02.flac'\n",
      "d:\\nepali_notetaker_project\\nepali_notetaker_package\\DataSet\\asr_nepali_0\\asr_nepali\\data\\00\\008eee7b02.flac\n",
      "d:\\nepali_notetaker_project\\nepali_notetaker_package\\DataSet\\asr_nepali_0\\asr_nepali\\data\\00\\processed_wav\\008eee7b02.wav\n",
      "'d:\\\\nepali_notetaker_project\\\\nepali_notetaker_package\\\\DataSet\\\\asr_nepali_0\\\\asr_nepali\\\\data\\\\00\\\\00e60b6169.flac'\n",
      "d:\\nepali_notetaker_project\\nepali_notetaker_package\\DataSet\\asr_nepali_0\\asr_nepali\\data\\00\\00e60b6169.flac\n",
      "d:\\nepali_notetaker_project\\nepali_notetaker_package\\DataSet\\asr_nepali_0\\asr_nepali\\data\\00\\processed_wav\\00e60b6169.wav\n"
     ]
    },
    {
     "name": "stderr",
     "output_type": "stream",
     "text": [
      " 66%|██████▌   | 402/607 [01:28<00:39,  5.22it/s]"
     ]
    },
    {
     "name": "stdout",
     "output_type": "stream",
     "text": [
      "'d:\\\\nepali_notetaker_project\\\\nepali_notetaker_package\\\\DataSet\\\\asr_nepali_0\\\\asr_nepali\\\\data\\\\00\\\\00977957bd.flac'\n",
      "d:\\nepali_notetaker_project\\nepali_notetaker_package\\DataSet\\asr_nepali_0\\asr_nepali\\data\\00\\00977957bd.flac\n",
      "d:\\nepali_notetaker_project\\nepali_notetaker_package\\DataSet\\asr_nepali_0\\asr_nepali\\data\\00\\processed_wav\\00977957bd.wav\n"
     ]
    },
    {
     "name": "stderr",
     "output_type": "stream",
     "text": [
      " 67%|██████▋   | 404/607 [01:28<00:39,  5.15it/s]"
     ]
    },
    {
     "name": "stdout",
     "output_type": "stream",
     "text": [
      "'d:\\\\nepali_notetaker_project\\\\nepali_notetaker_package\\\\DataSet\\\\asr_nepali_0\\\\asr_nepali\\\\data\\\\00\\\\0090dec475.flac'\n",
      "d:\\nepali_notetaker_project\\nepali_notetaker_package\\DataSet\\asr_nepali_0\\asr_nepali\\data\\00\\0090dec475.flac\n",
      "d:\\nepali_notetaker_project\\nepali_notetaker_package\\DataSet\\asr_nepali_0\\asr_nepali\\data\\00\\processed_wav\\0090dec475.wav\n"
     ]
    },
    {
     "name": "stderr",
     "output_type": "stream",
     "text": [
      " 67%|██████▋   | 405/607 [01:28<00:37,  5.36it/s]"
     ]
    },
    {
     "name": "stdout",
     "output_type": "stream",
     "text": [
      "'d:\\\\nepali_notetaker_project\\\\nepali_notetaker_package\\\\DataSet\\\\asr_nepali_0\\\\asr_nepali\\\\data\\\\00\\\\00bede9d9a.flac'\n",
      "d:\\nepali_notetaker_project\\nepali_notetaker_package\\DataSet\\asr_nepali_0\\asr_nepali\\data\\00\\00bede9d9a.flac\n",
      "d:\\nepali_notetaker_project\\nepali_notetaker_package\\DataSet\\asr_nepali_0\\asr_nepali\\data\\00\\processed_wav\\00bede9d9a.wav\n",
      "'d:\\\\nepali_notetaker_project\\\\nepali_notetaker_package\\\\DataSet\\\\asr_nepali_0\\\\asr_nepali\\\\data\\\\00\\\\00236ebe7b.flac'\n",
      "d:\\nepali_notetaker_project\\nepali_notetaker_package\\DataSet\\asr_nepali_0\\asr_nepali\\data\\00\\00236ebe7b.flac\n",
      "d:\\nepali_notetaker_project\\nepali_notetaker_package\\DataSet\\asr_nepali_0\\asr_nepali\\data\\00\\processed_wav\\00236ebe7b.wav\n"
     ]
    },
    {
     "name": "stderr",
     "output_type": "stream",
     "text": [
      " 67%|██████▋   | 406/607 [01:28<00:37,  5.34it/s]"
     ]
    },
    {
     "name": "stdout",
     "output_type": "stream",
     "text": [
      "'d:\\\\nepali_notetaker_project\\\\nepali_notetaker_package\\\\DataSet\\\\asr_nepali_0\\\\asr_nepali\\\\data\\\\00\\\\00256cf417.flac'\n",
      "d:\\nepali_notetaker_project\\nepali_notetaker_package\\DataSet\\asr_nepali_0\\asr_nepali\\data\\00\\00256cf417.flac\n",
      "d:\\nepali_notetaker_project\\nepali_notetaker_package\\DataSet\\asr_nepali_0\\asr_nepali\\data\\00\\processed_wav\\00256cf417.wav\n"
     ]
    },
    {
     "name": "stderr",
     "output_type": "stream",
     "text": [
      " 67%|██████▋   | 407/607 [01:29<00:39,  5.00it/s]"
     ]
    },
    {
     "name": "stdout",
     "output_type": "stream",
     "text": [
      "'d:\\\\nepali_notetaker_project\\\\nepali_notetaker_package\\\\DataSet\\\\asr_nepali_0\\\\asr_nepali\\\\data\\\\00\\\\0021f0bba3.flac'\n",
      "d:\\nepali_notetaker_project\\nepali_notetaker_package\\DataSet\\asr_nepali_0\\asr_nepali\\data\\00\\0021f0bba3.flac\n",
      "d:\\nepali_notetaker_project\\nepali_notetaker_package\\DataSet\\asr_nepali_0\\asr_nepali\\data\\00\\processed_wav\\0021f0bba3.wav\n"
     ]
    },
    {
     "name": "stderr",
     "output_type": "stream",
     "text": [
      " 67%|██████▋   | 409/607 [01:29<00:38,  5.09it/s]"
     ]
    },
    {
     "name": "stdout",
     "output_type": "stream",
     "text": [
      "'d:\\\\nepali_notetaker_project\\\\nepali_notetaker_package\\\\DataSet\\\\asr_nepali_0\\\\asr_nepali\\\\data\\\\00\\\\0084df7f44.flac'\n",
      "d:\\nepali_notetaker_project\\nepali_notetaker_package\\DataSet\\asr_nepali_0\\asr_nepali\\data\\00\\0084df7f44.flac\n",
      "d:\\nepali_notetaker_project\\nepali_notetaker_package\\DataSet\\asr_nepali_0\\asr_nepali\\data\\00\\processed_wav\\0084df7f44.wav\n",
      "'d:\\\\nepali_notetaker_project\\\\nepali_notetaker_package\\\\DataSet\\\\asr_nepali_0\\\\asr_nepali\\\\data\\\\00\\\\007055aacf.flac'\n",
      "d:\\nepali_notetaker_project\\nepali_notetaker_package\\DataSet\\asr_nepali_0\\asr_nepali\\data\\00\\007055aacf.flac\n",
      "d:\\nepali_notetaker_project\\nepali_notetaker_package\\DataSet\\asr_nepali_0\\asr_nepali\\data\\00\\processed_wav\\007055aacf.wav\n"
     ]
    },
    {
     "name": "stderr",
     "output_type": "stream",
     "text": [
      " 68%|██████▊   | 411/607 [01:29<00:38,  5.09it/s]"
     ]
    },
    {
     "name": "stdout",
     "output_type": "stream",
     "text": [
      "'d:\\\\nepali_notetaker_project\\\\nepali_notetaker_package\\\\DataSet\\\\asr_nepali_0\\\\asr_nepali\\\\data\\\\00\\\\00f9d2ea47.flac'\n",
      "d:\\nepali_notetaker_project\\nepali_notetaker_package\\DataSet\\asr_nepali_0\\asr_nepali\\data\\00\\00f9d2ea47.flac\n",
      "d:\\nepali_notetaker_project\\nepali_notetaker_package\\DataSet\\asr_nepali_0\\asr_nepali\\data\\00\\processed_wav\\00f9d2ea47.wav\n"
     ]
    },
    {
     "name": "stderr",
     "output_type": "stream",
     "text": [
      " 68%|██████▊   | 412/607 [01:30<00:37,  5.17it/s]"
     ]
    },
    {
     "name": "stdout",
     "output_type": "stream",
     "text": [
      "'d:\\\\nepali_notetaker_project\\\\nepali_notetaker_package\\\\DataSet\\\\asr_nepali_0\\\\asr_nepali\\\\data\\\\00\\\\001f4eb960.flac'\n",
      "d:\\nepali_notetaker_project\\nepali_notetaker_package\\DataSet\\asr_nepali_0\\asr_nepali\\data\\00\\001f4eb960.flac\n",
      "d:\\nepali_notetaker_project\\nepali_notetaker_package\\DataSet\\asr_nepali_0\\asr_nepali\\data\\00\\processed_wav\\001f4eb960.wav\n"
     ]
    },
    {
     "name": "stderr",
     "output_type": "stream",
     "text": [
      " 68%|██████▊   | 413/607 [01:30<00:36,  5.31it/s]"
     ]
    },
    {
     "name": "stdout",
     "output_type": "stream",
     "text": [
      "'d:\\\\nepali_notetaker_project\\\\nepali_notetaker_package\\\\DataSet\\\\asr_nepali_0\\\\asr_nepali\\\\data\\\\00\\\\00b237b81a.flac'\n",
      "d:\\nepali_notetaker_project\\nepali_notetaker_package\\DataSet\\asr_nepali_0\\asr_nepali\\data\\00\\00b237b81a.flac\n",
      "d:\\nepali_notetaker_project\\nepali_notetaker_package\\DataSet\\asr_nepali_0\\asr_nepali\\data\\00\\processed_wav\\00b237b81a.wav\n",
      "'d:\\\\nepali_notetaker_project\\\\nepali_notetaker_package\\\\DataSet\\\\asr_nepali_0\\\\asr_nepali\\\\data\\\\00\\\\0064ef58c9.flac'\n",
      "d:\\nepali_notetaker_project\\nepali_notetaker_package\\DataSet\\asr_nepali_0\\asr_nepali\\data\\00\\0064ef58c9.flac\n",
      "d:\\nepali_notetaker_project\\nepali_notetaker_package\\DataSet\\asr_nepali_0\\asr_nepali\\data\\00\\processed_wav\\0064ef58c9.wav\n"
     ]
    },
    {
     "name": "stderr",
     "output_type": "stream",
     "text": [
      " 68%|██████▊   | 415/607 [01:30<00:33,  5.74it/s]"
     ]
    },
    {
     "name": "stdout",
     "output_type": "stream",
     "text": [
      "'d:\\\\nepali_notetaker_project\\\\nepali_notetaker_package\\\\DataSet\\\\asr_nepali_0\\\\asr_nepali\\\\data\\\\00\\\\002cc075a1.flac'\n",
      "d:\\nepali_notetaker_project\\nepali_notetaker_package\\DataSet\\asr_nepali_0\\asr_nepali\\data\\00\\002cc075a1.flac\n",
      "d:\\nepali_notetaker_project\\nepali_notetaker_package\\DataSet\\asr_nepali_0\\asr_nepali\\data\\00\\processed_wav\\002cc075a1.wav\n",
      "'d:\\\\nepali_notetaker_project\\\\nepali_notetaker_package\\\\DataSet\\\\asr_nepali_0\\\\asr_nepali\\\\data\\\\00\\\\0042d2b56d.flac'\n",
      "d:\\nepali_notetaker_project\\nepali_notetaker_package\\DataSet\\asr_nepali_0\\asr_nepali\\data\\00\\0042d2b56d.flac\n",
      "d:\\nepali_notetaker_project\\nepali_notetaker_package\\DataSet\\asr_nepali_0\\asr_nepali\\data\\00\\processed_wav\\0042d2b56d.wav\n"
     ]
    },
    {
     "name": "stderr",
     "output_type": "stream",
     "text": [
      " 69%|██████▊   | 417/607 [01:30<00:32,  5.83it/s]"
     ]
    },
    {
     "name": "stdout",
     "output_type": "stream",
     "text": [
      "'d:\\\\nepali_notetaker_project\\\\nepali_notetaker_package\\\\DataSet\\\\asr_nepali_0\\\\asr_nepali\\\\data\\\\00\\\\0082097f7d.flac'\n",
      "d:\\nepali_notetaker_project\\nepali_notetaker_package\\DataSet\\asr_nepali_0\\asr_nepali\\data\\00\\0082097f7d.flac\n",
      "d:\\nepali_notetaker_project\\nepali_notetaker_package\\DataSet\\asr_nepali_0\\asr_nepali\\data\\00\\processed_wav\\0082097f7d.wav\n",
      "'d:\\\\nepali_notetaker_project\\\\nepali_notetaker_package\\\\DataSet\\\\asr_nepali_0\\\\asr_nepali\\\\data\\\\00\\\\00dd2da8d0.flac'\n",
      "d:\\nepali_notetaker_project\\nepali_notetaker_package\\DataSet\\asr_nepali_0\\asr_nepali\\data\\00\\00dd2da8d0.flac\n",
      "d:\\nepali_notetaker_project\\nepali_notetaker_package\\DataSet\\asr_nepali_0\\asr_nepali\\data\\00\\processed_wav\\00dd2da8d0.wav\n"
     ]
    },
    {
     "name": "stderr",
     "output_type": "stream",
     "text": [
      " 69%|██████▉   | 419/607 [01:31<00:31,  6.00it/s]"
     ]
    },
    {
     "name": "stdout",
     "output_type": "stream",
     "text": [
      "'d:\\\\nepali_notetaker_project\\\\nepali_notetaker_package\\\\DataSet\\\\asr_nepali_0\\\\asr_nepali\\\\data\\\\00\\\\002849aeff.flac'\n",
      "d:\\nepali_notetaker_project\\nepali_notetaker_package\\DataSet\\asr_nepali_0\\asr_nepali\\data\\00\\002849aeff.flac\n",
      "d:\\nepali_notetaker_project\\nepali_notetaker_package\\DataSet\\asr_nepali_0\\asr_nepali\\data\\00\\processed_wav\\002849aeff.wav\n",
      "'d:\\\\nepali_notetaker_project\\\\nepali_notetaker_package\\\\DataSet\\\\asr_nepali_0\\\\asr_nepali\\\\data\\\\00\\\\006645e7be.flac'\n",
      "d:\\nepali_notetaker_project\\nepali_notetaker_package\\DataSet\\asr_nepali_0\\asr_nepali\\data\\00\\006645e7be.flac\n",
      "d:\\nepali_notetaker_project\\nepali_notetaker_package\\DataSet\\asr_nepali_0\\asr_nepali\\data\\00\\processed_wav\\006645e7be.wav\n"
     ]
    },
    {
     "name": "stderr",
     "output_type": "stream",
     "text": [
      " 69%|██████▉   | 421/607 [01:31<00:31,  5.89it/s]"
     ]
    },
    {
     "name": "stdout",
     "output_type": "stream",
     "text": [
      "'d:\\\\nepali_notetaker_project\\\\nepali_notetaker_package\\\\DataSet\\\\asr_nepali_0\\\\asr_nepali\\\\data\\\\00\\\\00e3c9161d.flac'\n",
      "d:\\nepali_notetaker_project\\nepali_notetaker_package\\DataSet\\asr_nepali_0\\asr_nepali\\data\\00\\00e3c9161d.flac\n",
      "d:\\nepali_notetaker_project\\nepali_notetaker_package\\DataSet\\asr_nepali_0\\asr_nepali\\data\\00\\processed_wav\\00e3c9161d.wav\n",
      "'d:\\\\nepali_notetaker_project\\\\nepali_notetaker_package\\\\DataSet\\\\asr_nepali_0\\\\asr_nepali\\\\data\\\\00\\\\0012875eae.flac'\n",
      "d:\\nepali_notetaker_project\\nepali_notetaker_package\\DataSet\\asr_nepali_0\\asr_nepali\\data\\00\\0012875eae.flac\n",
      "d:\\nepali_notetaker_project\\nepali_notetaker_package\\DataSet\\asr_nepali_0\\asr_nepali\\data\\00\\processed_wav\\0012875eae.wav\n"
     ]
    },
    {
     "name": "stderr",
     "output_type": "stream",
     "text": [
      " 70%|██████▉   | 423/607 [01:31<00:30,  6.13it/s]"
     ]
    },
    {
     "name": "stdout",
     "output_type": "stream",
     "text": [
      "'d:\\\\nepali_notetaker_project\\\\nepali_notetaker_package\\\\DataSet\\\\asr_nepali_0\\\\asr_nepali\\\\data\\\\00\\\\00168daa2b.flac'\n",
      "d:\\nepali_notetaker_project\\nepali_notetaker_package\\DataSet\\asr_nepali_0\\asr_nepali\\data\\00\\00168daa2b.flac\n",
      "d:\\nepali_notetaker_project\\nepali_notetaker_package\\DataSet\\asr_nepali_0\\asr_nepali\\data\\00\\processed_wav\\00168daa2b.wav\n",
      "'d:\\\\nepali_notetaker_project\\\\nepali_notetaker_package\\\\DataSet\\\\asr_nepali_0\\\\asr_nepali\\\\data\\\\00\\\\006cc62ead.flac'\n",
      "d:\\nepali_notetaker_project\\nepali_notetaker_package\\DataSet\\asr_nepali_0\\asr_nepali\\data\\00\\006cc62ead.flac\n",
      "d:\\nepali_notetaker_project\\nepali_notetaker_package\\DataSet\\asr_nepali_0\\asr_nepali\\data\\00\\processed_wav\\006cc62ead.wav\n"
     ]
    },
    {
     "name": "stderr",
     "output_type": "stream",
     "text": [
      " 70%|███████   | 425/607 [01:32<00:30,  6.01it/s]"
     ]
    },
    {
     "name": "stdout",
     "output_type": "stream",
     "text": [
      "'d:\\\\nepali_notetaker_project\\\\nepali_notetaker_package\\\\DataSet\\\\asr_nepali_0\\\\asr_nepali\\\\data\\\\00\\\\004cf77911.flac'\n",
      "d:\\nepali_notetaker_project\\nepali_notetaker_package\\DataSet\\asr_nepali_0\\asr_nepali\\data\\00\\004cf77911.flac\n",
      "d:\\nepali_notetaker_project\\nepali_notetaker_package\\DataSet\\asr_nepali_0\\asr_nepali\\data\\00\\processed_wav\\004cf77911.wav\n",
      "'d:\\\\nepali_notetaker_project\\\\nepali_notetaker_package\\\\DataSet\\\\asr_nepali_0\\\\asr_nepali\\\\data\\\\00\\\\00a80b4c8a.flac'\n",
      "d:\\nepali_notetaker_project\\nepali_notetaker_package\\DataSet\\asr_nepali_0\\asr_nepali\\data\\00\\00a80b4c8a.flac\n",
      "d:\\nepali_notetaker_project\\nepali_notetaker_package\\DataSet\\asr_nepali_0\\asr_nepali\\data\\00\\processed_wav\\00a80b4c8a.wav\n"
     ]
    },
    {
     "name": "stderr",
     "output_type": "stream",
     "text": [
      " 70%|███████   | 427/607 [01:32<00:28,  6.24it/s]"
     ]
    },
    {
     "name": "stdout",
     "output_type": "stream",
     "text": [
      "'d:\\\\nepali_notetaker_project\\\\nepali_notetaker_package\\\\DataSet\\\\asr_nepali_0\\\\asr_nepali\\\\data\\\\00\\\\00a49d7c51.flac'\n",
      "d:\\nepali_notetaker_project\\nepali_notetaker_package\\DataSet\\asr_nepali_0\\asr_nepali\\data\\00\\00a49d7c51.flac\n",
      "d:\\nepali_notetaker_project\\nepali_notetaker_package\\DataSet\\asr_nepali_0\\asr_nepali\\data\\00\\processed_wav\\00a49d7c51.wav\n",
      "'d:\\\\nepali_notetaker_project\\\\nepali_notetaker_package\\\\DataSet\\\\asr_nepali_0\\\\asr_nepali\\\\data\\\\00\\\\006fe27b4c.flac'\n",
      "d:\\nepali_notetaker_project\\nepali_notetaker_package\\DataSet\\asr_nepali_0\\asr_nepali\\data\\00\\006fe27b4c.flac\n",
      "d:\\nepali_notetaker_project\\nepali_notetaker_package\\DataSet\\asr_nepali_0\\asr_nepali\\data\\00\\processed_wav\\006fe27b4c.wav\n"
     ]
    },
    {
     "name": "stderr",
     "output_type": "stream",
     "text": [
      " 71%|███████   | 429/607 [01:32<00:29,  6.03it/s]"
     ]
    },
    {
     "name": "stdout",
     "output_type": "stream",
     "text": [
      "'d:\\\\nepali_notetaker_project\\\\nepali_notetaker_package\\\\DataSet\\\\asr_nepali_0\\\\asr_nepali\\\\data\\\\00\\\\008c31e8ab.flac'\n",
      "d:\\nepali_notetaker_project\\nepali_notetaker_package\\DataSet\\asr_nepali_0\\asr_nepali\\data\\00\\008c31e8ab.flac\n",
      "d:\\nepali_notetaker_project\\nepali_notetaker_package\\DataSet\\asr_nepali_0\\asr_nepali\\data\\00\\processed_wav\\008c31e8ab.wav\n",
      "'d:\\\\nepali_notetaker_project\\\\nepali_notetaker_package\\\\DataSet\\\\asr_nepali_0\\\\asr_nepali\\\\data\\\\00\\\\0034a9cd74.flac'\n",
      "d:\\nepali_notetaker_project\\nepali_notetaker_package\\DataSet\\asr_nepali_0\\asr_nepali\\data\\00\\0034a9cd74.flac\n",
      "d:\\nepali_notetaker_project\\nepali_notetaker_package\\DataSet\\asr_nepali_0\\asr_nepali\\data\\00\\processed_wav\\0034a9cd74.wav\n"
     ]
    },
    {
     "name": "stderr",
     "output_type": "stream",
     "text": [
      " 71%|███████   | 431/607 [01:33<00:29,  6.02it/s]"
     ]
    },
    {
     "name": "stdout",
     "output_type": "stream",
     "text": [
      "'d:\\\\nepali_notetaker_project\\\\nepali_notetaker_package\\\\DataSet\\\\asr_nepali_0\\\\asr_nepali\\\\data\\\\00\\\\0082209f7f.flac'\n",
      "d:\\nepali_notetaker_project\\nepali_notetaker_package\\DataSet\\asr_nepali_0\\asr_nepali\\data\\00\\0082209f7f.flac\n",
      "d:\\nepali_notetaker_project\\nepali_notetaker_package\\DataSet\\asr_nepali_0\\asr_nepali\\data\\00\\processed_wav\\0082209f7f.wav\n",
      "'d:\\\\nepali_notetaker_project\\\\nepali_notetaker_package\\\\DataSet\\\\asr_nepali_0\\\\asr_nepali\\\\data\\\\00\\\\00dd2e0a8c.flac'\n",
      "d:\\nepali_notetaker_project\\nepali_notetaker_package\\DataSet\\asr_nepali_0\\asr_nepali\\data\\00\\00dd2e0a8c.flac\n",
      "d:\\nepali_notetaker_project\\nepali_notetaker_package\\DataSet\\asr_nepali_0\\asr_nepali\\data\\00\\processed_wav\\00dd2e0a8c.wav\n"
     ]
    },
    {
     "name": "stderr",
     "output_type": "stream",
     "text": [
      " 71%|███████▏  | 433/607 [01:33<00:31,  5.52it/s]"
     ]
    },
    {
     "name": "stdout",
     "output_type": "stream",
     "text": [
      "'d:\\\\nepali_notetaker_project\\\\nepali_notetaker_package\\\\DataSet\\\\asr_nepali_0\\\\asr_nepali\\\\data\\\\00\\\\00414a7de5.flac'\n",
      "d:\\nepali_notetaker_project\\nepali_notetaker_package\\DataSet\\asr_nepali_0\\asr_nepali\\data\\00\\00414a7de5.flac\n",
      "d:\\nepali_notetaker_project\\nepali_notetaker_package\\DataSet\\asr_nepali_0\\asr_nepali\\data\\00\\processed_wav\\00414a7de5.wav\n"
     ]
    },
    {
     "name": "stderr",
     "output_type": "stream",
     "text": [
      " 71%|███████▏  | 434/607 [01:33<00:31,  5.54it/s]"
     ]
    },
    {
     "name": "stdout",
     "output_type": "stream",
     "text": [
      "'d:\\\\nepali_notetaker_project\\\\nepali_notetaker_package\\\\DataSet\\\\asr_nepali_0\\\\asr_nepali\\\\data\\\\00\\\\009f5fcb64.flac'\n",
      "d:\\nepali_notetaker_project\\nepali_notetaker_package\\DataSet\\asr_nepali_0\\asr_nepali\\data\\00\\009f5fcb64.flac\n",
      "d:\\nepali_notetaker_project\\nepali_notetaker_package\\DataSet\\asr_nepali_0\\asr_nepali\\data\\00\\processed_wav\\009f5fcb64.wav\n"
     ]
    },
    {
     "name": "stderr",
     "output_type": "stream",
     "text": [
      " 72%|███████▏  | 435/607 [01:33<00:32,  5.35it/s]"
     ]
    },
    {
     "name": "stdout",
     "output_type": "stream",
     "text": [
      "'d:\\\\nepali_notetaker_project\\\\nepali_notetaker_package\\\\DataSet\\\\asr_nepali_0\\\\asr_nepali\\\\data\\\\00\\\\00cce0b7f1.flac'\n",
      "d:\\nepali_notetaker_project\\nepali_notetaker_package\\DataSet\\asr_nepali_0\\asr_nepali\\data\\00\\00cce0b7f1.flac\n",
      "d:\\nepali_notetaker_project\\nepali_notetaker_package\\DataSet\\asr_nepali_0\\asr_nepali\\data\\00\\processed_wav\\00cce0b7f1.wav\n"
     ]
    },
    {
     "name": "stderr",
     "output_type": "stream",
     "text": [
      " 72%|███████▏  | 436/607 [01:34<00:30,  5.54it/s]"
     ]
    },
    {
     "name": "stdout",
     "output_type": "stream",
     "text": [
      "'d:\\\\nepali_notetaker_project\\\\nepali_notetaker_package\\\\DataSet\\\\asr_nepali_0\\\\asr_nepali\\\\data\\\\00\\\\0074951921.flac'\n",
      "d:\\nepali_notetaker_project\\nepali_notetaker_package\\DataSet\\asr_nepali_0\\asr_nepali\\data\\00\\0074951921.flac\n",
      "d:\\nepali_notetaker_project\\nepali_notetaker_package\\DataSet\\asr_nepali_0\\asr_nepali\\data\\00\\processed_wav\\0074951921.wav\n",
      "'d:\\\\nepali_notetaker_project\\\\nepali_notetaker_package\\\\DataSet\\\\asr_nepali_0\\\\asr_nepali\\\\data\\\\00\\\\00809f5567.flac'\n",
      "d:\\nepali_notetaker_project\\nepali_notetaker_package\\DataSet\\asr_nepali_0\\asr_nepali\\data\\00\\00809f5567.flac\n",
      "d:\\nepali_notetaker_project\\nepali_notetaker_package\\DataSet\\asr_nepali_0\\asr_nepali\\data\\00\\processed_wav\\00809f5567.wav\n"
     ]
    },
    {
     "name": "stderr",
     "output_type": "stream",
     "text": [
      " 72%|███████▏  | 437/607 [01:34<00:29,  5.82it/s]"
     ]
    },
    {
     "name": "stdout",
     "output_type": "stream",
     "text": [
      "'d:\\\\nepali_notetaker_project\\\\nepali_notetaker_package\\\\DataSet\\\\asr_nepali_0\\\\asr_nepali\\\\data\\\\00\\\\00c3495e71.flac'\n",
      "d:\\nepali_notetaker_project\\nepali_notetaker_package\\DataSet\\asr_nepali_0\\asr_nepali\\data\\00\\00c3495e71.flac\n",
      "d:\\nepali_notetaker_project\\nepali_notetaker_package\\DataSet\\asr_nepali_0\\asr_nepali\\data\\00\\processed_wav\\00c3495e71.wav\n"
     ]
    },
    {
     "name": "stderr",
     "output_type": "stream",
     "text": [
      " 72%|███████▏  | 439/607 [01:34<00:32,  5.22it/s]"
     ]
    },
    {
     "name": "stdout",
     "output_type": "stream",
     "text": [
      "'d:\\\\nepali_notetaker_project\\\\nepali_notetaker_package\\\\DataSet\\\\asr_nepali_0\\\\asr_nepali\\\\data\\\\00\\\\002f406081.flac'\n",
      "d:\\nepali_notetaker_project\\nepali_notetaker_package\\DataSet\\asr_nepali_0\\asr_nepali\\data\\00\\002f406081.flac\n",
      "d:\\nepali_notetaker_project\\nepali_notetaker_package\\DataSet\\asr_nepali_0\\asr_nepali\\data\\00\\processed_wav\\002f406081.wav\n"
     ]
    },
    {
     "name": "stderr",
     "output_type": "stream",
     "text": [
      " 72%|███████▏  | 440/607 [01:34<00:31,  5.36it/s]"
     ]
    },
    {
     "name": "stdout",
     "output_type": "stream",
     "text": [
      "'d:\\\\nepali_notetaker_project\\\\nepali_notetaker_package\\\\DataSet\\\\asr_nepali_0\\\\asr_nepali\\\\data\\\\00\\\\009461187d.flac'\n",
      "d:\\nepali_notetaker_project\\nepali_notetaker_package\\DataSet\\asr_nepali_0\\asr_nepali\\data\\00\\009461187d.flac\n",
      "d:\\nepali_notetaker_project\\nepali_notetaker_package\\DataSet\\asr_nepali_0\\asr_nepali\\data\\00\\processed_wav\\009461187d.wav\n"
     ]
    },
    {
     "name": "stderr",
     "output_type": "stream",
     "text": [
      " 73%|███████▎  | 441/607 [01:35<00:30,  5.47it/s]"
     ]
    },
    {
     "name": "stdout",
     "output_type": "stream",
     "text": [
      "'d:\\\\nepali_notetaker_project\\\\nepali_notetaker_package\\\\DataSet\\\\asr_nepali_0\\\\asr_nepali\\\\data\\\\00\\\\0085a2cfbd.flac'\n",
      "d:\\nepali_notetaker_project\\nepali_notetaker_package\\DataSet\\asr_nepali_0\\asr_nepali\\data\\00\\0085a2cfbd.flac\n",
      "d:\\nepali_notetaker_project\\nepali_notetaker_package\\DataSet\\asr_nepali_0\\asr_nepali\\data\\00\\processed_wav\\0085a2cfbd.wav\n",
      "'d:\\\\nepali_notetaker_project\\\\nepali_notetaker_package\\\\DataSet\\\\asr_nepali_0\\\\asr_nepali\\\\data\\\\00\\\\0085e3b43f.flac'\n",
      "d:\\nepali_notetaker_project\\nepali_notetaker_package\\DataSet\\asr_nepali_0\\asr_nepali\\data\\00\\0085e3b43f.flac\n",
      "d:\\nepali_notetaker_project\\nepali_notetaker_package\\DataSet\\asr_nepali_0\\asr_nepali\\data\\00\\processed_wav\\0085e3b43f.wav\n"
     ]
    },
    {
     "name": "stderr",
     "output_type": "stream",
     "text": [
      " 73%|███████▎  | 443/607 [01:35<00:29,  5.65it/s]"
     ]
    },
    {
     "name": "stdout",
     "output_type": "stream",
     "text": [
      "'d:\\\\nepali_notetaker_project\\\\nepali_notetaker_package\\\\DataSet\\\\asr_nepali_0\\\\asr_nepali\\\\data\\\\00\\\\00e5cb134a.flac'\n",
      "d:\\nepali_notetaker_project\\nepali_notetaker_package\\DataSet\\asr_nepali_0\\asr_nepali\\data\\00\\00e5cb134a.flac\n",
      "d:\\nepali_notetaker_project\\nepali_notetaker_package\\DataSet\\asr_nepali_0\\asr_nepali\\data\\00\\processed_wav\\00e5cb134a.wav\n",
      "'d:\\\\nepali_notetaker_project\\\\nepali_notetaker_package\\\\DataSet\\\\asr_nepali_0\\\\asr_nepali\\\\data\\\\00\\\\00a6ff8c66.flac'\n",
      "d:\\nepali_notetaker_project\\nepali_notetaker_package\\DataSet\\asr_nepali_0\\asr_nepali\\data\\00\\00a6ff8c66.flac\n",
      "d:\\nepali_notetaker_project\\nepali_notetaker_package\\DataSet\\asr_nepali_0\\asr_nepali\\data\\00\\processed_wav\\00a6ff8c66.wav\n"
     ]
    },
    {
     "name": "stderr",
     "output_type": "stream",
     "text": [
      " 73%|███████▎  | 445/607 [01:35<00:28,  5.77it/s]"
     ]
    },
    {
     "name": "stdout",
     "output_type": "stream",
     "text": [
      "'d:\\\\nepali_notetaker_project\\\\nepali_notetaker_package\\\\DataSet\\\\asr_nepali_0\\\\asr_nepali\\\\data\\\\00\\\\008c17f698.flac'\n",
      "d:\\nepali_notetaker_project\\nepali_notetaker_package\\DataSet\\asr_nepali_0\\asr_nepali\\data\\00\\008c17f698.flac\n",
      "d:\\nepali_notetaker_project\\nepali_notetaker_package\\DataSet\\asr_nepali_0\\asr_nepali\\data\\00\\processed_wav\\008c17f698.wav\n"
     ]
    },
    {
     "name": "stderr",
     "output_type": "stream",
     "text": [
      " 73%|███████▎  | 446/607 [01:35<00:28,  5.70it/s]"
     ]
    },
    {
     "name": "stdout",
     "output_type": "stream",
     "text": [
      "'d:\\\\nepali_notetaker_project\\\\nepali_notetaker_package\\\\DataSet\\\\asr_nepali_0\\\\asr_nepali\\\\data\\\\00\\\\008e71c1af.flac'\n",
      "d:\\nepali_notetaker_project\\nepali_notetaker_package\\DataSet\\asr_nepali_0\\asr_nepali\\data\\00\\008e71c1af.flac\n",
      "d:\\nepali_notetaker_project\\nepali_notetaker_package\\DataSet\\asr_nepali_0\\asr_nepali\\data\\00\\processed_wav\\008e71c1af.wav\n"
     ]
    },
    {
     "name": "stderr",
     "output_type": "stream",
     "text": [
      " 74%|███████▎  | 447/607 [01:36<00:26,  6.03it/s]"
     ]
    },
    {
     "name": "stdout",
     "output_type": "stream",
     "text": [
      "'d:\\\\nepali_notetaker_project\\\\nepali_notetaker_package\\\\DataSet\\\\asr_nepali_0\\\\asr_nepali\\\\data\\\\00\\\\00c2bb188d.flac'\n",
      "d:\\nepali_notetaker_project\\nepali_notetaker_package\\DataSet\\asr_nepali_0\\asr_nepali\\data\\00\\00c2bb188d.flac\n",
      "d:\\nepali_notetaker_project\\nepali_notetaker_package\\DataSet\\asr_nepali_0\\asr_nepali\\data\\00\\processed_wav\\00c2bb188d.wav\n",
      "'d:\\\\nepali_notetaker_project\\\\nepali_notetaker_package\\\\DataSet\\\\asr_nepali_0\\\\asr_nepali\\\\data\\\\00\\\\008810de9d.flac'\n",
      "d:\\nepali_notetaker_project\\nepali_notetaker_package\\DataSet\\asr_nepali_0\\asr_nepali\\data\\00\\008810de9d.flac\n",
      "d:\\nepali_notetaker_project\\nepali_notetaker_package\\DataSet\\asr_nepali_0\\asr_nepali\\data\\00\\processed_wav\\008810de9d.wav\n"
     ]
    },
    {
     "name": "stderr",
     "output_type": "stream",
     "text": [
      " 74%|███████▍  | 449/607 [01:36<00:25,  6.16it/s]"
     ]
    },
    {
     "name": "stdout",
     "output_type": "stream",
     "text": [
      "'d:\\\\nepali_notetaker_project\\\\nepali_notetaker_package\\\\DataSet\\\\asr_nepali_0\\\\asr_nepali\\\\data\\\\00\\\\00456a1ddc.flac'\n",
      "d:\\nepali_notetaker_project\\nepali_notetaker_package\\DataSet\\asr_nepali_0\\asr_nepali\\data\\00\\00456a1ddc.flac\n",
      "d:\\nepali_notetaker_project\\nepali_notetaker_package\\DataSet\\asr_nepali_0\\asr_nepali\\data\\00\\processed_wav\\00456a1ddc.wav\n",
      "'d:\\\\nepali_notetaker_project\\\\nepali_notetaker_package\\\\DataSet\\\\asr_nepali_0\\\\asr_nepali\\\\data\\\\00\\\\00994de24b.flac'\n",
      "d:\\nepali_notetaker_project\\nepali_notetaker_package\\DataSet\\asr_nepali_0\\asr_nepali\\data\\00\\00994de24b.flac\n",
      "d:\\nepali_notetaker_project\\nepali_notetaker_package\\DataSet\\asr_nepali_0\\asr_nepali\\data\\00\\processed_wav\\00994de24b.wav\n"
     ]
    },
    {
     "name": "stderr",
     "output_type": "stream",
     "text": [
      " 74%|███████▍  | 451/607 [01:36<00:24,  6.27it/s]"
     ]
    },
    {
     "name": "stdout",
     "output_type": "stream",
     "text": [
      "'d:\\\\nepali_notetaker_project\\\\nepali_notetaker_package\\\\DataSet\\\\asr_nepali_0\\\\asr_nepali\\\\data\\\\00\\\\00a4e62268.flac'\n",
      "d:\\nepali_notetaker_project\\nepali_notetaker_package\\DataSet\\asr_nepali_0\\asr_nepali\\data\\00\\00a4e62268.flac\n",
      "d:\\nepali_notetaker_project\\nepali_notetaker_package\\DataSet\\asr_nepali_0\\asr_nepali\\data\\00\\processed_wav\\00a4e62268.wav\n",
      "'d:\\\\nepali_notetaker_project\\\\nepali_notetaker_package\\\\DataSet\\\\asr_nepali_0\\\\asr_nepali\\\\data\\\\00\\\\00f0d2d1ed.flac'\n",
      "d:\\nepali_notetaker_project\\nepali_notetaker_package\\DataSet\\asr_nepali_0\\asr_nepali\\data\\00\\00f0d2d1ed.flac\n",
      "d:\\nepali_notetaker_project\\nepali_notetaker_package\\DataSet\\asr_nepali_0\\asr_nepali\\data\\00\\processed_wav\\00f0d2d1ed.wav\n"
     ]
    },
    {
     "name": "stderr",
     "output_type": "stream",
     "text": [
      " 75%|███████▍  | 453/607 [01:37<00:26,  5.80it/s]"
     ]
    },
    {
     "name": "stdout",
     "output_type": "stream",
     "text": [
      "'d:\\\\nepali_notetaker_project\\\\nepali_notetaker_package\\\\DataSet\\\\asr_nepali_0\\\\asr_nepali\\\\data\\\\00\\\\00b42b0a76.flac'\n",
      "d:\\nepali_notetaker_project\\nepali_notetaker_package\\DataSet\\asr_nepali_0\\asr_nepali\\data\\00\\00b42b0a76.flac\n",
      "d:\\nepali_notetaker_project\\nepali_notetaker_package\\DataSet\\asr_nepali_0\\asr_nepali\\data\\00\\processed_wav\\00b42b0a76.wav\n"
     ]
    },
    {
     "name": "stderr",
     "output_type": "stream",
     "text": [
      " 75%|███████▍  | 454/607 [01:37<00:25,  5.95it/s]"
     ]
    },
    {
     "name": "stdout",
     "output_type": "stream",
     "text": [
      "'d:\\\\nepali_notetaker_project\\\\nepali_notetaker_package\\\\DataSet\\\\asr_nepali_0\\\\asr_nepali\\\\data\\\\00\\\\0022362ec0.flac'\n",
      "d:\\nepali_notetaker_project\\nepali_notetaker_package\\DataSet\\asr_nepali_0\\asr_nepali\\data\\00\\0022362ec0.flac\n",
      "d:\\nepali_notetaker_project\\nepali_notetaker_package\\DataSet\\asr_nepali_0\\asr_nepali\\data\\00\\processed_wav\\0022362ec0.wav\n",
      "'d:\\\\nepali_notetaker_project\\\\nepali_notetaker_package\\\\DataSet\\\\asr_nepali_0\\\\asr_nepali\\\\data\\\\00\\\\00adf15143.flac'\n",
      "d:\\nepali_notetaker_project\\nepali_notetaker_package\\DataSet\\asr_nepali_0\\asr_nepali\\data\\00\\00adf15143.flac\n",
      "d:\\nepali_notetaker_project\\nepali_notetaker_package\\DataSet\\asr_nepali_0\\asr_nepali\\data\\00\\processed_wav\\00adf15143.wav\n"
     ]
    },
    {
     "name": "stderr",
     "output_type": "stream",
     "text": [
      " 75%|███████▌  | 456/607 [01:37<00:26,  5.68it/s]"
     ]
    },
    {
     "name": "stdout",
     "output_type": "stream",
     "text": [
      "'d:\\\\nepali_notetaker_project\\\\nepali_notetaker_package\\\\DataSet\\\\asr_nepali_0\\\\asr_nepali\\\\data\\\\00\\\\00ca28c959.flac'\n",
      "d:\\nepali_notetaker_project\\nepali_notetaker_package\\DataSet\\asr_nepali_0\\asr_nepali\\data\\00\\00ca28c959.flac\n",
      "d:\\nepali_notetaker_project\\nepali_notetaker_package\\DataSet\\asr_nepali_0\\asr_nepali\\data\\00\\processed_wav\\00ca28c959.wav\n"
     ]
    },
    {
     "name": "stderr",
     "output_type": "stream",
     "text": [
      " 75%|███████▌  | 457/607 [01:37<00:25,  5.99it/s]"
     ]
    },
    {
     "name": "stdout",
     "output_type": "stream",
     "text": [
      "'d:\\\\nepali_notetaker_project\\\\nepali_notetaker_package\\\\DataSet\\\\asr_nepali_0\\\\asr_nepali\\\\data\\\\00\\\\00382db362.flac'\n",
      "d:\\nepali_notetaker_project\\nepali_notetaker_package\\DataSet\\asr_nepali_0\\asr_nepali\\data\\00\\00382db362.flac\n",
      "d:\\nepali_notetaker_project\\nepali_notetaker_package\\DataSet\\asr_nepali_0\\asr_nepali\\data\\00\\processed_wav\\00382db362.wav\n",
      "'d:\\\\nepali_notetaker_project\\\\nepali_notetaker_package\\\\DataSet\\\\asr_nepali_0\\\\asr_nepali\\\\data\\\\00\\\\0055e5b8f3.flac'\n",
      "d:\\nepali_notetaker_project\\nepali_notetaker_package\\DataSet\\asr_nepali_0\\asr_nepali\\data\\00\\0055e5b8f3.flac\n",
      "d:\\nepali_notetaker_project\\nepali_notetaker_package\\DataSet\\asr_nepali_0\\asr_nepali\\data\\00\\processed_wav\\0055e5b8f3.wav\n"
     ]
    },
    {
     "name": "stderr",
     "output_type": "stream",
     "text": [
      " 76%|███████▌  | 459/607 [01:38<00:26,  5.61it/s]"
     ]
    },
    {
     "name": "stdout",
     "output_type": "stream",
     "text": [
      "'d:\\\\nepali_notetaker_project\\\\nepali_notetaker_package\\\\DataSet\\\\asr_nepali_0\\\\asr_nepali\\\\data\\\\00\\\\0046a55bff.flac'\n",
      "d:\\nepali_notetaker_project\\nepali_notetaker_package\\DataSet\\asr_nepali_0\\asr_nepali\\data\\00\\0046a55bff.flac\n",
      "d:\\nepali_notetaker_project\\nepali_notetaker_package\\DataSet\\asr_nepali_0\\asr_nepali\\data\\00\\processed_wav\\0046a55bff.wav\n"
     ]
    },
    {
     "name": "stderr",
     "output_type": "stream",
     "text": [
      " 76%|███████▌  | 460/607 [01:38<00:25,  5.79it/s]"
     ]
    },
    {
     "name": "stdout",
     "output_type": "stream",
     "text": [
      "'d:\\\\nepali_notetaker_project\\\\nepali_notetaker_package\\\\DataSet\\\\asr_nepali_0\\\\asr_nepali\\\\data\\\\00\\\\003a546b84.flac'\n",
      "d:\\nepali_notetaker_project\\nepali_notetaker_package\\DataSet\\asr_nepali_0\\asr_nepali\\data\\00\\003a546b84.flac\n",
      "d:\\nepali_notetaker_project\\nepali_notetaker_package\\DataSet\\asr_nepali_0\\asr_nepali\\data\\00\\processed_wav\\003a546b84.wav\n",
      "'d:\\\\nepali_notetaker_project\\\\nepali_notetaker_package\\\\DataSet\\\\asr_nepali_0\\\\asr_nepali\\\\data\\\\00\\\\008503f6b6.flac'\n",
      "d:\\nepali_notetaker_project\\nepali_notetaker_package\\DataSet\\asr_nepali_0\\asr_nepali\\data\\00\\008503f6b6.flac\n",
      "d:\\nepali_notetaker_project\\nepali_notetaker_package\\DataSet\\asr_nepali_0\\asr_nepali\\data\\00\\processed_wav\\008503f6b6.wav\n"
     ]
    },
    {
     "name": "stderr",
     "output_type": "stream",
     "text": [
      " 76%|███████▌  | 462/607 [01:38<00:25,  5.68it/s]"
     ]
    },
    {
     "name": "stdout",
     "output_type": "stream",
     "text": [
      "'d:\\\\nepali_notetaker_project\\\\nepali_notetaker_package\\\\DataSet\\\\asr_nepali_0\\\\asr_nepali\\\\data\\\\00\\\\00cbc54756.flac'\n",
      "d:\\nepali_notetaker_project\\nepali_notetaker_package\\DataSet\\asr_nepali_0\\asr_nepali\\data\\00\\00cbc54756.flac\n",
      "d:\\nepali_notetaker_project\\nepali_notetaker_package\\DataSet\\asr_nepali_0\\asr_nepali\\data\\00\\processed_wav\\00cbc54756.wav\n",
      "'d:\\\\nepali_notetaker_project\\\\nepali_notetaker_package\\\\DataSet\\\\asr_nepali_0\\\\asr_nepali\\\\data\\\\00\\\\00a8073bc2.flac'\n",
      "d:\\nepali_notetaker_project\\nepali_notetaker_package\\DataSet\\asr_nepali_0\\asr_nepali\\data\\00\\00a8073bc2.flac\n",
      "d:\\nepali_notetaker_project\\nepali_notetaker_package\\DataSet\\asr_nepali_0\\asr_nepali\\data\\00\\processed_wav\\00a8073bc2.wav\n"
     ]
    },
    {
     "name": "stderr",
     "output_type": "stream",
     "text": [
      " 76%|███████▋  | 463/607 [01:38<00:25,  5.62it/s]"
     ]
    },
    {
     "name": "stdout",
     "output_type": "stream",
     "text": [
      "'d:\\\\nepali_notetaker_project\\\\nepali_notetaker_package\\\\DataSet\\\\asr_nepali_0\\\\asr_nepali\\\\data\\\\00\\\\0026c1f17c.flac'\n",
      "d:\\nepali_notetaker_project\\nepali_notetaker_package\\DataSet\\asr_nepali_0\\asr_nepali\\data\\00\\0026c1f17c.flac\n",
      "d:\\nepali_notetaker_project\\nepali_notetaker_package\\DataSet\\asr_nepali_0\\asr_nepali\\data\\00\\processed_wav\\0026c1f17c.wav\n"
     ]
    },
    {
     "name": "stderr",
     "output_type": "stream",
     "text": [
      " 76%|███████▋  | 464/607 [01:39<00:28,  4.97it/s]"
     ]
    },
    {
     "name": "stdout",
     "output_type": "stream",
     "text": [
      "'d:\\\\nepali_notetaker_project\\\\nepali_notetaker_package\\\\DataSet\\\\asr_nepali_0\\\\asr_nepali\\\\data\\\\00\\\\00a7dabef2.flac'\n",
      "d:\\nepali_notetaker_project\\nepali_notetaker_package\\DataSet\\asr_nepali_0\\asr_nepali\\data\\00\\00a7dabef2.flac\n",
      "d:\\nepali_notetaker_project\\nepali_notetaker_package\\DataSet\\asr_nepali_0\\asr_nepali\\data\\00\\processed_wav\\00a7dabef2.wav\n"
     ]
    },
    {
     "name": "stderr",
     "output_type": "stream",
     "text": [
      " 77%|███████▋  | 465/607 [01:39<00:29,  4.81it/s]"
     ]
    },
    {
     "name": "stdout",
     "output_type": "stream",
     "text": [
      "'d:\\\\nepali_notetaker_project\\\\nepali_notetaker_package\\\\DataSet\\\\asr_nepali_0\\\\asr_nepali\\\\data\\\\00\\\\002a8d9076.flac'\n",
      "d:\\nepali_notetaker_project\\nepali_notetaker_package\\DataSet\\asr_nepali_0\\asr_nepali\\data\\00\\002a8d9076.flac\n",
      "d:\\nepali_notetaker_project\\nepali_notetaker_package\\DataSet\\asr_nepali_0\\asr_nepali\\data\\00\\processed_wav\\002a8d9076.wav\n"
     ]
    },
    {
     "name": "stderr",
     "output_type": "stream",
     "text": [
      " 77%|███████▋  | 466/607 [01:39<00:30,  4.68it/s]"
     ]
    },
    {
     "name": "stdout",
     "output_type": "stream",
     "text": [
      "'d:\\\\nepali_notetaker_project\\\\nepali_notetaker_package\\\\DataSet\\\\asr_nepali_0\\\\asr_nepali\\\\data\\\\00\\\\0068f8a5b1.flac'\n",
      "d:\\nepali_notetaker_project\\nepali_notetaker_package\\DataSet\\asr_nepali_0\\asr_nepali\\data\\00\\0068f8a5b1.flac\n",
      "d:\\nepali_notetaker_project\\nepali_notetaker_package\\DataSet\\asr_nepali_0\\asr_nepali\\data\\00\\processed_wav\\0068f8a5b1.wav\n"
     ]
    },
    {
     "name": "stderr",
     "output_type": "stream",
     "text": [
      " 77%|███████▋  | 468/607 [01:39<00:28,  4.84it/s]"
     ]
    },
    {
     "name": "stdout",
     "output_type": "stream",
     "text": [
      "'d:\\\\nepali_notetaker_project\\\\nepali_notetaker_package\\\\DataSet\\\\asr_nepali_0\\\\asr_nepali\\\\data\\\\00\\\\006013dfa2.flac'\n",
      "d:\\nepali_notetaker_project\\nepali_notetaker_package\\DataSet\\asr_nepali_0\\asr_nepali\\data\\00\\006013dfa2.flac\n",
      "d:\\nepali_notetaker_project\\nepali_notetaker_package\\DataSet\\asr_nepali_0\\asr_nepali\\data\\00\\processed_wav\\006013dfa2.wav\n"
     ]
    },
    {
     "name": "stderr",
     "output_type": "stream",
     "text": [
      " 77%|███████▋  | 469/607 [01:40<00:27,  5.02it/s]"
     ]
    },
    {
     "name": "stdout",
     "output_type": "stream",
     "text": [
      "'d:\\\\nepali_notetaker_project\\\\nepali_notetaker_package\\\\DataSet\\\\asr_nepali_0\\\\asr_nepali\\\\data\\\\00\\\\006a4b13b2.flac'\n",
      "d:\\nepali_notetaker_project\\nepali_notetaker_package\\DataSet\\asr_nepali_0\\asr_nepali\\data\\00\\006a4b13b2.flac\n",
      "d:\\nepali_notetaker_project\\nepali_notetaker_package\\DataSet\\asr_nepali_0\\asr_nepali\\data\\00\\processed_wav\\006a4b13b2.wav\n",
      "'d:\\\\nepali_notetaker_project\\\\nepali_notetaker_package\\\\DataSet\\\\asr_nepali_0\\\\asr_nepali\\\\data\\\\00\\\\000a7465af.flac'\n",
      "d:\\nepali_notetaker_project\\nepali_notetaker_package\\DataSet\\asr_nepali_0\\asr_nepali\\data\\00\\000a7465af.flac\n",
      "d:\\nepali_notetaker_project\\nepali_notetaker_package\\DataSet\\asr_nepali_0\\asr_nepali\\data\\00\\processed_wav\\000a7465af.wav\n"
     ]
    },
    {
     "name": "stderr",
     "output_type": "stream",
     "text": [
      " 78%|███████▊  | 471/607 [01:40<00:28,  4.81it/s]"
     ]
    },
    {
     "name": "stdout",
     "output_type": "stream",
     "text": [
      "'d:\\\\nepali_notetaker_project\\\\nepali_notetaker_package\\\\DataSet\\\\asr_nepali_0\\\\asr_nepali\\\\data\\\\00\\\\00794a22fd.flac'\n",
      "d:\\nepali_notetaker_project\\nepali_notetaker_package\\DataSet\\asr_nepali_0\\asr_nepali\\data\\00\\00794a22fd.flac\n",
      "d:\\nepali_notetaker_project\\nepali_notetaker_package\\DataSet\\asr_nepali_0\\asr_nepali\\data\\00\\processed_wav\\00794a22fd.wav\n"
     ]
    },
    {
     "name": "stderr",
     "output_type": "stream",
     "text": [
      " 78%|███████▊  | 472/607 [01:40<00:28,  4.81it/s]"
     ]
    },
    {
     "name": "stdout",
     "output_type": "stream",
     "text": [
      "'d:\\\\nepali_notetaker_project\\\\nepali_notetaker_package\\\\DataSet\\\\asr_nepali_0\\\\asr_nepali\\\\data\\\\00\\\\00b151d284.flac'\n",
      "d:\\nepali_notetaker_project\\nepali_notetaker_package\\DataSet\\asr_nepali_0\\asr_nepali\\data\\00\\00b151d284.flac\n",
      "d:\\nepali_notetaker_project\\nepali_notetaker_package\\DataSet\\asr_nepali_0\\asr_nepali\\data\\00\\processed_wav\\00b151d284.wav\n"
     ]
    },
    {
     "name": "stderr",
     "output_type": "stream",
     "text": [
      " 78%|███████▊  | 473/607 [01:40<00:27,  4.81it/s]"
     ]
    },
    {
     "name": "stdout",
     "output_type": "stream",
     "text": [
      "'d:\\\\nepali_notetaker_project\\\\nepali_notetaker_package\\\\DataSet\\\\asr_nepali_0\\\\asr_nepali\\\\data\\\\00\\\\00bd0b375e.flac'\n",
      "d:\\nepali_notetaker_project\\nepali_notetaker_package\\DataSet\\asr_nepali_0\\asr_nepali\\data\\00\\00bd0b375e.flac\n",
      "d:\\nepali_notetaker_project\\nepali_notetaker_package\\DataSet\\asr_nepali_0\\asr_nepali\\data\\00\\processed_wav\\00bd0b375e.wav\n",
      "'d:\\\\nepali_notetaker_project\\\\nepali_notetaker_package\\\\DataSet\\\\asr_nepali_0\\\\asr_nepali\\\\data\\\\00\\\\00380c42e9.flac'\n",
      "d:\\nepali_notetaker_project\\nepali_notetaker_package\\DataSet\\asr_nepali_0\\asr_nepali\\data\\00\\00380c42e9.flac\n",
      "d:\\nepali_notetaker_project\\nepali_notetaker_package\\DataSet\\asr_nepali_0\\asr_nepali\\data\\00\\processed_wav\\00380c42e9.wav\n"
     ]
    },
    {
     "name": "stderr",
     "output_type": "stream",
     "text": [
      " 78%|███████▊  | 475/607 [01:41<00:26,  5.01it/s]"
     ]
    },
    {
     "name": "stdout",
     "output_type": "stream",
     "text": [
      "'d:\\\\nepali_notetaker_project\\\\nepali_notetaker_package\\\\DataSet\\\\asr_nepali_0\\\\asr_nepali\\\\data\\\\00\\\\00b89c7bda.flac'\n",
      "d:\\nepali_notetaker_project\\nepali_notetaker_package\\DataSet\\asr_nepali_0\\asr_nepali\\data\\00\\00b89c7bda.flac\n",
      "d:\\nepali_notetaker_project\\nepali_notetaker_package\\DataSet\\asr_nepali_0\\asr_nepali\\data\\00\\processed_wav\\00b89c7bda.wav\n",
      "'d:\\\\nepali_notetaker_project\\\\nepali_notetaker_package\\\\DataSet\\\\asr_nepali_0\\\\asr_nepali\\\\data\\\\00\\\\003a7c6c2f.flac'\n",
      "d:\\nepali_notetaker_project\\nepali_notetaker_package\\DataSet\\asr_nepali_0\\asr_nepali\\data\\00\\003a7c6c2f.flac\n",
      "d:\\nepali_notetaker_project\\nepali_notetaker_package\\DataSet\\asr_nepali_0\\asr_nepali\\data\\00\\processed_wav\\003a7c6c2f.wav\n"
     ]
    },
    {
     "name": "stderr",
     "output_type": "stream",
     "text": [
      " 79%|███████▊  | 477/607 [01:41<00:25,  5.11it/s]"
     ]
    },
    {
     "name": "stdout",
     "output_type": "stream",
     "text": [
      "'d:\\\\nepali_notetaker_project\\\\nepali_notetaker_package\\\\DataSet\\\\asr_nepali_0\\\\asr_nepali\\\\data\\\\00\\\\0016c0341c.flac'\n",
      "d:\\nepali_notetaker_project\\nepali_notetaker_package\\DataSet\\asr_nepali_0\\asr_nepali\\data\\00\\0016c0341c.flac\n",
      "d:\\nepali_notetaker_project\\nepali_notetaker_package\\DataSet\\asr_nepali_0\\asr_nepali\\data\\00\\processed_wav\\0016c0341c.wav\n",
      "'d:\\\\nepali_notetaker_project\\\\nepali_notetaker_package\\\\DataSet\\\\asr_nepali_0\\\\asr_nepali\\\\data\\\\00\\\\0018261eb9.flac'\n",
      "d:\\nepali_notetaker_project\\nepali_notetaker_package\\DataSet\\asr_nepali_0\\asr_nepali\\data\\00\\0018261eb9.flac\n",
      "d:\\nepali_notetaker_project\\nepali_notetaker_package\\DataSet\\asr_nepali_0\\asr_nepali\\data\\00\\processed_wav\\0018261eb9.wav\n"
     ]
    },
    {
     "name": "stderr",
     "output_type": "stream",
     "text": [
      " 79%|███████▊  | 478/607 [01:41<00:23,  5.45it/s]"
     ]
    },
    {
     "name": "stdout",
     "output_type": "stream",
     "text": [
      "'d:\\\\nepali_notetaker_project\\\\nepali_notetaker_package\\\\DataSet\\\\asr_nepali_0\\\\asr_nepali\\\\data\\\\00\\\\0068d0a558.flac'\n",
      "d:\\nepali_notetaker_project\\nepali_notetaker_package\\DataSet\\asr_nepali_0\\asr_nepali\\data\\00\\0068d0a558.flac\n",
      "d:\\nepali_notetaker_project\\nepali_notetaker_package\\DataSet\\asr_nepali_0\\asr_nepali\\data\\00\\processed_wav\\0068d0a558.wav\n"
     ]
    },
    {
     "name": "stderr",
     "output_type": "stream",
     "text": [
      " 79%|███████▉  | 480/607 [01:42<00:29,  4.31it/s]"
     ]
    },
    {
     "name": "stdout",
     "output_type": "stream",
     "text": [
      "'d:\\\\nepali_notetaker_project\\\\nepali_notetaker_package\\\\DataSet\\\\asr_nepali_0\\\\asr_nepali\\\\data\\\\00\\\\00ad6b53d3.flac'\n",
      "d:\\nepali_notetaker_project\\nepali_notetaker_package\\DataSet\\asr_nepali_0\\asr_nepali\\data\\00\\00ad6b53d3.flac\n",
      "d:\\nepali_notetaker_project\\nepali_notetaker_package\\DataSet\\asr_nepali_0\\asr_nepali\\data\\00\\processed_wav\\00ad6b53d3.wav\n"
     ]
    },
    {
     "name": "stderr",
     "output_type": "stream",
     "text": [
      " 79%|███████▉  | 481/607 [01:42<00:26,  4.73it/s]"
     ]
    },
    {
     "name": "stdout",
     "output_type": "stream",
     "text": [
      "'d:\\\\nepali_notetaker_project\\\\nepali_notetaker_package\\\\DataSet\\\\asr_nepali_0\\\\asr_nepali\\\\data\\\\00\\\\005e5993e5.flac'\n",
      "d:\\nepali_notetaker_project\\nepali_notetaker_package\\DataSet\\asr_nepali_0\\asr_nepali\\data\\00\\005e5993e5.flac\n",
      "d:\\nepali_notetaker_project\\nepali_notetaker_package\\DataSet\\asr_nepali_0\\asr_nepali\\data\\00\\processed_wav\\005e5993e5.wav\n",
      "'d:\\\\nepali_notetaker_project\\\\nepali_notetaker_package\\\\DataSet\\\\asr_nepali_0\\\\asr_nepali\\\\data\\\\00\\\\009be5e633.flac'\n",
      "d:\\nepali_notetaker_project\\nepali_notetaker_package\\DataSet\\asr_nepali_0\\asr_nepali\\data\\00\\009be5e633.flac\n",
      "d:\\nepali_notetaker_project\\nepali_notetaker_package\\DataSet\\asr_nepali_0\\asr_nepali\\data\\00\\processed_wav\\009be5e633.wav\n"
     ]
    },
    {
     "name": "stderr",
     "output_type": "stream",
     "text": [
      " 80%|███████▉  | 483/607 [01:42<00:23,  5.34it/s]"
     ]
    },
    {
     "name": "stdout",
     "output_type": "stream",
     "text": [
      "'d:\\\\nepali_notetaker_project\\\\nepali_notetaker_package\\\\DataSet\\\\asr_nepali_0\\\\asr_nepali\\\\data\\\\00\\\\00c9a59656.flac'\n",
      "d:\\nepali_notetaker_project\\nepali_notetaker_package\\DataSet\\asr_nepali_0\\asr_nepali\\data\\00\\00c9a59656.flac\n",
      "d:\\nepali_notetaker_project\\nepali_notetaker_package\\DataSet\\asr_nepali_0\\asr_nepali\\data\\00\\processed_wav\\00c9a59656.wav\n",
      "'d:\\\\nepali_notetaker_project\\\\nepali_notetaker_package\\\\DataSet\\\\asr_nepali_0\\\\asr_nepali\\\\data\\\\00\\\\00e32bf36d.flac'\n",
      "d:\\nepali_notetaker_project\\nepali_notetaker_package\\DataSet\\asr_nepali_0\\asr_nepali\\data\\00\\00e32bf36d.flac\n",
      "d:\\nepali_notetaker_project\\nepali_notetaker_package\\DataSet\\asr_nepali_0\\asr_nepali\\data\\00\\processed_wav\\00e32bf36d.wav\n"
     ]
    },
    {
     "name": "stderr",
     "output_type": "stream",
     "text": [
      " 80%|███████▉  | 485/607 [01:43<00:22,  5.48it/s]"
     ]
    },
    {
     "name": "stdout",
     "output_type": "stream",
     "text": [
      "'d:\\\\nepali_notetaker_project\\\\nepali_notetaker_package\\\\DataSet\\\\asr_nepali_0\\\\asr_nepali\\\\data\\\\00\\\\00594ddbe7.flac'\n",
      "d:\\nepali_notetaker_project\\nepali_notetaker_package\\DataSet\\asr_nepali_0\\asr_nepali\\data\\00\\00594ddbe7.flac\n",
      "d:\\nepali_notetaker_project\\nepali_notetaker_package\\DataSet\\asr_nepali_0\\asr_nepali\\data\\00\\processed_wav\\00594ddbe7.wav\n",
      "'d:\\\\nepali_notetaker_project\\\\nepali_notetaker_package\\\\DataSet\\\\asr_nepali_0\\\\asr_nepali\\\\data\\\\00\\\\0094bbba5d.flac'\n",
      "d:\\nepali_notetaker_project\\nepali_notetaker_package\\DataSet\\asr_nepali_0\\asr_nepali\\data\\00\\0094bbba5d.flac\n",
      "d:\\nepali_notetaker_project\\nepali_notetaker_package\\DataSet\\asr_nepali_0\\asr_nepali\\data\\00\\processed_wav\\0094bbba5d.wav\n"
     ]
    },
    {
     "name": "stderr",
     "output_type": "stream",
     "text": [
      " 80%|████████  | 487/607 [01:43<00:23,  5.20it/s]"
     ]
    },
    {
     "name": "stdout",
     "output_type": "stream",
     "text": [
      "'d:\\\\nepali_notetaker_project\\\\nepali_notetaker_package\\\\DataSet\\\\asr_nepali_0\\\\asr_nepali\\\\data\\\\00\\\\00b4314120.flac'\n",
      "d:\\nepali_notetaker_project\\nepali_notetaker_package\\DataSet\\asr_nepali_0\\asr_nepali\\data\\00\\00b4314120.flac\n",
      "d:\\nepali_notetaker_project\\nepali_notetaker_package\\DataSet\\asr_nepali_0\\asr_nepali\\data\\00\\processed_wav\\00b4314120.wav\n"
     ]
    },
    {
     "name": "stderr",
     "output_type": "stream",
     "text": [
      " 80%|████████  | 488/607 [01:43<00:21,  5.63it/s]"
     ]
    },
    {
     "name": "stdout",
     "output_type": "stream",
     "text": [
      "'d:\\\\nepali_notetaker_project\\\\nepali_notetaker_package\\\\DataSet\\\\asr_nepali_0\\\\asr_nepali\\\\data\\\\00\\\\0099106657.flac'\n",
      "d:\\nepali_notetaker_project\\nepali_notetaker_package\\DataSet\\asr_nepali_0\\asr_nepali\\data\\00\\0099106657.flac\n",
      "d:\\nepali_notetaker_project\\nepali_notetaker_package\\DataSet\\asr_nepali_0\\asr_nepali\\data\\00\\processed_wav\\0099106657.wav\n",
      "'d:\\\\nepali_notetaker_project\\\\nepali_notetaker_package\\\\DataSet\\\\asr_nepali_0\\\\asr_nepali\\\\data\\\\00\\\\0075e8448c.flac'\n",
      "d:\\nepali_notetaker_project\\nepali_notetaker_package\\DataSet\\asr_nepali_0\\asr_nepali\\data\\00\\0075e8448c.flac\n",
      "d:\\nepali_notetaker_project\\nepali_notetaker_package\\DataSet\\asr_nepali_0\\asr_nepali\\data\\00\\processed_wav\\0075e8448c.wav\n"
     ]
    },
    {
     "name": "stderr",
     "output_type": "stream",
     "text": [
      " 81%|████████  | 489/607 [01:44<00:20,  5.65it/s]"
     ]
    },
    {
     "name": "stdout",
     "output_type": "stream",
     "text": [
      "'d:\\\\nepali_notetaker_project\\\\nepali_notetaker_package\\\\DataSet\\\\asr_nepali_0\\\\asr_nepali\\\\data\\\\00\\\\00615be9e8.flac'\n",
      "d:\\nepali_notetaker_project\\nepali_notetaker_package\\DataSet\\asr_nepali_0\\asr_nepali\\data\\00\\00615be9e8.flac\n",
      "d:\\nepali_notetaker_project\\nepali_notetaker_package\\DataSet\\asr_nepali_0\\asr_nepali\\data\\00\\processed_wav\\00615be9e8.wav\n"
     ]
    },
    {
     "name": "stderr",
     "output_type": "stream",
     "text": [
      " 81%|████████  | 491/607 [01:44<00:20,  5.79it/s]"
     ]
    },
    {
     "name": "stdout",
     "output_type": "stream",
     "text": [
      "'d:\\\\nepali_notetaker_project\\\\nepali_notetaker_package\\\\DataSet\\\\asr_nepali_0\\\\asr_nepali\\\\data\\\\00\\\\002ad151a4.flac'\n",
      "d:\\nepali_notetaker_project\\nepali_notetaker_package\\DataSet\\asr_nepali_0\\asr_nepali\\data\\00\\002ad151a4.flac\n",
      "d:\\nepali_notetaker_project\\nepali_notetaker_package\\DataSet\\asr_nepali_0\\asr_nepali\\data\\00\\processed_wav\\002ad151a4.wav\n",
      "'d:\\\\nepali_notetaker_project\\\\nepali_notetaker_package\\\\DataSet\\\\asr_nepali_0\\\\asr_nepali\\\\data\\\\00\\\\00b1d77c35.flac'\n",
      "d:\\nepali_notetaker_project\\nepali_notetaker_package\\DataSet\\asr_nepali_0\\asr_nepali\\data\\00\\00b1d77c35.flac\n",
      "d:\\nepali_notetaker_project\\nepali_notetaker_package\\DataSet\\asr_nepali_0\\asr_nepali\\data\\00\\processed_wav\\00b1d77c35.wav\n"
     ]
    },
    {
     "name": "stderr",
     "output_type": "stream",
     "text": [
      " 81%|████████  | 493/607 [01:44<00:20,  5.68it/s]"
     ]
    },
    {
     "name": "stdout",
     "output_type": "stream",
     "text": [
      "'d:\\\\nepali_notetaker_project\\\\nepali_notetaker_package\\\\DataSet\\\\asr_nepali_0\\\\asr_nepali\\\\data\\\\00\\\\009f5f24f5.flac'\n",
      "d:\\nepali_notetaker_project\\nepali_notetaker_package\\DataSet\\asr_nepali_0\\asr_nepali\\data\\00\\009f5f24f5.flac\n",
      "d:\\nepali_notetaker_project\\nepali_notetaker_package\\DataSet\\asr_nepali_0\\asr_nepali\\data\\00\\processed_wav\\009f5f24f5.wav\n"
     ]
    },
    {
     "name": "stderr",
     "output_type": "stream",
     "text": [
      " 81%|████████▏ | 494/607 [01:44<00:19,  5.74it/s]"
     ]
    },
    {
     "name": "stdout",
     "output_type": "stream",
     "text": [
      "'d:\\\\nepali_notetaker_project\\\\nepali_notetaker_package\\\\DataSet\\\\asr_nepali_0\\\\asr_nepali\\\\data\\\\00\\\\00cefd8928.flac'\n",
      "d:\\nepali_notetaker_project\\nepali_notetaker_package\\DataSet\\asr_nepali_0\\asr_nepali\\data\\00\\00cefd8928.flac\n",
      "d:\\nepali_notetaker_project\\nepali_notetaker_package\\DataSet\\asr_nepali_0\\asr_nepali\\data\\00\\processed_wav\\00cefd8928.wav\n",
      "'d:\\\\nepali_notetaker_project\\\\nepali_notetaker_package\\\\DataSet\\\\asr_nepali_0\\\\asr_nepali\\\\data\\\\00\\\\00ca827157.flac'\n",
      "d:\\nepali_notetaker_project\\nepali_notetaker_package\\DataSet\\asr_nepali_0\\asr_nepali\\data\\00\\00ca827157.flac\n",
      "d:\\nepali_notetaker_project\\nepali_notetaker_package\\DataSet\\asr_nepali_0\\asr_nepali\\data\\00\\processed_wav\\00ca827157.wav\n"
     ]
    },
    {
     "name": "stderr",
     "output_type": "stream",
     "text": [
      " 82%|████████▏ | 496/607 [01:45<00:18,  6.02it/s]"
     ]
    },
    {
     "name": "stdout",
     "output_type": "stream",
     "text": [
      "'d:\\\\nepali_notetaker_project\\\\nepali_notetaker_package\\\\DataSet\\\\asr_nepali_0\\\\asr_nepali\\\\data\\\\00\\\\0075d750cb.flac'\n",
      "d:\\nepali_notetaker_project\\nepali_notetaker_package\\DataSet\\asr_nepali_0\\asr_nepali\\data\\00\\0075d750cb.flac\n",
      "d:\\nepali_notetaker_project\\nepali_notetaker_package\\DataSet\\asr_nepali_0\\asr_nepali\\data\\00\\processed_wav\\0075d750cb.wav\n",
      "'d:\\\\nepali_notetaker_project\\\\nepali_notetaker_package\\\\DataSet\\\\asr_nepali_0\\\\asr_nepali\\\\data\\\\00\\\\007e419b2e.flac'\n",
      "d:\\nepali_notetaker_project\\nepali_notetaker_package\\DataSet\\asr_nepali_0\\asr_nepali\\data\\00\\007e419b2e.flac\n",
      "d:\\nepali_notetaker_project\\nepali_notetaker_package\\DataSet\\asr_nepali_0\\asr_nepali\\data\\00\\processed_wav\\007e419b2e.wav\n"
     ]
    },
    {
     "name": "stderr",
     "output_type": "stream",
     "text": [
      " 82%|████████▏ | 498/607 [01:45<00:17,  6.10it/s]"
     ]
    },
    {
     "name": "stdout",
     "output_type": "stream",
     "text": [
      "'d:\\\\nepali_notetaker_project\\\\nepali_notetaker_package\\\\DataSet\\\\asr_nepali_0\\\\asr_nepali\\\\data\\\\00\\\\00f3119720.flac'\n",
      "d:\\nepali_notetaker_project\\nepali_notetaker_package\\DataSet\\asr_nepali_0\\asr_nepali\\data\\00\\00f3119720.flac\n",
      "d:\\nepali_notetaker_project\\nepali_notetaker_package\\DataSet\\asr_nepali_0\\asr_nepali\\data\\00\\processed_wav\\00f3119720.wav\n",
      "'d:\\\\nepali_notetaker_project\\\\nepali_notetaker_package\\\\DataSet\\\\asr_nepali_0\\\\asr_nepali\\\\data\\\\00\\\\003f32ed01.flac'\n",
      "d:\\nepali_notetaker_project\\nepali_notetaker_package\\DataSet\\asr_nepali_0\\asr_nepali\\data\\00\\003f32ed01.flac\n",
      "d:\\nepali_notetaker_project\\nepali_notetaker_package\\DataSet\\asr_nepali_0\\asr_nepali\\data\\00\\processed_wav\\003f32ed01.wav\n"
     ]
    },
    {
     "name": "stderr",
     "output_type": "stream",
     "text": [
      " 82%|████████▏ | 500/607 [01:45<00:17,  5.97it/s]"
     ]
    },
    {
     "name": "stdout",
     "output_type": "stream",
     "text": [
      "'d:\\\\nepali_notetaker_project\\\\nepali_notetaker_package\\\\DataSet\\\\asr_nepali_0\\\\asr_nepali\\\\data\\\\00\\\\0089015a1a.flac'\n",
      "d:\\nepali_notetaker_project\\nepali_notetaker_package\\DataSet\\asr_nepali_0\\asr_nepali\\data\\00\\0089015a1a.flac\n",
      "d:\\nepali_notetaker_project\\nepali_notetaker_package\\DataSet\\asr_nepali_0\\asr_nepali\\data\\00\\processed_wav\\0089015a1a.wav\n",
      "'d:\\\\nepali_notetaker_project\\\\nepali_notetaker_package\\\\DataSet\\\\asr_nepali_0\\\\asr_nepali\\\\data\\\\00\\\\007668dc2f.flac'\n",
      "d:\\nepali_notetaker_project\\nepali_notetaker_package\\DataSet\\asr_nepali_0\\asr_nepali\\data\\00\\007668dc2f.flac\n",
      "d:\\nepali_notetaker_project\\nepali_notetaker_package\\DataSet\\asr_nepali_0\\asr_nepali\\data\\00\\processed_wav\\007668dc2f.wav\n"
     ]
    },
    {
     "name": "stderr",
     "output_type": "stream",
     "text": [
      " 83%|████████▎ | 502/607 [01:46<00:17,  6.06it/s]"
     ]
    },
    {
     "name": "stdout",
     "output_type": "stream",
     "text": [
      "'d:\\\\nepali_notetaker_project\\\\nepali_notetaker_package\\\\DataSet\\\\asr_nepali_0\\\\asr_nepali\\\\data\\\\00\\\\00ab3895f1.flac'\n",
      "d:\\nepali_notetaker_project\\nepali_notetaker_package\\DataSet\\asr_nepali_0\\asr_nepali\\data\\00\\00ab3895f1.flac\n",
      "d:\\nepali_notetaker_project\\nepali_notetaker_package\\DataSet\\asr_nepali_0\\asr_nepali\\data\\00\\processed_wav\\00ab3895f1.wav\n",
      "'d:\\\\nepali_notetaker_project\\\\nepali_notetaker_package\\\\DataSet\\\\asr_nepali_0\\\\asr_nepali\\\\data\\\\00\\\\005e15f7f8.flac'\n",
      "d:\\nepali_notetaker_project\\nepali_notetaker_package\\DataSet\\asr_nepali_0\\asr_nepali\\data\\00\\005e15f7f8.flac\n",
      "d:\\nepali_notetaker_project\\nepali_notetaker_package\\DataSet\\asr_nepali_0\\asr_nepali\\data\\00\\processed_wav\\005e15f7f8.wav\n"
     ]
    },
    {
     "name": "stderr",
     "output_type": "stream",
     "text": [
      " 83%|████████▎ | 504/607 [01:46<00:18,  5.55it/s]"
     ]
    },
    {
     "name": "stdout",
     "output_type": "stream",
     "text": [
      "'d:\\\\nepali_notetaker_project\\\\nepali_notetaker_package\\\\DataSet\\\\asr_nepali_0\\\\asr_nepali\\\\data\\\\00\\\\00945443ee.flac'\n",
      "d:\\nepali_notetaker_project\\nepali_notetaker_package\\DataSet\\asr_nepali_0\\asr_nepali\\data\\00\\00945443ee.flac\n",
      "d:\\nepali_notetaker_project\\nepali_notetaker_package\\DataSet\\asr_nepali_0\\asr_nepali\\data\\00\\processed_wav\\00945443ee.wav\n"
     ]
    },
    {
     "name": "stderr",
     "output_type": "stream",
     "text": [
      " 83%|████████▎ | 505/607 [01:46<00:18,  5.51it/s]"
     ]
    },
    {
     "name": "stdout",
     "output_type": "stream",
     "text": [
      "'d:\\\\nepali_notetaker_project\\\\nepali_notetaker_package\\\\DataSet\\\\asr_nepali_0\\\\asr_nepali\\\\data\\\\00\\\\00a63d1092.flac'\n",
      "d:\\nepali_notetaker_project\\nepali_notetaker_package\\DataSet\\asr_nepali_0\\asr_nepali\\data\\00\\00a63d1092.flac\n",
      "d:\\nepali_notetaker_project\\nepali_notetaker_package\\DataSet\\asr_nepali_0\\asr_nepali\\data\\00\\processed_wav\\00a63d1092.wav\n",
      "'d:\\\\nepali_notetaker_project\\\\nepali_notetaker_package\\\\DataSet\\\\asr_nepali_0\\\\asr_nepali\\\\data\\\\00\\\\0076c1bd01.flac'\n",
      "d:\\nepali_notetaker_project\\nepali_notetaker_package\\DataSet\\asr_nepali_0\\asr_nepali\\data\\00\\0076c1bd01.flac\n",
      "d:\\nepali_notetaker_project\\nepali_notetaker_package\\DataSet\\asr_nepali_0\\asr_nepali\\data\\00\\processed_wav\\0076c1bd01.wav\n"
     ]
    },
    {
     "name": "stderr",
     "output_type": "stream",
     "text": [
      " 84%|████████▎ | 507/607 [01:47<00:19,  5.20it/s]"
     ]
    },
    {
     "name": "stdout",
     "output_type": "stream",
     "text": [
      "'d:\\\\nepali_notetaker_project\\\\nepali_notetaker_package\\\\DataSet\\\\asr_nepali_0\\\\asr_nepali\\\\data\\\\00\\\\0084538fb6.flac'\n",
      "d:\\nepali_notetaker_project\\nepali_notetaker_package\\DataSet\\asr_nepali_0\\asr_nepali\\data\\00\\0084538fb6.flac\n",
      "d:\\nepali_notetaker_project\\nepali_notetaker_package\\DataSet\\asr_nepali_0\\asr_nepali\\data\\00\\processed_wav\\0084538fb6.wav\n"
     ]
    },
    {
     "name": "stderr",
     "output_type": "stream",
     "text": [
      " 84%|████████▎ | 508/607 [01:47<00:17,  5.56it/s]"
     ]
    },
    {
     "name": "stdout",
     "output_type": "stream",
     "text": [
      "'d:\\\\nepali_notetaker_project\\\\nepali_notetaker_package\\\\DataSet\\\\asr_nepali_0\\\\asr_nepali\\\\data\\\\00\\\\00d17816ad.flac'\n",
      "d:\\nepali_notetaker_project\\nepali_notetaker_package\\DataSet\\asr_nepali_0\\asr_nepali\\data\\00\\00d17816ad.flac\n",
      "d:\\nepali_notetaker_project\\nepali_notetaker_package\\DataSet\\asr_nepali_0\\asr_nepali\\data\\00\\processed_wav\\00d17816ad.wav\n",
      "'d:\\\\nepali_notetaker_project\\\\nepali_notetaker_package\\\\DataSet\\\\asr_nepali_0\\\\asr_nepali\\\\data\\\\00\\\\0077ba5098.flac'\n",
      "d:\\nepali_notetaker_project\\nepali_notetaker_package\\DataSet\\asr_nepali_0\\asr_nepali\\data\\00\\0077ba5098.flac\n",
      "d:\\nepali_notetaker_project\\nepali_notetaker_package\\DataSet\\asr_nepali_0\\asr_nepali\\data\\00\\processed_wav\\0077ba5098.wav\n"
     ]
    },
    {
     "name": "stderr",
     "output_type": "stream",
     "text": [
      " 84%|████████▍ | 510/607 [01:47<00:17,  5.67it/s]"
     ]
    },
    {
     "name": "stdout",
     "output_type": "stream",
     "text": [
      "'d:\\\\nepali_notetaker_project\\\\nepali_notetaker_package\\\\DataSet\\\\asr_nepali_0\\\\asr_nepali\\\\data\\\\00\\\\0005b1aae1.flac'\n",
      "d:\\nepali_notetaker_project\\nepali_notetaker_package\\DataSet\\asr_nepali_0\\asr_nepali\\data\\00\\0005b1aae1.flac\n",
      "d:\\nepali_notetaker_project\\nepali_notetaker_package\\DataSet\\asr_nepali_0\\asr_nepali\\data\\00\\processed_wav\\0005b1aae1.wav\n"
     ]
    },
    {
     "name": "stderr",
     "output_type": "stream",
     "text": [
      " 84%|████████▍ | 511/607 [01:47<00:16,  5.75it/s]"
     ]
    },
    {
     "name": "stdout",
     "output_type": "stream",
     "text": [
      "'d:\\\\nepali_notetaker_project\\\\nepali_notetaker_package\\\\DataSet\\\\asr_nepali_0\\\\asr_nepali\\\\data\\\\00\\\\008ea66b14.flac'\n",
      "d:\\nepali_notetaker_project\\nepali_notetaker_package\\DataSet\\asr_nepali_0\\asr_nepali\\data\\00\\008ea66b14.flac\n",
      "d:\\nepali_notetaker_project\\nepali_notetaker_package\\DataSet\\asr_nepali_0\\asr_nepali\\data\\00\\processed_wav\\008ea66b14.wav\n",
      "'d:\\\\nepali_notetaker_project\\\\nepali_notetaker_package\\\\DataSet\\\\asr_nepali_0\\\\asr_nepali\\\\data\\\\00\\\\00180ecd4a.flac'\n",
      "d:\\nepali_notetaker_project\\nepali_notetaker_package\\DataSet\\asr_nepali_0\\asr_nepali\\data\\00\\00180ecd4a.flac\n",
      "d:\\nepali_notetaker_project\\nepali_notetaker_package\\DataSet\\asr_nepali_0\\asr_nepali\\data\\00\\processed_wav\\00180ecd4a.wav\n"
     ]
    },
    {
     "name": "stderr",
     "output_type": "stream",
     "text": [
      " 85%|████████▍ | 513/607 [01:48<00:16,  5.63it/s]"
     ]
    },
    {
     "name": "stdout",
     "output_type": "stream",
     "text": [
      "'d:\\\\nepali_notetaker_project\\\\nepali_notetaker_package\\\\DataSet\\\\asr_nepali_0\\\\asr_nepali\\\\data\\\\00\\\\00163facae.flac'\n",
      "d:\\nepali_notetaker_project\\nepali_notetaker_package\\DataSet\\asr_nepali_0\\asr_nepali\\data\\00\\00163facae.flac\n",
      "d:\\nepali_notetaker_project\\nepali_notetaker_package\\DataSet\\asr_nepali_0\\asr_nepali\\data\\00\\processed_wav\\00163facae.wav\n"
     ]
    },
    {
     "name": "stderr",
     "output_type": "stream",
     "text": [
      " 85%|████████▍ | 514/607 [01:48<00:16,  5.72it/s]"
     ]
    },
    {
     "name": "stdout",
     "output_type": "stream",
     "text": [
      "'d:\\\\nepali_notetaker_project\\\\nepali_notetaker_package\\\\DataSet\\\\asr_nepali_0\\\\asr_nepali\\\\data\\\\00\\\\00b2ada74b.flac'\n",
      "d:\\nepali_notetaker_project\\nepali_notetaker_package\\DataSet\\asr_nepali_0\\asr_nepali\\data\\00\\00b2ada74b.flac\n",
      "d:\\nepali_notetaker_project\\nepali_notetaker_package\\DataSet\\asr_nepali_0\\asr_nepali\\data\\00\\processed_wav\\00b2ada74b.wav\n",
      "'d:\\\\nepali_notetaker_project\\\\nepali_notetaker_package\\\\DataSet\\\\asr_nepali_0\\\\asr_nepali\\\\data\\\\00\\\\00d2c6cac2.flac'\n",
      "d:\\nepali_notetaker_project\\nepali_notetaker_package\\DataSet\\asr_nepali_0\\asr_nepali\\data\\00\\00d2c6cac2.flac\n",
      "d:\\nepali_notetaker_project\\nepali_notetaker_package\\DataSet\\asr_nepali_0\\asr_nepali\\data\\00\\processed_wav\\00d2c6cac2.wav\n"
     ]
    },
    {
     "name": "stderr",
     "output_type": "stream",
     "text": [
      " 85%|████████▌ | 516/607 [01:48<00:15,  6.05it/s]"
     ]
    },
    {
     "name": "stdout",
     "output_type": "stream",
     "text": [
      "'d:\\\\nepali_notetaker_project\\\\nepali_notetaker_package\\\\DataSet\\\\asr_nepali_0\\\\asr_nepali\\\\data\\\\00\\\\00b2086e26.flac'\n",
      "d:\\nepali_notetaker_project\\nepali_notetaker_package\\DataSet\\asr_nepali_0\\asr_nepali\\data\\00\\00b2086e26.flac\n",
      "d:\\nepali_notetaker_project\\nepali_notetaker_package\\DataSet\\asr_nepali_0\\asr_nepali\\data\\00\\processed_wav\\00b2086e26.wav\n",
      "'d:\\\\nepali_notetaker_project\\\\nepali_notetaker_package\\\\DataSet\\\\asr_nepali_0\\\\asr_nepali\\\\data\\\\00\\\\0043a16350.flac'\n",
      "d:\\nepali_notetaker_project\\nepali_notetaker_package\\DataSet\\asr_nepali_0\\asr_nepali\\data\\00\\0043a16350.flac\n",
      "d:\\nepali_notetaker_project\\nepali_notetaker_package\\DataSet\\asr_nepali_0\\asr_nepali\\data\\00\\processed_wav\\0043a16350.wav\n"
     ]
    },
    {
     "name": "stderr",
     "output_type": "stream",
     "text": [
      " 85%|████████▌ | 518/607 [01:49<00:15,  5.82it/s]"
     ]
    },
    {
     "name": "stdout",
     "output_type": "stream",
     "text": [
      "'d:\\\\nepali_notetaker_project\\\\nepali_notetaker_package\\\\DataSet\\\\asr_nepali_0\\\\asr_nepali\\\\data\\\\00\\\\0038c5e483.flac'\n",
      "d:\\nepali_notetaker_project\\nepali_notetaker_package\\DataSet\\asr_nepali_0\\asr_nepali\\data\\00\\0038c5e483.flac\n",
      "d:\\nepali_notetaker_project\\nepali_notetaker_package\\DataSet\\asr_nepali_0\\asr_nepali\\data\\00\\processed_wav\\0038c5e483.wav\n",
      "'d:\\\\nepali_notetaker_project\\\\nepali_notetaker_package\\\\DataSet\\\\asr_nepali_0\\\\asr_nepali\\\\data\\\\00\\\\0023f1da75.flac'\n",
      "d:\\nepali_notetaker_project\\nepali_notetaker_package\\DataSet\\asr_nepali_0\\asr_nepali\\data\\00\\0023f1da75.flac\n",
      "d:\\nepali_notetaker_project\\nepali_notetaker_package\\DataSet\\asr_nepali_0\\asr_nepali\\data\\00\\processed_wav\\0023f1da75.wav\n"
     ]
    },
    {
     "name": "stderr",
     "output_type": "stream",
     "text": [
      " 86%|████████▌ | 520/607 [01:49<00:15,  5.77it/s]"
     ]
    },
    {
     "name": "stdout",
     "output_type": "stream",
     "text": [
      "'d:\\\\nepali_notetaker_project\\\\nepali_notetaker_package\\\\DataSet\\\\asr_nepali_0\\\\asr_nepali\\\\data\\\\00\\\\00214296e5.flac'\n",
      "d:\\nepali_notetaker_project\\nepali_notetaker_package\\DataSet\\asr_nepali_0\\asr_nepali\\data\\00\\00214296e5.flac\n",
      "d:\\nepali_notetaker_project\\nepali_notetaker_package\\DataSet\\asr_nepali_0\\asr_nepali\\data\\00\\processed_wav\\00214296e5.wav\n",
      "'d:\\\\nepali_notetaker_project\\\\nepali_notetaker_package\\\\DataSet\\\\asr_nepali_0\\\\asr_nepali\\\\data\\\\00\\\\0081748bf9.flac'\n",
      "d:\\nepali_notetaker_project\\nepali_notetaker_package\\DataSet\\asr_nepali_0\\asr_nepali\\data\\00\\0081748bf9.flac\n",
      "d:\\nepali_notetaker_project\\nepali_notetaker_package\\DataSet\\asr_nepali_0\\asr_nepali\\data\\00\\processed_wav\\0081748bf9.wav\n"
     ]
    },
    {
     "name": "stderr",
     "output_type": "stream",
     "text": [
      " 86%|████████▌ | 522/607 [01:49<00:15,  5.44it/s]"
     ]
    },
    {
     "name": "stdout",
     "output_type": "stream",
     "text": [
      "'d:\\\\nepali_notetaker_project\\\\nepali_notetaker_package\\\\DataSet\\\\asr_nepali_0\\\\asr_nepali\\\\data\\\\00\\\\000a660d92.flac'\n",
      "d:\\nepali_notetaker_project\\nepali_notetaker_package\\DataSet\\asr_nepali_0\\asr_nepali\\data\\00\\000a660d92.flac\n",
      "d:\\nepali_notetaker_project\\nepali_notetaker_package\\DataSet\\asr_nepali_0\\asr_nepali\\data\\00\\processed_wav\\000a660d92.wav\n",
      "'d:\\\\nepali_notetaker_project\\\\nepali_notetaker_package\\\\DataSet\\\\asr_nepali_0\\\\asr_nepali\\\\data\\\\00\\\\00c0c971bf.flac'\n",
      "d:\\nepali_notetaker_project\\nepali_notetaker_package\\DataSet\\asr_nepali_0\\asr_nepali\\data\\00\\00c0c971bf.flac\n",
      "d:\\nepali_notetaker_project\\nepali_notetaker_package\\DataSet\\asr_nepali_0\\asr_nepali\\data\\00\\processed_wav\\00c0c971bf.wav\n"
     ]
    },
    {
     "name": "stderr",
     "output_type": "stream",
     "text": [
      " 86%|████████▌ | 523/607 [01:50<00:16,  5.13it/s]"
     ]
    },
    {
     "name": "stdout",
     "output_type": "stream",
     "text": [
      "'d:\\\\nepali_notetaker_project\\\\nepali_notetaker_package\\\\DataSet\\\\asr_nepali_0\\\\asr_nepali\\\\data\\\\00\\\\004e099a4d.flac'\n",
      "d:\\nepali_notetaker_project\\nepali_notetaker_package\\DataSet\\asr_nepali_0\\asr_nepali\\data\\00\\004e099a4d.flac\n",
      "d:\\nepali_notetaker_project\\nepali_notetaker_package\\DataSet\\asr_nepali_0\\asr_nepali\\data\\00\\processed_wav\\004e099a4d.wav\n"
     ]
    },
    {
     "name": "stderr",
     "output_type": "stream",
     "text": [
      " 86%|████████▋ | 524/607 [01:50<00:16,  4.91it/s]"
     ]
    },
    {
     "name": "stdout",
     "output_type": "stream",
     "text": [
      "'d:\\\\nepali_notetaker_project\\\\nepali_notetaker_package\\\\DataSet\\\\asr_nepali_0\\\\asr_nepali\\\\data\\\\00\\\\00a1f8a9cc.flac'\n",
      "d:\\nepali_notetaker_project\\nepali_notetaker_package\\DataSet\\asr_nepali_0\\asr_nepali\\data\\00\\00a1f8a9cc.flac\n",
      "d:\\nepali_notetaker_project\\nepali_notetaker_package\\DataSet\\asr_nepali_0\\asr_nepali\\data\\00\\processed_wav\\00a1f8a9cc.wav\n"
     ]
    },
    {
     "name": "stderr",
     "output_type": "stream",
     "text": [
      " 87%|████████▋ | 526/607 [01:50<00:16,  4.95it/s]"
     ]
    },
    {
     "name": "stdout",
     "output_type": "stream",
     "text": [
      "'d:\\\\nepali_notetaker_project\\\\nepali_notetaker_package\\\\DataSet\\\\asr_nepali_0\\\\asr_nepali\\\\data\\\\00\\\\00b2a9bc64.flac'\n",
      "d:\\nepali_notetaker_project\\nepali_notetaker_package\\DataSet\\asr_nepali_0\\asr_nepali\\data\\00\\00b2a9bc64.flac\n",
      "d:\\nepali_notetaker_project\\nepali_notetaker_package\\DataSet\\asr_nepali_0\\asr_nepali\\data\\00\\processed_wav\\00b2a9bc64.wav\n"
     ]
    },
    {
     "name": "stderr",
     "output_type": "stream",
     "text": [
      " 87%|████████▋ | 527/607 [01:50<00:15,  5.08it/s]"
     ]
    },
    {
     "name": "stdout",
     "output_type": "stream",
     "text": [
      "'d:\\\\nepali_notetaker_project\\\\nepali_notetaker_package\\\\DataSet\\\\asr_nepali_0\\\\asr_nepali\\\\data\\\\00\\\\00d5d7d93f.flac'\n",
      "d:\\nepali_notetaker_project\\nepali_notetaker_package\\DataSet\\asr_nepali_0\\asr_nepali\\data\\00\\00d5d7d93f.flac\n",
      "d:\\nepali_notetaker_project\\nepali_notetaker_package\\DataSet\\asr_nepali_0\\asr_nepali\\data\\00\\processed_wav\\00d5d7d93f.wav\n"
     ]
    },
    {
     "name": "stderr",
     "output_type": "stream",
     "text": [
      " 87%|████████▋ | 528/607 [01:51<00:15,  5.11it/s]"
     ]
    },
    {
     "name": "stdout",
     "output_type": "stream",
     "text": [
      "'d:\\\\nepali_notetaker_project\\\\nepali_notetaker_package\\\\DataSet\\\\asr_nepali_0\\\\asr_nepali\\\\data\\\\00\\\\0069e365b9.flac'\n",
      "d:\\nepali_notetaker_project\\nepali_notetaker_package\\DataSet\\asr_nepali_0\\asr_nepali\\data\\00\\0069e365b9.flac\n",
      "d:\\nepali_notetaker_project\\nepali_notetaker_package\\DataSet\\asr_nepali_0\\asr_nepali\\data\\00\\processed_wav\\0069e365b9.wav\n",
      "'d:\\\\nepali_notetaker_project\\\\nepali_notetaker_package\\\\DataSet\\\\asr_nepali_0\\\\asr_nepali\\\\data\\\\00\\\\006dcbf209.flac'\n",
      "d:\\nepali_notetaker_project\\nepali_notetaker_package\\DataSet\\asr_nepali_0\\asr_nepali\\data\\00\\006dcbf209.flac\n",
      "d:\\nepali_notetaker_project\\nepali_notetaker_package\\DataSet\\asr_nepali_0\\asr_nepali\\data\\00\\processed_wav\\006dcbf209.wav\n"
     ]
    },
    {
     "name": "stderr",
     "output_type": "stream",
     "text": [
      " 87%|████████▋ | 529/607 [01:51<00:15,  4.92it/s]"
     ]
    },
    {
     "name": "stdout",
     "output_type": "stream",
     "text": [
      "'d:\\\\nepali_notetaker_project\\\\nepali_notetaker_package\\\\DataSet\\\\asr_nepali_0\\\\asr_nepali\\\\data\\\\00\\\\0090cceafe.flac'\n",
      "d:\\nepali_notetaker_project\\nepali_notetaker_package\\DataSet\\asr_nepali_0\\asr_nepali\\data\\00\\0090cceafe.flac\n",
      "d:\\nepali_notetaker_project\\nepali_notetaker_package\\DataSet\\asr_nepali_0\\asr_nepali\\data\\00\\processed_wav\\0090cceafe.wav\n"
     ]
    },
    {
     "name": "stderr",
     "output_type": "stream",
     "text": [
      " 87%|████████▋ | 531/607 [01:51<00:15,  5.02it/s]"
     ]
    },
    {
     "name": "stdout",
     "output_type": "stream",
     "text": [
      "'d:\\\\nepali_notetaker_project\\\\nepali_notetaker_package\\\\DataSet\\\\asr_nepali_0\\\\asr_nepali\\\\data\\\\00\\\\0033a7ae1e.flac'\n",
      "d:\\nepali_notetaker_project\\nepali_notetaker_package\\DataSet\\asr_nepali_0\\asr_nepali\\data\\00\\0033a7ae1e.flac\n",
      "d:\\nepali_notetaker_project\\nepali_notetaker_package\\DataSet\\asr_nepali_0\\asr_nepali\\data\\00\\processed_wav\\0033a7ae1e.wav\n",
      "'d:\\\\nepali_notetaker_project\\\\nepali_notetaker_package\\\\DataSet\\\\asr_nepali_0\\\\asr_nepali\\\\data\\\\00\\\\009a021db4.flac'\n",
      "d:\\nepali_notetaker_project\\nepali_notetaker_package\\DataSet\\asr_nepali_0\\asr_nepali\\data\\00\\009a021db4.flac\n",
      "d:\\nepali_notetaker_project\\nepali_notetaker_package\\DataSet\\asr_nepali_0\\asr_nepali\\data\\00\\processed_wav\\009a021db4.wav\n"
     ]
    },
    {
     "name": "stderr",
     "output_type": "stream",
     "text": [
      " 88%|████████▊ | 533/607 [01:52<00:14,  5.08it/s]"
     ]
    },
    {
     "name": "stdout",
     "output_type": "stream",
     "text": [
      "'d:\\\\nepali_notetaker_project\\\\nepali_notetaker_package\\\\DataSet\\\\asr_nepali_0\\\\asr_nepali\\\\data\\\\00\\\\002a749d55.flac'\n",
      "d:\\nepali_notetaker_project\\nepali_notetaker_package\\DataSet\\asr_nepali_0\\asr_nepali\\data\\00\\002a749d55.flac\n",
      "d:\\nepali_notetaker_project\\nepali_notetaker_package\\DataSet\\asr_nepali_0\\asr_nepali\\data\\00\\processed_wav\\002a749d55.wav\n"
     ]
    },
    {
     "name": "stderr",
     "output_type": "stream",
     "text": [
      " 88%|████████▊ | 534/607 [01:52<00:14,  4.98it/s]"
     ]
    },
    {
     "name": "stdout",
     "output_type": "stream",
     "text": [
      "'d:\\\\nepali_notetaker_project\\\\nepali_notetaker_package\\\\DataSet\\\\asr_nepali_0\\\\asr_nepali\\\\data\\\\00\\\\00a986dd27.flac'\n",
      "d:\\nepali_notetaker_project\\nepali_notetaker_package\\DataSet\\asr_nepali_0\\asr_nepali\\data\\00\\00a986dd27.flac\n",
      "d:\\nepali_notetaker_project\\nepali_notetaker_package\\DataSet\\asr_nepali_0\\asr_nepali\\data\\00\\processed_wav\\00a986dd27.wav\n"
     ]
    },
    {
     "name": "stderr",
     "output_type": "stream",
     "text": [
      " 88%|████████▊ | 535/607 [01:52<00:14,  5.12it/s]"
     ]
    },
    {
     "name": "stdout",
     "output_type": "stream",
     "text": [
      "'d:\\\\nepali_notetaker_project\\\\nepali_notetaker_package\\\\DataSet\\\\asr_nepali_0\\\\asr_nepali\\\\data\\\\00\\\\00965969ae.flac'\n",
      "d:\\nepali_notetaker_project\\nepali_notetaker_package\\DataSet\\asr_nepali_0\\asr_nepali\\data\\00\\00965969ae.flac\n",
      "d:\\nepali_notetaker_project\\nepali_notetaker_package\\DataSet\\asr_nepali_0\\asr_nepali\\data\\00\\processed_wav\\00965969ae.wav\n"
     ]
    },
    {
     "name": "stderr",
     "output_type": "stream",
     "text": [
      " 88%|████████▊ | 536/607 [01:52<00:13,  5.13it/s]"
     ]
    },
    {
     "name": "stdout",
     "output_type": "stream",
     "text": [
      "'d:\\\\nepali_notetaker_project\\\\nepali_notetaker_package\\\\DataSet\\\\asr_nepali_0\\\\asr_nepali\\\\data\\\\00\\\\00cc8a28f5.flac'\n",
      "d:\\nepali_notetaker_project\\nepali_notetaker_package\\DataSet\\asr_nepali_0\\asr_nepali\\data\\00\\00cc8a28f5.flac\n",
      "d:\\nepali_notetaker_project\\nepali_notetaker_package\\DataSet\\asr_nepali_0\\asr_nepali\\data\\00\\processed_wav\\00cc8a28f5.wav\n",
      "'d:\\\\nepali_notetaker_project\\\\nepali_notetaker_package\\\\DataSet\\\\asr_nepali_0\\\\asr_nepali\\\\data\\\\00\\\\00bcf71c72.flac'\n",
      "d:\\nepali_notetaker_project\\nepali_notetaker_package\\DataSet\\asr_nepali_0\\asr_nepali\\data\\00\\00bcf71c72.flac\n",
      "d:\\nepali_notetaker_project\\nepali_notetaker_package\\DataSet\\asr_nepali_0\\asr_nepali\\data\\00\\processed_wav\\00bcf71c72.wav\n"
     ]
    },
    {
     "name": "stderr",
     "output_type": "stream",
     "text": [
      " 89%|████████▊ | 538/607 [01:53<00:13,  5.07it/s]"
     ]
    },
    {
     "name": "stdout",
     "output_type": "stream",
     "text": [
      "'d:\\\\nepali_notetaker_project\\\\nepali_notetaker_package\\\\DataSet\\\\asr_nepali_0\\\\asr_nepali\\\\data\\\\00\\\\00cb68c79a.flac'\n",
      "d:\\nepali_notetaker_project\\nepali_notetaker_package\\DataSet\\asr_nepali_0\\asr_nepali\\data\\00\\00cb68c79a.flac\n",
      "d:\\nepali_notetaker_project\\nepali_notetaker_package\\DataSet\\asr_nepali_0\\asr_nepali\\data\\00\\processed_wav\\00cb68c79a.wav\n"
     ]
    },
    {
     "name": "stderr",
     "output_type": "stream",
     "text": [
      " 89%|████████▉ | 539/607 [01:53<00:13,  5.17it/s]"
     ]
    },
    {
     "name": "stdout",
     "output_type": "stream",
     "text": [
      "'d:\\\\nepali_notetaker_project\\\\nepali_notetaker_package\\\\DataSet\\\\asr_nepali_0\\\\asr_nepali\\\\data\\\\00\\\\00b94d6ca5.flac'\n",
      "d:\\nepali_notetaker_project\\nepali_notetaker_package\\DataSet\\asr_nepali_0\\asr_nepali\\data\\00\\00b94d6ca5.flac\n",
      "d:\\nepali_notetaker_project\\nepali_notetaker_package\\DataSet\\asr_nepali_0\\asr_nepali\\data\\00\\processed_wav\\00b94d6ca5.wav\n",
      "'d:\\\\nepali_notetaker_project\\\\nepali_notetaker_package\\\\DataSet\\\\asr_nepali_0\\\\asr_nepali\\\\data\\\\00\\\\00a03a6d0a.flac'\n",
      "d:\\nepali_notetaker_project\\nepali_notetaker_package\\DataSet\\asr_nepali_0\\asr_nepali\\data\\00\\00a03a6d0a.flac\n",
      "d:\\nepali_notetaker_project\\nepali_notetaker_package\\DataSet\\asr_nepali_0\\asr_nepali\\data\\00\\processed_wav\\00a03a6d0a.wav\n"
     ]
    },
    {
     "name": "stderr",
     "output_type": "stream",
     "text": [
      " 89%|████████▉ | 541/607 [01:53<00:13,  4.91it/s]"
     ]
    },
    {
     "name": "stdout",
     "output_type": "stream",
     "text": [
      "'d:\\\\nepali_notetaker_project\\\\nepali_notetaker_package\\\\DataSet\\\\asr_nepali_0\\\\asr_nepali\\\\data\\\\00\\\\002ae35cd3.flac'\n",
      "d:\\nepali_notetaker_project\\nepali_notetaker_package\\DataSet\\asr_nepali_0\\asr_nepali\\data\\00\\002ae35cd3.flac\n",
      "d:\\nepali_notetaker_project\\nepali_notetaker_package\\DataSet\\asr_nepali_0\\asr_nepali\\data\\00\\processed_wav\\002ae35cd3.wav\n"
     ]
    },
    {
     "name": "stderr",
     "output_type": "stream",
     "text": [
      " 89%|████████▉ | 542/607 [01:53<00:13,  4.96it/s]"
     ]
    },
    {
     "name": "stdout",
     "output_type": "stream",
     "text": [
      "'d:\\\\nepali_notetaker_project\\\\nepali_notetaker_package\\\\DataSet\\\\asr_nepali_0\\\\asr_nepali\\\\data\\\\00\\\\00a7a2549a.flac'\n",
      "d:\\nepali_notetaker_project\\nepali_notetaker_package\\DataSet\\asr_nepali_0\\asr_nepali\\data\\00\\00a7a2549a.flac\n",
      "d:\\nepali_notetaker_project\\nepali_notetaker_package\\DataSet\\asr_nepali_0\\asr_nepali\\data\\00\\processed_wav\\00a7a2549a.wav\n"
     ]
    },
    {
     "name": "stderr",
     "output_type": "stream",
     "text": [
      " 89%|████████▉ | 543/607 [01:54<00:12,  5.15it/s]"
     ]
    },
    {
     "name": "stdout",
     "output_type": "stream",
     "text": [
      "'d:\\\\nepali_notetaker_project\\\\nepali_notetaker_package\\\\DataSet\\\\asr_nepali_0\\\\asr_nepali\\\\data\\\\00\\\\00d2238242.flac'\n",
      "d:\\nepali_notetaker_project\\nepali_notetaker_package\\DataSet\\asr_nepali_0\\asr_nepali\\data\\00\\00d2238242.flac\n",
      "d:\\nepali_notetaker_project\\nepali_notetaker_package\\DataSet\\asr_nepali_0\\asr_nepali\\data\\00\\processed_wav\\00d2238242.wav\n"
     ]
    },
    {
     "name": "stderr",
     "output_type": "stream",
     "text": [
      " 90%|████████▉ | 544/607 [01:54<00:12,  5.23it/s]"
     ]
    },
    {
     "name": "stdout",
     "output_type": "stream",
     "text": [
      "'d:\\\\nepali_notetaker_project\\\\nepali_notetaker_package\\\\DataSet\\\\asr_nepali_0\\\\asr_nepali\\\\data\\\\00\\\\007169b909.flac'\n",
      "d:\\nepali_notetaker_project\\nepali_notetaker_package\\DataSet\\asr_nepali_0\\asr_nepali\\data\\00\\007169b909.flac\n",
      "d:\\nepali_notetaker_project\\nepali_notetaker_package\\DataSet\\asr_nepali_0\\asr_nepali\\data\\00\\processed_wav\\007169b909.wav\n",
      "'d:\\\\nepali_notetaker_project\\\\nepali_notetaker_package\\\\DataSet\\\\asr_nepali_0\\\\asr_nepali\\\\data\\\\00\\\\00045ee2e0.flac'\n",
      "d:\\nepali_notetaker_project\\nepali_notetaker_package\\DataSet\\asr_nepali_0\\asr_nepali\\data\\00\\00045ee2e0.flac\n",
      "d:\\nepali_notetaker_project\\nepali_notetaker_package\\DataSet\\asr_nepali_0\\asr_nepali\\data\\00\\processed_wav\\00045ee2e0.wav\n"
     ]
    },
    {
     "name": "stderr",
     "output_type": "stream",
     "text": [
      " 90%|████████▉ | 546/607 [01:54<00:10,  5.65it/s]"
     ]
    },
    {
     "name": "stdout",
     "output_type": "stream",
     "text": [
      "'d:\\\\nepali_notetaker_project\\\\nepali_notetaker_package\\\\DataSet\\\\asr_nepali_0\\\\asr_nepali\\\\data\\\\00\\\\00ab0e6001.flac'\n",
      "d:\\nepali_notetaker_project\\nepali_notetaker_package\\DataSet\\asr_nepali_0\\asr_nepali\\data\\00\\00ab0e6001.flac\n",
      "d:\\nepali_notetaker_project\\nepali_notetaker_package\\DataSet\\asr_nepali_0\\asr_nepali\\data\\00\\processed_wav\\00ab0e6001.wav\n",
      "'d:\\\\nepali_notetaker_project\\\\nepali_notetaker_package\\\\DataSet\\\\asr_nepali_0\\\\asr_nepali\\\\data\\\\00\\\\00794066ec.flac'\n",
      "d:\\nepali_notetaker_project\\nepali_notetaker_package\\DataSet\\asr_nepali_0\\asr_nepali\\data\\00\\00794066ec.flac\n",
      "d:\\nepali_notetaker_project\\nepali_notetaker_package\\DataSet\\asr_nepali_0\\asr_nepali\\data\\00\\processed_wav\\00794066ec.wav\n"
     ]
    },
    {
     "name": "stderr",
     "output_type": "stream",
     "text": [
      " 90%|█████████ | 548/607 [01:55<00:11,  5.03it/s]"
     ]
    },
    {
     "name": "stdout",
     "output_type": "stream",
     "text": [
      "'d:\\\\nepali_notetaker_project\\\\nepali_notetaker_package\\\\DataSet\\\\asr_nepali_0\\\\asr_nepali\\\\data\\\\00\\\\00d2626c0d.flac'\n",
      "d:\\nepali_notetaker_project\\nepali_notetaker_package\\DataSet\\asr_nepali_0\\asr_nepali\\data\\00\\00d2626c0d.flac\n",
      "d:\\nepali_notetaker_project\\nepali_notetaker_package\\DataSet\\asr_nepali_0\\asr_nepali\\data\\00\\processed_wav\\00d2626c0d.wav\n"
     ]
    },
    {
     "name": "stderr",
     "output_type": "stream",
     "text": [
      " 90%|█████████ | 549/607 [01:55<00:11,  5.02it/s]"
     ]
    },
    {
     "name": "stdout",
     "output_type": "stream",
     "text": [
      "'d:\\\\nepali_notetaker_project\\\\nepali_notetaker_package\\\\DataSet\\\\asr_nepali_0\\\\asr_nepali\\\\data\\\\00\\\\00d5e69e88.flac'\n",
      "d:\\nepali_notetaker_project\\nepali_notetaker_package\\DataSet\\asr_nepali_0\\asr_nepali\\data\\00\\00d5e69e88.flac\n",
      "d:\\nepali_notetaker_project\\nepali_notetaker_package\\DataSet\\asr_nepali_0\\asr_nepali\\data\\00\\processed_wav\\00d5e69e88.wav\n"
     ]
    },
    {
     "name": "stderr",
     "output_type": "stream",
     "text": [
      " 91%|█████████ | 550/607 [01:55<00:11,  5.09it/s]"
     ]
    },
    {
     "name": "stdout",
     "output_type": "stream",
     "text": [
      "'d:\\\\nepali_notetaker_project\\\\nepali_notetaker_package\\\\DataSet\\\\asr_nepali_0\\\\asr_nepali\\\\data\\\\00\\\\0039eeac8e.flac'\n",
      "d:\\nepali_notetaker_project\\nepali_notetaker_package\\DataSet\\asr_nepali_0\\asr_nepali\\data\\00\\0039eeac8e.flac\n",
      "d:\\nepali_notetaker_project\\nepali_notetaker_package\\DataSet\\asr_nepali_0\\asr_nepali\\data\\00\\processed_wav\\0039eeac8e.wav\n"
     ]
    },
    {
     "name": "stderr",
     "output_type": "stream",
     "text": [
      " 91%|█████████ | 551/607 [01:55<00:11,  5.08it/s]"
     ]
    },
    {
     "name": "stdout",
     "output_type": "stream",
     "text": [
      "'d:\\\\nepali_notetaker_project\\\\nepali_notetaker_package\\\\DataSet\\\\asr_nepali_0\\\\asr_nepali\\\\data\\\\00\\\\0059d26a13.flac'\n",
      "d:\\nepali_notetaker_project\\nepali_notetaker_package\\DataSet\\asr_nepali_0\\asr_nepali\\data\\00\\0059d26a13.flac\n",
      "d:\\nepali_notetaker_project\\nepali_notetaker_package\\DataSet\\asr_nepali_0\\asr_nepali\\data\\00\\processed_wav\\0059d26a13.wav\n"
     ]
    },
    {
     "name": "stderr",
     "output_type": "stream",
     "text": [
      " 91%|█████████ | 552/607 [01:55<00:10,  5.11it/s]"
     ]
    },
    {
     "name": "stdout",
     "output_type": "stream",
     "text": [
      "'d:\\\\nepali_notetaker_project\\\\nepali_notetaker_package\\\\DataSet\\\\asr_nepali_0\\\\asr_nepali\\\\data\\\\00\\\\00867c189f.flac'\n",
      "d:\\nepali_notetaker_project\\nepali_notetaker_package\\DataSet\\asr_nepali_0\\asr_nepali\\data\\00\\00867c189f.flac\n",
      "d:\\nepali_notetaker_project\\nepali_notetaker_package\\DataSet\\asr_nepali_0\\asr_nepali\\data\\00\\processed_wav\\00867c189f.wav\n"
     ]
    },
    {
     "name": "stderr",
     "output_type": "stream",
     "text": [
      " 91%|█████████ | 553/607 [01:55<00:10,  5.24it/s]"
     ]
    },
    {
     "name": "stdout",
     "output_type": "stream",
     "text": [
      "'d:\\\\nepali_notetaker_project\\\\nepali_notetaker_package\\\\DataSet\\\\asr_nepali_0\\\\asr_nepali\\\\data\\\\00\\\\00fd5ba5b7.flac'\n",
      "d:\\nepali_notetaker_project\\nepali_notetaker_package\\DataSet\\asr_nepali_0\\asr_nepali\\data\\00\\00fd5ba5b7.flac\n",
      "d:\\nepali_notetaker_project\\nepali_notetaker_package\\DataSet\\asr_nepali_0\\asr_nepali\\data\\00\\processed_wav\\00fd5ba5b7.wav\n"
     ]
    },
    {
     "name": "stderr",
     "output_type": "stream",
     "text": [
      " 91%|█████████▏| 554/607 [01:56<00:09,  5.46it/s]"
     ]
    },
    {
     "name": "stdout",
     "output_type": "stream",
     "text": [
      "'d:\\\\nepali_notetaker_project\\\\nepali_notetaker_package\\\\DataSet\\\\asr_nepali_0\\\\asr_nepali\\\\data\\\\00\\\\00ec8bbb48.flac'\n",
      "d:\\nepali_notetaker_project\\nepali_notetaker_package\\DataSet\\asr_nepali_0\\asr_nepali\\data\\00\\00ec8bbb48.flac\n",
      "d:\\nepali_notetaker_project\\nepali_notetaker_package\\DataSet\\asr_nepali_0\\asr_nepali\\data\\00\\processed_wav\\00ec8bbb48.wav\n",
      "'d:\\\\nepali_notetaker_project\\\\nepali_notetaker_package\\\\DataSet\\\\asr_nepali_0\\\\asr_nepali\\\\data\\\\00\\\\0016678b02.flac'\n",
      "d:\\nepali_notetaker_project\\nepali_notetaker_package\\DataSet\\asr_nepali_0\\asr_nepali\\data\\00\\0016678b02.flac\n",
      "d:\\nepali_notetaker_project\\nepali_notetaker_package\\DataSet\\asr_nepali_0\\asr_nepali\\data\\00\\processed_wav\\0016678b02.wav\n"
     ]
    },
    {
     "name": "stderr",
     "output_type": "stream",
     "text": [
      " 92%|█████████▏| 556/607 [01:56<00:08,  5.76it/s]"
     ]
    },
    {
     "name": "stdout",
     "output_type": "stream",
     "text": [
      "'d:\\\\nepali_notetaker_project\\\\nepali_notetaker_package\\\\DataSet\\\\asr_nepali_0\\\\asr_nepali\\\\data\\\\00\\\\0097aa1096.flac'\n",
      "d:\\nepali_notetaker_project\\nepali_notetaker_package\\DataSet\\asr_nepali_0\\asr_nepali\\data\\00\\0097aa1096.flac\n",
      "d:\\nepali_notetaker_project\\nepali_notetaker_package\\DataSet\\asr_nepali_0\\asr_nepali\\data\\00\\processed_wav\\0097aa1096.wav\n",
      "'d:\\\\nepali_notetaker_project\\\\nepali_notetaker_package\\\\DataSet\\\\asr_nepali_0\\\\asr_nepali\\\\data\\\\00\\\\00340fd7a4.flac'\n",
      "d:\\nepali_notetaker_project\\nepali_notetaker_package\\DataSet\\asr_nepali_0\\asr_nepali\\data\\00\\00340fd7a4.flac\n",
      "d:\\nepali_notetaker_project\\nepali_notetaker_package\\DataSet\\asr_nepali_0\\asr_nepali\\data\\00\\processed_wav\\00340fd7a4.wav\n"
     ]
    },
    {
     "name": "stderr",
     "output_type": "stream",
     "text": [
      " 92%|█████████▏| 558/607 [01:56<00:08,  5.72it/s]"
     ]
    },
    {
     "name": "stdout",
     "output_type": "stream",
     "text": [
      "'d:\\\\nepali_notetaker_project\\\\nepali_notetaker_package\\\\DataSet\\\\asr_nepali_0\\\\asr_nepali\\\\data\\\\00\\\\00545b834b.flac'\n",
      "d:\\nepali_notetaker_project\\nepali_notetaker_package\\DataSet\\asr_nepali_0\\asr_nepali\\data\\00\\00545b834b.flac\n",
      "d:\\nepali_notetaker_project\\nepali_notetaker_package\\DataSet\\asr_nepali_0\\asr_nepali\\data\\00\\processed_wav\\00545b834b.wav\n",
      "'d:\\\\nepali_notetaker_project\\\\nepali_notetaker_package\\\\DataSet\\\\asr_nepali_0\\\\asr_nepali\\\\data\\\\00\\\\00341efed3.flac'\n",
      "d:\\nepali_notetaker_project\\nepali_notetaker_package\\DataSet\\asr_nepali_0\\asr_nepali\\data\\00\\00341efed3.flac\n",
      "d:\\nepali_notetaker_project\\nepali_notetaker_package\\DataSet\\asr_nepali_0\\asr_nepali\\data\\00\\processed_wav\\00341efed3.wav\n"
     ]
    },
    {
     "name": "stderr",
     "output_type": "stream",
     "text": [
      " 92%|█████████▏| 560/607 [01:57<00:07,  6.06it/s]"
     ]
    },
    {
     "name": "stdout",
     "output_type": "stream",
     "text": [
      "'d:\\\\nepali_notetaker_project\\\\nepali_notetaker_package\\\\DataSet\\\\asr_nepali_0\\\\asr_nepali\\\\data\\\\00\\\\0065af229f.flac'\n",
      "d:\\nepali_notetaker_project\\nepali_notetaker_package\\DataSet\\asr_nepali_0\\asr_nepali\\data\\00\\0065af229f.flac\n",
      "d:\\nepali_notetaker_project\\nepali_notetaker_package\\DataSet\\asr_nepali_0\\asr_nepali\\data\\00\\processed_wav\\0065af229f.wav\n",
      "'d:\\\\nepali_notetaker_project\\\\nepali_notetaker_package\\\\DataSet\\\\asr_nepali_0\\\\asr_nepali\\\\data\\\\00\\\\00dbe6c5c9.flac'\n",
      "d:\\nepali_notetaker_project\\nepali_notetaker_package\\DataSet\\asr_nepali_0\\asr_nepali\\data\\00\\00dbe6c5c9.flac\n",
      "d:\\nepali_notetaker_project\\nepali_notetaker_package\\DataSet\\asr_nepali_0\\asr_nepali\\data\\00\\processed_wav\\00dbe6c5c9.wav\n"
     ]
    },
    {
     "name": "stderr",
     "output_type": "stream",
     "text": [
      " 93%|█████████▎| 562/607 [01:57<00:07,  6.17it/s]"
     ]
    },
    {
     "name": "stdout",
     "output_type": "stream",
     "text": [
      "'d:\\\\nepali_notetaker_project\\\\nepali_notetaker_package\\\\DataSet\\\\asr_nepali_0\\\\asr_nepali\\\\data\\\\00\\\\004b2a3c8e.flac'\n",
      "d:\\nepali_notetaker_project\\nepali_notetaker_package\\DataSet\\asr_nepali_0\\asr_nepali\\data\\00\\004b2a3c8e.flac\n",
      "d:\\nepali_notetaker_project\\nepali_notetaker_package\\DataSet\\asr_nepali_0\\asr_nepali\\data\\00\\processed_wav\\004b2a3c8e.wav\n",
      "'d:\\\\nepali_notetaker_project\\\\nepali_notetaker_package\\\\DataSet\\\\asr_nepali_0\\\\asr_nepali\\\\data\\\\00\\\\007b34260d.flac'\n",
      "d:\\nepali_notetaker_project\\nepali_notetaker_package\\DataSet\\asr_nepali_0\\asr_nepali\\data\\00\\007b34260d.flac\n",
      "d:\\nepali_notetaker_project\\nepali_notetaker_package\\DataSet\\asr_nepali_0\\asr_nepali\\data\\00\\processed_wav\\007b34260d.wav\n"
     ]
    },
    {
     "name": "stderr",
     "output_type": "stream",
     "text": [
      " 93%|█████████▎| 564/607 [01:57<00:06,  6.40it/s]"
     ]
    },
    {
     "name": "stdout",
     "output_type": "stream",
     "text": [
      "'d:\\\\nepali_notetaker_project\\\\nepali_notetaker_package\\\\DataSet\\\\asr_nepali_0\\\\asr_nepali\\\\data\\\\00\\\\0093bbbf85.flac'\n",
      "d:\\nepali_notetaker_project\\nepali_notetaker_package\\DataSet\\asr_nepali_0\\asr_nepali\\data\\00\\0093bbbf85.flac\n",
      "d:\\nepali_notetaker_project\\nepali_notetaker_package\\DataSet\\asr_nepali_0\\asr_nepali\\data\\00\\processed_wav\\0093bbbf85.wav\n",
      "'d:\\\\nepali_notetaker_project\\\\nepali_notetaker_package\\\\DataSet\\\\asr_nepali_0\\\\asr_nepali\\\\data\\\\00\\\\00241abe2f.flac'\n",
      "d:\\nepali_notetaker_project\\nepali_notetaker_package\\DataSet\\asr_nepali_0\\asr_nepali\\data\\00\\00241abe2f.flac\n",
      "d:\\nepali_notetaker_project\\nepali_notetaker_package\\DataSet\\asr_nepali_0\\asr_nepali\\data\\00\\processed_wav\\00241abe2f.wav\n"
     ]
    },
    {
     "name": "stderr",
     "output_type": "stream",
     "text": [
      " 93%|█████████▎| 566/607 [01:58<00:06,  6.20it/s]"
     ]
    },
    {
     "name": "stdout",
     "output_type": "stream",
     "text": [
      "'d:\\\\nepali_notetaker_project\\\\nepali_notetaker_package\\\\DataSet\\\\asr_nepali_0\\\\asr_nepali\\\\data\\\\00\\\\004ddbf50c.flac'\n",
      "d:\\nepali_notetaker_project\\nepali_notetaker_package\\DataSet\\asr_nepali_0\\asr_nepali\\data\\00\\004ddbf50c.flac\n",
      "d:\\nepali_notetaker_project\\nepali_notetaker_package\\DataSet\\asr_nepali_0\\asr_nepali\\data\\00\\processed_wav\\004ddbf50c.wav\n",
      "'d:\\\\nepali_notetaker_project\\\\nepali_notetaker_package\\\\DataSet\\\\asr_nepali_0\\\\asr_nepali\\\\data\\\\00\\\\00bf6adb87.flac'\n",
      "d:\\nepali_notetaker_project\\nepali_notetaker_package\\DataSet\\asr_nepali_0\\asr_nepali\\data\\00\\00bf6adb87.flac\n",
      "d:\\nepali_notetaker_project\\nepali_notetaker_package\\DataSet\\asr_nepali_0\\asr_nepali\\data\\00\\processed_wav\\00bf6adb87.wav\n"
     ]
    },
    {
     "name": "stderr",
     "output_type": "stream",
     "text": [
      " 94%|█████████▎| 568/607 [01:58<00:06,  5.74it/s]"
     ]
    },
    {
     "name": "stdout",
     "output_type": "stream",
     "text": [
      "'d:\\\\nepali_notetaker_project\\\\nepali_notetaker_package\\\\DataSet\\\\asr_nepali_0\\\\asr_nepali\\\\data\\\\00\\\\004e660b77.flac'\n",
      "d:\\nepali_notetaker_project\\nepali_notetaker_package\\DataSet\\asr_nepali_0\\asr_nepali\\data\\00\\004e660b77.flac\n",
      "d:\\nepali_notetaker_project\\nepali_notetaker_package\\DataSet\\asr_nepali_0\\asr_nepali\\data\\00\\processed_wav\\004e660b77.wav\n"
     ]
    },
    {
     "name": "stderr",
     "output_type": "stream",
     "text": [
      " 94%|█████████▎| 569/607 [01:58<00:06,  6.02it/s]"
     ]
    },
    {
     "name": "stdout",
     "output_type": "stream",
     "text": [
      "'d:\\\\nepali_notetaker_project\\\\nepali_notetaker_package\\\\DataSet\\\\asr_nepali_0\\\\asr_nepali\\\\data\\\\00\\\\00541975bc.flac'\n",
      "d:\\nepali_notetaker_project\\nepali_notetaker_package\\DataSet\\asr_nepali_0\\asr_nepali\\data\\00\\00541975bc.flac\n",
      "d:\\nepali_notetaker_project\\nepali_notetaker_package\\DataSet\\asr_nepali_0\\asr_nepali\\data\\00\\processed_wav\\00541975bc.wav\n",
      "'d:\\\\nepali_notetaker_project\\\\nepali_notetaker_package\\\\DataSet\\\\asr_nepali_0\\\\asr_nepali\\\\data\\\\00\\\\0099e5bdb9.flac'\n",
      "d:\\nepali_notetaker_project\\nepali_notetaker_package\\DataSet\\asr_nepali_0\\asr_nepali\\data\\00\\0099e5bdb9.flac\n",
      "d:\\nepali_notetaker_project\\nepali_notetaker_package\\DataSet\\asr_nepali_0\\asr_nepali\\data\\00\\processed_wav\\0099e5bdb9.wav\n"
     ]
    },
    {
     "name": "stderr",
     "output_type": "stream",
     "text": [
      " 94%|█████████▍| 571/607 [01:59<00:06,  5.59it/s]"
     ]
    },
    {
     "name": "stdout",
     "output_type": "stream",
     "text": [
      "'d:\\\\nepali_notetaker_project\\\\nepali_notetaker_package\\\\DataSet\\\\asr_nepali_0\\\\asr_nepali\\\\data\\\\00\\\\008ef1abf7.flac'\n",
      "d:\\nepali_notetaker_project\\nepali_notetaker_package\\DataSet\\asr_nepali_0\\asr_nepali\\data\\00\\008ef1abf7.flac\n",
      "d:\\nepali_notetaker_project\\nepali_notetaker_package\\DataSet\\asr_nepali_0\\asr_nepali\\data\\00\\processed_wav\\008ef1abf7.wav\n",
      "'d:\\\\nepali_notetaker_project\\\\nepali_notetaker_package\\\\DataSet\\\\asr_nepali_0\\\\asr_nepali\\\\data\\\\00\\\\0026c97afc.flac'\n",
      "d:\\nepali_notetaker_project\\nepali_notetaker_package\\DataSet\\asr_nepali_0\\asr_nepali\\data\\00\\0026c97afc.flac\n",
      "d:\\nepali_notetaker_project\\nepali_notetaker_package\\DataSet\\asr_nepali_0\\asr_nepali\\data\\00\\processed_wav\\0026c97afc.wav\n"
     ]
    },
    {
     "name": "stderr",
     "output_type": "stream",
     "text": [
      " 94%|█████████▍| 573/607 [01:59<00:06,  5.53it/s]"
     ]
    },
    {
     "name": "stdout",
     "output_type": "stream",
     "text": [
      "'d:\\\\nepali_notetaker_project\\\\nepali_notetaker_package\\\\DataSet\\\\asr_nepali_0\\\\asr_nepali\\\\data\\\\00\\\\00c1f09f03.flac'\n",
      "d:\\nepali_notetaker_project\\nepali_notetaker_package\\DataSet\\asr_nepali_0\\asr_nepali\\data\\00\\00c1f09f03.flac\n",
      "d:\\nepali_notetaker_project\\nepali_notetaker_package\\DataSet\\asr_nepali_0\\asr_nepali\\data\\00\\processed_wav\\00c1f09f03.wav\n",
      "'d:\\\\nepali_notetaker_project\\\\nepali_notetaker_package\\\\DataSet\\\\asr_nepali_0\\\\asr_nepali\\\\data\\\\00\\\\00b9c7d012.flac'\n",
      "d:\\nepali_notetaker_project\\nepali_notetaker_package\\DataSet\\asr_nepali_0\\asr_nepali\\data\\00\\00b9c7d012.flac\n",
      "d:\\nepali_notetaker_project\\nepali_notetaker_package\\DataSet\\asr_nepali_0\\asr_nepali\\data\\00\\processed_wav\\00b9c7d012.wav\n"
     ]
    },
    {
     "name": "stderr",
     "output_type": "stream",
     "text": [
      " 95%|█████████▍| 575/607 [01:59<00:05,  5.82it/s]"
     ]
    },
    {
     "name": "stdout",
     "output_type": "stream",
     "text": [
      "'d:\\\\nepali_notetaker_project\\\\nepali_notetaker_package\\\\DataSet\\\\asr_nepali_0\\\\asr_nepali\\\\data\\\\00\\\\00e6fddaf4.flac'\n",
      "d:\\nepali_notetaker_project\\nepali_notetaker_package\\DataSet\\asr_nepali_0\\asr_nepali\\data\\00\\00e6fddaf4.flac\n",
      "d:\\nepali_notetaker_project\\nepali_notetaker_package\\DataSet\\asr_nepali_0\\asr_nepali\\data\\00\\processed_wav\\00e6fddaf4.wav\n",
      "'d:\\\\nepali_notetaker_project\\\\nepali_notetaker_package\\\\DataSet\\\\asr_nepali_0\\\\asr_nepali\\\\data\\\\00\\\\009c6f4dfd.flac'\n",
      "d:\\nepali_notetaker_project\\nepali_notetaker_package\\DataSet\\asr_nepali_0\\asr_nepali\\data\\00\\009c6f4dfd.flac\n",
      "d:\\nepali_notetaker_project\\nepali_notetaker_package\\DataSet\\asr_nepali_0\\asr_nepali\\data\\00\\processed_wav\\009c6f4dfd.wav\n"
     ]
    },
    {
     "name": "stderr",
     "output_type": "stream",
     "text": [
      " 95%|█████████▌| 577/607 [02:00<00:05,  5.40it/s]"
     ]
    },
    {
     "name": "stdout",
     "output_type": "stream",
     "text": [
      "'d:\\\\nepali_notetaker_project\\\\nepali_notetaker_package\\\\DataSet\\\\asr_nepali_0\\\\asr_nepali\\\\data\\\\00\\\\00787822ac.flac'\n",
      "d:\\nepali_notetaker_project\\nepali_notetaker_package\\DataSet\\asr_nepali_0\\asr_nepali\\data\\00\\00787822ac.flac\n",
      "d:\\nepali_notetaker_project\\nepali_notetaker_package\\DataSet\\asr_nepali_0\\asr_nepali\\data\\00\\processed_wav\\00787822ac.wav\n",
      "'d:\\\\nepali_notetaker_project\\\\nepali_notetaker_package\\\\DataSet\\\\asr_nepali_0\\\\asr_nepali\\\\data\\\\00\\\\00728399f6.flac'\n",
      "d:\\nepali_notetaker_project\\nepali_notetaker_package\\DataSet\\asr_nepali_0\\asr_nepali\\data\\00\\00728399f6.flac\n",
      "d:\\nepali_notetaker_project\\nepali_notetaker_package\\DataSet\\asr_nepali_0\\asr_nepali\\data\\00\\processed_wav\\00728399f6.wav\n"
     ]
    },
    {
     "name": "stderr",
     "output_type": "stream",
     "text": [
      " 95%|█████████▌| 579/607 [02:00<00:05,  5.29it/s]"
     ]
    },
    {
     "name": "stdout",
     "output_type": "stream",
     "text": [
      "'d:\\\\nepali_notetaker_project\\\\nepali_notetaker_package\\\\DataSet\\\\asr_nepali_0\\\\asr_nepali\\\\data\\\\00\\\\006fa22a05.flac'\n",
      "d:\\nepali_notetaker_project\\nepali_notetaker_package\\DataSet\\asr_nepali_0\\asr_nepali\\data\\00\\006fa22a05.flac\n",
      "d:\\nepali_notetaker_project\\nepali_notetaker_package\\DataSet\\asr_nepali_0\\asr_nepali\\data\\00\\processed_wav\\006fa22a05.wav\n",
      "'d:\\\\nepali_notetaker_project\\\\nepali_notetaker_package\\\\DataSet\\\\asr_nepali_0\\\\asr_nepali\\\\data\\\\00\\\\00628163d6.flac'\n",
      "d:\\nepali_notetaker_project\\nepali_notetaker_package\\DataSet\\asr_nepali_0\\asr_nepali\\data\\00\\00628163d6.flac\n",
      "d:\\nepali_notetaker_project\\nepali_notetaker_package\\DataSet\\asr_nepali_0\\asr_nepali\\data\\00\\processed_wav\\00628163d6.wav\n"
     ]
    },
    {
     "name": "stderr",
     "output_type": "stream",
     "text": [
      " 96%|█████████▌| 580/607 [02:00<00:05,  5.21it/s]"
     ]
    },
    {
     "name": "stdout",
     "output_type": "stream",
     "text": [
      "'d:\\\\nepali_notetaker_project\\\\nepali_notetaker_package\\\\DataSet\\\\asr_nepali_0\\\\asr_nepali\\\\data\\\\00\\\\00e1b52ea5.flac'\n",
      "d:\\nepali_notetaker_project\\nepali_notetaker_package\\DataSet\\asr_nepali_0\\asr_nepali\\data\\00\\00e1b52ea5.flac\n",
      "d:\\nepali_notetaker_project\\nepali_notetaker_package\\DataSet\\asr_nepali_0\\asr_nepali\\data\\00\\processed_wav\\00e1b52ea5.wav\n"
     ]
    },
    {
     "name": "stderr",
     "output_type": "stream",
     "text": [
      " 96%|█████████▌| 582/607 [02:01<00:05,  4.75it/s]"
     ]
    },
    {
     "name": "stdout",
     "output_type": "stream",
     "text": [
      "'d:\\\\nepali_notetaker_project\\\\nepali_notetaker_package\\\\DataSet\\\\asr_nepali_0\\\\asr_nepali\\\\data\\\\00\\\\008af38aba.flac'\n",
      "d:\\nepali_notetaker_project\\nepali_notetaker_package\\DataSet\\asr_nepali_0\\asr_nepali\\data\\00\\008af38aba.flac\n",
      "d:\\nepali_notetaker_project\\nepali_notetaker_package\\DataSet\\asr_nepali_0\\asr_nepali\\data\\00\\processed_wav\\008af38aba.wav\n"
     ]
    },
    {
     "name": "stderr",
     "output_type": "stream",
     "text": [
      " 96%|█████████▌| 583/607 [02:01<00:04,  4.93it/s]"
     ]
    },
    {
     "name": "stdout",
     "output_type": "stream",
     "text": [
      "'d:\\\\nepali_notetaker_project\\\\nepali_notetaker_package\\\\DataSet\\\\asr_nepali_0\\\\asr_nepali\\\\data\\\\00\\\\005d76f5e8.flac'\n",
      "d:\\nepali_notetaker_project\\nepali_notetaker_package\\DataSet\\asr_nepali_0\\asr_nepali\\data\\00\\005d76f5e8.flac\n",
      "d:\\nepali_notetaker_project\\nepali_notetaker_package\\DataSet\\asr_nepali_0\\asr_nepali\\data\\00\\processed_wav\\005d76f5e8.wav\n"
     ]
    },
    {
     "name": "stderr",
     "output_type": "stream",
     "text": [
      " 96%|█████████▌| 584/607 [02:01<00:04,  5.15it/s]"
     ]
    },
    {
     "name": "stdout",
     "output_type": "stream",
     "text": [
      "'d:\\\\nepali_notetaker_project\\\\nepali_notetaker_package\\\\DataSet\\\\asr_nepali_0\\\\asr_nepali\\\\data\\\\00\\\\0017a8c8ca.flac'\n",
      "d:\\nepali_notetaker_project\\nepali_notetaker_package\\DataSet\\asr_nepali_0\\asr_nepali\\data\\00\\0017a8c8ca.flac\n",
      "d:\\nepali_notetaker_project\\nepali_notetaker_package\\DataSet\\asr_nepali_0\\asr_nepali\\data\\00\\processed_wav\\0017a8c8ca.wav\n",
      "'d:\\\\nepali_notetaker_project\\\\nepali_notetaker_package\\\\DataSet\\\\asr_nepali_0\\\\asr_nepali\\\\data\\\\00\\\\002bb5d867.flac'\n",
      "d:\\nepali_notetaker_project\\nepali_notetaker_package\\DataSet\\asr_nepali_0\\asr_nepali\\data\\00\\002bb5d867.flac\n",
      "d:\\nepali_notetaker_project\\nepali_notetaker_package\\DataSet\\asr_nepali_0\\asr_nepali\\data\\00\\processed_wav\\002bb5d867.wav\n"
     ]
    },
    {
     "name": "stderr",
     "output_type": "stream",
     "text": [
      " 97%|█████████▋| 586/607 [02:01<00:03,  5.31it/s]"
     ]
    },
    {
     "name": "stdout",
     "output_type": "stream",
     "text": [
      "'d:\\\\nepali_notetaker_project\\\\nepali_notetaker_package\\\\DataSet\\\\asr_nepali_0\\\\asr_nepali\\\\data\\\\00\\\\00ca948d62.flac'\n",
      "d:\\nepali_notetaker_project\\nepali_notetaker_package\\DataSet\\asr_nepali_0\\asr_nepali\\data\\00\\00ca948d62.flac\n",
      "d:\\nepali_notetaker_project\\nepali_notetaker_package\\DataSet\\asr_nepali_0\\asr_nepali\\data\\00\\processed_wav\\00ca948d62.wav\n"
     ]
    },
    {
     "name": "stderr",
     "output_type": "stream",
     "text": [
      " 97%|█████████▋| 587/607 [02:02<00:03,  5.61it/s]"
     ]
    },
    {
     "name": "stdout",
     "output_type": "stream",
     "text": [
      "'d:\\\\nepali_notetaker_project\\\\nepali_notetaker_package\\\\DataSet\\\\asr_nepali_0\\\\asr_nepali\\\\data\\\\00\\\\006cce4997.flac'\n",
      "d:\\nepali_notetaker_project\\nepali_notetaker_package\\DataSet\\asr_nepali_0\\asr_nepali\\data\\00\\006cce4997.flac\n",
      "d:\\nepali_notetaker_project\\nepali_notetaker_package\\DataSet\\asr_nepali_0\\asr_nepali\\data\\00\\processed_wav\\006cce4997.wav\n",
      "'d:\\\\nepali_notetaker_project\\\\nepali_notetaker_package\\\\DataSet\\\\asr_nepali_0\\\\asr_nepali\\\\data\\\\00\\\\0084745793.flac'\n",
      "d:\\nepali_notetaker_project\\nepali_notetaker_package\\DataSet\\asr_nepali_0\\asr_nepali\\data\\00\\0084745793.flac\n",
      "d:\\nepali_notetaker_project\\nepali_notetaker_package\\DataSet\\asr_nepali_0\\asr_nepali\\data\\00\\processed_wav\\0084745793.wav\n"
     ]
    },
    {
     "name": "stderr",
     "output_type": "stream",
     "text": [
      " 97%|█████████▋| 589/607 [02:02<00:03,  5.46it/s]"
     ]
    },
    {
     "name": "stdout",
     "output_type": "stream",
     "text": [
      "'d:\\\\nepali_notetaker_project\\\\nepali_notetaker_package\\\\DataSet\\\\asr_nepali_0\\\\asr_nepali\\\\data\\\\00\\\\005a12c043.flac'\n",
      "d:\\nepali_notetaker_project\\nepali_notetaker_package\\DataSet\\asr_nepali_0\\asr_nepali\\data\\00\\005a12c043.flac\n",
      "d:\\nepali_notetaker_project\\nepali_notetaker_package\\DataSet\\asr_nepali_0\\asr_nepali\\data\\00\\processed_wav\\005a12c043.wav\n",
      "'d:\\\\nepali_notetaker_project\\\\nepali_notetaker_package\\\\DataSet\\\\asr_nepali_0\\\\asr_nepali\\\\data\\\\00\\\\00273516a9.flac'\n",
      "d:\\nepali_notetaker_project\\nepali_notetaker_package\\DataSet\\asr_nepali_0\\asr_nepali\\data\\00\\00273516a9.flac\n",
      "d:\\nepali_notetaker_project\\nepali_notetaker_package\\DataSet\\asr_nepali_0\\asr_nepali\\data\\00\\processed_wav\\00273516a9.wav\n"
     ]
    },
    {
     "name": "stderr",
     "output_type": "stream",
     "text": [
      " 97%|█████████▋| 591/607 [02:02<00:03,  4.91it/s]"
     ]
    },
    {
     "name": "stdout",
     "output_type": "stream",
     "text": [
      "'d:\\\\nepali_notetaker_project\\\\nepali_notetaker_package\\\\DataSet\\\\asr_nepali_0\\\\asr_nepali\\\\data\\\\00\\\\003f972991.flac'\n",
      "d:\\nepali_notetaker_project\\nepali_notetaker_package\\DataSet\\asr_nepali_0\\asr_nepali\\data\\00\\003f972991.flac\n",
      "d:\\nepali_notetaker_project\\nepali_notetaker_package\\DataSet\\asr_nepali_0\\asr_nepali\\data\\00\\processed_wav\\003f972991.wav\n",
      "'d:\\\\nepali_notetaker_project\\\\nepali_notetaker_package\\\\DataSet\\\\asr_nepali_0\\\\asr_nepali\\\\data\\\\00\\\\0014d0488b.flac'\n",
      "d:\\nepali_notetaker_project\\nepali_notetaker_package\\DataSet\\asr_nepali_0\\asr_nepali\\data\\00\\0014d0488b.flac\n",
      "d:\\nepali_notetaker_project\\nepali_notetaker_package\\DataSet\\asr_nepali_0\\asr_nepali\\data\\00\\processed_wav\\0014d0488b.wav\n"
     ]
    },
    {
     "name": "stderr",
     "output_type": "stream",
     "text": [
      " 98%|█████████▊| 592/607 [02:03<00:03,  4.86it/s]"
     ]
    },
    {
     "name": "stdout",
     "output_type": "stream",
     "text": [
      "'d:\\\\nepali_notetaker_project\\\\nepali_notetaker_package\\\\DataSet\\\\asr_nepali_0\\\\asr_nepali\\\\data\\\\00\\\\00606c7342.flac'\n",
      "d:\\nepali_notetaker_project\\nepali_notetaker_package\\DataSet\\asr_nepali_0\\asr_nepali\\data\\00\\00606c7342.flac\n",
      "d:\\nepali_notetaker_project\\nepali_notetaker_package\\DataSet\\asr_nepali_0\\asr_nepali\\data\\00\\processed_wav\\00606c7342.wav\n"
     ]
    },
    {
     "name": "stderr",
     "output_type": "stream",
     "text": [
      " 98%|█████████▊| 594/607 [02:03<00:02,  5.13it/s]"
     ]
    },
    {
     "name": "stdout",
     "output_type": "stream",
     "text": [
      "'d:\\\\nepali_notetaker_project\\\\nepali_notetaker_package\\\\DataSet\\\\asr_nepali_0\\\\asr_nepali\\\\data\\\\00\\\\00b6c139ed.flac'\n",
      "d:\\nepali_notetaker_project\\nepali_notetaker_package\\DataSet\\asr_nepali_0\\asr_nepali\\data\\00\\00b6c139ed.flac\n",
      "d:\\nepali_notetaker_project\\nepali_notetaker_package\\DataSet\\asr_nepali_0\\asr_nepali\\data\\00\\processed_wav\\00b6c139ed.wav\n",
      "'d:\\\\nepali_notetaker_project\\\\nepali_notetaker_package\\\\DataSet\\\\asr_nepali_0\\\\asr_nepali\\\\data\\\\00\\\\000b463c49.flac'\n",
      "d:\\nepali_notetaker_project\\nepali_notetaker_package\\DataSet\\asr_nepali_0\\asr_nepali\\data\\00\\000b463c49.flac\n",
      "d:\\nepali_notetaker_project\\nepali_notetaker_package\\DataSet\\asr_nepali_0\\asr_nepali\\data\\00\\processed_wav\\000b463c49.wav\n"
     ]
    },
    {
     "name": "stderr",
     "output_type": "stream",
     "text": [
      " 98%|█████████▊| 596/607 [02:03<00:01,  5.53it/s]"
     ]
    },
    {
     "name": "stdout",
     "output_type": "stream",
     "text": [
      "'d:\\\\nepali_notetaker_project\\\\nepali_notetaker_package\\\\DataSet\\\\asr_nepali_0\\\\asr_nepali\\\\data\\\\00\\\\00c3e8a5d8.flac'\n",
      "d:\\nepali_notetaker_project\\nepali_notetaker_package\\DataSet\\asr_nepali_0\\asr_nepali\\data\\00\\00c3e8a5d8.flac\n",
      "d:\\nepali_notetaker_project\\nepali_notetaker_package\\DataSet\\asr_nepali_0\\asr_nepali\\data\\00\\processed_wav\\00c3e8a5d8.wav\n"
     ]
    },
    {
     "name": "stderr",
     "output_type": "stream",
     "text": [
      " 98%|█████████▊| 597/607 [02:03<00:01,  5.64it/s]"
     ]
    },
    {
     "name": "stdout",
     "output_type": "stream",
     "text": [
      "'d:\\\\nepali_notetaker_project\\\\nepali_notetaker_package\\\\DataSet\\\\asr_nepali_0\\\\asr_nepali\\\\data\\\\00\\\\00f47c7023.flac'\n",
      "d:\\nepali_notetaker_project\\nepali_notetaker_package\\DataSet\\asr_nepali_0\\asr_nepali\\data\\00\\00f47c7023.flac\n",
      "d:\\nepali_notetaker_project\\nepali_notetaker_package\\DataSet\\asr_nepali_0\\asr_nepali\\data\\00\\processed_wav\\00f47c7023.wav\n",
      "'d:\\\\nepali_notetaker_project\\\\nepali_notetaker_package\\\\DataSet\\\\asr_nepali_0\\\\asr_nepali\\\\data\\\\00\\\\00a7d4ccea.flac'\n",
      "d:\\nepali_notetaker_project\\nepali_notetaker_package\\DataSet\\asr_nepali_0\\asr_nepali\\data\\00\\00a7d4ccea.flac\n",
      "d:\\nepali_notetaker_project\\nepali_notetaker_package\\DataSet\\asr_nepali_0\\asr_nepali\\data\\00\\processed_wav\\00a7d4ccea.wav\n"
     ]
    },
    {
     "name": "stderr",
     "output_type": "stream",
     "text": [
      " 99%|█████████▊| 599/607 [02:04<00:01,  5.52it/s]"
     ]
    },
    {
     "name": "stdout",
     "output_type": "stream",
     "text": [
      "'d:\\\\nepali_notetaker_project\\\\nepali_notetaker_package\\\\DataSet\\\\asr_nepali_0\\\\asr_nepali\\\\data\\\\00\\\\009f053316.flac'\n",
      "d:\\nepali_notetaker_project\\nepali_notetaker_package\\DataSet\\asr_nepali_0\\asr_nepali\\data\\00\\009f053316.flac\n",
      "d:\\nepali_notetaker_project\\nepali_notetaker_package\\DataSet\\asr_nepali_0\\asr_nepali\\data\\00\\processed_wav\\009f053316.wav\n",
      "'d:\\\\nepali_notetaker_project\\\\nepali_notetaker_package\\\\DataSet\\\\asr_nepali_0\\\\asr_nepali\\\\data\\\\00\\\\00ddd2113d.flac'\n",
      "d:\\nepali_notetaker_project\\nepali_notetaker_package\\DataSet\\asr_nepali_0\\asr_nepali\\data\\00\\00ddd2113d.flac\n",
      "d:\\nepali_notetaker_project\\nepali_notetaker_package\\DataSet\\asr_nepali_0\\asr_nepali\\data\\00\\processed_wav\\00ddd2113d.wav\n"
     ]
    },
    {
     "name": "stderr",
     "output_type": "stream",
     "text": [
      " 99%|█████████▉| 601/607 [02:04<00:01,  5.35it/s]"
     ]
    },
    {
     "name": "stdout",
     "output_type": "stream",
     "text": [
      "'d:\\\\nepali_notetaker_project\\\\nepali_notetaker_package\\\\DataSet\\\\asr_nepali_0\\\\asr_nepali\\\\data\\\\00\\\\001573a8c1.flac'\n",
      "d:\\nepali_notetaker_project\\nepali_notetaker_package\\DataSet\\asr_nepali_0\\asr_nepali\\data\\00\\001573a8c1.flac\n",
      "d:\\nepali_notetaker_project\\nepali_notetaker_package\\DataSet\\asr_nepali_0\\asr_nepali\\data\\00\\processed_wav\\001573a8c1.wav\n",
      "'d:\\\\nepali_notetaker_project\\\\nepali_notetaker_package\\\\DataSet\\\\asr_nepali_0\\\\asr_nepali\\\\data\\\\00\\\\00b7517bb8.flac'\n",
      "d:\\nepali_notetaker_project\\nepali_notetaker_package\\DataSet\\asr_nepali_0\\asr_nepali\\data\\00\\00b7517bb8.flac\n",
      "d:\\nepali_notetaker_project\\nepali_notetaker_package\\DataSet\\asr_nepali_0\\asr_nepali\\data\\00\\processed_wav\\00b7517bb8.wav\n"
     ]
    },
    {
     "name": "stderr",
     "output_type": "stream",
     "text": [
      " 99%|█████████▉| 603/607 [02:05<00:00,  5.54it/s]"
     ]
    },
    {
     "name": "stdout",
     "output_type": "stream",
     "text": [
      "'d:\\\\nepali_notetaker_project\\\\nepali_notetaker_package\\\\DataSet\\\\asr_nepali_0\\\\asr_nepali\\\\data\\\\00\\\\00d83e15f9.flac'\n",
      "d:\\nepali_notetaker_project\\nepali_notetaker_package\\DataSet\\asr_nepali_0\\asr_nepali\\data\\00\\00d83e15f9.flac\n",
      "d:\\nepali_notetaker_project\\nepali_notetaker_package\\DataSet\\asr_nepali_0\\asr_nepali\\data\\00\\processed_wav\\00d83e15f9.wav\n",
      "'d:\\\\nepali_notetaker_project\\\\nepali_notetaker_package\\\\DataSet\\\\asr_nepali_0\\\\asr_nepali\\\\data\\\\00\\\\00735959ec.flac'\n",
      "d:\\nepali_notetaker_project\\nepali_notetaker_package\\DataSet\\asr_nepali_0\\asr_nepali\\data\\00\\00735959ec.flac\n",
      "d:\\nepali_notetaker_project\\nepali_notetaker_package\\DataSet\\asr_nepali_0\\asr_nepali\\data\\00\\processed_wav\\00735959ec.wav\n"
     ]
    },
    {
     "name": "stderr",
     "output_type": "stream",
     "text": [
      "100%|█████████▉| 605/607 [02:05<00:00,  5.07it/s]"
     ]
    },
    {
     "name": "stdout",
     "output_type": "stream",
     "text": [
      "'d:\\\\nepali_notetaker_project\\\\nepali_notetaker_package\\\\DataSet\\\\asr_nepali_0\\\\asr_nepali\\\\data\\\\00\\\\00a154bfae.flac'\n",
      "d:\\nepali_notetaker_project\\nepali_notetaker_package\\DataSet\\asr_nepali_0\\asr_nepali\\data\\00\\00a154bfae.flac\n",
      "d:\\nepali_notetaker_project\\nepali_notetaker_package\\DataSet\\asr_nepali_0\\asr_nepali\\data\\00\\processed_wav\\00a154bfae.wav\n"
     ]
    },
    {
     "name": "stderr",
     "output_type": "stream",
     "text": [
      "100%|█████████▉| 606/607 [02:05<00:00,  5.13it/s]"
     ]
    },
    {
     "name": "stdout",
     "output_type": "stream",
     "text": [
      "'d:\\\\nepali_notetaker_project\\\\nepali_notetaker_package\\\\DataSet\\\\asr_nepali_0\\\\asr_nepali\\\\data\\\\00\\\\001055632c.flac'\n",
      "d:\\nepali_notetaker_project\\nepali_notetaker_package\\DataSet\\asr_nepali_0\\asr_nepali\\data\\00\\001055632c.flac\n",
      "d:\\nepali_notetaker_project\\nepali_notetaker_package\\DataSet\\asr_nepali_0\\asr_nepali\\data\\00\\processed_wav\\001055632c.wav\n"
     ]
    },
    {
     "name": "stderr",
     "output_type": "stream",
     "text": [
      "100%|██████████| 607/607 [02:05<00:00,  5.11it/s]"
     ]
    },
    {
     "name": "stdout",
     "output_type": "stream",
     "text": [
      "'d:\\\\nepali_notetaker_project\\\\nepali_notetaker_package\\\\DataSet\\\\asr_nepali_0\\\\asr_nepali\\\\data\\\\00\\\\0099d2bf19.flac'\n",
      "d:\\nepali_notetaker_project\\nepali_notetaker_package\\DataSet\\asr_nepali_0\\asr_nepali\\data\\00\\0099d2bf19.flac\n",
      "d:\\nepali_notetaker_project\\nepali_notetaker_package\\DataSet\\asr_nepali_0\\asr_nepali\\data\\00\\processed_wav\\0099d2bf19.wav\n"
     ]
    },
    {
     "name": "stderr",
     "output_type": "stream",
     "text": [
      "100%|██████████| 607/607 [02:05<00:00,  4.82it/s]"
     ]
    },
    {
     "name": "stdout",
     "output_type": "stream",
     "text": [
      "✅ Conversion complete. CSV saved as final_nepali_dataset.csv.\n"
     ]
    },
    {
     "name": "stderr",
     "output_type": "stream",
     "text": [
      "\n"
     ]
    }
   ],
   "source": [
    "from pydub import AudioSegment\n",
    "from tqdm import tqdm\n",
    "import os\n",
    "\n",
    "output_dir = os.path.join(audio_root_dir, 'processed_wav')\n",
    "os.makedirs(output_dir, exist_ok=True)\n",
    "\n",
    "wav_paths = []\n",
    "\n",
    "for i, row in tqdm(df.iterrows(), total=len(df)):\n",
    "    input_path = row['flac_path']\n",
    "    print(repr(input_path))\n",
    "    print(input_path)\n",
    "    file_id = row['file_id']\n",
    "    output_path = os.path.join(output_dir, file_id + '.wav')\n",
    "    print(output_path)\n",
    "    try:\n",
    "        # Load and convert to mono 16kHz\n",
    "        sound = AudioSegment.from_file(input_path, format='flac')\n",
    "        sound = sound.set_frame_rate(16000).set_channels(1)\n",
    "        sound.export(output_path, format='wav')\n",
    "        wav_paths.append(output_path)\n",
    "    except Exception as e:\n",
    "        print(f\"❌ Failed to process {input_path}: {e}\")\n",
    "        wav_paths.append(None)\n",
    "\n",
    "df['wav_path'] = wav_paths\n",
    "df = df[df['wav_path'].notnull()]\n",
    "\n",
    "# Save only required columns\n",
    "final_df = df[['wav_path', '2']]\n",
    "final_df\n",
    "final_df.columns = ['path', '2']\n",
    "final_df\n",
    "final_df.to_csv('final_nepali_dataset.csv', index=False)\n",
    "\n",
    "print(\"✅ Conversion complete. CSV saved as final_nepali_dataset.csv.\")\n"
   ]
  },
  {
   "cell_type": "code",
   "execution_count": 31,
   "id": "4988dfe8",
   "metadata": {},
   "outputs": [
    {
     "data": {
      "text/html": [
       "<div>\n",
       "<style scoped>\n",
       "    .dataframe tbody tr th:only-of-type {\n",
       "        vertical-align: middle;\n",
       "    }\n",
       "\n",
       "    .dataframe tbody tr th {\n",
       "        vertical-align: top;\n",
       "    }\n",
       "\n",
       "    .dataframe thead th {\n",
       "        text-align: right;\n",
       "    }\n",
       "</style>\n",
       "<table border=\"1\" class=\"dataframe\">\n",
       "  <thead>\n",
       "    <tr style=\"text-align: right;\">\n",
       "      <th></th>\n",
       "      <th>0</th>\n",
       "      <th>1</th>\n",
       "      <th>2</th>\n",
       "      <th>flac_path</th>\n",
       "      <th>wav_path</th>\n",
       "    </tr>\n",
       "  </thead>\n",
       "  <tbody>\n",
       "  </tbody>\n",
       "</table>\n",
       "</div>"
      ],
      "text/plain": [
       "Empty DataFrame\n",
       "Columns: [0, 1, 2, flac_path, wav_path]\n",
       "Index: []"
      ]
     },
     "execution_count": 31,
     "metadata": {},
     "output_type": "execute_result"
    }
   ],
   "source": [
    "df"
   ]
  },
  {
   "cell_type": "code",
   "execution_count": null,
   "id": "3e639118",
   "metadata": {},
   "outputs": [],
   "source": []
  }
 ],
 "metadata": {
  "kernelspec": {
   "display_name": "notetaker_ai",
   "language": "python",
   "name": "python3"
  },
  "language_info": {
   "codemirror_mode": {
    "name": "ipython",
    "version": 3
   },
   "file_extension": ".py",
   "mimetype": "text/x-python",
   "name": "python",
   "nbconvert_exporter": "python",
   "pygments_lexer": "ipython3",
   "version": "3.10.16"
  }
 },
 "nbformat": 4,
 "nbformat_minor": 5
}
